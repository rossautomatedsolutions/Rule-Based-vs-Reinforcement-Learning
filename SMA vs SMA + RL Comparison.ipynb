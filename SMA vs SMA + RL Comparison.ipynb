{
 "cells": [
  {
   "cell_type": "markdown",
   "metadata": {},
   "source": [
    "# SMA Bot vs SMA Bot With Reinforcement Learning\n",
    "* Model 0: SMA bot\n",
    "* Model 1: SMA + Volume\n",
    "* Model 2: SMA + Day Of Week\n",
    "* Model 3: SMA + Volume + Day Of Week\n",
    "* Model 4: SMA (RL)\n",
    "\n",
    "\n",
    "* Model 0 is the pure rules based bot. All others utilize Q-Learning"
   ]
  },
  {
   "cell_type": "code",
   "execution_count": null,
   "metadata": {},
   "outputs": [],
   "source": []
  },
  {
   "cell_type": "code",
   "execution_count": null,
   "metadata": {},
   "outputs": [],
   "source": [
    "import yfinance as yf\n",
    "import pandas as pd\n",
    "import numpy as np\n",
    "from sklearn.preprocessing import KBinsDiscretizer"
   ]
  },
  {
   "cell_type": "code",
   "execution_count": null,
   "metadata": {},
   "outputs": [],
   "source": [
    "# Download AAPL data\n",
    "data = yf.download(\"AAPL\", period=\"2y\", interval=\"1d\")\n",
    "data['SMA10'] = data['Close'].rolling(window=10).mean()\n",
    "data['Volume'] = data['Volume']\n",
    "data['DayOfWeek'] = data.index.dayofweek\n",
    "data.dropna(inplace=True)"
   ]
  },
  {
   "cell_type": "code",
   "execution_count": null,
   "metadata": {},
   "outputs": [],
   "source": [
    "# Reward function\n",
    "def get_reward(action, price_today, price_tomorrow):\n",
    "    if action == 1:\n",
    "        return price_tomorrow - price_today\n",
    "    elif action == -1:\n",
    "        return price_today - price_tomorrow\n",
    "    return 0"
   ]
  },
  {
   "cell_type": "code",
   "execution_count": null,
   "metadata": {},
   "outputs": [],
   "source": []
  },
  {
   "cell_type": "markdown",
   "metadata": {},
   "source": [
    "### Models"
   ]
  },
  {
   "cell_type": "code",
   "execution_count": null,
   "metadata": {},
   "outputs": [],
   "source": [
    "# Model 0: Rule-based SMA Crossover\n",
    "def run_sma_bot(df):\n",
    "    position = 0\n",
    "    cash = 0\n",
    "    trades = 0\n",
    "    rewards = []\n",
    "\n",
    "    for i in range(1, len(df) - 1):\n",
    "        price_today = df.iloc[i]['Close']\n",
    "        price_tomorrow = df.iloc[i + 1]['Close']\n",
    "        sma = df.iloc[i]['SMA10']\n",
    "\n",
    "        if price_today > sma and position == 0:\n",
    "            position = price_today\n",
    "            trades += 1\n",
    "        elif price_today < sma and position != 0:\n",
    "            cash += price_today - position\n",
    "            rewards.append(price_today - position)\n",
    "            position = 0\n",
    "            trades += 1\n",
    "\n",
    "    if position != 0:\n",
    "        cash += df.iloc[-1]['Close'] - position\n",
    "        rewards.append(df.iloc[-1]['Close'] - position)\n",
    "\n",
    "    return {\n",
    "        \"Model\": \"Model0 (Rule SMA)\",\n",
    "        \"Total Return ($)\": round(cash, 2),\n",
    "        \"Avg Daily Reward\": round(np.mean(rewards), 4),\n",
    "        \"# Trades\": trades,\n",
    "        \"Cumulative Reward\": round(np.sum(rewards), 2)\n",
    "    }\n",
    "\n",
    "# RL Models\n",
    "def preprocess_features(df, model):\n",
    "    features = ['SMA10']\n",
    "    if model == 1:\n",
    "        features.append('Volume')\n",
    "    elif model == 2:\n",
    "        features.append('DayOfWeek')\n",
    "    elif model == 3:\n",
    "        features += ['Volume', 'DayOfWeek']\n",
    "    elif model == 4:\n",
    "        features = ['SMA10']  # Only SMA for RL\n",
    "\n",
    "    X = df[features]\n",
    "    est = KBinsDiscretizer(n_bins=5, encode='ordinal', strategy='uniform')\n",
    "    X_binned = est.fit_transform(X)\n",
    "    return X_binned.astype(int)\n",
    "\n",
    "def run_rl_model(df, model_num):\n",
    "    states = preprocess_features(df, model_num)\n",
    "    n_states = tuple([5] * states.shape[1])\n",
    "    actions = [-1, 0, 1]  # Sell, Hold, Buy\n",
    "\n",
    "    Q_table = np.zeros(n_states + (len(actions),))\n",
    "\n",
    "    alpha = 0.1\n",
    "    gamma = 0.9\n",
    "    epsilon = 0.1\n",
    "    cash = 0\n",
    "    position = 0\n",
    "    trades = 0\n",
    "    rewards = []\n",
    "\n",
    "    for t in range(len(states) - 1):\n",
    "        state = tuple(states[t])\n",
    "        next_state = tuple(states[t + 1])\n",
    "        price_today = df.iloc[t]['Close']\n",
    "        price_tomorrow = df.iloc[t + 1]['Close']\n",
    "\n",
    "        if np.random.rand() < epsilon:\n",
    "            action_idx = np.random.choice(len(actions))\n",
    "        else:\n",
    "            action_idx = np.argmax(Q_table[state])\n",
    "        action = actions[action_idx]\n",
    "\n",
    "        reward = get_reward(action, price_today, price_tomorrow)\n",
    "        rewards.append(reward)\n",
    "\n",
    "        Q_table[state + (action_idx,)] += alpha * (\n",
    "            reward + gamma * np.max(Q_table[next_state]) - Q_table[state + (action_idx,)]\n",
    "        )\n",
    "\n",
    "        if action == 1 and position == 0:\n",
    "            position = price_today\n",
    "            trades += 1\n",
    "        elif action == -1 and position != 0:\n",
    "            cash += price_today - position\n",
    "            position = 0\n",
    "            trades += 1\n",
    "\n",
    "    if position != 0:\n",
    "        cash += df.iloc[-1]['Close'] - position\n",
    "\n",
    "    return {\n",
    "        \"Model\": f\"Model{model_num} (RL)\",\n",
    "        \"Total Return ($)\": round(cash, 2),\n",
    "        \"Avg Daily Reward\": round(np.mean(rewards), 4),\n",
    "        \"# Trades\": trades,\n",
    "        \"Cumulative Reward\": round(np.sum(rewards), 2)\n",
    "    }"
   ]
  },
  {
   "cell_type": "code",
   "execution_count": null,
   "metadata": {},
   "outputs": [],
   "source": []
  },
  {
   "cell_type": "markdown",
   "metadata": {},
   "source": [
    "### Results"
   ]
  },
  {
   "cell_type": "code",
   "execution_count": null,
   "metadata": {},
   "outputs": [],
   "source": [
    "# Run all models\n",
    "results = []\n",
    "results.append(run_sma_bot(data))  # Model0\n",
    "for model_num in range(1, 5):  # Model1 to Model4 (RL)\n",
    "    results.append(run_rl_model(data, model_num))\n",
    "\n",
    "# Summary\n",
    "summary = pd.DataFrame(results)\n",
    "print(summary)"
   ]
  }
 ],
 "metadata": {
  "kernelspec": {
   "display_name": "Python 3",
   "language": "python",
   "name": "python3"
  },
  "language_info": {
   "codemirror_mode": {
    "name": "ipython",
    "version": 3
   },
   "file_extension": ".py",
   "mimetype": "text/x-python",
   "name": "python",
   "nbconvert_exporter": "python",
   "pygments_lexer": "ipython3",
   "version": "3.11.9"
  }
 },
 "nbformat": 4,
 "nbformat_minor": 2
}
