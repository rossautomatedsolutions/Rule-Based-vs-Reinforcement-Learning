{
 "cells": [
  {
   "cell_type": "markdown",
   "metadata": {},
   "source": [
    "# Multiple Ticker Relative Model Performance: Rules Based vs RL\n",
    "* Part I: Single Ticker\n",
    "* Part II: Multiple Tickers"
   ]
  },
  {
   "cell_type": "markdown",
   "metadata": {},
   "source": [
    "# SMA Bot vs SMA Bot With Reinforcement Learning\n",
    "* compare rules based bots vs those with Q-Learning\n",
    "\n",
    "\n",
    "| Model # | Name                                 | Features Used                                      | Type                    |\n",
    "|---------|--------------------------------------|----------------------------------------------------|-------------------------|\n",
    "| **Model 0** | SMA Rule-Based Strategy               | 10-day SMA                                           | Rule-Based              |\n",
    "| **Model 1** | SMA + Volume (RL)                     | 10-day SMA, Volume                                   | Reinforcement Learning  |\n",
    "| **Model 2** | SMA + Day of Week (RL)                | 10-day SMA, Day of Week                              | Reinforcement Learning  |\n",
    "| **Model 3** | SMA + Volume + Day of Week (RL)       | 10-day SMA, Volume, Day of Week                      | Reinforcement Learning  |\n",
    "| **Model 4** | SMA Only (RL)                         | 10-day SMA                                           | Reinforcement Learning  |\n",
    "| **Model 5** | Mean Reversion Rule-Based Strategy    | 3-day return threshold                               | Rule-Based              |\n",
    "| **Model 6** | Mean Reversion RL Strategy            | 1d & 3d returns, volatility, RSI                     | Reinforcement Learning  |\n"
   ]
  },
  {
   "cell_type": "code",
   "execution_count": null,
   "metadata": {},
   "outputs": [],
   "source": []
  },
  {
   "cell_type": "code",
   "execution_count": 1,
   "metadata": {},
   "outputs": [],
   "source": [
    "import yfinance as yf\n",
    "import pandas as pd\n",
    "import numpy as np\n",
    "from sklearn.preprocessing import KBinsDiscretizer\n",
    "import matplotlib.pyplot as plt\n",
    "import seaborn as sns\n",
    "import seaborn as sns\n",
    "import matplotlib.pyplot as plt"
   ]
  },
  {
   "cell_type": "code",
   "execution_count": null,
   "metadata": {},
   "outputs": [],
   "source": []
  },
  {
   "cell_type": "markdown",
   "metadata": {},
   "source": [
    "### Part I: Single Ticker"
   ]
  },
  {
   "cell_type": "code",
   "execution_count": 2,
   "metadata": {},
   "outputs": [
    {
     "name": "stdout",
     "output_type": "stream",
     "text": [
      "YF.download() has changed argument auto_adjust default to True\n"
     ]
    },
    {
     "name": "stderr",
     "output_type": "stream",
     "text": [
      "[*********************100%***********************]  1 of 1 completed\n"
     ]
    }
   ],
   "source": [
    "# Choose your ticker\n",
    "ticker = \"AAPL\"  # Change to \"MSFT\", \"TSLA\", etc.\n",
    "\n",
    "# Download data with MultiIndex columns\n",
    "data = yf.download([ticker], period=\"2y\", interval=\"1d\")\n",
    "\n",
    "# Add indicators BEFORE flattening\n",
    "data[('SMA10', '')] = data[('Close', ticker)].rolling(window=10).mean()\n",
    "data[('DayOfWeek', '')] = data.index.dayofweek\n",
    "\n",
    "# Mean reversion features\n",
    "data[('Return_1d', '')] = data[('Close', ticker)].pct_change()\n",
    "data[('Return_3d', '')] = data[('Close', ticker)].pct_change(3)\n",
    "data[('Volatility_5d', '')] = data[('Return_1d', '')].rolling(window=5).std()\n",
    "\n",
    "def compute_rsi(series, window=14):\n",
    "    delta = series.diff()\n",
    "    gain = delta.clip(lower=0)\n",
    "    loss = -1 * delta.clip(upper=0)\n",
    "    avg_gain = gain.rolling(window).mean()\n",
    "    avg_loss = loss.rolling(window).mean()\n",
    "    rs = avg_gain / avg_loss\n",
    "    return 100 - (100 / (1 + rs))\n",
    "\n",
    "data[('RSI_14', '')] = compute_rsi(data[('Close', ticker)])\n",
    "\n",
    "# Drop NaNs\n",
    "data.dropna(inplace=True)\n",
    "\n",
    "# Flatten MultiIndex columns\n",
    "data.columns = ['_'.join(col).strip() if isinstance(col, tuple) else col for col in data.columns]\n",
    "\n",
    "# Dynamically rename fields\n",
    "data.rename(columns={\n",
    "    f'Close_{ticker}': 'Close',\n",
    "    f'Open_{ticker}': 'Open',\n",
    "    f'High_{ticker}': 'High',\n",
    "    f'Low_{ticker}': 'Low',\n",
    "    f'Volume_{ticker}': 'Volume',\n",
    "    'SMA10_': 'SMA10',\n",
    "    'DayOfWeek_': 'DayOfWeek',\n",
    "    'Return_1d_': 'Return_1d',\n",
    "    'Return_3d_': 'Return_3d',\n",
    "    'Volatility_5d_': 'Volatility_5d',\n",
    "    'RSI_14_': 'RSI_14'\n",
    "}, inplace=True)\n",
    "\n",
    "# Reset index\n",
    "data.reset_index(inplace=True)\n"
   ]
  },
  {
   "cell_type": "code",
   "execution_count": 3,
   "metadata": {},
   "outputs": [
    {
     "data": {
      "text/html": [
       "<div>\n",
       "<style scoped>\n",
       "    .dataframe tbody tr th:only-of-type {\n",
       "        vertical-align: middle;\n",
       "    }\n",
       "\n",
       "    .dataframe tbody tr th {\n",
       "        vertical-align: top;\n",
       "    }\n",
       "\n",
       "    .dataframe thead th {\n",
       "        text-align: right;\n",
       "    }\n",
       "</style>\n",
       "<table border=\"1\" class=\"dataframe\">\n",
       "  <thead>\n",
       "    <tr style=\"text-align: right;\">\n",
       "      <th></th>\n",
       "      <th>Date</th>\n",
       "      <th>Close</th>\n",
       "      <th>High</th>\n",
       "      <th>Low</th>\n",
       "      <th>Open</th>\n",
       "      <th>Volume</th>\n",
       "      <th>SMA10</th>\n",
       "      <th>DayOfWeek</th>\n",
       "      <th>Return_1d</th>\n",
       "      <th>Return_3d</th>\n",
       "      <th>Volatility_5d</th>\n",
       "      <th>RSI_14</th>\n",
       "    </tr>\n",
       "  </thead>\n",
       "  <tbody>\n",
       "    <tr>\n",
       "      <th>0</th>\n",
       "      <td>2023-04-17</td>\n",
       "      <td>163.580322</td>\n",
       "      <td>163.738728</td>\n",
       "      <td>162.392306</td>\n",
       "      <td>163.441721</td>\n",
       "      <td>41516200</td>\n",
       "      <td>162.278468</td>\n",
       "      <td>0</td>\n",
       "      <td>0.000121</td>\n",
       "      <td>0.032042</td>\n",
       "      <td>0.017050</td>\n",
       "      <td>65.207784</td>\n",
       "    </tr>\n",
       "    <tr>\n",
       "      <th>1</th>\n",
       "      <td>2023-04-18</td>\n",
       "      <td>164.807968</td>\n",
       "      <td>165.738586</td>\n",
       "      <td>163.996148</td>\n",
       "      <td>164.441667</td>\n",
       "      <td>49923000</td>\n",
       "      <td>162.308170</td>\n",
       "      <td>1</td>\n",
       "      <td>0.007505</td>\n",
       "      <td>0.005496</td>\n",
       "      <td>0.015765</td>\n",
       "      <td>68.797914</td>\n",
       "    </tr>\n",
       "    <tr>\n",
       "      <th>2</th>\n",
       "      <td>2023-04-19</td>\n",
       "      <td>165.956390</td>\n",
       "      <td>166.481098</td>\n",
       "      <td>163.887245</td>\n",
       "      <td>164.144659</td>\n",
       "      <td>47720200</td>\n",
       "      <td>162.506174</td>\n",
       "      <td>2</td>\n",
       "      <td>0.006968</td>\n",
       "      <td>0.014648</td>\n",
       "      <td>0.014478</td>\n",
       "      <td>65.953457</td>\n",
       "    </tr>\n",
       "    <tr>\n",
       "      <th>3</th>\n",
       "      <td>2023-04-20</td>\n",
       "      <td>164.986160</td>\n",
       "      <td>166.193981</td>\n",
       "      <td>163.907046</td>\n",
       "      <td>164.431754</td>\n",
       "      <td>52456400</td>\n",
       "      <td>162.792290</td>\n",
       "      <td>3</td>\n",
       "      <td>-0.005846</td>\n",
       "      <td>0.008594</td>\n",
       "      <td>0.005804</td>\n",
       "      <td>60.268071</td>\n",
       "    </tr>\n",
       "    <tr>\n",
       "      <th>4</th>\n",
       "      <td>2023-04-21</td>\n",
       "      <td>163.372437</td>\n",
       "      <td>164.788152</td>\n",
       "      <td>162.847729</td>\n",
       "      <td>163.402136</td>\n",
       "      <td>58337300</td>\n",
       "      <td>162.827930</td>\n",
       "      <td>4</td>\n",
       "      <td>-0.009781</td>\n",
       "      <td>-0.008710</td>\n",
       "      <td>0.007657</td>\n",
       "      <td>50.300307</td>\n",
       "    </tr>\n",
       "  </tbody>\n",
       "</table>\n",
       "</div>"
      ],
      "text/plain": [
       "        Date       Close        High         Low        Open    Volume  \\\n",
       "0 2023-04-17  163.580322  163.738728  162.392306  163.441721  41516200   \n",
       "1 2023-04-18  164.807968  165.738586  163.996148  164.441667  49923000   \n",
       "2 2023-04-19  165.956390  166.481098  163.887245  164.144659  47720200   \n",
       "3 2023-04-20  164.986160  166.193981  163.907046  164.431754  52456400   \n",
       "4 2023-04-21  163.372437  164.788152  162.847729  163.402136  58337300   \n",
       "\n",
       "        SMA10  DayOfWeek  Return_1d  Return_3d  Volatility_5d     RSI_14  \n",
       "0  162.278468          0   0.000121   0.032042       0.017050  65.207784  \n",
       "1  162.308170          1   0.007505   0.005496       0.015765  68.797914  \n",
       "2  162.506174          2   0.006968   0.014648       0.014478  65.953457  \n",
       "3  162.792290          3  -0.005846   0.008594       0.005804  60.268071  \n",
       "4  162.827930          4  -0.009781  -0.008710       0.007657  50.300307  "
      ]
     },
     "execution_count": 3,
     "metadata": {},
     "output_type": "execute_result"
    }
   ],
   "source": [
    "data.head()"
   ]
  },
  {
   "cell_type": "code",
   "execution_count": 4,
   "metadata": {},
   "outputs": [],
   "source": [
    "# Reward function\n",
    "def get_reward(action, price_today, price_tomorrow):\n",
    "    if action == 1:\n",
    "        return price_tomorrow - price_today\n",
    "    elif action == -1:\n",
    "        return price_today - price_tomorrow\n",
    "    return 0"
   ]
  },
  {
   "cell_type": "code",
   "execution_count": 5,
   "metadata": {},
   "outputs": [],
   "source": [
    "def compute_sharpe_ratio(rewards, risk_free_rate=0):\n",
    "    if not rewards:\n",
    "        return 0\n",
    "    excess_returns = np.array(rewards) - risk_free_rate\n",
    "    std_dev = np.std(excess_returns)\n",
    "    return np.mean(excess_returns) / std_dev if std_dev != 0 else 0\n",
    "\n",
    "\n",
    "def compute_max_drawdown(pnl_series):\n",
    "    if not pnl_series:\n",
    "        return 0\n",
    "    cumulative = np.cumsum(pnl_series)\n",
    "    peak = np.maximum.accumulate(cumulative)\n",
    "    drawdown = cumulative - peak\n",
    "    return np.min(drawdown)"
   ]
  },
  {
   "cell_type": "code",
   "execution_count": 6,
   "metadata": {},
   "outputs": [],
   "source": [
    "def compute_trade_metrics(rewards):\n",
    "    profits = [r for r in rewards if r > 0]\n",
    "    losses = [-r for r in rewards if r < 0]  # flip to positive values\n",
    "    num_wins = len(profits)\n",
    "    num_losses = len(losses)\n",
    "\n",
    "    profit_factor = sum(profits) / sum(losses) if sum(losses) != 0 else np.nan\n",
    "    win_loss_ratio = num_wins / num_losses if num_losses != 0 else np.nan\n",
    "\n",
    "    return {\n",
    "        \"Profit Factor\": round(profit_factor, 2),\n",
    "        \"Win/Loss Ratio\": round(win_loss_ratio, 2)\n",
    "    }"
   ]
  },
  {
   "cell_type": "code",
   "execution_count": null,
   "metadata": {},
   "outputs": [],
   "source": []
  },
  {
   "cell_type": "markdown",
   "metadata": {},
   "source": [
    "### Models"
   ]
  },
  {
   "cell_type": "code",
   "execution_count": 7,
   "metadata": {},
   "outputs": [],
   "source": [
    "# Model 0: Rule-based SMA Crossover\n",
    "def run_sma_bot(df):\n",
    "    df = df.copy()\n",
    "\n",
    "    # Rename columns just in case\n",
    "    df.columns = ['_'.join(col).strip() if isinstance(col, tuple) else col for col in df.columns]\n",
    "    df = df.reset_index(drop=True)\n",
    "\n",
    "    # Use your renamed columns\n",
    "    close_col = 'Close_AAPL' if 'Close_AAPL' in df.columns else 'Close'\n",
    "    sma_col = 'SMA10_' if 'SMA10_' in df.columns else 'SMA10'\n",
    "\n",
    "    position = 0\n",
    "    cash = 0\n",
    "    trades = 0\n",
    "    rewards = []\n",
    "\n",
    "    for i in range(1, len(df) - 1):\n",
    "        try:\n",
    "            price_prev = float(df.loc[i - 1, close_col])\n",
    "            price_today = float(df.loc[i, close_col])\n",
    "            price_tomorrow = float(df.loc[i + 1, close_col])\n",
    "            sma_prev = float(df.loc[i - 1, sma_col])\n",
    "            sma_today = float(df.loc[i, sma_col])\n",
    "        except:\n",
    "            continue\n",
    "\n",
    "        if pd.isna(price_today) or pd.isna(sma_today) or pd.isna(sma_prev) or pd.isna(price_prev):\n",
    "            continue\n",
    "\n",
    "        # Detect upward crossover: price crosses above SMA\n",
    "        if price_prev < sma_prev and price_today > sma_today and position == 0:\n",
    "            position = price_today\n",
    "            trades += 1\n",
    "\n",
    "        # Detect downward crossover: price crosses below SMA\n",
    "        elif price_prev > sma_prev and price_today < sma_today and position != 0:\n",
    "            pnl = price_today - position\n",
    "            cash += pnl\n",
    "            rewards.append(pnl)\n",
    "            position = 0\n",
    "            trades += 1\n",
    "\n",
    "    # Close open position at final price\n",
    "    if position != 0:\n",
    "        final_pnl = float(df.loc[len(df) - 1, close_col]) - position\n",
    "        cash += final_pnl\n",
    "        rewards.append(final_pnl)\n",
    "\n",
    "    cumulative_pnl = np.cumsum(rewards)\n",
    "    avg_price = df['Close'].mean()\n",
    "    total_return_pct = (cash / avg_price) * 100\n",
    "    avg_daily_pct = (np.mean(rewards) / avg_price) * 100 if rewards else 0\n",
    "\n",
    "    metrics = compute_trade_metrics(rewards)\n",
    "    \n",
    "    return {\n",
    "        \"Model\": \"Model0 (Rule SMA)\",\n",
    "        \"Total Return ($)\": round(cash, 2),\n",
    "        \"Total Return (%)\": round(total_return_pct, 2),\n",
    "        \"Avg Daily Reward\": round(np.mean(rewards), 4) if rewards else 0,\n",
    "        \"Avg Daily Reward (%)\": round(avg_daily_pct, 4),\n",
    "        \"# Trades\": trades,\n",
    "        \"Cumulative Reward\": round(np.sum(rewards), 2),\n",
    "        \"Sharpe Ratio\": round(compute_sharpe_ratio(rewards), 4) if rewards else 0,\n",
    "        \"Max Drawdown\": round(compute_max_drawdown(rewards), 2) if rewards else 0,\n",
    "        \"Profit Factor\": metrics[\"Profit Factor\"],\n",
    "        \"Win/Loss Ratio\": metrics[\"Win/Loss Ratio\"],\n",
    "        \"Avg Trade Duration\": round(len(df) / trades, 2) if trades > 0 else np.nan\n",
    "    }\n",
    "\n"
   ]
  },
  {
   "cell_type": "code",
   "execution_count": 8,
   "metadata": {},
   "outputs": [],
   "source": [
    "# RL Models\n",
    "def preprocess_features(df, model):\n",
    "    features = ['SMA10']\n",
    "    if model == 1:\n",
    "        features.append('Volume')\n",
    "    elif model == 2:\n",
    "        features.append('DayOfWeek')\n",
    "    elif model == 3:\n",
    "        features += ['Volume', 'DayOfWeek']\n",
    "    elif model == 4:\n",
    "        features = ['SMA10']  # Only SMA for RL\n",
    "\n",
    "    X = df[features]\n",
    "    est = KBinsDiscretizer(n_bins=5, encode='ordinal', strategy='uniform')\n",
    "    X_binned = est.fit_transform(X)\n",
    "    return X_binned.astype(int)\n",
    "\n",
    "def run_rl_model(df, model_num):\n",
    "    states = preprocess_features(df, model_num)\n",
    "    n_states = tuple([5] * states.shape[1])\n",
    "    actions = [-1, 0, 1]  # Sell, Hold, Buy\n",
    "\n",
    "    Q_table = np.zeros(n_states + (len(actions),))\n",
    "\n",
    "    alpha = 0.1\n",
    "    gamma = 0.9\n",
    "    epsilon = 0.1\n",
    "    cash = 0\n",
    "    position = 0\n",
    "    trades = 0\n",
    "    rewards = []\n",
    "\n",
    "    for t in range(len(states) - 1):\n",
    "        state = tuple(states[t])\n",
    "        next_state = tuple(states[t + 1])\n",
    "        price_today = df.iloc[t]['Close']\n",
    "        price_tomorrow = df.iloc[t + 1]['Close']\n",
    "\n",
    "        if np.random.rand() < epsilon:\n",
    "            action_idx = np.random.choice(len(actions))\n",
    "        else:\n",
    "            action_idx = np.argmax(Q_table[state])\n",
    "        action = actions[action_idx]\n",
    "\n",
    "        reward = get_reward(action, price_today, price_tomorrow)\n",
    "        rewards.append(reward)\n",
    "\n",
    "        Q_table[state + (action_idx,)] += alpha * (\n",
    "            reward + gamma * np.max(Q_table[next_state]) - Q_table[state + (action_idx,)]\n",
    "        )\n",
    "\n",
    "        if action == 1 and position == 0:\n",
    "            position = price_today\n",
    "            trades += 1\n",
    "        elif action == -1 and position != 0:\n",
    "            cash += price_today - position\n",
    "            position = 0\n",
    "            trades += 1\n",
    "\n",
    "    if position != 0:\n",
    "        cash += df.iloc[-1]['Close'] - position\n",
    "\n",
    "    cumulative_pnl = np.cumsum(rewards)\n",
    "    avg_price = df['Close'].mean()\n",
    "    total_return_pct = (cash / avg_price) * 100\n",
    "    avg_daily_pct = (np.mean(rewards) / avg_price) * 100 if rewards else 0\n",
    "\n",
    "    metrics = compute_trade_metrics(rewards)\n",
    "    \n",
    "    return {\n",
    "        \"Model\": f\"Model{model_num} (RL)\",\n",
    "        \"Total Return ($)\": round(cash, 2),\n",
    "        \"Total Return (%)\": round(total_return_pct, 2),\n",
    "        \"Avg Daily Reward\": round(np.mean(rewards), 4) if rewards else 0,\n",
    "        \"Avg Daily Reward (%)\": round(avg_daily_pct, 4),\n",
    "        \"# Trades\": trades,\n",
    "        \"Cumulative Reward\": round(np.sum(rewards), 2),\n",
    "        \"Sharpe Ratio\": round(compute_sharpe_ratio(rewards), 4) if rewards else 0,\n",
    "        \"Max Drawdown\": round(compute_max_drawdown(rewards), 2) if rewards else 0,\n",
    "        \"Profit Factor\": metrics[\"Profit Factor\"],\n",
    "        \"Win/Loss Ratio\": metrics[\"Win/Loss Ratio\"],\n",
    "        \"Avg Trade Duration\": round(len(df) / trades, 2) if trades > 0 else np.nan\n",
    "    }"
   ]
  },
  {
   "cell_type": "code",
   "execution_count": 9,
   "metadata": {},
   "outputs": [],
   "source": [
    "def run_mean_reversion_rule_bot(df):\n",
    "    position = 0\n",
    "    cash = 0\n",
    "    trades = 0\n",
    "    rewards = []\n",
    "\n",
    "    for i in range(1, len(df) - 1):\n",
    "        try:\n",
    "            r3 = df.loc[i, 'Return_3d']\n",
    "            price_today = df.loc[i, 'Close']\n",
    "            price_tomorrow = df.loc[i + 1, 'Close']\n",
    "        except:\n",
    "            continue\n",
    "\n",
    "        if pd.isna(r3) or pd.isna(price_today):\n",
    "            continue\n",
    "\n",
    "        if r3 < -0.03 and position == 0:  # Buy the dip\n",
    "            position = price_today\n",
    "            trades += 1\n",
    "        elif r3 > 0 and position != 0:  # Sell on recovery\n",
    "            pnl = price_today - position\n",
    "            cash += pnl\n",
    "            rewards.append(pnl)\n",
    "            position = 0\n",
    "            trades += 1\n",
    "\n",
    "    if position != 0:\n",
    "        final_pnl = df.loc[len(df) - 1, 'Close'] - position\n",
    "        cash += final_pnl\n",
    "        rewards.append(final_pnl)\n",
    "\n",
    "    cumulative_pnl = np.cumsum(rewards)\n",
    "    avg_price = df['Close'].mean()\n",
    "    total_return_pct = (cash / avg_price) * 100\n",
    "    avg_daily_pct = (np.mean(rewards) / avg_price) * 100 if rewards else 0\n",
    "\n",
    "    metrics = compute_trade_metrics(rewards)\n",
    "    \n",
    "    return {\n",
    "        \"Model\": \"Model5 (Rule Mean Reversion)\",\n",
    "        \"Total Return ($)\": round(cash, 2),\n",
    "        \"Total Return (%)\": round(total_return_pct, 2),\n",
    "        \"Avg Daily Reward\": round(np.mean(rewards), 4) if rewards else 0,\n",
    "        \"Avg Daily Reward (%)\": round(avg_daily_pct, 4),\n",
    "        \"# Trades\": trades,\n",
    "        \"Cumulative Reward\": round(np.sum(rewards), 2),\n",
    "        \"Sharpe Ratio\": round(compute_sharpe_ratio(rewards), 4) if rewards else 0,\n",
    "        \"Max Drawdown\": round(compute_max_drawdown(rewards), 2) if rewards else 0,\n",
    "        \"Profit Factor\": metrics[\"Profit Factor\"],\n",
    "        \"Win/Loss Ratio\": metrics[\"Win/Loss Ratio\"],\n",
    "        \"Avg Trade Duration\": round(len(df) / trades, 2) if trades > 0 else np.nan\n",
    "    }\n"
   ]
  },
  {
   "cell_type": "code",
   "execution_count": 10,
   "metadata": {},
   "outputs": [],
   "source": [
    "def run_rl_mean_reversion_bot(df):\n",
    "    features = ['Return_1d', 'Return_3d', 'Volatility_5d', 'RSI_14']\n",
    "    X = df[features].copy()\n",
    "    est = KBinsDiscretizer(n_bins=5, encode='ordinal', strategy='uniform')\n",
    "    states = est.fit_transform(X).astype(int)\n",
    "    actions = [-1, 0, 1]  # Sell, Hold, Buy\n",
    "\n",
    "    Q_table = np.zeros((5, 5, 5, 5, len(actions)))\n",
    "\n",
    "    alpha = 0.1\n",
    "    gamma = 0.9\n",
    "    epsilon = 0.1\n",
    "    cash = 0\n",
    "    position = 0\n",
    "    trades = 0\n",
    "    rewards = []\n",
    "\n",
    "    for t in range(len(states) - 1):\n",
    "        state = tuple(states[t])\n",
    "        next_state = tuple(states[t + 1])\n",
    "        price_today = df.loc[t, 'Close']\n",
    "        price_tomorrow = df.loc[t + 1, 'Close']\n",
    "\n",
    "        # Choose action\n",
    "        if np.random.rand() < epsilon:\n",
    "            action_idx = np.random.choice(len(actions))\n",
    "        else:\n",
    "            action_idx = np.argmax(Q_table[state])\n",
    "        action = actions[action_idx]\n",
    "\n",
    "        reward = 0\n",
    "        if action == 1 and position == 0:\n",
    "            position = price_today\n",
    "            trades += 1\n",
    "        elif action == -1 and position != 0:\n",
    "            pnl = price_today - position\n",
    "            cash += pnl\n",
    "            reward = pnl\n",
    "            position = 0\n",
    "            trades += 1\n",
    "\n",
    "        rewards.append(reward)\n",
    "\n",
    "        Q_table[state + (action_idx,)] += alpha * (\n",
    "            reward + gamma * np.max(Q_table[next_state]) - Q_table[state + (action_idx,)]\n",
    "        )\n",
    "\n",
    "    if position != 0:\n",
    "        final_pnl = df.loc[len(df) - 1, 'Close'] - position\n",
    "        cash += final_pnl\n",
    "        rewards.append(final_pnl)\n",
    "\n",
    "    cumulative_pnl = np.cumsum(rewards)\n",
    "    avg_price = df['Close'].mean()\n",
    "    total_return_pct = (cash / avg_price) * 100\n",
    "    avg_daily_pct = (np.mean(rewards) / avg_price) * 100 if rewards else 0\n",
    "\n",
    "    metrics = compute_trade_metrics(rewards)\n",
    "    \n",
    "    return {\n",
    "        \"Model\": \"Model6 (RL Mean Reversion)\",\n",
    "        \"Total Return ($)\": round(cash, 2),\n",
    "        \"Total Return (%)\": round(total_return_pct, 2),\n",
    "        \"Avg Daily Reward\": round(np.mean(rewards), 4) if rewards else 0,\n",
    "        \"Avg Daily Reward (%)\": round(avg_daily_pct, 4),\n",
    "        \"# Trades\": trades,\n",
    "        \"Cumulative Reward\": round(np.sum(rewards), 2),\n",
    "        \"Sharpe Ratio\": round(compute_sharpe_ratio(rewards), 4) if rewards else 0,\n",
    "        \"Max Drawdown\": round(compute_max_drawdown(rewards), 2) if rewards else 0,\n",
    "        \"Profit Factor\": metrics[\"Profit Factor\"],\n",
    "        \"Win/Loss Ratio\": metrics[\"Win/Loss Ratio\"],\n",
    "        \"Avg Trade Duration\": round(len(df) / trades, 2) if trades > 0 else np.nan\n",
    "    }\n"
   ]
  },
  {
   "cell_type": "code",
   "execution_count": null,
   "metadata": {},
   "outputs": [],
   "source": []
  },
  {
   "cell_type": "markdown",
   "metadata": {},
   "source": [
    "### Results"
   ]
  },
  {
   "cell_type": "code",
   "execution_count": 11,
   "metadata": {},
   "outputs": [
    {
     "name": "stdout",
     "output_type": "stream",
     "text": [
      "                       Model  Total Return ($)  Total Return (%)  Avg Daily Reward  Avg Daily Reward (%)  # Trades  Cumulative Reward  Sharpe Ratio  Max Drawdown  Profit Factor  Win/Loss Ratio  Avg Trade Duration\n",
      "           Model0 (Rule SMA)             63.74             31.90            1.6775                0.8394        75              63.74        0.2373        -15.11           2.05            0.65                6.49\n",
      "                 Model1 (RL)             53.27             26.66            0.0504                0.0252        33              24.51        0.0299        -51.25           1.19            1.25               14.76\n",
      "                 Model2 (RL)             46.51             23.27           -0.1190               -0.0595        37             -57.83       -0.0897        -72.98           0.62            0.62               13.16\n",
      "                 Model3 (RL)             16.38              8.20           -0.1008               -0.0504        37             -48.97       -0.0613        -70.97           0.72            0.75               13.16\n",
      "                 Model4 (RL)             15.06              7.53           -0.0402               -0.0201        18             -19.52       -0.0279        -54.21           0.80            0.94               27.06\n",
      "Model5 (Rule Mean Reversion)             -0.49             -0.24           -0.0222               -0.0111        44              -0.49       -0.0045        -20.21           0.99            2.14               11.07\n",
      "  Model6 (RL Mean Reversion)             -3.08             -1.54           -0.0063               -0.0032        34              -3.08       -0.0086        -11.59           0.88            1.12               14.32\n"
     ]
    }
   ],
   "source": [
    "# Run all models\n",
    "results = []\n",
    "\n",
    "# Original models\n",
    "results.append(run_sma_bot(data))           # Model0\n",
    "for model_num in range(1, 5):               # Model1–4\n",
    "    results.append(run_rl_model(data, model_num))\n",
    "\n",
    "# New models\n",
    "results.append(run_mean_reversion_rule_bot(data))   # Model5\n",
    "results.append(run_rl_mean_reversion_bot(data))     # Model6\n",
    "\n",
    "# Summary\n",
    "summary = pd.DataFrame(results)\n",
    "print(summary.to_string(index=False))\n"
   ]
  },
  {
   "cell_type": "code",
   "execution_count": 12,
   "metadata": {},
   "outputs": [
    {
     "data": {
      "text/html": [
       "<div>\n",
       "<style scoped>\n",
       "    .dataframe tbody tr th:only-of-type {\n",
       "        vertical-align: middle;\n",
       "    }\n",
       "\n",
       "    .dataframe tbody tr th {\n",
       "        vertical-align: top;\n",
       "    }\n",
       "\n",
       "    .dataframe thead th {\n",
       "        text-align: right;\n",
       "    }\n",
       "</style>\n",
       "<table border=\"1\" class=\"dataframe\">\n",
       "  <thead>\n",
       "    <tr style=\"text-align: right;\">\n",
       "      <th></th>\n",
       "      <th>Model</th>\n",
       "      <th>Total Return ($)</th>\n",
       "      <th>Total Return (%)</th>\n",
       "      <th>Avg Daily Reward</th>\n",
       "      <th>Avg Daily Reward (%)</th>\n",
       "      <th># Trades</th>\n",
       "      <th>Cumulative Reward</th>\n",
       "      <th>Sharpe Ratio</th>\n",
       "      <th>Max Drawdown</th>\n",
       "      <th>Profit Factor</th>\n",
       "      <th>Win/Loss Ratio</th>\n",
       "      <th>Avg Trade Duration</th>\n",
       "    </tr>\n",
       "  </thead>\n",
       "  <tbody>\n",
       "    <tr>\n",
       "      <th>0</th>\n",
       "      <td>Model0 (Rule SMA)</td>\n",
       "      <td>63.74</td>\n",
       "      <td>31.90</td>\n",
       "      <td>1.6775</td>\n",
       "      <td>0.8394</td>\n",
       "      <td>75</td>\n",
       "      <td>63.74</td>\n",
       "      <td>0.2373</td>\n",
       "      <td>-15.11</td>\n",
       "      <td>2.05</td>\n",
       "      <td>0.65</td>\n",
       "      <td>6.49</td>\n",
       "    </tr>\n",
       "    <tr>\n",
       "      <th>1</th>\n",
       "      <td>Model1 (RL)</td>\n",
       "      <td>53.27</td>\n",
       "      <td>26.66</td>\n",
       "      <td>0.0504</td>\n",
       "      <td>0.0252</td>\n",
       "      <td>33</td>\n",
       "      <td>24.51</td>\n",
       "      <td>0.0299</td>\n",
       "      <td>-51.25</td>\n",
       "      <td>1.19</td>\n",
       "      <td>1.25</td>\n",
       "      <td>14.76</td>\n",
       "    </tr>\n",
       "    <tr>\n",
       "      <th>2</th>\n",
       "      <td>Model2 (RL)</td>\n",
       "      <td>46.51</td>\n",
       "      <td>23.27</td>\n",
       "      <td>-0.1190</td>\n",
       "      <td>-0.0595</td>\n",
       "      <td>37</td>\n",
       "      <td>-57.83</td>\n",
       "      <td>-0.0897</td>\n",
       "      <td>-72.98</td>\n",
       "      <td>0.62</td>\n",
       "      <td>0.62</td>\n",
       "      <td>13.16</td>\n",
       "    </tr>\n",
       "    <tr>\n",
       "      <th>3</th>\n",
       "      <td>Model3 (RL)</td>\n",
       "      <td>16.38</td>\n",
       "      <td>8.20</td>\n",
       "      <td>-0.1008</td>\n",
       "      <td>-0.0504</td>\n",
       "      <td>37</td>\n",
       "      <td>-48.97</td>\n",
       "      <td>-0.0613</td>\n",
       "      <td>-70.97</td>\n",
       "      <td>0.72</td>\n",
       "      <td>0.75</td>\n",
       "      <td>13.16</td>\n",
       "    </tr>\n",
       "    <tr>\n",
       "      <th>4</th>\n",
       "      <td>Model4 (RL)</td>\n",
       "      <td>15.06</td>\n",
       "      <td>7.53</td>\n",
       "      <td>-0.0402</td>\n",
       "      <td>-0.0201</td>\n",
       "      <td>18</td>\n",
       "      <td>-19.52</td>\n",
       "      <td>-0.0279</td>\n",
       "      <td>-54.21</td>\n",
       "      <td>0.80</td>\n",
       "      <td>0.94</td>\n",
       "      <td>27.06</td>\n",
       "    </tr>\n",
       "    <tr>\n",
       "      <th>5</th>\n",
       "      <td>Model5 (Rule Mean Reversion)</td>\n",
       "      <td>-0.49</td>\n",
       "      <td>-0.24</td>\n",
       "      <td>-0.0222</td>\n",
       "      <td>-0.0111</td>\n",
       "      <td>44</td>\n",
       "      <td>-0.49</td>\n",
       "      <td>-0.0045</td>\n",
       "      <td>-20.21</td>\n",
       "      <td>0.99</td>\n",
       "      <td>2.14</td>\n",
       "      <td>11.07</td>\n",
       "    </tr>\n",
       "    <tr>\n",
       "      <th>6</th>\n",
       "      <td>Model6 (RL Mean Reversion)</td>\n",
       "      <td>-3.08</td>\n",
       "      <td>-1.54</td>\n",
       "      <td>-0.0063</td>\n",
       "      <td>-0.0032</td>\n",
       "      <td>34</td>\n",
       "      <td>-3.08</td>\n",
       "      <td>-0.0086</td>\n",
       "      <td>-11.59</td>\n",
       "      <td>0.88</td>\n",
       "      <td>1.12</td>\n",
       "      <td>14.32</td>\n",
       "    </tr>\n",
       "  </tbody>\n",
       "</table>\n",
       "</div>"
      ],
      "text/plain": [
       "                          Model  Total Return ($)  Total Return (%)  \\\n",
       "0             Model0 (Rule SMA)             63.74             31.90   \n",
       "1                   Model1 (RL)             53.27             26.66   \n",
       "2                   Model2 (RL)             46.51             23.27   \n",
       "3                   Model3 (RL)             16.38              8.20   \n",
       "4                   Model4 (RL)             15.06              7.53   \n",
       "5  Model5 (Rule Mean Reversion)             -0.49             -0.24   \n",
       "6    Model6 (RL Mean Reversion)             -3.08             -1.54   \n",
       "\n",
       "   Avg Daily Reward  Avg Daily Reward (%)  # Trades  Cumulative Reward  \\\n",
       "0            1.6775                0.8394        75              63.74   \n",
       "1            0.0504                0.0252        33              24.51   \n",
       "2           -0.1190               -0.0595        37             -57.83   \n",
       "3           -0.1008               -0.0504        37             -48.97   \n",
       "4           -0.0402               -0.0201        18             -19.52   \n",
       "5           -0.0222               -0.0111        44              -0.49   \n",
       "6           -0.0063               -0.0032        34              -3.08   \n",
       "\n",
       "   Sharpe Ratio  Max Drawdown  Profit Factor  Win/Loss Ratio  \\\n",
       "0        0.2373        -15.11           2.05            0.65   \n",
       "1        0.0299        -51.25           1.19            1.25   \n",
       "2       -0.0897        -72.98           0.62            0.62   \n",
       "3       -0.0613        -70.97           0.72            0.75   \n",
       "4       -0.0279        -54.21           0.80            0.94   \n",
       "5       -0.0045        -20.21           0.99            2.14   \n",
       "6       -0.0086        -11.59           0.88            1.12   \n",
       "\n",
       "   Avg Trade Duration  \n",
       "0                6.49  \n",
       "1               14.76  \n",
       "2               13.16  \n",
       "3               13.16  \n",
       "4               27.06  \n",
       "5               11.07  \n",
       "6               14.32  "
      ]
     },
     "execution_count": 12,
     "metadata": {},
     "output_type": "execute_result"
    }
   ],
   "source": [
    "summary"
   ]
  },
  {
   "cell_type": "code",
   "execution_count": 13,
   "metadata": {},
   "outputs": [
    {
     "data": {
      "image/png": "[encoded data removed]",
      "text/plain": [
       "<Figure size 1000x600 with 1 Axes>"
      ]
     },
     "metadata": {},
     "output_type": "display_data"
    },
    {
     "data": {
      "image/png": "[encoded data removed]",
      "text/plain": [
       "<Figure size 1000x600 with 1 Axes>"
      ]
     },
     "metadata": {},
     "output_type": "display_data"
    },
    {
     "data": {
      "image/png": "[encoded data removed]",
      "text/plain": [
       "<Figure size 1000x600 with 1 Axes>"
      ]
     },
     "metadata": {},
     "output_type": "display_data"
    }
   ],
   "source": [
    "# visual\n",
    "\n",
    "# Plot 1: Total Return by Model\n",
    "plt.figure(figsize=(10, 6))\n",
    "plt.bar(summary['Model'], summary['Total Return ($)'], color='skyblue')\n",
    "plt.title(f'Total Return by Model ({ticker})')\n",
    "plt.ylabel('Total Return ($)')\n",
    "plt.xticks(rotation=45, ha='right')\n",
    "plt.grid(axis='y')\n",
    "plt.tight_layout()\n",
    "plt.show()\n",
    "\n",
    "# Plot 2: Sharpe Ratio by Model\n",
    "plt.figure(figsize=(10, 6))\n",
    "plt.bar(summary['Model'], summary['Sharpe Ratio'], color='mediumseagreen')\n",
    "plt.title(f'Sharpe Ratio by Model ({ticker})')\n",
    "plt.ylabel('Sharpe Ratio')\n",
    "plt.xticks(rotation=45, ha='right')\n",
    "plt.grid(axis='y')\n",
    "plt.tight_layout()\n",
    "plt.show()\n",
    "\n",
    "# Plot 3: Max Drawdown by Model\n",
    "plt.figure(figsize=(10, 6))\n",
    "plt.bar(summary['Model'], summary['Max Drawdown'], color='salmon')\n",
    "plt.title(f'Max Drawdown by Model ({ticker})')\n",
    "plt.ylabel('Max Drawdown ($)')\n",
    "plt.xticks(rotation=45, ha='right')\n",
    "plt.grid(axis='y')\n",
    "plt.tight_layout()\n",
    "plt.show()\n"
   ]
  },
  {
   "cell_type": "code",
   "execution_count": null,
   "metadata": {},
   "outputs": [],
   "source": []
  },
  {
   "cell_type": "markdown",
   "metadata": {},
   "source": [
    "### Part II: Multiple Ticker Analysis"
   ]
  },
  {
   "cell_type": "code",
   "execution_count": 14,
   "metadata": {},
   "outputs": [],
   "source": [
    "def run_all_models_for_ticker(ticker, sector=None):\n",
    "    # sector is used in part III\n",
    "    try:\n",
    "        print(f\"Downloading data for {ticker}...\")\n",
    "        data = yf.download([ticker], period=\"2y\", interval=\"1d\")\n",
    "\n",
    "        if data.empty:\n",
    "            print(f\" No data returned for {ticker}\")\n",
    "            return []\n",
    "\n",
    "        # Add indicators BEFORE flattening\n",
    "        data[('SMA10', '')] = data[('Close', ticker)].rolling(window=10).mean()\n",
    "        data[('DayOfWeek', '')] = data.index.dayofweek\n",
    "\n",
    "        # Mean reversion features\n",
    "        close = data[('Close', ticker)]\n",
    "        data[('Return_1d', '')] = close.pct_change()\n",
    "        data[('Return_3d', '')] = close.pct_change(3)\n",
    "        data[('Volatility_5d', '')] = data[('Return_1d', '')].rolling(window=5).std()\n",
    "        data[('RSI_14', '')] = compute_rsi(close)\n",
    "\n",
    "        # Drop NaNs\n",
    "        data.dropna(inplace=True)\n",
    "\n",
    "        # Flatten MultiIndex columns\n",
    "        data.columns = ['_'.join(col).strip() if isinstance(col, tuple) else col for col in data.columns]\n",
    "\n",
    "        # Rename for general use\n",
    "        rename_cols = {\n",
    "            f'Close_{ticker}': 'Close',\n",
    "            f'Open_{ticker}': 'Open',\n",
    "            f'High_{ticker}': 'High',\n",
    "            f'Low_{ticker}': 'Low',\n",
    "            f'Volume_{ticker}': 'Volume',\n",
    "            'SMA10_': 'SMA10',\n",
    "            'DayOfWeek_': 'DayOfWeek',\n",
    "            'Return_1d_': 'Return_1d',\n",
    "            'Return_3d_': 'Return_3d',\n",
    "            'Volatility_5d_': 'Volatility_5d',\n",
    "            'RSI_14_': 'RSI_14'\n",
    "        }\n",
    "        data.rename(columns=rename_cols, inplace=True)\n",
    "        data.reset_index(inplace=True)\n",
    "\n",
    "        # --- Run models ---\n",
    "        print(f\"Running models for {ticker}...\")\n",
    "        model_results = [\n",
    "            run_sma_bot(data),\n",
    "            run_rl_model(data, 1),\n",
    "            run_rl_model(data, 2),\n",
    "            run_rl_model(data, 3),\n",
    "            run_rl_model(data, 4),\n",
    "            run_mean_reversion_rule_bot(data),\n",
    "            run_rl_mean_reversion_bot(data)\n",
    "        ]\n",
    "\n",
    "        for result in model_results:\n",
    "            result[\"Ticker\"] = ticker\n",
    "            result['Sector']= sector\n",
    "\n",
    "        print(f\" Finished {ticker}\")\n",
    "        return model_results\n",
    "\n",
    "    except Exception as e:\n",
    "        print(f\" Error for {ticker}: {e}\")\n",
    "        return []"
   ]
  },
  {
   "cell_type": "code",
   "execution_count": 15,
   "metadata": {},
   "outputs": [
    {
     "name": "stderr",
     "output_type": "stream",
     "text": [
      "[*********************100%***********************]  1 of 1 completed"
     ]
    },
    {
     "name": "stdout",
     "output_type": "stream",
     "text": [
      "\n",
      "--- Processing AAPL ---\n",
      "Downloading data for AAPL...\n",
      "Running models for AAPL...\n"
     ]
    },
    {
     "name": "stderr",
     "output_type": "stream",
     "text": [
      "\n",
      "[*********************100%***********************]  1 of 1 completed"
     ]
    },
    {
     "name": "stdout",
     "output_type": "stream",
     "text": [
      " Finished AAPL\n",
      "\n",
      "--- Processing MSFT ---\n",
      "Downloading data for MSFT...\n",
      "Running models for MSFT...\n"
     ]
    },
    {
     "name": "stderr",
     "output_type": "stream",
     "text": [
      "\n",
      "[*********************100%***********************]  1 of 1 completed"
     ]
    },
    {
     "name": "stdout",
     "output_type": "stream",
     "text": [
      " Finished MSFT\n",
      "\n",
      "--- Processing TSLA ---\n",
      "Downloading data for TSLA...\n",
      "Running models for TSLA...\n"
     ]
    },
    {
     "name": "stderr",
     "output_type": "stream",
     "text": [
      "\n",
      "[*********************100%***********************]  1 of 1 completed"
     ]
    },
    {
     "name": "stdout",
     "output_type": "stream",
     "text": [
      " Finished TSLA\n",
      "\n",
      "--- Processing NVDA ---\n",
      "Downloading data for NVDA...\n",
      "Running models for NVDA...\n"
     ]
    },
    {
     "name": "stderr",
     "output_type": "stream",
     "text": [
      "\n",
      "[*********************100%***********************]  1 of 1 completed"
     ]
    },
    {
     "name": "stdout",
     "output_type": "stream",
     "text": [
      " Finished NVDA\n",
      "\n",
      "--- Processing GOOGL ---\n",
      "Downloading data for GOOGL...\n",
      "Running models for GOOGL...\n"
     ]
    },
    {
     "name": "stderr",
     "output_type": "stream",
     "text": [
      "\n",
      "[*********************100%***********************]  1 of 1 completed"
     ]
    },
    {
     "name": "stdout",
     "output_type": "stream",
     "text": [
      " Finished GOOGL\n",
      "\n",
      "--- Processing AMZN ---\n",
      "Downloading data for AMZN...\n",
      "Running models for AMZN...\n"
     ]
    },
    {
     "name": "stderr",
     "output_type": "stream",
     "text": [
      "\n",
      "[*********************100%***********************]  1 of 1 completed"
     ]
    },
    {
     "name": "stdout",
     "output_type": "stream",
     "text": [
      " Finished AMZN\n",
      "\n",
      "--- Processing META ---\n",
      "Downloading data for META...\n",
      "Running models for META...\n"
     ]
    },
    {
     "name": "stderr",
     "output_type": "stream",
     "text": [
      "\n"
     ]
    },
    {
     "name": "stdout",
     "output_type": "stream",
     "text": [
      " Finished META\n"
     ]
    }
   ],
   "source": [
    "tickers = [\"AAPL\", \"MSFT\", \"TSLA\", \"NVDA\", \"GOOGL\", \"AMZN\", \"META\"]\n",
    "all_results = []\n",
    "\n",
    "for ticker in tickers:\n",
    "    print(f\"\\n--- Processing {ticker} ---\")\n",
    "    all_results.extend(run_all_models_for_ticker(ticker))"
   ]
  },
  {
   "cell_type": "code",
   "execution_count": 16,
   "metadata": {},
   "outputs": [
    {
     "data": {
      "text/plain": [
       "[{'Model': 'Model0 (Rule SMA)',\n",
       "  'Total Return ($)': 63.74,\n",
       "  'Total Return (%)': 31.9,\n",
       "  'Avg Daily Reward': 1.6775,\n",
       "  'Avg Daily Reward (%)': 0.8394,\n",
       "  '# Trades': 75,\n",
       "  'Cumulative Reward': 63.74,\n",
       "  'Sharpe Ratio': 0.2373,\n",
       "  'Max Drawdown': -15.11,\n",
       "  'Profit Factor': 2.05,\n",
       "  'Win/Loss Ratio': 0.65,\n",
       "  'Avg Trade Duration': 6.49,\n",
       "  'Ticker': 'AAPL',\n",
       "  'Sector': None},\n",
       " {'Model': 'Model1 (RL)',\n",
       "  'Total Return ($)': 29.8,\n",
       "  'Total Return (%)': 14.91,\n",
       "  'Avg Daily Reward': 0.0309,\n",
       "  'Avg Daily Reward (%)': 0.0155,\n",
       "  '# Trades': 33,\n",
       "  'Cumulative Reward': 15.01,\n",
       "  'Sharpe Ratio': 0.0185,\n",
       "  'Max Drawdown': -44.32,\n",
       "  'Profit Factor': 1.09,\n",
       "  'Win/Loss Ratio': 1.23,\n",
       "  'Avg Trade Duration': 14.76,\n",
       "  'Ticker': 'AAPL',\n",
       "  'Sector': None},\n",
       " {'Model': 'Model2 (RL)',\n",
       "  'Total Return ($)': 83.75,\n",
       "  'Total Return (%)': 41.91,\n",
       "  'Avg Daily Reward': -0.0416,\n",
       "  'Avg Daily Reward (%)': -0.0208,\n",
       "  '# Trades': 41,\n",
       "  'Cumulative Reward': -20.23,\n",
       "  'Sharpe Ratio': -0.0248,\n",
       "  'Max Drawdown': -52.07,\n",
       "  'Profit Factor': 0.88,\n",
       "  'Win/Loss Ratio': 0.88,\n",
       "  'Avg Trade Duration': 11.88,\n",
       "  'Ticker': 'AAPL',\n",
       "  'Sector': None},\n",
       " {'Model': 'Model3 (RL)',\n",
       "  'Total Return ($)': -3.03,\n",
       "  'Total Return (%)': -1.52,\n",
       "  'Avg Daily Reward': -0.1016,\n",
       "  'Avg Daily Reward (%)': -0.0508,\n",
       "  '# Trades': 36,\n",
       "  'Cumulative Reward': -49.35,\n",
       "  'Sharpe Ratio': -0.0636,\n",
       "  'Max Drawdown': -57.68,\n",
       "  'Profit Factor': 0.73,\n",
       "  'Win/Loss Ratio': 0.68,\n",
       "  'Avg Trade Duration': 13.53,\n",
       "  'Ticker': 'AAPL',\n",
       "  'Sector': None},\n",
       " {'Model': 'Model4 (RL)',\n",
       "  'Total Return ($)': 12.05,\n",
       "  'Total Return (%)': 6.03,\n",
       "  'Avg Daily Reward': 0.0047,\n",
       "  'Avg Daily Reward (%)': 0.0023,\n",
       "  '# Trades': 26,\n",
       "  'Cumulative Reward': 2.27,\n",
       "  'Sharpe Ratio': 0.0034,\n",
       "  'Max Drawdown': -33.94,\n",
       "  'Profit Factor': 1.02,\n",
       "  'Win/Loss Ratio': 0.88,\n",
       "  'Avg Trade Duration': 18.73,\n",
       "  'Ticker': 'AAPL',\n",
       "  'Sector': None},\n",
       " {'Model': 'Model5 (Rule Mean Reversion)',\n",
       "  'Total Return ($)': -0.49,\n",
       "  'Total Return (%)': -0.24,\n",
       "  'Avg Daily Reward': -0.0222,\n",
       "  'Avg Daily Reward (%)': -0.0111,\n",
       "  '# Trades': 44,\n",
       "  'Cumulative Reward': -0.49,\n",
       "  'Sharpe Ratio': -0.0045,\n",
       "  'Max Drawdown': -20.21,\n",
       "  'Profit Factor': 0.99,\n",
       "  'Win/Loss Ratio': 2.14,\n",
       "  'Avg Trade Duration': 11.07,\n",
       "  'Ticker': 'AAPL',\n",
       "  'Sector': None},\n",
       " {'Model': 'Model6 (RL Mean Reversion)',\n",
       "  'Total Return ($)': -13.2,\n",
       "  'Total Return (%)': -6.61,\n",
       "  'Avg Daily Reward': -0.0272,\n",
       "  'Avg Daily Reward (%)': -0.0136,\n",
       "  '# Trades': 68,\n",
       "  'Cumulative Reward': -13.2,\n",
       "  'Sharpe Ratio': -0.0329,\n",
       "  'Max Drawdown': -29.43,\n",
       "  'Profit Factor': 0.73,\n",
       "  'Win/Loss Ratio': 1.83,\n",
       "  'Avg Trade Duration': 7.16,\n",
       "  'Ticker': 'AAPL',\n",
       "  'Sector': None},\n",
       " {'Model': 'Model0 (Rule SMA)',\n",
       "  'Total Return ($)': 53.53,\n",
       "  'Total Return (%)': 13.9,\n",
       "  'Avg Daily Reward': 1.4088,\n",
       "  'Avg Daily Reward (%)': 0.3658,\n",
       "  '# Trades': 75,\n",
       "  'Cumulative Reward': 53.53,\n",
       "  'Sharpe Ratio': 0.1272,\n",
       "  'Max Drawdown': -30.53,\n",
       "  'Profit Factor': 1.41,\n",
       "  'Win/Loss Ratio': 0.65,\n",
       "  'Avg Trade Duration': 6.49,\n",
       "  'Ticker': 'MSFT',\n",
       "  'Sector': None},\n",
       " {'Model': 'Model1 (RL)',\n",
       "  'Total Return ($)': 23.92,\n",
       "  'Total Return (%)': 6.21,\n",
       "  'Avg Daily Reward': 0.0168,\n",
       "  'Avg Daily Reward (%)': 0.0044,\n",
       "  '# Trades': 30,\n",
       "  'Cumulative Reward': 8.18,\n",
       "  'Sharpe Ratio': 0.0061,\n",
       "  'Max Drawdown': -80.27,\n",
       "  'Profit Factor': 1.03,\n",
       "  'Win/Loss Ratio': 0.91,\n",
       "  'Avg Trade Duration': 16.23,\n",
       "  'Ticker': 'MSFT',\n",
       "  'Sector': None},\n",
       " {'Model': 'Model2 (RL)',\n",
       "  'Total Return ($)': 136.88,\n",
       "  'Total Return (%)': 35.54,\n",
       "  'Avg Daily Reward': 0.3458,\n",
       "  'Avg Daily Reward (%)': 0.0898,\n",
       "  '# Trades': 54,\n",
       "  'Cumulative Reward': 168.08,\n",
       "  'Sharpe Ratio': 0.1006,\n",
       "  'Max Drawdown': -26.81,\n",
       "  'Profit Factor': 1.58,\n",
       "  'Win/Loss Ratio': 1.11,\n",
       "  'Avg Trade Duration': 9.02,\n",
       "  'Ticker': 'MSFT',\n",
       "  'Sector': None},\n",
       " {'Model': 'Model3 (RL)',\n",
       "  'Total Return ($)': 53.18,\n",
       "  'Total Return (%)': 13.81,\n",
       "  'Avg Daily Reward': -0.113,\n",
       "  'Avg Daily Reward (%)': -0.0293,\n",
       "  '# Trades': 51,\n",
       "  'Cumulative Reward': -54.92,\n",
       "  'Sharpe Ratio': -0.0287,\n",
       "  'Max Drawdown': -179.86,\n",
       "  'Profit Factor': 0.89,\n",
       "  'Win/Loss Ratio': 0.89,\n",
       "  'Avg Trade Duration': 9.55,\n",
       "  'Ticker': 'MSFT',\n",
       "  'Sector': None},\n",
       " {'Model': 'Model4 (RL)',\n",
       "  'Total Return ($)': 52.83,\n",
       "  'Total Return (%)': 13.72,\n",
       "  'Avg Daily Reward': 0.1305,\n",
       "  'Avg Daily Reward (%)': 0.0339,\n",
       "  '# Trades': 23,\n",
       "  'Cumulative Reward': 63.42,\n",
       "  'Sharpe Ratio': 0.0446,\n",
       "  'Max Drawdown': -64.71,\n",
       "  'Profit Factor': 1.24,\n",
       "  'Win/Loss Ratio': 1.43,\n",
       "  'Avg Trade Duration': 21.17,\n",
       "  'Ticker': 'MSFT',\n",
       "  'Sector': None},\n",
       " {'Model': 'Model5 (Rule Mean Reversion)',\n",
       "  'Total Return ($)': 65.16,\n",
       "  'Total Return (%)': 16.92,\n",
       "  'Avg Daily Reward': 3.4296,\n",
       "  'Avg Daily Reward (%)': 0.8905,\n",
       "  '# Trades': 38,\n",
       "  'Cumulative Reward': 65.16,\n",
       "  'Sharpe Ratio': 0.6266,\n",
       "  'Max Drawdown': -6.96,\n",
       "  'Profit Factor': 5.66,\n",
       "  'Win/Loss Ratio': 5.33,\n",
       "  'Avg Trade Duration': 12.82,\n",
       "  'Ticker': 'MSFT',\n",
       "  'Sector': None},\n",
       " {'Model': 'Model6 (RL Mean Reversion)',\n",
       "  'Total Return ($)': 25.4,\n",
       "  'Total Return (%)': 6.6,\n",
       "  'Avg Daily Reward': 0.0523,\n",
       "  'Avg Daily Reward (%)': 0.0136,\n",
       "  '# Trades': 40,\n",
       "  'Cumulative Reward': 25.4,\n",
       "  'Sharpe Ratio': 0.0377,\n",
       "  'Max Drawdown': -31.26,\n",
       "  'Profit Factor': 1.59,\n",
       "  'Win/Loss Ratio': 1.86,\n",
       "  'Avg Trade Duration': 12.18,\n",
       "  'Ticker': 'MSFT',\n",
       "  'Sector': None},\n",
       " {'Model': 'Model0 (Rule SMA)',\n",
       "  'Total Return ($)': 196.13,\n",
       "  'Total Return (%)': 80.32,\n",
       "  'Avg Daily Reward': 4.9033,\n",
       "  'Avg Daily Reward (%)': 2.0081,\n",
       "  '# Trades': 79,\n",
       "  'Cumulative Reward': 196.13,\n",
       "  'Sharpe Ratio': 0.1954,\n",
       "  'Max Drawdown': -75.02,\n",
       "  'Profit Factor': 1.94,\n",
       "  'Win/Loss Ratio': 0.54,\n",
       "  'Avg Trade Duration': 6.16,\n",
       "  'Ticker': 'TSLA',\n",
       "  'Sector': None},\n",
       " {'Model': 'Model1 (RL)',\n",
       "  'Total Return ($)': 47.19,\n",
       "  'Total Return (%)': 19.33,\n",
       "  'Avg Daily Reward': -0.0407,\n",
       "  'Avg Daily Reward (%)': -0.0167,\n",
       "  '# Trades': 28,\n",
       "  'Cumulative Reward': -19.76,\n",
       "  'Sharpe Ratio': -0.0075,\n",
       "  'Max Drawdown': -112.54,\n",
       "  'Profit Factor': 0.96,\n",
       "  'Win/Loss Ratio': 0.87,\n",
       "  'Avg Trade Duration': 17.39,\n",
       "  'Ticker': 'TSLA',\n",
       "  'Sector': None},\n",
       " {'Model': 'Model2 (RL)',\n",
       "  'Total Return ($)': 184.96,\n",
       "  'Total Return (%)': 75.75,\n",
       "  'Avg Daily Reward': 0.4853,\n",
       "  'Avg Daily Reward (%)': 0.1987,\n",
       "  '# Trades': 75,\n",
       "  'Cumulative Reward': 235.84,\n",
       "  'Sharpe Ratio': 0.0779,\n",
       "  'Max Drawdown': -80.78,\n",
       "  'Profit Factor': 1.46,\n",
       "  'Win/Loss Ratio': 1.2,\n",
       "  'Avg Trade Duration': 6.49,\n",
       "  'Ticker': 'TSLA',\n",
       "  'Sector': None},\n",
       " {'Model': 'Model3 (RL)',\n",
       "  'Total Return ($)': -119.76,\n",
       "  'Total Return (%)': -49.05,\n",
       "  'Avg Daily Reward': -0.3424,\n",
       "  'Avg Daily Reward (%)': -0.1402,\n",
       "  '# Trades': 56,\n",
       "  'Cumulative Reward': -166.42,\n",
       "  'Sharpe Ratio': -0.0461,\n",
       "  'Max Drawdown': -242.56,\n",
       "  'Profit Factor': 0.82,\n",
       "  'Win/Loss Ratio': 0.82,\n",
       "  'Avg Trade Duration': 8.7,\n",
       "  'Ticker': 'TSLA',\n",
       "  'Sector': None},\n",
       " {'Model': 'Model4 (RL)',\n",
       "  'Total Return ($)': 82.08,\n",
       "  'Total Return (%)': 33.61,\n",
       "  'Avg Daily Reward': 0.2311,\n",
       "  'Avg Daily Reward (%)': 0.0947,\n",
       "  '# Trades': 38,\n",
       "  'Cumulative Reward': 112.33,\n",
       "  'Sharpe Ratio': 0.0438,\n",
       "  'Max Drawdown': -76.33,\n",
       "  'Profit Factor': 1.22,\n",
       "  'Win/Loss Ratio': 1.34,\n",
       "  'Avg Trade Duration': 12.82,\n",
       "  'Ticker': 'TSLA',\n",
       "  'Sector': None},\n",
       " {'Model': 'Model5 (Rule Mean Reversion)',\n",
       "  'Total Return ($)': -25.54,\n",
       "  'Total Return (%)': -10.46,\n",
       "  'Avg Daily Reward': -0.594,\n",
       "  'Avg Daily Reward (%)': -0.2432,\n",
       "  '# Trades': 86,\n",
       "  'Cumulative Reward': -25.54,\n",
       "  'Sharpe Ratio': -0.0269,\n",
       "  'Max Drawdown': -131.45,\n",
       "  'Profit Factor': 0.92,\n",
       "  'Win/Loss Ratio': 1.69,\n",
       "  'Avg Trade Duration': 5.66,\n",
       "  'Ticker': 'TSLA',\n",
       "  'Sector': None},\n",
       " {'Model': 'Model6 (RL Mean Reversion)',\n",
       "  'Total Return ($)': 10.55,\n",
       "  'Total Return (%)': 4.32,\n",
       "  'Avg Daily Reward': 0.0217,\n",
       "  'Avg Daily Reward (%)': 0.0089,\n",
       "  '# Trades': 44,\n",
       "  'Cumulative Reward': 10.55,\n",
       "  'Sharpe Ratio': 0.0089,\n",
       "  'Max Drawdown': -36.43,\n",
       "  'Profit Factor': 1.12,\n",
       "  'Win/Loss Ratio': 1.0,\n",
       "  'Avg Trade Duration': 11.07,\n",
       "  'Ticker': 'TSLA',\n",
       "  'Sector': None},\n",
       " {'Model': 'Model0 (Rule SMA)',\n",
       "  'Total Return ($)': 84.54,\n",
       "  'Total Return (%)': 98.31,\n",
       "  'Avg Daily Reward': 2.6419,\n",
       "  'Avg Daily Reward (%)': 3.0721,\n",
       "  '# Trades': 63,\n",
       "  'Cumulative Reward': 84.54,\n",
       "  'Sharpe Ratio': 0.2651,\n",
       "  'Max Drawdown': -32.4,\n",
       "  'Profit Factor': 2.59,\n",
       "  'Win/Loss Ratio': 1.46,\n",
       "  'Avg Trade Duration': 7.73,\n",
       "  'Ticker': 'NVDA',\n",
       "  'Sector': None},\n",
       " {'Model': 'Model1 (RL)',\n",
       "  'Total Return ($)': 16.84,\n",
       "  'Total Return (%)': 19.58,\n",
       "  'Avg Daily Reward': -0.0582,\n",
       "  'Avg Daily Reward (%)': -0.0677,\n",
       "  '# Trades': 43,\n",
       "  'Cumulative Reward': -28.3,\n",
       "  'Sharpe Ratio': -0.0345,\n",
       "  'Max Drawdown': -44.88,\n",
       "  'Profit Factor': 0.84,\n",
       "  'Win/Loss Ratio': 0.88,\n",
       "  'Avg Trade Duration': 11.33,\n",
       "  'Ticker': 'NVDA',\n",
       "  'Sector': None},\n",
       " {'Model': 'Model2 (RL)',\n",
       "  'Total Return ($)': 47.52,\n",
       "  'Total Return (%)': 55.26,\n",
       "  'Avg Daily Reward': -0.0102,\n",
       "  'Avg Daily Reward (%)': -0.0119,\n",
       "  '# Trades': 41,\n",
       "  'Cumulative Reward': -4.96,\n",
       "  'Sharpe Ratio': -0.0064,\n",
       "  'Max Drawdown': -36.74,\n",
       "  'Profit Factor': 0.97,\n",
       "  'Win/Loss Ratio': 0.81,\n",
       "  'Avg Trade Duration': 11.88,\n",
       "  'Ticker': 'NVDA',\n",
       "  'Sector': None},\n",
       " {'Model': 'Model3 (RL)',\n",
       "  'Total Return ($)': 12.8,\n",
       "  'Total Return (%)': 14.89,\n",
       "  'Avg Daily Reward': -0.1051,\n",
       "  'Avg Daily Reward (%)': -0.1222,\n",
       "  '# Trades': 41,\n",
       "  'Cumulative Reward': -51.08,\n",
       "  'Sharpe Ratio': -0.0555,\n",
       "  'Max Drawdown': -64.57,\n",
       "  'Profit Factor': 0.77,\n",
       "  'Win/Loss Ratio': 0.66,\n",
       "  'Avg Trade Duration': 11.88,\n",
       "  'Ticker': 'NVDA',\n",
       "  'Sector': None},\n",
       " {'Model': 'Model4 (RL)',\n",
       "  'Total Return ($)': 56.6,\n",
       "  'Total Return (%)': 65.81,\n",
       "  'Avg Daily Reward': -0.0189,\n",
       "  'Avg Daily Reward (%)': -0.0219,\n",
       "  '# Trades': 17,\n",
       "  'Cumulative Reward': -9.17,\n",
       "  'Sharpe Ratio': -0.0133,\n",
       "  'Max Drawdown': -34.78,\n",
       "  'Profit Factor': 0.92,\n",
       "  'Win/Loss Ratio': 0.85,\n",
       "  'Avg Trade Duration': 28.65,\n",
       "  'Ticker': 'NVDA',\n",
       "  'Sector': None},\n",
       " {'Model': 'Model5 (Rule Mean Reversion)',\n",
       "  'Total Return ($)': 33.68,\n",
       "  'Total Return (%)': 39.16,\n",
       "  'Avg Daily Reward': 0.8214,\n",
       "  'Avg Daily Reward (%)': 0.9551,\n",
       "  '# Trades': 82,\n",
       "  'Cumulative Reward': 33.68,\n",
       "  'Sharpe Ratio': 0.1585,\n",
       "  'Max Drawdown': -18.68,\n",
       "  'Profit Factor': 1.54,\n",
       "  'Win/Loss Ratio': 2.15,\n",
       "  'Avg Trade Duration': 5.94,\n",
       "  'Ticker': 'NVDA',\n",
       "  'Sector': None},\n",
       " {'Model': 'Model6 (RL Mean Reversion)',\n",
       "  'Total Return ($)': 17.53,\n",
       "  'Total Return (%)': 20.39,\n",
       "  'Avg Daily Reward': 0.036,\n",
       "  'Avg Daily Reward (%)': 0.0419,\n",
       "  '# Trades': 81,\n",
       "  'Cumulative Reward': 17.53,\n",
       "  'Sharpe Ratio': 0.0302,\n",
       "  'Max Drawdown': -20.14,\n",
       "  'Profit Factor': 1.31,\n",
       "  'Win/Loss Ratio': 1.16,\n",
       "  'Avg Trade Duration': 6.01,\n",
       "  'Ticker': 'NVDA',\n",
       "  'Sector': None},\n",
       " {'Model': 'Model0 (Rule SMA)',\n",
       "  'Total Return ($)': 9.24,\n",
       "  'Total Return (%)': 6.08,\n",
       "  'Avg Daily Reward': 0.21,\n",
       "  'Avg Daily Reward (%)': 0.1381,\n",
       "  '# Trades': 87,\n",
       "  'Cumulative Reward': 9.24,\n",
       "  'Sharpe Ratio': 0.0338,\n",
       "  'Max Drawdown': -25.88,\n",
       "  'Profit Factor': 1.1,\n",
       "  'Win/Loss Ratio': 0.52,\n",
       "  'Avg Trade Duration': 5.6,\n",
       "  'Ticker': 'GOOGL',\n",
       "  'Sector': None},\n",
       " {'Model': 'Model1 (RL)',\n",
       "  'Total Return ($)': 4.71,\n",
       "  'Total Return (%)': 3.1,\n",
       "  'Avg Daily Reward': -0.022,\n",
       "  'Avg Daily Reward (%)': -0.0145,\n",
       "  '# Trades': 24,\n",
       "  'Cumulative Reward': -10.69,\n",
       "  'Sharpe Ratio': -0.0141,\n",
       "  'Max Drawdown': -40.64,\n",
       "  'Profit Factor': 0.92,\n",
       "  'Win/Loss Ratio': 0.88,\n",
       "  'Avg Trade Duration': 20.29,\n",
       "  'Ticker': 'GOOGL',\n",
       "  'Sector': None},\n",
       " {'Model': 'Model2 (RL)',\n",
       "  'Total Return ($)': 45.96,\n",
       "  'Total Return (%)': 30.22,\n",
       "  'Avg Daily Reward': 0.0434,\n",
       "  'Avg Daily Reward (%)': 0.0285,\n",
       "  '# Trades': 34,\n",
       "  'Cumulative Reward': 21.08,\n",
       "  'Sharpe Ratio': 0.0309,\n",
       "  'Max Drawdown': -17.94,\n",
       "  'Profit Factor': 1.18,\n",
       "  'Win/Loss Ratio': 0.89,\n",
       "  'Avg Trade Duration': 14.32,\n",
       "  'Ticker': 'GOOGL',\n",
       "  'Sector': None},\n",
       " {'Model': 'Model3 (RL)',\n",
       "  'Total Return ($)': 20.16,\n",
       "  'Total Return (%)': 13.26,\n",
       "  'Avg Daily Reward': -0.068,\n",
       "  'Avg Daily Reward (%)': -0.0447,\n",
       "  '# Trades': 64,\n",
       "  'Cumulative Reward': -33.05,\n",
       "  'Sharpe Ratio': -0.0352,\n",
       "  'Max Drawdown': -45.77,\n",
       "  'Profit Factor': 0.86,\n",
       "  'Win/Loss Ratio': 0.83,\n",
       "  'Avg Trade Duration': 7.61,\n",
       "  'Ticker': 'GOOGL',\n",
       "  'Sector': None},\n",
       " {'Model': 'Model4 (RL)',\n",
       "  'Total Return ($)': -8.77,\n",
       "  'Total Return (%)': -5.77,\n",
       "  'Avg Daily Reward': -0.0524,\n",
       "  'Avg Daily Reward (%)': -0.0345,\n",
       "  '# Trades': 18,\n",
       "  'Cumulative Reward': -25.46,\n",
       "  'Sharpe Ratio': -0.0708,\n",
       "  'Max Drawdown': -27.24,\n",
       "  'Profit Factor': 0.54,\n",
       "  'Win/Loss Ratio': 0.65,\n",
       "  'Avg Trade Duration': 27.06,\n",
       "  'Ticker': 'GOOGL',\n",
       "  'Sector': None},\n",
       " {'Model': 'Model5 (Rule Mean Reversion)',\n",
       "  'Total Return ($)': 52.36,\n",
       "  'Total Return (%)': 34.44,\n",
       "  'Avg Daily Reward': 1.7455,\n",
       "  'Avg Daily Reward (%)': 1.1479,\n",
       "  '# Trades': 60,\n",
       "  'Cumulative Reward': 52.36,\n",
       "  'Sharpe Ratio': 0.4488,\n",
       "  'Max Drawdown': -16.25,\n",
       "  'Profit Factor': 3.08,\n",
       "  'Win/Loss Ratio': 4.0,\n",
       "  'Avg Trade Duration': 8.12,\n",
       "  'Ticker': 'GOOGL',\n",
       "  'Sector': None},\n",
       " {'Model': 'Model6 (RL Mean Reversion)',\n",
       "  'Total Return ($)': 6.88,\n",
       "  'Total Return (%)': 4.52,\n",
       "  'Avg Daily Reward': 0.0142,\n",
       "  'Avg Daily Reward (%)': 0.0093,\n",
       "  '# Trades': 58,\n",
       "  'Cumulative Reward': 6.88,\n",
       "  'Sharpe Ratio': 0.0244,\n",
       "  'Max Drawdown': -19.09,\n",
       "  'Profit Factor': 1.29,\n",
       "  'Win/Loss Ratio': 1.42,\n",
       "  'Avg Trade Duration': 8.4,\n",
       "  'Ticker': 'GOOGL',\n",
       "  'Sector': None},\n",
       " {'Model': 'Model0 (Rule SMA)',\n",
       "  'Total Return ($)': 56.03,\n",
       "  'Total Return (%)': 33.2,\n",
       "  'Avg Daily Reward': 1.4008,\n",
       "  'Avg Daily Reward (%)': 0.8299,\n",
       "  '# Trades': 79,\n",
       "  'Cumulative Reward': 56.03,\n",
       "  'Sharpe Ratio': 0.1961,\n",
       "  'Max Drawdown': -25.48,\n",
       "  'Profit Factor': 1.68,\n",
       "  'Win/Loss Ratio': 0.82,\n",
       "  'Avg Trade Duration': 6.16,\n",
       "  'Ticker': 'AMZN',\n",
       "  'Sector': None},\n",
       " {'Model': 'Model1 (RL)',\n",
       "  'Total Return ($)': 15.03,\n",
       "  'Total Return (%)': 8.9,\n",
       "  'Avg Daily Reward': -0.1248,\n",
       "  'Avg Daily Reward (%)': -0.0739,\n",
       "  '# Trades': 31,\n",
       "  'Cumulative Reward': -60.63,\n",
       "  'Sharpe Ratio': -0.0608,\n",
       "  'Max Drawdown': -64.23,\n",
       "  'Profit Factor': 0.75,\n",
       "  'Win/Loss Ratio': 0.94,\n",
       "  'Avg Trade Duration': 15.71,\n",
       "  'Ticker': 'AMZN',\n",
       "  'Sector': None},\n",
       " {'Model': 'Model2 (RL)',\n",
       "  'Total Return ($)': 34.03,\n",
       "  'Total Return (%)': 20.16,\n",
       "  'Avg Daily Reward': 0.0226,\n",
       "  'Avg Daily Reward (%)': 0.0134,\n",
       "  '# Trades': 65,\n",
       "  'Cumulative Reward': 10.99,\n",
       "  'Sharpe Ratio': 0.0115,\n",
       "  'Max Drawdown': -37.03,\n",
       "  'Profit Factor': 1.05,\n",
       "  'Win/Loss Ratio': 0.97,\n",
       "  'Avg Trade Duration': 7.49,\n",
       "  'Ticker': 'AMZN',\n",
       "  'Sector': None},\n",
       " {'Model': 'Model3 (RL)',\n",
       "  'Total Return ($)': 57.39,\n",
       "  'Total Return (%)': 34.0,\n",
       "  'Avg Daily Reward': -0.002,\n",
       "  'Avg Daily Reward (%)': -0.0012,\n",
       "  '# Trades': 71,\n",
       "  'Cumulative Reward': -0.97,\n",
       "  'Sharpe Ratio': -0.0009,\n",
       "  'Max Drawdown': -54.73,\n",
       "  'Profit Factor': 1.0,\n",
       "  'Win/Loss Ratio': 1.01,\n",
       "  'Avg Trade Duration': 6.86,\n",
       "  'Ticker': 'AMZN',\n",
       "  'Sector': None},\n",
       " {'Model': 'Model4 (RL)',\n",
       "  'Total Return ($)': 38.49,\n",
       "  'Total Return (%)': 22.8,\n",
       "  'Avg Daily Reward': 0.0083,\n",
       "  'Avg Daily Reward (%)': 0.0049,\n",
       "  '# Trades': 24,\n",
       "  'Cumulative Reward': 4.04,\n",
       "  'Sharpe Ratio': 0.0059,\n",
       "  'Max Drawdown': -21.25,\n",
       "  'Profit Factor': 1.03,\n",
       "  'Win/Loss Ratio': 1.19,\n",
       "  'Avg Trade Duration': 20.29,\n",
       "  'Ticker': 'AMZN',\n",
       "  'Sector': None},\n",
       " {'Model': 'Model5 (Rule Mean Reversion)',\n",
       "  'Total Return ($)': 3.26,\n",
       "  'Total Return (%)': 1.93,\n",
       "  'Avg Daily Reward': 0.163,\n",
       "  'Avg Daily Reward (%)': 0.0966,\n",
       "  '# Trades': 40,\n",
       "  'Cumulative Reward': 3.26,\n",
       "  'Sharpe Ratio': 0.0177,\n",
       "  'Max Drawdown': -31.2,\n",
       "  'Profit Factor': 1.06,\n",
       "  'Win/Loss Ratio': 2.33,\n",
       "  'Avg Trade Duration': 12.18,\n",
       "  'Ticker': 'AMZN',\n",
       "  'Sector': None},\n",
       " {'Model': 'Model6 (RL Mean Reversion)',\n",
       "  'Total Return ($)': 12.58,\n",
       "  'Total Return (%)': 7.45,\n",
       "  'Avg Daily Reward': 0.0259,\n",
       "  'Avg Daily Reward (%)': 0.0153,\n",
       "  '# Trades': 48,\n",
       "  'Cumulative Reward': 12.58,\n",
       "  'Sharpe Ratio': 0.0318,\n",
       "  'Max Drawdown': -9.58,\n",
       "  'Profit Factor': 1.47,\n",
       "  'Win/Loss Ratio': 1.18,\n",
       "  'Avg Trade Duration': 10.15,\n",
       "  'Ticker': 'AMZN',\n",
       "  'Sector': None},\n",
       " {'Model': 'Model0 (Rule SMA)',\n",
       "  'Total Return ($)': 429.82,\n",
       "  'Total Return (%)': 96.51,\n",
       "  'Avg Daily Reward': 13.4319,\n",
       "  'Avg Daily Reward (%)': 3.0159,\n",
       "  '# Trades': 63,\n",
       "  'Cumulative Reward': 429.82,\n",
       "  'Sharpe Ratio': 0.4556,\n",
       "  'Max Drawdown': -25.08,\n",
       "  'Profit Factor': 5.95,\n",
       "  'Win/Loss Ratio': 1.29,\n",
       "  'Avg Trade Duration': 7.73,\n",
       "  'Ticker': 'META',\n",
       "  'Sector': None},\n",
       " {'Model': 'Model1 (RL)',\n",
       "  'Total Return ($)': 17.38,\n",
       "  'Total Return (%)': 3.9,\n",
       "  'Avg Daily Reward': -0.0519,\n",
       "  'Avg Daily Reward (%)': -0.0117,\n",
       "  '# Trades': 18,\n",
       "  'Cumulative Reward': -25.23,\n",
       "  'Sharpe Ratio': -0.0103,\n",
       "  'Max Drawdown': -119.86,\n",
       "  'Profit Factor': 0.95,\n",
       "  'Win/Loss Ratio': 1.1,\n",
       "  'Avg Trade Duration': 27.06,\n",
       "  'Ticker': 'META',\n",
       "  'Sector': None},\n",
       " {'Model': 'Model2 (RL)',\n",
       "  'Total Return ($)': 20.2,\n",
       "  'Total Return (%)': 4.54,\n",
       "  'Avg Daily Reward': -0.1529,\n",
       "  'Avg Daily Reward (%)': -0.0343,\n",
       "  '# Trades': 41,\n",
       "  'Cumulative Reward': -74.31,\n",
       "  'Sharpe Ratio': -0.0325,\n",
       "  'Max Drawdown': -118.95,\n",
       "  'Profit Factor': 0.86,\n",
       "  'Win/Loss Ratio': 1.05,\n",
       "  'Avg Trade Duration': 11.88,\n",
       "  'Ticker': 'META',\n",
       "  'Sector': None},\n",
       " {'Model': 'Model3 (RL)',\n",
       "  'Total Return ($)': 196.01,\n",
       "  'Total Return (%)': 44.01,\n",
       "  'Avg Daily Reward': 0.116,\n",
       "  'Avg Daily Reward (%)': 0.026,\n",
       "  '# Trades': 30,\n",
       "  'Cumulative Reward': 56.37,\n",
       "  'Sharpe Ratio': 0.0168,\n",
       "  'Max Drawdown': -107.61,\n",
       "  'Profit Factor': 1.09,\n",
       "  'Win/Loss Ratio': 1.06,\n",
       "  'Avg Trade Duration': 16.23,\n",
       "  'Ticker': 'META',\n",
       "  'Sector': None},\n",
       " {'Model': 'Model4 (RL)',\n",
       "  'Total Return ($)': 225.05,\n",
       "  'Total Return (%)': 50.53,\n",
       "  'Avg Daily Reward': -0.0675,\n",
       "  'Avg Daily Reward (%)': -0.0152,\n",
       "  '# Trades': 35,\n",
       "  'Cumulative Reward': -32.82,\n",
       "  'Sharpe Ratio': -0.0139,\n",
       "  'Max Drawdown': -118.08,\n",
       "  'Profit Factor': 0.94,\n",
       "  'Win/Loss Ratio': 1.09,\n",
       "  'Avg Trade Duration': 13.91,\n",
       "  'Ticker': 'META',\n",
       "  'Sector': None},\n",
       " {'Model': 'Model5 (Rule Mean Reversion)',\n",
       "  'Total Return ($)': 21.91,\n",
       "  'Total Return (%)': 4.92,\n",
       "  'Avg Daily Reward': 0.9527,\n",
       "  'Avg Daily Reward (%)': 0.2139,\n",
       "  '# Trades': 46,\n",
       "  'Cumulative Reward': 21.91,\n",
       "  'Sharpe Ratio': 0.0782,\n",
       "  'Max Drawdown': -56.78,\n",
       "  'Profit Factor': 1.25,\n",
       "  'Win/Loss Ratio': 3.6,\n",
       "  'Avg Trade Duration': 10.59,\n",
       "  'Ticker': 'META',\n",
       "  'Sector': None},\n",
       " {'Model': 'Model6 (RL Mean Reversion)',\n",
       "  'Total Return ($)': -85.5,\n",
       "  'Total Return (%)': -19.2,\n",
       "  'Avg Daily Reward': -0.1759,\n",
       "  'Avg Daily Reward (%)': -0.0395,\n",
       "  '# Trades': 24,\n",
       "  'Cumulative Reward': -85.5,\n",
       "  'Sharpe Ratio': -0.0588,\n",
       "  'Max Drawdown': -85.5,\n",
       "  'Profit Factor': 0.26,\n",
       "  'Win/Loss Ratio': 0.71,\n",
       "  'Avg Trade Duration': 20.29,\n",
       "  'Ticker': 'META',\n",
       "  'Sector': None}]"
      ]
     },
     "execution_count": 16,
     "metadata": {},
     "output_type": "execute_result"
    }
   ],
   "source": [
    "all_results"
   ]
  },
  {
   "cell_type": "code",
   "execution_count": 17,
   "metadata": {},
   "outputs": [],
   "source": [
    "df_all = pd.DataFrame(all_results)\n",
    "\n",
    "# Rank models within each ticker (by Total Return %)\n",
    "df_all['Rank'] = df_all.groupby('Ticker')[\"Total Return (%)\"].rank(ascending=False)\n",
    "\n",
    "# Optional: Round for nicer display\n",
    "df_all = df_all.round(2)\n"
   ]
  },
  {
   "cell_type": "code",
   "execution_count": null,
   "metadata": {},
   "outputs": [],
   "source": []
  },
  {
   "cell_type": "markdown",
   "metadata": {},
   "source": [
    "#### Summary: How often each model ranks in top 1 or 2"
   ]
  },
  {
   "cell_type": "code",
   "execution_count": 18,
   "metadata": {},
   "outputs": [
    {
     "data": {
      "text/html": [
       "<div>\n",
       "<style scoped>\n",
       "    .dataframe tbody tr th:only-of-type {\n",
       "        vertical-align: middle;\n",
       "    }\n",
       "\n",
       "    .dataframe tbody tr th {\n",
       "        vertical-align: top;\n",
       "    }\n",
       "\n",
       "    .dataframe thead th {\n",
       "        text-align: right;\n",
       "    }\n",
       "</style>\n",
       "<table border=\"1\" class=\"dataframe\">\n",
       "  <thead>\n",
       "    <tr style=\"text-align: right;\">\n",
       "      <th></th>\n",
       "      <th>Top 2 Count</th>\n",
       "      <th>Top 2 %</th>\n",
       "    </tr>\n",
       "    <tr>\n",
       "      <th>Model</th>\n",
       "      <th></th>\n",
       "      <th></th>\n",
       "    </tr>\n",
       "  </thead>\n",
       "  <tbody>\n",
       "    <tr>\n",
       "      <th>Model0 (Rule SMA)</th>\n",
       "      <td>5</td>\n",
       "      <td>71.4</td>\n",
       "    </tr>\n",
       "    <tr>\n",
       "      <th>Model2 (RL)</th>\n",
       "      <td>4</td>\n",
       "      <td>57.1</td>\n",
       "    </tr>\n",
       "    <tr>\n",
       "      <th>Model5 (Rule Mean Reversion)</th>\n",
       "      <td>2</td>\n",
       "      <td>28.6</td>\n",
       "    </tr>\n",
       "    <tr>\n",
       "      <th>Model4 (RL)</th>\n",
       "      <td>2</td>\n",
       "      <td>28.6</td>\n",
       "    </tr>\n",
       "    <tr>\n",
       "      <th>Model3 (RL)</th>\n",
       "      <td>1</td>\n",
       "      <td>14.3</td>\n",
       "    </tr>\n",
       "  </tbody>\n",
       "</table>\n",
       "</div>"
      ],
      "text/plain": [
       "                              Top 2 Count  Top 2 %\n",
       "Model                                             \n",
       "Model0 (Rule SMA)                       5     71.4\n",
       "Model2 (RL)                             4     57.1\n",
       "Model5 (Rule Mean Reversion)            2     28.6\n",
       "Model4 (RL)                             2     28.6\n",
       "Model3 (RL)                             1     14.3"
      ]
     },
     "metadata": {},
     "output_type": "display_data"
    }
   ],
   "source": [
    "top2_counts = df_all[df_all[\"Rank\"] <= 2][\"Model\"].value_counts().sort_values(ascending=False)\n",
    "top2_percent = (top2_counts / len(tickers) * 100).round(1)\n",
    "\n",
    "summary_table = pd.DataFrame({\n",
    "    \"Top 2 Count\": top2_counts,\n",
    "    \"Top 2 %\": top2_percent\n",
    "})\n",
    "display(summary_table)\n"
   ]
  },
  {
   "cell_type": "code",
   "execution_count": 19,
   "metadata": {},
   "outputs": [
    {
     "name": "stderr",
     "output_type": "stream",
     "text": [
      "C:\\Users\\JR\\AppData\\Local\\Temp\\ipykernel_11116\\667700075.py:14: FutureWarning: \n",
      "\n",
      "Passing `palette` without assigning `hue` is deprecated and will be removed in v0.14.0. Assign the `x` variable to `hue` and set `legend=False` for the same effect.\n",
      "\n",
      "  sns.boxplot(x='Model', y='Total Return (%)', data=df_all, palette=palette, showmeans=True,\n"
     ]
    },
    {
     "data": {
      "image/png": "[encoded data removed]",
      "text/plain": [
       "<Figure size 1200x600 with 1 Axes>"
      ]
     },
     "metadata": {},
     "output_type": "display_data"
    }
   ],
   "source": [
    "# visualization\n",
    "\n",
    "# Boxplot of Total Return % by Model\n",
    "plt.figure(figsize=(12, 6))\n",
    "palette = {\n",
    "    'Model0 (Rule SMA)': 'steelblue',\n",
    "    'Model5 (Rule Mean Reversion)': 'skyblue',\n",
    "    'Model1 (RL)': 'lightcoral',\n",
    "    'Model2 (RL)': 'indianred',\n",
    "    'Model3 (RL)': 'salmon',\n",
    "    'Model4 (RL)': 'firebrick',\n",
    "    'Model6 (RL Mean Reversion)': 'tomato'\n",
    "}\n",
    "sns.boxplot(x='Model', y='Total Return (%)', data=df_all, palette=palette, showmeans=True,\n",
    "            meanprops={\"marker\":\"o\", \"markerfacecolor\":\"black\", \"markeredgecolor\":\"black\"})\n",
    "plt.axhline(0, linestyle='--', color='gray', linewidth=1)\n",
    "plt.xticks(rotation=45)\n",
    "plt.title(\"Distribution of Total Return (%) by Model\")\n",
    "plt.grid(axis='y')\n",
    "plt.tight_layout()\n",
    "plt.show()"
   ]
  },
  {
   "cell_type": "code",
   "execution_count": 20,
   "metadata": {},
   "outputs": [
    {
     "data": {
      "image/png": "[encoded data removed]",
      "text/plain": [
       "<Figure size 1000x600 with 1 Axes>"
      ]
     },
     "metadata": {},
     "output_type": "display_data"
    }
   ],
   "source": [
    "plt.figure(figsize=(10, 6))\n",
    "sns.barplot(x=summary_table.index, y=\"Top 2 %\", data=summary_table)\n",
    "plt.title(\"Frequency of Models Ranking in Top 2 Across Tickers\")\n",
    "plt.ylabel(\"Top 2 Appearance (%)\")\n",
    "plt.xlabel(\"Model\")\n",
    "plt.xticks(rotation=45)\n",
    "plt.grid(axis='y')\n",
    "plt.tight_layout()\n",
    "plt.show()"
   ]
  },
  {
   "cell_type": "code",
   "execution_count": null,
   "metadata": {},
   "outputs": [],
   "source": []
  },
  {
   "cell_type": "markdown",
   "metadata": {},
   "source": [
    "## Part III: All Tickers In S&P 500 and sector analysis"
   ]
  },
  {
   "cell_type": "code",
   "execution_count": 21,
   "metadata": {},
   "outputs": [],
   "source": [
    "sp_df = pd.read_html('https://en.wikipedia.org/wiki/List_of_S%26P_500_companies')[0]\n",
    "sp_df['Symbol'] = sp_df['Symbol'].str.replace(r'\\.', '-', regex=True)\n",
    "sp_df = sp_df[['Symbol', 'Security', 'GICS Sector']]"
   ]
  },
  {
   "cell_type": "code",
   "execution_count": 22,
   "metadata": {},
   "outputs": [
    {
     "name": "stderr",
     "output_type": "stream",
     "text": [
      "[*********************100%***********************]  1 of 1 completed\n"
     ]
    },
    {
     "name": "stdout",
     "output_type": "stream",
     "text": [
      "Downloading data for MMM...\n",
      "Running models for MMM...\n"
     ]
    },
    {
     "name": "stderr",
     "output_type": "stream",
     "text": [
      "[*********************100%***********************]  1 of 1 completed"
     ]
    },
    {
     "name": "stdout",
     "output_type": "stream",
     "text": [
      " Finished MMM\n",
      "Downloading data for AOS...\n",
      "Running models for AOS...\n"
     ]
    },
    {
     "name": "stderr",
     "output_type": "stream",
     "text": [
      "\n",
      "[*********************100%***********************]  1 of 1 completed"
     ]
    },
    {
     "name": "stdout",
     "output_type": "stream",
     "text": [
      " Finished AOS\n",
      "Downloading data for ABT...\n",
      "Running models for ABT...\n"
     ]
    },
    {
     "name": "stderr",
     "output_type": "stream",
     "text": [
      "\n",
      "[*********************100%***********************]  1 of 1 completed"
     ]
    },
    {
     "name": "stdout",
     "output_type": "stream",
     "text": [
      " Finished ABT\n",
      "Downloading data for ABBV...\n",
      "Running models for ABBV...\n"
     ]
    },
    {
     "name": "stderr",
     "output_type": "stream",
     "text": [
      "\n",
      "[*********************100%***********************]  1 of 1 completed"
     ]
    },
    {
     "name": "stdout",
     "output_type": "stream",
     "text": [
      " Finished ABBV\n",
      "Downloading data for ACN...\n",
      "Running models for ACN...\n"
     ]
    },
    {
     "name": "stderr",
     "output_type": "stream",
     "text": [
      "\n",
      "[*********************100%***********************]  1 of 1 completed"
     ]
    },
    {
     "name": "stdout",
     "output_type": "stream",
     "text": [
      " Finished ACN\n",
      "Downloading data for ADBE...\n",
      "Running models for ADBE...\n"
     ]
    },
    {
     "name": "stderr",
     "output_type": "stream",
     "text": [
      "\n",
      "[*********************100%***********************]  1 of 1 completed"
     ]
    },
    {
     "name": "stdout",
     "output_type": "stream",
     "text": [
      " Finished ADBE\n",
      "Downloading data for AMD...\n",
      "Running models for AMD...\n"
     ]
    },
    {
     "name": "stderr",
     "output_type": "stream",
     "text": [
      "\n",
      "[*********************100%***********************]  1 of 1 completed"
     ]
    },
    {
     "name": "stdout",
     "output_type": "stream",
     "text": [
      " Finished AMD\n",
      "Downloading data for AES...\n",
      "Running models for AES...\n"
     ]
    },
    {
     "name": "stderr",
     "output_type": "stream",
     "text": [
      "\n",
      "[*********************100%***********************]  1 of 1 completed"
     ]
    },
    {
     "name": "stdout",
     "output_type": "stream",
     "text": [
      " Finished AES\n",
      "Downloading data for AFL...\n",
      "Running models for AFL...\n"
     ]
    },
    {
     "name": "stderr",
     "output_type": "stream",
     "text": [
      "\n",
      "[*********************100%***********************]  1 of 1 completed"
     ]
    },
    {
     "name": "stdout",
     "output_type": "stream",
     "text": [
      " Finished AFL\n",
      "Downloading data for A...\n",
      "Running models for A...\n"
     ]
    },
    {
     "name": "stderr",
     "output_type": "stream",
     "text": [
      "\n",
      "[*********************100%***********************]  1 of 1 completed"
     ]
    },
    {
     "name": "stdout",
     "output_type": "stream",
     "text": [
      " Finished A\n",
      "Downloading data for APD...\n",
      "Running models for APD...\n"
     ]
    },
    {
     "name": "stderr",
     "output_type": "stream",
     "text": [
      "\n",
      "[*********************100%***********************]  1 of 1 completed"
     ]
    },
    {
     "name": "stdout",
     "output_type": "stream",
     "text": [
      " Finished APD\n",
      "Downloading data for ABNB...\n",
      "Running models for ABNB...\n"
     ]
    },
    {
     "name": "stderr",
     "output_type": "stream",
     "text": [
      "\n",
      "[*********************100%***********************]  1 of 1 completed"
     ]
    },
    {
     "name": "stdout",
     "output_type": "stream",
     "text": [
      " Finished ABNB\n",
      "Downloading data for AKAM...\n",
      "Running models for AKAM...\n"
     ]
    },
    {
     "name": "stderr",
     "output_type": "stream",
     "text": [
      "\n",
      "[*********************100%***********************]  1 of 1 completed"
     ]
    },
    {
     "name": "stdout",
     "output_type": "stream",
     "text": [
      " Finished AKAM\n",
      "Downloading data for ALB...\n",
      "Running models for ALB...\n"
     ]
    },
    {
     "name": "stderr",
     "output_type": "stream",
     "text": [
      "\n",
      "[*********************100%***********************]  1 of 1 completed"
     ]
    },
    {
     "name": "stdout",
     "output_type": "stream",
     "text": [
      " Finished ALB\n",
      "Downloading data for ARE...\n",
      "Running models for ARE...\n"
     ]
    },
    {
     "name": "stderr",
     "output_type": "stream",
     "text": [
      "\n",
      "[*********************100%***********************]  1 of 1 completed"
     ]
    },
    {
     "name": "stdout",
     "output_type": "stream",
     "text": [
      " Finished ARE\n",
      "Downloading data for ALGN...\n",
      "Running models for ALGN...\n"
     ]
    },
    {
     "name": "stderr",
     "output_type": "stream",
     "text": [
      "\n",
      "[*********************100%***********************]  1 of 1 completed"
     ]
    },
    {
     "name": "stdout",
     "output_type": "stream",
     "text": [
      " Finished ALGN\n",
      "Downloading data for ALLE...\n",
      "Running models for ALLE...\n"
     ]
    },
    {
     "name": "stderr",
     "output_type": "stream",
     "text": [
      "\n",
      "[*********************100%***********************]  1 of 1 completed"
     ]
    },
    {
     "name": "stdout",
     "output_type": "stream",
     "text": [
      " Finished ALLE\n",
      "Downloading data for LNT...\n",
      "Running models for LNT...\n"
     ]
    },
    {
     "name": "stderr",
     "output_type": "stream",
     "text": [
      "\n",
      "[*********************100%***********************]  1 of 1 completed"
     ]
    },
    {
     "name": "stdout",
     "output_type": "stream",
     "text": [
      " Finished LNT\n",
      "Downloading data for ALL...\n",
      "Running models for ALL...\n"
     ]
    },
    {
     "name": "stderr",
     "output_type": "stream",
     "text": [
      "\n",
      "[*********************100%***********************]  1 of 1 completed"
     ]
    },
    {
     "name": "stdout",
     "output_type": "stream",
     "text": [
      " Finished ALL\n",
      "Downloading data for GOOGL...\n",
      "Running models for GOOGL...\n"
     ]
    },
    {
     "name": "stderr",
     "output_type": "stream",
     "text": [
      "\n",
      "[*********************100%***********************]  1 of 1 completed"
     ]
    },
    {
     "name": "stdout",
     "output_type": "stream",
     "text": [
      " Finished GOOGL\n",
      "Downloading data for GOOG...\n",
      "Running models for GOOG...\n"
     ]
    },
    {
     "name": "stderr",
     "output_type": "stream",
     "text": [
      "\n",
      "  4%|▍         | 21/503 [00:14<05:40,  1.42it/s]"
     ]
    },
    {
     "name": "stdout",
     "output_type": "stream",
     "text": [
      " Finished GOOG\n",
      "Downloading data for MO...\n"
     ]
    },
    {
     "name": "stderr",
     "output_type": "stream",
     "text": [
      "[*********************100%***********************]  1 of 1 completed\n"
     ]
    },
    {
     "name": "stdout",
     "output_type": "stream",
     "text": [
      "Running models for MO...\n"
     ]
    },
    {
     "name": "stderr",
     "output_type": "stream",
     "text": [
      "[*********************100%***********************]  1 of 1 completed"
     ]
    },
    {
     "name": "stdout",
     "output_type": "stream",
     "text": [
      " Finished MO\n",
      "Downloading data for AMZN...\n",
      "Running models for AMZN...\n"
     ]
    },
    {
     "name": "stderr",
     "output_type": "stream",
     "text": [
      "\n",
      "[*********************100%***********************]  1 of 1 completed"
     ]
    },
    {
     "name": "stdout",
     "output_type": "stream",
     "text": [
      " Finished AMZN\n",
      "Downloading data for AMCR...\n",
      "Running models for AMCR...\n"
     ]
    },
    {
     "name": "stderr",
     "output_type": "stream",
     "text": [
      "\n",
      "[*********************100%***********************]  1 of 1 completed"
     ]
    },
    {
     "name": "stdout",
     "output_type": "stream",
     "text": [
      " Finished AMCR\n",
      "Downloading data for AEE...\n",
      "Running models for AEE...\n"
     ]
    },
    {
     "name": "stderr",
     "output_type": "stream",
     "text": [
      "\n",
      "  5%|▍         | 25/503 [00:16<05:38,  1.41it/s]"
     ]
    },
    {
     "name": "stdout",
     "output_type": "stream",
     "text": [
      " Finished AEE\n",
      "Downloading data for AEP...\n"
     ]
    },
    {
     "name": "stderr",
     "output_type": "stream",
     "text": [
      "[*********************100%***********************]  1 of 1 completed\n"
     ]
    },
    {
     "name": "stdout",
     "output_type": "stream",
     "text": [
      "Running models for AEP...\n"
     ]
    },
    {
     "name": "stderr",
     "output_type": "stream",
     "text": [
      "[*********************100%***********************]  1 of 1 completed"
     ]
    },
    {
     "name": "stdout",
     "output_type": "stream",
     "text": [
      " Finished AEP\n",
      "Downloading data for AXP...\n",
      "Running models for AXP...\n"
     ]
    },
    {
     "name": "stderr",
     "output_type": "stream",
     "text": [
      "\n",
      "[*********************100%***********************]  1 of 1 completed"
     ]
    },
    {
     "name": "stdout",
     "output_type": "stream",
     "text": [
      " Finished AXP\n",
      "Downloading data for AIG...\n",
      "Running models for AIG...\n"
     ]
    },
    {
     "name": "stderr",
     "output_type": "stream",
     "text": [
      "\n",
      "[*********************100%***********************]  1 of 1 completed"
     ]
    },
    {
     "name": "stdout",
     "output_type": "stream",
     "text": [
      " Finished AIG\n",
      "Downloading data for AMT...\n",
      "Running models for AMT...\n"
     ]
    },
    {
     "name": "stderr",
     "output_type": "stream",
     "text": [
      "\n",
      "[*********************100%***********************]  1 of 1 completed"
     ]
    },
    {
     "name": "stdout",
     "output_type": "stream",
     "text": [
      " Finished AMT\n",
      "Downloading data for AWK...\n",
      "Running models for AWK...\n"
     ]
    },
    {
     "name": "stderr",
     "output_type": "stream",
     "text": [
      "\n",
      "[*********************100%***********************]  1 of 1 completed"
     ]
    },
    {
     "name": "stdout",
     "output_type": "stream",
     "text": [
      " Finished AWK\n",
      "Downloading data for AMP...\n",
      "Running models for AMP...\n"
     ]
    },
    {
     "name": "stderr",
     "output_type": "stream",
     "text": [
      "\n",
      "[*********************100%***********************]  1 of 1 completed"
     ]
    },
    {
     "name": "stdout",
     "output_type": "stream",
     "text": [
      " Finished AMP\n",
      "Downloading data for AME...\n",
      "Running models for AME...\n"
     ]
    },
    {
     "name": "stderr",
     "output_type": "stream",
     "text": [
      "\n",
      "[*********************100%***********************]  1 of 1 completed"
     ]
    },
    {
     "name": "stdout",
     "output_type": "stream",
     "text": [
      " Finished AME\n",
      "Downloading data for AMGN...\n",
      "Running models for AMGN...\n"
     ]
    },
    {
     "name": "stderr",
     "output_type": "stream",
     "text": [
      "\n",
      "[*********************100%***********************]  1 of 1 completed"
     ]
    },
    {
     "name": "stdout",
     "output_type": "stream",
     "text": [
      " Finished AMGN\n",
      "Downloading data for APH...\n",
      "Running models for APH...\n"
     ]
    },
    {
     "name": "stderr",
     "output_type": "stream",
     "text": [
      "\n",
      "[*********************100%***********************]  1 of 1 completed"
     ]
    },
    {
     "name": "stdout",
     "output_type": "stream",
     "text": [
      " Finished APH\n",
      "Downloading data for ADI...\n",
      "Running models for ADI...\n"
     ]
    },
    {
     "name": "stderr",
     "output_type": "stream",
     "text": [
      "\n",
      "[*********************100%***********************]  1 of 1 completed"
     ]
    },
    {
     "name": "stdout",
     "output_type": "stream",
     "text": [
      " Finished ADI\n",
      "Downloading data for ANSS...\n",
      "Running models for ANSS...\n"
     ]
    },
    {
     "name": "stderr",
     "output_type": "stream",
     "text": [
      "\n",
      "[*********************100%***********************]  1 of 1 completed"
     ]
    },
    {
     "name": "stdout",
     "output_type": "stream",
     "text": [
      " Finished ANSS\n",
      "Downloading data for AON...\n",
      "Running models for AON...\n"
     ]
    },
    {
     "name": "stderr",
     "output_type": "stream",
     "text": [
      "\n",
      "[*********************100%***********************]  1 of 1 completed"
     ]
    },
    {
     "name": "stdout",
     "output_type": "stream",
     "text": [
      " Finished AON\n",
      "Downloading data for APA...\n",
      "Running models for APA...\n"
     ]
    },
    {
     "name": "stderr",
     "output_type": "stream",
     "text": [
      "\n",
      "[*********************100%***********************]  1 of 1 completed"
     ]
    },
    {
     "name": "stdout",
     "output_type": "stream",
     "text": [
      " Finished APA\n",
      "Downloading data for APO...\n",
      "Running models for APO...\n"
     ]
    },
    {
     "name": "stderr",
     "output_type": "stream",
     "text": [
      "\n",
      "[*********************100%***********************]  1 of 1 completed"
     ]
    },
    {
     "name": "stdout",
     "output_type": "stream",
     "text": [
      " Finished APO\n",
      "Downloading data for AAPL...\n",
      "Running models for AAPL...\n"
     ]
    },
    {
     "name": "stderr",
     "output_type": "stream",
     "text": [
      "\n",
      "[*********************100%***********************]  1 of 1 completed"
     ]
    },
    {
     "name": "stdout",
     "output_type": "stream",
     "text": [
      " Finished AAPL\n",
      "Downloading data for AMAT...\n",
      "Running models for AMAT...\n"
     ]
    },
    {
     "name": "stderr",
     "output_type": "stream",
     "text": [
      "\n",
      "[*********************100%***********************]  1 of 1 completed"
     ]
    },
    {
     "name": "stdout",
     "output_type": "stream",
     "text": [
      " Finished AMAT\n",
      "Downloading data for APTV...\n",
      "Running models for APTV...\n"
     ]
    },
    {
     "name": "stderr",
     "output_type": "stream",
     "text": [
      "\n",
      "[*********************100%***********************]  1 of 1 completed"
     ]
    },
    {
     "name": "stdout",
     "output_type": "stream",
     "text": [
      " Finished APTV\n",
      "Downloading data for ACGL...\n",
      "Running models for ACGL...\n"
     ]
    },
    {
     "name": "stderr",
     "output_type": "stream",
     "text": [
      "\n",
      "[*********************100%***********************]  1 of 1 completed"
     ]
    },
    {
     "name": "stdout",
     "output_type": "stream",
     "text": [
      " Finished ACGL\n",
      "Downloading data for ADM...\n"
     ]
    },
    {
     "name": "stderr",
     "output_type": "stream",
     "text": [
      "\n"
     ]
    },
    {
     "name": "stdout",
     "output_type": "stream",
     "text": [
      "Running models for ADM...\n"
     ]
    },
    {
     "name": "stderr",
     "output_type": "stream",
     "text": [
      "[*********************100%***********************]  1 of 1 completed"
     ]
    },
    {
     "name": "stdout",
     "output_type": "stream",
     "text": [
      " Finished ADM\n",
      "Downloading data for ANET...\n"
     ]
    },
    {
     "name": "stderr",
     "output_type": "stream",
     "text": [
      "\n"
     ]
    },
    {
     "name": "stdout",
     "output_type": "stream",
     "text": [
      "Running models for ANET...\n"
     ]
    },
    {
     "name": "stderr",
     "output_type": "stream",
     "text": [
      "[*********************100%***********************]  1 of 1 completed"
     ]
    },
    {
     "name": "stdout",
     "output_type": "stream",
     "text": [
      " Finished ANET\n",
      "Downloading data for AJG...\n",
      "Running models for AJG...\n"
     ]
    },
    {
     "name": "stderr",
     "output_type": "stream",
     "text": [
      "\n",
      "[*********************100%***********************]  1 of 1 completed"
     ]
    },
    {
     "name": "stdout",
     "output_type": "stream",
     "text": [
      " Finished AJG\n",
      "Downloading data for AIZ...\n",
      "Running models for AIZ...\n"
     ]
    },
    {
     "name": "stderr",
     "output_type": "stream",
     "text": [
      "\n",
      "[*********************100%***********************]  1 of 1 completed"
     ]
    },
    {
     "name": "stdout",
     "output_type": "stream",
     "text": [
      " Finished AIZ\n",
      "Downloading data for T...\n",
      "Running models for T...\n"
     ]
    },
    {
     "name": "stderr",
     "output_type": "stream",
     "text": [
      "\n",
      "[*********************100%***********************]  1 of 1 completed"
     ]
    },
    {
     "name": "stdout",
     "output_type": "stream",
     "text": [
      " Finished T\n",
      "Downloading data for ATO...\n"
     ]
    },
    {
     "name": "stderr",
     "output_type": "stream",
     "text": [
      "\n"
     ]
    },
    {
     "name": "stdout",
     "output_type": "stream",
     "text": [
      "Running models for ATO...\n"
     ]
    },
    {
     "name": "stderr",
     "output_type": "stream",
     "text": [
      "[*********************100%***********************]  1 of 1 completed"
     ]
    },
    {
     "name": "stdout",
     "output_type": "stream",
     "text": [
      " Finished ATO\n",
      "Downloading data for ADSK...\n",
      "Running models for ADSK...\n"
     ]
    },
    {
     "name": "stderr",
     "output_type": "stream",
     "text": [
      "\n",
      "[*********************100%***********************]  1 of 1 completed"
     ]
    },
    {
     "name": "stdout",
     "output_type": "stream",
     "text": [
      " Finished ADSK\n",
      "Downloading data for ADP...\n"
     ]
    },
    {
     "name": "stderr",
     "output_type": "stream",
     "text": [
      "\n"
     ]
    },
    {
     "name": "stdout",
     "output_type": "stream",
     "text": [
      "Running models for ADP...\n"
     ]
    },
    {
     "name": "stderr",
     "output_type": "stream",
     "text": [
      "[*********************100%***********************]  1 of 1 completed"
     ]
    },
    {
     "name": "stdout",
     "output_type": "stream",
     "text": [
      " Finished ADP\n",
      "Downloading data for AZO...\n",
      "Running models for AZO...\n"
     ]
    },
    {
     "name": "stderr",
     "output_type": "stream",
     "text": [
      "\n",
      "[*********************100%***********************]  1 of 1 completed"
     ]
    },
    {
     "name": "stdout",
     "output_type": "stream",
     "text": [
      " Finished AZO\n",
      "Downloading data for AVB...\n"
     ]
    },
    {
     "name": "stderr",
     "output_type": "stream",
     "text": [
      "\n"
     ]
    },
    {
     "name": "stdout",
     "output_type": "stream",
     "text": [
      "Running models for AVB...\n"
     ]
    },
    {
     "name": "stderr",
     "output_type": "stream",
     "text": [
      "[*********************100%***********************]  1 of 1 completed"
     ]
    },
    {
     "name": "stdout",
     "output_type": "stream",
     "text": [
      " Finished AVB\n",
      "Downloading data for AVY...\n",
      "Running models for AVY...\n"
     ]
    },
    {
     "name": "stderr",
     "output_type": "stream",
     "text": [
      "\n",
      "[*********************100%***********************]  1 of 1 completed"
     ]
    },
    {
     "name": "stdout",
     "output_type": "stream",
     "text": [
      " Finished AVY\n",
      "Downloading data for AXON...\n",
      "Running models for AXON...\n"
     ]
    },
    {
     "name": "stderr",
     "output_type": "stream",
     "text": [
      "\n",
      "[*********************100%***********************]  1 of 1 completed"
     ]
    },
    {
     "name": "stdout",
     "output_type": "stream",
     "text": [
      " Finished AXON\n",
      "Downloading data for BKR...\n",
      "Running models for BKR...\n"
     ]
    },
    {
     "name": "stderr",
     "output_type": "stream",
     "text": [
      "\n",
      "[*********************100%***********************]  1 of 1 completed"
     ]
    },
    {
     "name": "stdout",
     "output_type": "stream",
     "text": [
      " Finished BKR\n",
      "Downloading data for BALL...\n",
      "Running models for BALL...\n"
     ]
    },
    {
     "name": "stderr",
     "output_type": "stream",
     "text": [
      "\n",
      "[*********************100%***********************]  1 of 1 completed"
     ]
    },
    {
     "name": "stdout",
     "output_type": "stream",
     "text": [
      " Finished BALL\n",
      "Downloading data for BAC...\n",
      "Running models for BAC...\n"
     ]
    },
    {
     "name": "stderr",
     "output_type": "stream",
     "text": [
      "\n",
      "[*********************100%***********************]  1 of 1 completed"
     ]
    },
    {
     "name": "stdout",
     "output_type": "stream",
     "text": [
      " Finished BAC\n",
      "Downloading data for BAX...\n",
      "Running models for BAX...\n"
     ]
    },
    {
     "name": "stderr",
     "output_type": "stream",
     "text": [
      "\n",
      "[*********************100%***********************]  1 of 1 completed"
     ]
    },
    {
     "name": "stdout",
     "output_type": "stream",
     "text": [
      " Finished BAX\n",
      "Downloading data for BDX...\n",
      "Running models for BDX...\n"
     ]
    },
    {
     "name": "stderr",
     "output_type": "stream",
     "text": [
      "\n",
      "[*********************100%***********************]  1 of 1 completed"
     ]
    },
    {
     "name": "stdout",
     "output_type": "stream",
     "text": [
      " Finished BDX\n",
      "Downloading data for BRK-B...\n",
      "Running models for BRK-B...\n"
     ]
    },
    {
     "name": "stderr",
     "output_type": "stream",
     "text": [
      "\n",
      "[*********************100%***********************]  1 of 1 completed"
     ]
    },
    {
     "name": "stdout",
     "output_type": "stream",
     "text": [
      " Finished BRK-B\n",
      "Downloading data for BBY...\n",
      "Running models for BBY...\n"
     ]
    },
    {
     "name": "stderr",
     "output_type": "stream",
     "text": [
      "\n",
      "[*********************100%***********************]  1 of 1 completed"
     ]
    },
    {
     "name": "stdout",
     "output_type": "stream",
     "text": [
      " Finished BBY\n",
      "Downloading data for TECH...\n",
      "Running models for TECH...\n"
     ]
    },
    {
     "name": "stderr",
     "output_type": "stream",
     "text": [
      "\n",
      "[*********************100%***********************]  1 of 1 completed"
     ]
    },
    {
     "name": "stdout",
     "output_type": "stream",
     "text": [
      " Finished TECH\n",
      "Downloading data for BIIB...\n",
      "Running models for BIIB...\n"
     ]
    },
    {
     "name": "stderr",
     "output_type": "stream",
     "text": [
      "\n",
      "[*********************100%***********************]  1 of 1 completed"
     ]
    },
    {
     "name": "stdout",
     "output_type": "stream",
     "text": [
      " Finished BIIB\n",
      "Downloading data for BLK...\n",
      "Running models for BLK...\n"
     ]
    },
    {
     "name": "stderr",
     "output_type": "stream",
     "text": [
      "\n",
      " 13%|█▎        | 65/503 [00:55<05:19,  1.37it/s]"
     ]
    },
    {
     "name": "stdout",
     "output_type": "stream",
     "text": [
      " Finished BLK\n",
      "Downloading data for BX...\n"
     ]
    },
    {
     "name": "stderr",
     "output_type": "stream",
     "text": [
      "[*********************100%***********************]  1 of 1 completed\n"
     ]
    },
    {
     "name": "stdout",
     "output_type": "stream",
     "text": [
      "Running models for BX...\n"
     ]
    },
    {
     "name": "stderr",
     "output_type": "stream",
     "text": [
      "[*********************100%***********************]  1 of 1 completed"
     ]
    },
    {
     "name": "stdout",
     "output_type": "stream",
     "text": [
      " Finished BX\n",
      "Downloading data for BK...\n",
      "Running models for BK...\n"
     ]
    },
    {
     "name": "stderr",
     "output_type": "stream",
     "text": [
      "\n",
      "[*********************100%***********************]  1 of 1 completed"
     ]
    },
    {
     "name": "stdout",
     "output_type": "stream",
     "text": [
      " Finished BK\n",
      "Downloading data for BA...\n",
      "Running models for BA...\n"
     ]
    },
    {
     "name": "stderr",
     "output_type": "stream",
     "text": [
      "\n",
      "[*********************100%***********************]  1 of 1 completed"
     ]
    },
    {
     "name": "stdout",
     "output_type": "stream",
     "text": [
      " Finished BA\n",
      "Downloading data for BKNG...\n",
      "Running models for BKNG...\n"
     ]
    },
    {
     "name": "stderr",
     "output_type": "stream",
     "text": [
      "\n",
      "[*********************100%***********************]  1 of 1 completed"
     ]
    },
    {
     "name": "stdout",
     "output_type": "stream",
     "text": [
      " Finished BKNG\n",
      "Downloading data for BSX...\n",
      "Running models for BSX...\n"
     ]
    },
    {
     "name": "stderr",
     "output_type": "stream",
     "text": [
      "\n",
      "[*********************100%***********************]  1 of 1 completed"
     ]
    },
    {
     "name": "stdout",
     "output_type": "stream",
     "text": [
      " Finished BSX\n",
      "Downloading data for BMY...\n"
     ]
    },
    {
     "name": "stderr",
     "output_type": "stream",
     "text": [
      "\n"
     ]
    },
    {
     "name": "stdout",
     "output_type": "stream",
     "text": [
      "Running models for BMY...\n"
     ]
    },
    {
     "name": "stderr",
     "output_type": "stream",
     "text": [
      "[*********************100%***********************]  1 of 1 completed"
     ]
    },
    {
     "name": "stdout",
     "output_type": "stream",
     "text": [
      " Finished BMY\n",
      "Downloading data for AVGO...\n",
      "Running models for AVGO...\n"
     ]
    },
    {
     "name": "stderr",
     "output_type": "stream",
     "text": [
      "\n",
      "[*********************100%***********************]  1 of 1 completed"
     ]
    },
    {
     "name": "stdout",
     "output_type": "stream",
     "text": [
      " Finished AVGO\n",
      "Downloading data for BR...\n",
      "Running models for BR...\n"
     ]
    },
    {
     "name": "stderr",
     "output_type": "stream",
     "text": [
      "\n",
      "[*********************100%***********************]  1 of 1 completed"
     ]
    },
    {
     "name": "stdout",
     "output_type": "stream",
     "text": [
      " Finished BR\n",
      "Downloading data for BRO...\n",
      "Running models for BRO...\n"
     ]
    },
    {
     "name": "stderr",
     "output_type": "stream",
     "text": [
      "\n",
      "[*********************100%***********************]  1 of 1 completed"
     ]
    },
    {
     "name": "stdout",
     "output_type": "stream",
     "text": [
      " Finished BRO\n",
      "Downloading data for BF-B...\n",
      "Running models for BF-B...\n"
     ]
    },
    {
     "name": "stderr",
     "output_type": "stream",
     "text": [
      "\n",
      "[*********************100%***********************]  1 of 1 completed"
     ]
    },
    {
     "name": "stdout",
     "output_type": "stream",
     "text": [
      " Finished BF-B\n",
      "Downloading data for BLDR...\n",
      "Running models for BLDR...\n"
     ]
    },
    {
     "name": "stderr",
     "output_type": "stream",
     "text": [
      "\n",
      "[*********************100%***********************]  1 of 1 completed"
     ]
    },
    {
     "name": "stdout",
     "output_type": "stream",
     "text": [
      " Finished BLDR\n",
      "Downloading data for BG...\n",
      "Running models for BG...\n"
     ]
    },
    {
     "name": "stderr",
     "output_type": "stream",
     "text": [
      "\n",
      "[*********************100%***********************]  1 of 1 completed"
     ]
    },
    {
     "name": "stdout",
     "output_type": "stream",
     "text": [
      " Finished BG\n",
      "Downloading data for BXP...\n",
      "Running models for BXP...\n"
     ]
    },
    {
     "name": "stderr",
     "output_type": "stream",
     "text": [
      "\n",
      "[*********************100%***********************]  1 of 1 completed"
     ]
    },
    {
     "name": "stdout",
     "output_type": "stream",
     "text": [
      " Finished BXP\n",
      "Downloading data for CHRW...\n",
      "Running models for CHRW...\n"
     ]
    },
    {
     "name": "stderr",
     "output_type": "stream",
     "text": [
      "\n",
      "[*********************100%***********************]  1 of 1 completed"
     ]
    },
    {
     "name": "stdout",
     "output_type": "stream",
     "text": [
      " Finished CHRW\n",
      "Downloading data for CDNS...\n",
      "Running models for CDNS...\n"
     ]
    },
    {
     "name": "stderr",
     "output_type": "stream",
     "text": [
      "\n",
      "[*********************100%***********************]  1 of 1 completed"
     ]
    },
    {
     "name": "stdout",
     "output_type": "stream",
     "text": [
      " Finished CDNS\n",
      "Downloading data for CZR...\n",
      "Running models for CZR...\n"
     ]
    },
    {
     "name": "stderr",
     "output_type": "stream",
     "text": [
      "\n",
      "[*********************100%***********************]  1 of 1 completed"
     ]
    },
    {
     "name": "stdout",
     "output_type": "stream",
     "text": [
      " Finished CZR\n",
      "Downloading data for CPT...\n",
      "Running models for CPT...\n"
     ]
    },
    {
     "name": "stderr",
     "output_type": "stream",
     "text": [
      "\n",
      "[*********************100%***********************]  1 of 1 completed"
     ]
    },
    {
     "name": "stdout",
     "output_type": "stream",
     "text": [
      " Finished CPT\n",
      "Downloading data for CPB...\n",
      "Running models for CPB...\n"
     ]
    },
    {
     "name": "stderr",
     "output_type": "stream",
     "text": [
      "\n",
      "[*********************100%***********************]  1 of 1 completed"
     ]
    },
    {
     "name": "stdout",
     "output_type": "stream",
     "text": [
      " Finished CPB\n",
      "Downloading data for COF...\n",
      "Running models for COF...\n"
     ]
    },
    {
     "name": "stderr",
     "output_type": "stream",
     "text": [
      "\n",
      "[*********************100%***********************]  1 of 1 completed"
     ]
    },
    {
     "name": "stdout",
     "output_type": "stream",
     "text": [
      " Finished COF\n",
      "Downloading data for CAH...\n",
      "Running models for CAH...\n"
     ]
    },
    {
     "name": "stderr",
     "output_type": "stream",
     "text": [
      "\n",
      "[*********************100%***********************]  1 of 1 completed"
     ]
    },
    {
     "name": "stdout",
     "output_type": "stream",
     "text": [
      " Finished CAH\n",
      "Downloading data for KMX...\n",
      "Running models for KMX...\n"
     ]
    },
    {
     "name": "stderr",
     "output_type": "stream",
     "text": [
      "\n",
      "[*********************100%***********************]  1 of 1 completed"
     ]
    },
    {
     "name": "stdout",
     "output_type": "stream",
     "text": [
      " Finished KMX\n",
      "Downloading data for CCL...\n",
      "Running models for CCL...\n"
     ]
    },
    {
     "name": "stderr",
     "output_type": "stream",
     "text": [
      "\n",
      "[*********************100%***********************]  1 of 1 completed"
     ]
    },
    {
     "name": "stdout",
     "output_type": "stream",
     "text": [
      " Finished CCL\n",
      "Downloading data for CARR...\n",
      "Running models for CARR...\n"
     ]
    },
    {
     "name": "stderr",
     "output_type": "stream",
     "text": [
      "\n",
      " 17%|█▋        | 88/503 [01:12<05:00,  1.38it/s]"
     ]
    },
    {
     "name": "stdout",
     "output_type": "stream",
     "text": [
      " Finished CARR\n",
      "Downloading data for CAT...\n"
     ]
    },
    {
     "name": "stderr",
     "output_type": "stream",
     "text": [
      "[*********************100%***********************]  1 of 1 completed\n"
     ]
    },
    {
     "name": "stdout",
     "output_type": "stream",
     "text": [
      "Running models for CAT...\n"
     ]
    },
    {
     "name": "stderr",
     "output_type": "stream",
     "text": [
      "[*********************100%***********************]  1 of 1 completed"
     ]
    },
    {
     "name": "stdout",
     "output_type": "stream",
     "text": [
      " Finished CAT\n",
      "Downloading data for CBOE...\n",
      "Running models for CBOE...\n"
     ]
    },
    {
     "name": "stderr",
     "output_type": "stream",
     "text": [
      "\n",
      "[*********************100%***********************]  1 of 1 completed"
     ]
    },
    {
     "name": "stdout",
     "output_type": "stream",
     "text": [
      " Finished CBOE\n",
      "Downloading data for CBRE...\n",
      "Running models for CBRE...\n"
     ]
    },
    {
     "name": "stderr",
     "output_type": "stream",
     "text": [
      "\n",
      "[*********************100%***********************]  1 of 1 completed"
     ]
    },
    {
     "name": "stdout",
     "output_type": "stream",
     "text": [
      " Finished CBRE\n",
      "Downloading data for CDW...\n",
      "Running models for CDW...\n"
     ]
    },
    {
     "name": "stderr",
     "output_type": "stream",
     "text": [
      "\n",
      "[*********************100%***********************]  1 of 1 completed"
     ]
    },
    {
     "name": "stdout",
     "output_type": "stream",
     "text": [
      " Finished CDW\n",
      "Downloading data for COR...\n",
      "Running models for COR...\n"
     ]
    },
    {
     "name": "stderr",
     "output_type": "stream",
     "text": [
      "\n",
      "[*********************100%***********************]  1 of 1 completed"
     ]
    },
    {
     "name": "stdout",
     "output_type": "stream",
     "text": [
      " Finished COR\n",
      "Downloading data for CNC...\n",
      "Running models for CNC...\n"
     ]
    },
    {
     "name": "stderr",
     "output_type": "stream",
     "text": [
      "\n",
      "[*********************100%***********************]  1 of 1 completed"
     ]
    },
    {
     "name": "stdout",
     "output_type": "stream",
     "text": [
      " Finished CNC\n",
      "Downloading data for CNP...\n",
      "Running models for CNP...\n"
     ]
    },
    {
     "name": "stderr",
     "output_type": "stream",
     "text": [
      "\n",
      "[*********************100%***********************]  1 of 1 completed"
     ]
    },
    {
     "name": "stdout",
     "output_type": "stream",
     "text": [
      " Finished CNP\n",
      "Downloading data for CF...\n",
      "Running models for CF...\n"
     ]
    },
    {
     "name": "stderr",
     "output_type": "stream",
     "text": [
      "\n",
      "[*********************100%***********************]  1 of 1 completed"
     ]
    },
    {
     "name": "stdout",
     "output_type": "stream",
     "text": [
      " Finished CF\n",
      "Downloading data for CRL...\n",
      "Running models for CRL...\n"
     ]
    },
    {
     "name": "stderr",
     "output_type": "stream",
     "text": [
      "\n",
      "[*********************100%***********************]  1 of 1 completed"
     ]
    },
    {
     "name": "stdout",
     "output_type": "stream",
     "text": [
      " Finished CRL\n",
      "Downloading data for SCHW...\n",
      "Running models for SCHW...\n"
     ]
    },
    {
     "name": "stderr",
     "output_type": "stream",
     "text": [
      "\n",
      "[*********************100%***********************]  1 of 1 completed"
     ]
    },
    {
     "name": "stdout",
     "output_type": "stream",
     "text": [
      " Finished SCHW\n",
      "Downloading data for CHTR...\n",
      "Running models for CHTR...\n"
     ]
    },
    {
     "name": "stderr",
     "output_type": "stream",
     "text": [
      "\n",
      "[*********************100%***********************]  1 of 1 completed"
     ]
    },
    {
     "name": "stdout",
     "output_type": "stream",
     "text": [
      " Finished CHTR\n",
      "Downloading data for CVX...\n",
      "Running models for CVX...\n"
     ]
    },
    {
     "name": "stderr",
     "output_type": "stream",
     "text": [
      "\n",
      "[*********************100%***********************]  1 of 1 completed"
     ]
    },
    {
     "name": "stdout",
     "output_type": "stream",
     "text": [
      " Finished CVX\n",
      "Downloading data for CMG...\n",
      "Running models for CMG...\n"
     ]
    },
    {
     "name": "stderr",
     "output_type": "stream",
     "text": [
      "\n",
      "[*********************100%***********************]  1 of 1 completed"
     ]
    },
    {
     "name": "stdout",
     "output_type": "stream",
     "text": [
      " Finished CMG\n",
      "Downloading data for CB...\n",
      "Running models for CB...\n"
     ]
    },
    {
     "name": "stderr",
     "output_type": "stream",
     "text": [
      "\n",
      "[*********************100%***********************]  1 of 1 completed"
     ]
    },
    {
     "name": "stdout",
     "output_type": "stream",
     "text": [
      " Finished CB\n",
      "Downloading data for CHD...\n",
      "Running models for CHD...\n"
     ]
    },
    {
     "name": "stderr",
     "output_type": "stream",
     "text": [
      "\n",
      "[*********************100%***********************]  1 of 1 completed"
     ]
    },
    {
     "name": "stdout",
     "output_type": "stream",
     "text": [
      " Finished CHD\n",
      "Downloading data for CI...\n",
      "Running models for CI...\n"
     ]
    },
    {
     "name": "stderr",
     "output_type": "stream",
     "text": [
      "\n",
      "[*********************100%***********************]  1 of 1 completed"
     ]
    },
    {
     "name": "stdout",
     "output_type": "stream",
     "text": [
      " Finished CI\n",
      "Downloading data for CINF...\n",
      "Running models for CINF...\n"
     ]
    },
    {
     "name": "stderr",
     "output_type": "stream",
     "text": [
      "\n",
      "[*********************100%***********************]  1 of 1 completed"
     ]
    },
    {
     "name": "stdout",
     "output_type": "stream",
     "text": [
      " Finished CINF\n",
      "Downloading data for CTAS...\n",
      "Running models for CTAS...\n"
     ]
    },
    {
     "name": "stderr",
     "output_type": "stream",
     "text": [
      "\n",
      "[*********************100%***********************]  1 of 1 completed"
     ]
    },
    {
     "name": "stdout",
     "output_type": "stream",
     "text": [
      " Finished CTAS\n",
      "Downloading data for CSCO...\n",
      "Running models for CSCO...\n"
     ]
    },
    {
     "name": "stderr",
     "output_type": "stream",
     "text": [
      "\n",
      "[*********************100%***********************]  1 of 1 completed"
     ]
    },
    {
     "name": "stdout",
     "output_type": "stream",
     "text": [
      " Finished CSCO\n",
      "Downloading data for C...\n",
      "Running models for C...\n"
     ]
    },
    {
     "name": "stderr",
     "output_type": "stream",
     "text": [
      "\n",
      "[*********************100%***********************]  1 of 1 completed"
     ]
    },
    {
     "name": "stdout",
     "output_type": "stream",
     "text": [
      " Finished C\n",
      "Downloading data for CFG...\n",
      "Running models for CFG...\n"
     ]
    },
    {
     "name": "stderr",
     "output_type": "stream",
     "text": [
      "\n",
      "[*********************100%***********************]  1 of 1 completed"
     ]
    },
    {
     "name": "stdout",
     "output_type": "stream",
     "text": [
      " Finished CFG\n",
      "Downloading data for CLX...\n"
     ]
    },
    {
     "name": "stderr",
     "output_type": "stream",
     "text": [
      "\n"
     ]
    },
    {
     "name": "stdout",
     "output_type": "stream",
     "text": [
      "Running models for CLX...\n"
     ]
    },
    {
     "name": "stderr",
     "output_type": "stream",
     "text": [
      "[*********************100%***********************]  1 of 1 completed"
     ]
    },
    {
     "name": "stdout",
     "output_type": "stream",
     "text": [
      " Finished CLX\n",
      "Downloading data for CME...\n",
      "Running models for CME...\n"
     ]
    },
    {
     "name": "stderr",
     "output_type": "stream",
     "text": [
      "\n",
      "[*********************100%***********************]  1 of 1 completed"
     ]
    },
    {
     "name": "stdout",
     "output_type": "stream",
     "text": [
      " Finished CME\n",
      "Downloading data for CMS...\n",
      "Running models for CMS...\n"
     ]
    },
    {
     "name": "stderr",
     "output_type": "stream",
     "text": [
      "\n",
      "[*********************100%***********************]  1 of 1 completed"
     ]
    },
    {
     "name": "stdout",
     "output_type": "stream",
     "text": [
      " Finished CMS\n",
      "Downloading data for KO...\n"
     ]
    },
    {
     "name": "stderr",
     "output_type": "stream",
     "text": [
      "\n"
     ]
    },
    {
     "name": "stdout",
     "output_type": "stream",
     "text": [
      "Running models for KO...\n"
     ]
    },
    {
     "name": "stderr",
     "output_type": "stream",
     "text": [
      "[*********************100%***********************]  1 of 1 completed"
     ]
    },
    {
     "name": "stdout",
     "output_type": "stream",
     "text": [
      " Finished KO\n",
      "Downloading data for CTSH...\n",
      "Running models for CTSH...\n"
     ]
    },
    {
     "name": "stderr",
     "output_type": "stream",
     "text": [
      "\n",
      "[*********************100%***********************]  1 of 1 completed"
     ]
    },
    {
     "name": "stdout",
     "output_type": "stream",
     "text": [
      " Finished CTSH\n",
      "Downloading data for CL...\n",
      "Running models for CL...\n"
     ]
    },
    {
     "name": "stderr",
     "output_type": "stream",
     "text": [
      "\n",
      "[*********************100%***********************]  1 of 1 completed"
     ]
    },
    {
     "name": "stdout",
     "output_type": "stream",
     "text": [
      " Finished CL\n",
      "Downloading data for CMCSA...\n",
      "Running models for CMCSA...\n"
     ]
    },
    {
     "name": "stderr",
     "output_type": "stream",
     "text": [
      "\n",
      "[*********************100%***********************]  1 of 1 completed"
     ]
    },
    {
     "name": "stdout",
     "output_type": "stream",
     "text": [
      " Finished CMCSA\n",
      "Downloading data for CAG...\n",
      "Running models for CAG...\n"
     ]
    },
    {
     "name": "stderr",
     "output_type": "stream",
     "text": [
      "\n",
      "[*********************100%***********************]  1 of 1 completed"
     ]
    },
    {
     "name": "stdout",
     "output_type": "stream",
     "text": [
      " Finished CAG\n",
      "Downloading data for COP...\n",
      "Running models for COP...\n"
     ]
    },
    {
     "name": "stderr",
     "output_type": "stream",
     "text": [
      "\n",
      " 23%|██▎       | 118/503 [01:34<04:38,  1.38it/s]"
     ]
    },
    {
     "name": "stdout",
     "output_type": "stream",
     "text": [
      " Finished COP\n",
      "Downloading data for ED...\n"
     ]
    },
    {
     "name": "stderr",
     "output_type": "stream",
     "text": [
      "[*********************100%***********************]  1 of 1 completed\n"
     ]
    },
    {
     "name": "stdout",
     "output_type": "stream",
     "text": [
      "Running models for ED...\n"
     ]
    },
    {
     "name": "stderr",
     "output_type": "stream",
     "text": [
      "[*********************100%***********************]  1 of 1 completed"
     ]
    },
    {
     "name": "stdout",
     "output_type": "stream",
     "text": [
      " Finished ED\n",
      "Downloading data for STZ...\n",
      "Running models for STZ...\n"
     ]
    },
    {
     "name": "stderr",
     "output_type": "stream",
     "text": [
      "\n",
      "[*********************100%***********************]  1 of 1 completed"
     ]
    },
    {
     "name": "stdout",
     "output_type": "stream",
     "text": [
      " Finished STZ\n",
      "Downloading data for CEG...\n",
      "Running models for CEG...\n"
     ]
    },
    {
     "name": "stderr",
     "output_type": "stream",
     "text": [
      "\n",
      "[*********************100%***********************]  1 of 1 completed"
     ]
    },
    {
     "name": "stdout",
     "output_type": "stream",
     "text": [
      " Finished CEG\n",
      "Downloading data for COO...\n",
      "Running models for COO...\n"
     ]
    },
    {
     "name": "stderr",
     "output_type": "stream",
     "text": [
      "\n",
      "[*********************100%***********************]  1 of 1 completed"
     ]
    },
    {
     "name": "stdout",
     "output_type": "stream",
     "text": [
      " Finished COO\n",
      "Downloading data for CPRT...\n",
      "Running models for CPRT...\n"
     ]
    },
    {
     "name": "stderr",
     "output_type": "stream",
     "text": [
      "\n",
      "[*********************100%***********************]  1 of 1 completed"
     ]
    },
    {
     "name": "stdout",
     "output_type": "stream",
     "text": [
      " Finished CPRT\n",
      "Downloading data for GLW...\n",
      "Running models for GLW...\n"
     ]
    },
    {
     "name": "stderr",
     "output_type": "stream",
     "text": [
      "\n",
      "[*********************100%***********************]  1 of 1 completed"
     ]
    },
    {
     "name": "stdout",
     "output_type": "stream",
     "text": [
      " Finished GLW\n",
      "Downloading data for CPAY...\n",
      "Running models for CPAY...\n"
     ]
    },
    {
     "name": "stderr",
     "output_type": "stream",
     "text": [
      "\n",
      "[*********************100%***********************]  1 of 1 completed"
     ]
    },
    {
     "name": "stdout",
     "output_type": "stream",
     "text": [
      " Finished CPAY\n",
      "Downloading data for CTVA...\n",
      "Running models for CTVA...\n"
     ]
    },
    {
     "name": "stderr",
     "output_type": "stream",
     "text": [
      "\n",
      " 25%|██▌       | 126/503 [01:41<05:17,  1.19it/s]"
     ]
    },
    {
     "name": "stdout",
     "output_type": "stream",
     "text": [
      " Finished CTVA\n",
      "Downloading data for CSGP...\n"
     ]
    },
    {
     "name": "stderr",
     "output_type": "stream",
     "text": [
      "[*********************100%***********************]  1 of 1 completed\n"
     ]
    },
    {
     "name": "stdout",
     "output_type": "stream",
     "text": [
      "Running models for CSGP...\n"
     ]
    },
    {
     "name": "stderr",
     "output_type": "stream",
     "text": [
      "[*********************100%***********************]  1 of 1 completed"
     ]
    },
    {
     "name": "stdout",
     "output_type": "stream",
     "text": [
      " Finished CSGP\n",
      "Downloading data for COST...\n",
      "Running models for COST...\n"
     ]
    },
    {
     "name": "stderr",
     "output_type": "stream",
     "text": [
      "\n",
      "[*********************100%***********************]  1 of 1 completed"
     ]
    },
    {
     "name": "stdout",
     "output_type": "stream",
     "text": [
      " Finished COST\n",
      "Downloading data for CTRA...\n",
      "Running models for CTRA...\n"
     ]
    },
    {
     "name": "stderr",
     "output_type": "stream",
     "text": [
      "\n",
      "[*********************100%***********************]  1 of 1 completed"
     ]
    },
    {
     "name": "stdout",
     "output_type": "stream",
     "text": [
      " Finished CTRA\n",
      "Downloading data for CRWD...\n",
      "Running models for CRWD...\n"
     ]
    },
    {
     "name": "stderr",
     "output_type": "stream",
     "text": [
      "\n",
      "[*********************100%***********************]  1 of 1 completed"
     ]
    },
    {
     "name": "stdout",
     "output_type": "stream",
     "text": [
      " Finished CRWD\n",
      "Downloading data for CCI...\n",
      "Running models for CCI...\n"
     ]
    },
    {
     "name": "stderr",
     "output_type": "stream",
     "text": [
      "\n",
      "[*********************100%***********************]  1 of 1 completed"
     ]
    },
    {
     "name": "stdout",
     "output_type": "stream",
     "text": [
      " Finished CCI\n",
      "Downloading data for CSX...\n",
      "Running models for CSX...\n"
     ]
    },
    {
     "name": "stderr",
     "output_type": "stream",
     "text": [
      "\n",
      "[*********************100%***********************]  1 of 1 completed"
     ]
    },
    {
     "name": "stdout",
     "output_type": "stream",
     "text": [
      " Finished CSX\n",
      "Downloading data for CMI...\n",
      "Running models for CMI...\n"
     ]
    },
    {
     "name": "stderr",
     "output_type": "stream",
     "text": [
      "\n",
      "[*********************100%***********************]  1 of 1 completed"
     ]
    },
    {
     "name": "stdout",
     "output_type": "stream",
     "text": [
      " Finished CMI\n",
      "Downloading data for CVS...\n",
      "Running models for CVS...\n"
     ]
    },
    {
     "name": "stderr",
     "output_type": "stream",
     "text": [
      "\n",
      "[*********************100%***********************]  1 of 1 completed"
     ]
    },
    {
     "name": "stdout",
     "output_type": "stream",
     "text": [
      " Finished CVS\n",
      "Downloading data for DHR...\n",
      "Running models for DHR...\n"
     ]
    },
    {
     "name": "stderr",
     "output_type": "stream",
     "text": [
      "\n",
      "[*********************100%***********************]  1 of 1 completed"
     ]
    },
    {
     "name": "stdout",
     "output_type": "stream",
     "text": [
      " Finished DHR\n",
      "Downloading data for DRI...\n",
      "Running models for DRI...\n"
     ]
    },
    {
     "name": "stderr",
     "output_type": "stream",
     "text": [
      "\n",
      "[*********************100%***********************]  1 of 1 completed"
     ]
    },
    {
     "name": "stdout",
     "output_type": "stream",
     "text": [
      " Finished DRI\n",
      "Downloading data for DVA...\n",
      "Running models for DVA...\n"
     ]
    },
    {
     "name": "stderr",
     "output_type": "stream",
     "text": [
      "\n",
      "[*********************100%***********************]  1 of 1 completed"
     ]
    },
    {
     "name": "stdout",
     "output_type": "stream",
     "text": [
      " Finished DVA\n",
      "Downloading data for DAY...\n",
      "Running models for DAY...\n"
     ]
    },
    {
     "name": "stderr",
     "output_type": "stream",
     "text": [
      "\n",
      "[*********************100%***********************]  1 of 1 completed"
     ]
    },
    {
     "name": "stdout",
     "output_type": "stream",
     "text": [
      " Finished DAY\n",
      "Downloading data for DECK...\n",
      "Running models for DECK...\n"
     ]
    },
    {
     "name": "stderr",
     "output_type": "stream",
     "text": [
      "\n",
      "[*********************100%***********************]  1 of 1 completed"
     ]
    },
    {
     "name": "stdout",
     "output_type": "stream",
     "text": [
      " Finished DECK\n",
      "Downloading data for DE...\n",
      "Running models for DE...\n"
     ]
    },
    {
     "name": "stderr",
     "output_type": "stream",
     "text": [
      "\n",
      "[*********************100%***********************]  1 of 1 completed"
     ]
    },
    {
     "name": "stdout",
     "output_type": "stream",
     "text": [
      " Finished DE\n",
      "Downloading data for DELL...\n",
      "Running models for DELL...\n"
     ]
    },
    {
     "name": "stderr",
     "output_type": "stream",
     "text": [
      "\n",
      " 28%|██▊       | 141/503 [01:52<04:09,  1.45it/s]"
     ]
    },
    {
     "name": "stdout",
     "output_type": "stream",
     "text": [
      " Finished DELL\n",
      "Downloading data for DAL...\n"
     ]
    },
    {
     "name": "stderr",
     "output_type": "stream",
     "text": [
      "[*********************100%***********************]  1 of 1 completed\n"
     ]
    },
    {
     "name": "stdout",
     "output_type": "stream",
     "text": [
      "Running models for DAL...\n"
     ]
    },
    {
     "name": "stderr",
     "output_type": "stream",
     "text": [
      "[*********************100%***********************]  1 of 1 completed"
     ]
    },
    {
     "name": "stdout",
     "output_type": "stream",
     "text": [
      " Finished DAL\n",
      "Downloading data for DVN...\n",
      "Running models for DVN...\n"
     ]
    },
    {
     "name": "stderr",
     "output_type": "stream",
     "text": [
      "\n",
      "[*********************100%***********************]  1 of 1 completed"
     ]
    },
    {
     "name": "stdout",
     "output_type": "stream",
     "text": [
      " Finished DVN\n",
      "Downloading data for DXCM...\n",
      "Running models for DXCM...\n"
     ]
    },
    {
     "name": "stderr",
     "output_type": "stream",
     "text": [
      "\n",
      "[*********************100%***********************]  1 of 1 completed"
     ]
    },
    {
     "name": "stdout",
     "output_type": "stream",
     "text": [
      " Finished DXCM\n",
      "Downloading data for FANG...\n",
      "Running models for FANG...\n"
     ]
    },
    {
     "name": "stderr",
     "output_type": "stream",
     "text": [
      "\n",
      "[*********************100%***********************]  1 of 1 completed"
     ]
    },
    {
     "name": "stdout",
     "output_type": "stream",
     "text": [
      " Finished FANG\n",
      "Downloading data for DLR...\n",
      "Running models for DLR...\n"
     ]
    },
    {
     "name": "stderr",
     "output_type": "stream",
     "text": [
      "\n",
      "[*********************100%***********************]  1 of 1 completed"
     ]
    },
    {
     "name": "stdout",
     "output_type": "stream",
     "text": [
      " Finished DLR\n",
      "Downloading data for DFS...\n",
      "Running models for DFS...\n"
     ]
    },
    {
     "name": "stderr",
     "output_type": "stream",
     "text": [
      "\n",
      "[*********************100%***********************]  1 of 1 completed"
     ]
    },
    {
     "name": "stdout",
     "output_type": "stream",
     "text": [
      " Finished DFS\n",
      "Downloading data for DG...\n",
      "Running models for DG...\n"
     ]
    },
    {
     "name": "stderr",
     "output_type": "stream",
     "text": [
      "\n",
      "[*********************100%***********************]  1 of 1 completed"
     ]
    },
    {
     "name": "stdout",
     "output_type": "stream",
     "text": [
      " Finished DG\n",
      "Downloading data for DLTR...\n",
      "Running models for DLTR...\n"
     ]
    },
    {
     "name": "stderr",
     "output_type": "stream",
     "text": [
      "\n",
      "[*********************100%***********************]  1 of 1 completed"
     ]
    },
    {
     "name": "stdout",
     "output_type": "stream",
     "text": [
      " Finished DLTR\n",
      "Downloading data for D...\n",
      "Running models for D...\n"
     ]
    },
    {
     "name": "stderr",
     "output_type": "stream",
     "text": [
      "\n",
      "[*********************100%***********************]  1 of 1 completed"
     ]
    },
    {
     "name": "stdout",
     "output_type": "stream",
     "text": [
      " Finished D\n",
      "Downloading data for DPZ...\n",
      "Running models for DPZ...\n"
     ]
    },
    {
     "name": "stderr",
     "output_type": "stream",
     "text": [
      "\n",
      "[*********************100%***********************]  1 of 1 completed"
     ]
    },
    {
     "name": "stdout",
     "output_type": "stream",
     "text": [
      " Finished DPZ\n",
      "Downloading data for DASH...\n",
      "Running models for DASH...\n"
     ]
    },
    {
     "name": "stderr",
     "output_type": "stream",
     "text": [
      "\n",
      "[*********************100%***********************]  1 of 1 completed"
     ]
    },
    {
     "name": "stdout",
     "output_type": "stream",
     "text": [
      " Finished DASH\n",
      "Downloading data for DOV...\n",
      "Running models for DOV...\n"
     ]
    },
    {
     "name": "stderr",
     "output_type": "stream",
     "text": [
      "\n",
      "[*********************100%***********************]  1 of 1 completed"
     ]
    },
    {
     "name": "stdout",
     "output_type": "stream",
     "text": [
      " Finished DOV\n",
      "Downloading data for DOW...\n",
      "Running models for DOW...\n"
     ]
    },
    {
     "name": "stderr",
     "output_type": "stream",
     "text": [
      "\n",
      "[*********************100%***********************]  1 of 1 completed"
     ]
    },
    {
     "name": "stdout",
     "output_type": "stream",
     "text": [
      " Finished DOW\n",
      "Downloading data for DHI...\n",
      "Running models for DHI...\n"
     ]
    },
    {
     "name": "stderr",
     "output_type": "stream",
     "text": [
      "\n",
      " 31%|███       | 155/503 [02:03<04:16,  1.36it/s]"
     ]
    },
    {
     "name": "stdout",
     "output_type": "stream",
     "text": [
      " Finished DHI\n",
      "Downloading data for DTE...\n"
     ]
    },
    {
     "name": "stderr",
     "output_type": "stream",
     "text": [
      "[*********************100%***********************]  1 of 1 completed\n"
     ]
    },
    {
     "name": "stdout",
     "output_type": "stream",
     "text": [
      "Running models for DTE...\n"
     ]
    },
    {
     "name": "stderr",
     "output_type": "stream",
     "text": [
      "[*********************100%***********************]  1 of 1 completed"
     ]
    },
    {
     "name": "stdout",
     "output_type": "stream",
     "text": [
      " Finished DTE\n",
      "Downloading data for DUK...\n",
      "Running models for DUK...\n"
     ]
    },
    {
     "name": "stderr",
     "output_type": "stream",
     "text": [
      "\n",
      "[*********************100%***********************]  1 of 1 completed"
     ]
    },
    {
     "name": "stdout",
     "output_type": "stream",
     "text": [
      " Finished DUK\n",
      "Downloading data for DD...\n"
     ]
    },
    {
     "name": "stderr",
     "output_type": "stream",
     "text": [
      "\n"
     ]
    },
    {
     "name": "stdout",
     "output_type": "stream",
     "text": [
      "Running models for DD...\n"
     ]
    },
    {
     "name": "stderr",
     "output_type": "stream",
     "text": [
      "[*********************100%***********************]  1 of 1 completed"
     ]
    },
    {
     "name": "stdout",
     "output_type": "stream",
     "text": [
      " Finished DD\n",
      "Downloading data for EMN...\n",
      "Running models for EMN...\n"
     ]
    },
    {
     "name": "stderr",
     "output_type": "stream",
     "text": [
      "\n",
      "[*********************100%***********************]  1 of 1 completed"
     ]
    },
    {
     "name": "stdout",
     "output_type": "stream",
     "text": [
      " Finished EMN\n",
      "Downloading data for ETN...\n",
      "Running models for ETN...\n"
     ]
    },
    {
     "name": "stderr",
     "output_type": "stream",
     "text": [
      "\n",
      "[*********************100%***********************]  1 of 1 completed"
     ]
    },
    {
     "name": "stdout",
     "output_type": "stream",
     "text": [
      " Finished ETN\n",
      "Downloading data for EBAY...\n",
      "Running models for EBAY...\n"
     ]
    },
    {
     "name": "stderr",
     "output_type": "stream",
     "text": [
      "\n",
      "[*********************100%***********************]  1 of 1 completed"
     ]
    },
    {
     "name": "stdout",
     "output_type": "stream",
     "text": [
      " Finished EBAY\n",
      "Downloading data for ECL...\n",
      "Running models for ECL...\n"
     ]
    },
    {
     "name": "stderr",
     "output_type": "stream",
     "text": [
      "\n",
      "[*********************100%***********************]  1 of 1 completed"
     ]
    },
    {
     "name": "stdout",
     "output_type": "stream",
     "text": [
      " Finished ECL\n",
      "Downloading data for EIX...\n",
      "Running models for EIX...\n"
     ]
    },
    {
     "name": "stderr",
     "output_type": "stream",
     "text": [
      "\n",
      "[*********************100%***********************]  1 of 1 completed"
     ]
    },
    {
     "name": "stdout",
     "output_type": "stream",
     "text": [
      " Finished EIX\n",
      "Downloading data for EW...\n",
      "Running models for EW...\n"
     ]
    },
    {
     "name": "stderr",
     "output_type": "stream",
     "text": [
      "\n",
      "[*********************100%***********************]  1 of 1 completed"
     ]
    },
    {
     "name": "stdout",
     "output_type": "stream",
     "text": [
      " Finished EW\n",
      "Downloading data for EA...\n",
      "Running models for EA...\n"
     ]
    },
    {
     "name": "stderr",
     "output_type": "stream",
     "text": [
      "\n",
      "[*********************100%***********************]  1 of 1 completed"
     ]
    },
    {
     "name": "stdout",
     "output_type": "stream",
     "text": [
      " Finished EA\n",
      "Downloading data for ELV...\n",
      "Running models for ELV...\n"
     ]
    },
    {
     "name": "stderr",
     "output_type": "stream",
     "text": [
      "\n",
      "[*********************100%***********************]  1 of 1 completed"
     ]
    },
    {
     "name": "stdout",
     "output_type": "stream",
     "text": [
      " Finished ELV\n",
      "Downloading data for EMR...\n",
      "Running models for EMR...\n"
     ]
    },
    {
     "name": "stderr",
     "output_type": "stream",
     "text": [
      "\n",
      "[*********************100%***********************]  1 of 1 completed"
     ]
    },
    {
     "name": "stdout",
     "output_type": "stream",
     "text": [
      " Finished EMR\n",
      "Downloading data for ENPH...\n",
      "Running models for ENPH...\n"
     ]
    },
    {
     "name": "stderr",
     "output_type": "stream",
     "text": [
      "\n",
      "[*********************100%***********************]  1 of 1 completed"
     ]
    },
    {
     "name": "stdout",
     "output_type": "stream",
     "text": [
      " Finished ENPH\n",
      "Downloading data for ETR...\n",
      "Running models for ETR...\n"
     ]
    },
    {
     "name": "stderr",
     "output_type": "stream",
     "text": [
      "\n",
      "[*********************100%***********************]  1 of 1 completed"
     ]
    },
    {
     "name": "stdout",
     "output_type": "stream",
     "text": [
      " Finished ETR\n",
      "Downloading data for EOG...\n",
      "Running models for EOG...\n"
     ]
    },
    {
     "name": "stderr",
     "output_type": "stream",
     "text": [
      "\n",
      "[*********************100%***********************]  1 of 1 completed"
     ]
    },
    {
     "name": "stdout",
     "output_type": "stream",
     "text": [
      " Finished EOG\n",
      "Downloading data for EPAM...\n",
      "Running models for EPAM...\n"
     ]
    },
    {
     "name": "stderr",
     "output_type": "stream",
     "text": [
      "\n",
      "[*********************100%***********************]  1 of 1 completed"
     ]
    },
    {
     "name": "stdout",
     "output_type": "stream",
     "text": [
      " Finished EPAM\n",
      "Downloading data for EQT...\n",
      "Running models for EQT...\n"
     ]
    },
    {
     "name": "stderr",
     "output_type": "stream",
     "text": [
      "\n",
      "[*********************100%***********************]  1 of 1 completed"
     ]
    },
    {
     "name": "stdout",
     "output_type": "stream",
     "text": [
      " Finished EQT\n",
      "Downloading data for EFX...\n",
      "Running models for EFX...\n"
     ]
    },
    {
     "name": "stderr",
     "output_type": "stream",
     "text": [
      "\n",
      "[*********************100%***********************]  1 of 1 completed"
     ]
    },
    {
     "name": "stdout",
     "output_type": "stream",
     "text": [
      " Finished EFX\n",
      "Downloading data for EQIX...\n",
      "Running models for EQIX...\n"
     ]
    },
    {
     "name": "stderr",
     "output_type": "stream",
     "text": [
      "\n",
      "[*********************100%***********************]  1 of 1 completed"
     ]
    },
    {
     "name": "stdout",
     "output_type": "stream",
     "text": [
      " Finished EQIX\n",
      "Downloading data for EQR...\n",
      "Running models for EQR...\n"
     ]
    },
    {
     "name": "stderr",
     "output_type": "stream",
     "text": [
      "\n",
      "[*********************100%***********************]  1 of 1 completed"
     ]
    },
    {
     "name": "stdout",
     "output_type": "stream",
     "text": [
      " Finished EQR\n",
      "Downloading data for ERIE...\n",
      "Running models for ERIE...\n"
     ]
    },
    {
     "name": "stderr",
     "output_type": "stream",
     "text": [
      "\n",
      "[*********************100%***********************]  1 of 1 completed"
     ]
    },
    {
     "name": "stdout",
     "output_type": "stream",
     "text": [
      " Finished ERIE\n",
      "Downloading data for ESS...\n",
      "Running models for ESS...\n"
     ]
    },
    {
     "name": "stderr",
     "output_type": "stream",
     "text": [
      "\n",
      "[*********************100%***********************]  1 of 1 completed"
     ]
    },
    {
     "name": "stdout",
     "output_type": "stream",
     "text": [
      " Finished ESS\n",
      "Downloading data for EL...\n",
      "Running models for EL...\n"
     ]
    },
    {
     "name": "stderr",
     "output_type": "stream",
     "text": [
      "\n",
      " 35%|███▌      | 178/503 [02:22<04:31,  1.20it/s]"
     ]
    },
    {
     "name": "stdout",
     "output_type": "stream",
     "text": [
      " Finished EL\n",
      "Downloading data for EG...\n"
     ]
    },
    {
     "name": "stderr",
     "output_type": "stream",
     "text": [
      "[*********************100%***********************]  1 of 1 completed\n"
     ]
    },
    {
     "name": "stdout",
     "output_type": "stream",
     "text": [
      "Running models for EG...\n"
     ]
    },
    {
     "name": "stderr",
     "output_type": "stream",
     "text": [
      "[*********************100%***********************]  1 of 1 completed"
     ]
    },
    {
     "name": "stdout",
     "output_type": "stream",
     "text": [
      " Finished EG\n",
      "Downloading data for EVRG...\n",
      "Running models for EVRG...\n"
     ]
    },
    {
     "name": "stderr",
     "output_type": "stream",
     "text": [
      "\n",
      "[*********************100%***********************]  1 of 1 completed"
     ]
    },
    {
     "name": "stdout",
     "output_type": "stream",
     "text": [
      " Finished EVRG\n",
      "Downloading data for ES...\n",
      "Running models for ES...\n"
     ]
    },
    {
     "name": "stderr",
     "output_type": "stream",
     "text": [
      "\n",
      " 36%|███▌      | 181/503 [02:25<04:42,  1.14it/s]"
     ]
    },
    {
     "name": "stdout",
     "output_type": "stream",
     "text": [
      " Finished ES\n",
      "Downloading data for EXC...\n"
     ]
    },
    {
     "name": "stderr",
     "output_type": "stream",
     "text": [
      "[*********************100%***********************]  1 of 1 completed\n"
     ]
    },
    {
     "name": "stdout",
     "output_type": "stream",
     "text": [
      "Running models for EXC...\n"
     ]
    },
    {
     "name": "stderr",
     "output_type": "stream",
     "text": [
      "[*********************100%***********************]  1 of 1 completed"
     ]
    },
    {
     "name": "stdout",
     "output_type": "stream",
     "text": [
      " Finished EXC\n",
      "Downloading data for EXE...\n",
      "Running models for EXE...\n"
     ]
    },
    {
     "name": "stderr",
     "output_type": "stream",
     "text": [
      "\n",
      "[*********************100%***********************]  1 of 1 completed"
     ]
    },
    {
     "name": "stdout",
     "output_type": "stream",
     "text": [
      " Finished EXE\n",
      "Downloading data for EXPE...\n",
      "Running models for EXPE...\n"
     ]
    },
    {
     "name": "stderr",
     "output_type": "stream",
     "text": [
      "\n",
      "[*********************100%***********************]  1 of 1 completed"
     ]
    },
    {
     "name": "stdout",
     "output_type": "stream",
     "text": [
      " Finished EXPE\n",
      "Downloading data for EXPD...\n",
      "Running models for EXPD...\n"
     ]
    },
    {
     "name": "stderr",
     "output_type": "stream",
     "text": [
      "\n",
      "[*********************100%***********************]  1 of 1 completed"
     ]
    },
    {
     "name": "stdout",
     "output_type": "stream",
     "text": [
      " Finished EXPD\n",
      "Downloading data for EXR...\n",
      "Running models for EXR...\n"
     ]
    },
    {
     "name": "stderr",
     "output_type": "stream",
     "text": [
      "\n",
      "[*********************100%***********************]  1 of 1 completed"
     ]
    },
    {
     "name": "stdout",
     "output_type": "stream",
     "text": [
      " Finished EXR\n",
      "Downloading data for XOM...\n",
      "Running models for XOM...\n"
     ]
    },
    {
     "name": "stderr",
     "output_type": "stream",
     "text": [
      "\n",
      "[*********************100%***********************]  1 of 1 completed"
     ]
    },
    {
     "name": "stdout",
     "output_type": "stream",
     "text": [
      " Finished XOM\n",
      "Downloading data for FFIV...\n",
      "Running models for FFIV...\n"
     ]
    },
    {
     "name": "stderr",
     "output_type": "stream",
     "text": [
      "\n",
      "[*********************100%***********************]  1 of 1 completed"
     ]
    },
    {
     "name": "stdout",
     "output_type": "stream",
     "text": [
      " Finished FFIV\n",
      "Downloading data for FDS...\n",
      "Running models for FDS...\n"
     ]
    },
    {
     "name": "stderr",
     "output_type": "stream",
     "text": [
      "\n",
      "[*********************100%***********************]  1 of 1 completed"
     ]
    },
    {
     "name": "stdout",
     "output_type": "stream",
     "text": [
      " Finished FDS\n",
      "Downloading data for FICO...\n",
      "Running models for FICO...\n"
     ]
    },
    {
     "name": "stderr",
     "output_type": "stream",
     "text": [
      "\n",
      "[*********************100%***********************]  1 of 1 completed"
     ]
    },
    {
     "name": "stdout",
     "output_type": "stream",
     "text": [
      " Finished FICO\n",
      "Downloading data for FAST...\n",
      "Running models for FAST...\n"
     ]
    },
    {
     "name": "stderr",
     "output_type": "stream",
     "text": [
      "\n",
      "[*********************100%***********************]  1 of 1 completed"
     ]
    },
    {
     "name": "stdout",
     "output_type": "stream",
     "text": [
      " Finished FAST\n",
      "Downloading data for FRT...\n"
     ]
    },
    {
     "name": "stderr",
     "output_type": "stream",
     "text": [
      "\n"
     ]
    },
    {
     "name": "stdout",
     "output_type": "stream",
     "text": [
      "Running models for FRT...\n"
     ]
    },
    {
     "name": "stderr",
     "output_type": "stream",
     "text": [
      " 38%|███▊      | 192/503 [02:34<04:31,  1.14it/s]"
     ]
    },
    {
     "name": "stdout",
     "output_type": "stream",
     "text": [
      " Finished FRT\n",
      "Downloading data for FDX...\n"
     ]
    },
    {
     "name": "stderr",
     "output_type": "stream",
     "text": [
      "[*********************100%***********************]  1 of 1 completed\n"
     ]
    },
    {
     "name": "stdout",
     "output_type": "stream",
     "text": [
      "Running models for FDX...\n"
     ]
    },
    {
     "name": "stderr",
     "output_type": "stream",
     "text": [
      "[*********************100%***********************]  1 of 1 completed"
     ]
    },
    {
     "name": "stdout",
     "output_type": "stream",
     "text": [
      " Finished FDX\n",
      "Downloading data for FIS...\n",
      "Running models for FIS...\n"
     ]
    },
    {
     "name": "stderr",
     "output_type": "stream",
     "text": [
      "\n",
      " 39%|███▊      | 194/503 [02:36<04:47,  1.08it/s]"
     ]
    },
    {
     "name": "stdout",
     "output_type": "stream",
     "text": [
      " Finished FIS\n",
      "Downloading data for FITB...\n"
     ]
    },
    {
     "name": "stderr",
     "output_type": "stream",
     "text": [
      "[*********************100%***********************]  1 of 1 completed\n"
     ]
    },
    {
     "name": "stdout",
     "output_type": "stream",
     "text": [
      "Running models for FITB...\n"
     ]
    },
    {
     "name": "stderr",
     "output_type": "stream",
     "text": [
      "[*********************100%***********************]  1 of 1 completed"
     ]
    },
    {
     "name": "stdout",
     "output_type": "stream",
     "text": [
      " Finished FITB\n",
      "Downloading data for FSLR...\n",
      "Running models for FSLR...\n"
     ]
    },
    {
     "name": "stderr",
     "output_type": "stream",
     "text": [
      "\n",
      "[*********************100%***********************]  1 of 1 completed"
     ]
    },
    {
     "name": "stdout",
     "output_type": "stream",
     "text": [
      " Finished FSLR\n",
      "Downloading data for FE...\n",
      "Running models for FE...\n"
     ]
    },
    {
     "name": "stderr",
     "output_type": "stream",
     "text": [
      "\n",
      "[*********************100%***********************]  1 of 1 completed"
     ]
    },
    {
     "name": "stdout",
     "output_type": "stream",
     "text": [
      " Finished FE\n",
      "Downloading data for FI...\n",
      "Running models for FI...\n"
     ]
    },
    {
     "name": "stderr",
     "output_type": "stream",
     "text": [
      "\n",
      "[*********************100%***********************]  1 of 1 completed"
     ]
    },
    {
     "name": "stdout",
     "output_type": "stream",
     "text": [
      " Finished FI\n",
      "Downloading data for F...\n",
      "Running models for F...\n"
     ]
    },
    {
     "name": "stderr",
     "output_type": "stream",
     "text": [
      "\n",
      "[*********************100%***********************]  1 of 1 completed"
     ]
    },
    {
     "name": "stdout",
     "output_type": "stream",
     "text": [
      " Finished F\n",
      "Downloading data for FTNT...\n",
      "Running models for FTNT...\n"
     ]
    },
    {
     "name": "stderr",
     "output_type": "stream",
     "text": [
      "\n",
      "[*********************100%***********************]  1 of 1 completed"
     ]
    },
    {
     "name": "stdout",
     "output_type": "stream",
     "text": [
      " Finished FTNT\n",
      "Downloading data for FTV...\n",
      "Running models for FTV...\n"
     ]
    },
    {
     "name": "stderr",
     "output_type": "stream",
     "text": [
      "\n",
      "[*********************100%***********************]  1 of 1 completed"
     ]
    },
    {
     "name": "stdout",
     "output_type": "stream",
     "text": [
      " Finished FTV\n",
      "Downloading data for FOXA...\n",
      "Running models for FOXA...\n"
     ]
    },
    {
     "name": "stderr",
     "output_type": "stream",
     "text": [
      "\n",
      "[*********************100%***********************]  1 of 1 completed"
     ]
    },
    {
     "name": "stdout",
     "output_type": "stream",
     "text": [
      " Finished FOXA\n",
      "Downloading data for FOX...\n",
      "Running models for FOX...\n"
     ]
    },
    {
     "name": "stderr",
     "output_type": "stream",
     "text": [
      "\n",
      "[*********************100%***********************]  1 of 1 completed"
     ]
    },
    {
     "name": "stdout",
     "output_type": "stream",
     "text": [
      " Finished FOX\n",
      "Downloading data for BEN...\n",
      "Running models for BEN...\n"
     ]
    },
    {
     "name": "stderr",
     "output_type": "stream",
     "text": [
      "\n",
      "[*********************100%***********************]  1 of 1 completed"
     ]
    },
    {
     "name": "stdout",
     "output_type": "stream",
     "text": [
      " Finished BEN\n",
      "Downloading data for FCX...\n",
      "Running models for FCX...\n"
     ]
    },
    {
     "name": "stderr",
     "output_type": "stream",
     "text": [
      "\n",
      "[*********************100%***********************]  1 of 1 completed"
     ]
    },
    {
     "name": "stdout",
     "output_type": "stream",
     "text": [
      " Finished FCX\n",
      "Downloading data for GRMN...\n",
      "Running models for GRMN...\n"
     ]
    },
    {
     "name": "stderr",
     "output_type": "stream",
     "text": [
      "\n",
      "[*********************100%***********************]  1 of 1 completed"
     ]
    },
    {
     "name": "stdout",
     "output_type": "stream",
     "text": [
      " Finished GRMN\n",
      "Downloading data for IT...\n",
      "Running models for IT...\n"
     ]
    },
    {
     "name": "stderr",
     "output_type": "stream",
     "text": [
      "\n",
      " 41%|████      | 207/503 [02:47<04:21,  1.13it/s]"
     ]
    },
    {
     "name": "stdout",
     "output_type": "stream",
     "text": [
      " Finished IT\n",
      "Downloading data for GE...\n"
     ]
    },
    {
     "name": "stderr",
     "output_type": "stream",
     "text": [
      "[*********************100%***********************]  1 of 1 completed\n"
     ]
    },
    {
     "name": "stdout",
     "output_type": "stream",
     "text": [
      "Running models for GE...\n"
     ]
    },
    {
     "name": "stderr",
     "output_type": "stream",
     "text": [
      "[*********************100%***********************]  1 of 1 completed"
     ]
    },
    {
     "name": "stdout",
     "output_type": "stream",
     "text": [
      " Finished GE\n",
      "Downloading data for GEHC...\n",
      "Running models for GEHC...\n"
     ]
    },
    {
     "name": "stderr",
     "output_type": "stream",
     "text": [
      "\n",
      "[*********************100%***********************]  1 of 1 completed"
     ]
    },
    {
     "name": "stdout",
     "output_type": "stream",
     "text": [
      " Finished GEHC\n",
      "Downloading data for GEV...\n",
      "Running models for GEV...\n"
     ]
    },
    {
     "name": "stderr",
     "output_type": "stream",
     "text": [
      "\n",
      "[*********************100%***********************]  1 of 1 completed"
     ]
    },
    {
     "name": "stdout",
     "output_type": "stream",
     "text": [
      " Finished GEV\n",
      "Downloading data for GEN...\n",
      "Running models for GEN...\n"
     ]
    },
    {
     "name": "stderr",
     "output_type": "stream",
     "text": [
      "\n",
      "[*********************100%***********************]  1 of 1 completed"
     ]
    },
    {
     "name": "stdout",
     "output_type": "stream",
     "text": [
      " Finished GEN\n",
      "Downloading data for GNRC...\n",
      "Running models for GNRC...\n"
     ]
    },
    {
     "name": "stderr",
     "output_type": "stream",
     "text": [
      "\n",
      "[*********************100%***********************]  1 of 1 completed"
     ]
    },
    {
     "name": "stdout",
     "output_type": "stream",
     "text": [
      " Finished GNRC\n",
      "Downloading data for GD...\n",
      "Running models for GD...\n"
     ]
    },
    {
     "name": "stderr",
     "output_type": "stream",
     "text": [
      "\n",
      "[*********************100%***********************]  1 of 1 completed"
     ]
    },
    {
     "name": "stdout",
     "output_type": "stream",
     "text": [
      " Finished GD\n",
      "Downloading data for GIS...\n",
      "Running models for GIS...\n"
     ]
    },
    {
     "name": "stderr",
     "output_type": "stream",
     "text": [
      "\n",
      "[*********************100%***********************]  1 of 1 completed"
     ]
    },
    {
     "name": "stdout",
     "output_type": "stream",
     "text": [
      " Finished GIS\n",
      "Downloading data for GM...\n",
      "Running models for GM...\n"
     ]
    },
    {
     "name": "stderr",
     "output_type": "stream",
     "text": [
      "\n",
      "[*********************100%***********************]  1 of 1 completed"
     ]
    },
    {
     "name": "stdout",
     "output_type": "stream",
     "text": [
      " Finished GM\n",
      "Downloading data for GPC...\n",
      "Running models for GPC...\n"
     ]
    },
    {
     "name": "stderr",
     "output_type": "stream",
     "text": [
      "\n",
      "[*********************100%***********************]  1 of 1 completed"
     ]
    },
    {
     "name": "stdout",
     "output_type": "stream",
     "text": [
      " Finished GPC\n",
      "Downloading data for GILD...\n",
      "Running models for GILD...\n"
     ]
    },
    {
     "name": "stderr",
     "output_type": "stream",
     "text": [
      "\n",
      "[*********************100%***********************]  1 of 1 completed"
     ]
    },
    {
     "name": "stdout",
     "output_type": "stream",
     "text": [
      " Finished GILD\n",
      "Downloading data for GPN...\n",
      "Running models for GPN...\n"
     ]
    },
    {
     "name": "stderr",
     "output_type": "stream",
     "text": [
      "\n",
      "[*********************100%***********************]  1 of 1 completed"
     ]
    },
    {
     "name": "stdout",
     "output_type": "stream",
     "text": [
      " Finished GPN\n",
      "Downloading data for GL...\n",
      "Running models for GL...\n"
     ]
    },
    {
     "name": "stderr",
     "output_type": "stream",
     "text": [
      "\n",
      "[*********************100%***********************]  1 of 1 completed"
     ]
    },
    {
     "name": "stdout",
     "output_type": "stream",
     "text": [
      " Finished GL\n",
      "Downloading data for GDDY...\n",
      "Running models for GDDY...\n"
     ]
    },
    {
     "name": "stderr",
     "output_type": "stream",
     "text": [
      "\n",
      "[*********************100%***********************]  1 of 1 completed"
     ]
    },
    {
     "name": "stdout",
     "output_type": "stream",
     "text": [
      " Finished GDDY\n",
      "Downloading data for GS...\n",
      "Running models for GS...\n"
     ]
    },
    {
     "name": "stderr",
     "output_type": "stream",
     "text": [
      "\n",
      "[*********************100%***********************]  1 of 1 completed"
     ]
    },
    {
     "name": "stdout",
     "output_type": "stream",
     "text": [
      " Finished GS\n",
      "Downloading data for HAL...\n",
      "Running models for HAL...\n"
     ]
    },
    {
     "name": "stderr",
     "output_type": "stream",
     "text": [
      "\n",
      "[*********************100%***********************]  1 of 1 completed"
     ]
    },
    {
     "name": "stdout",
     "output_type": "stream",
     "text": [
      " Finished HAL\n",
      "Downloading data for HIG...\n",
      "Running models for HIG...\n"
     ]
    },
    {
     "name": "stderr",
     "output_type": "stream",
     "text": [
      "\n",
      "[*********************100%***********************]  1 of 1 completed"
     ]
    },
    {
     "name": "stdout",
     "output_type": "stream",
     "text": [
      " Finished HIG\n",
      "Downloading data for HAS...\n",
      "Running models for HAS...\n"
     ]
    },
    {
     "name": "stderr",
     "output_type": "stream",
     "text": [
      "\n",
      "[*********************100%***********************]  1 of 1 completed"
     ]
    },
    {
     "name": "stdout",
     "output_type": "stream",
     "text": [
      " Finished HAS\n",
      "Downloading data for HCA...\n",
      "Running models for HCA...\n"
     ]
    },
    {
     "name": "stderr",
     "output_type": "stream",
     "text": [
      "\n",
      "[*********************100%***********************]  1 of 1 completed"
     ]
    },
    {
     "name": "stdout",
     "output_type": "stream",
     "text": [
      " Finished HCA\n",
      "Downloading data for DOC...\n",
      "Running models for DOC...\n"
     ]
    },
    {
     "name": "stderr",
     "output_type": "stream",
     "text": [
      "\n",
      "[*********************100%***********************]  1 of 1 completed"
     ]
    },
    {
     "name": "stdout",
     "output_type": "stream",
     "text": [
      " Finished DOC\n",
      "Downloading data for HSIC...\n",
      "Running models for HSIC...\n"
     ]
    },
    {
     "name": "stderr",
     "output_type": "stream",
     "text": [
      "\n",
      "[*********************100%***********************]  1 of 1 completed"
     ]
    },
    {
     "name": "stdout",
     "output_type": "stream",
     "text": [
      " Finished HSIC\n",
      "Downloading data for HSY...\n",
      "Running models for HSY...\n"
     ]
    },
    {
     "name": "stderr",
     "output_type": "stream",
     "text": [
      "\n",
      "[*********************100%***********************]  1 of 1 completed"
     ]
    },
    {
     "name": "stdout",
     "output_type": "stream",
     "text": [
      " Finished HSY\n",
      "Downloading data for HES...\n",
      "Running models for HES...\n"
     ]
    },
    {
     "name": "stderr",
     "output_type": "stream",
     "text": [
      "\n",
      "[*********************100%***********************]  1 of 1 completed"
     ]
    },
    {
     "name": "stdout",
     "output_type": "stream",
     "text": [
      " Finished HES\n",
      "Downloading data for HPE...\n",
      "Running models for HPE...\n"
     ]
    },
    {
     "name": "stderr",
     "output_type": "stream",
     "text": [
      "\n",
      "[*********************100%***********************]  1 of 1 completed"
     ]
    },
    {
     "name": "stdout",
     "output_type": "stream",
     "text": [
      " Finished HPE\n",
      "Downloading data for HLT...\n",
      "Running models for HLT...\n"
     ]
    },
    {
     "name": "stderr",
     "output_type": "stream",
     "text": [
      "\n",
      "[*********************100%***********************]  1 of 1 completed"
     ]
    },
    {
     "name": "stdout",
     "output_type": "stream",
     "text": [
      " Finished HLT\n",
      "Downloading data for HOLX...\n",
      "Running models for HOLX...\n"
     ]
    },
    {
     "name": "stderr",
     "output_type": "stream",
     "text": [
      "\n",
      "[*********************100%***********************]  1 of 1 completed"
     ]
    },
    {
     "name": "stdout",
     "output_type": "stream",
     "text": [
      " Finished HOLX\n",
      "Downloading data for HD...\n",
      "Running models for HD...\n"
     ]
    },
    {
     "name": "stderr",
     "output_type": "stream",
     "text": [
      "\n",
      " 46%|████▋     | 233/503 [03:10<04:07,  1.09it/s]"
     ]
    },
    {
     "name": "stdout",
     "output_type": "stream",
     "text": [
      " Finished HD\n",
      "Downloading data for HON...\n"
     ]
    },
    {
     "name": "stderr",
     "output_type": "stream",
     "text": [
      "[*********************100%***********************]  1 of 1 completed\n"
     ]
    },
    {
     "name": "stdout",
     "output_type": "stream",
     "text": [
      "Running models for HON...\n"
     ]
    },
    {
     "name": "stderr",
     "output_type": "stream",
     "text": [
      "[*********************100%***********************]  1 of 1 completed"
     ]
    },
    {
     "name": "stdout",
     "output_type": "stream",
     "text": [
      " Finished HON\n",
      "Downloading data for HRL...\n",
      "Running models for HRL...\n"
     ]
    },
    {
     "name": "stderr",
     "output_type": "stream",
     "text": [
      "\n",
      "[*********************100%***********************]  1 of 1 completed"
     ]
    },
    {
     "name": "stdout",
     "output_type": "stream",
     "text": [
      " Finished HRL\n",
      "Downloading data for HST...\n",
      "Running models for HST...\n"
     ]
    },
    {
     "name": "stderr",
     "output_type": "stream",
     "text": [
      "\n",
      "[*********************100%***********************]  1 of 1 completed"
     ]
    },
    {
     "name": "stdout",
     "output_type": "stream",
     "text": [
      " Finished HST\n",
      "Downloading data for HWM...\n",
      "Running models for HWM...\n"
     ]
    },
    {
     "name": "stderr",
     "output_type": "stream",
     "text": [
      "\n",
      " 47%|████▋     | 237/503 [03:13<03:50,  1.15it/s]"
     ]
    },
    {
     "name": "stdout",
     "output_type": "stream",
     "text": [
      " Finished HWM\n",
      "Downloading data for HPQ...\n"
     ]
    },
    {
     "name": "stderr",
     "output_type": "stream",
     "text": [
      "[*********************100%***********************]  1 of 1 completed\n"
     ]
    },
    {
     "name": "stdout",
     "output_type": "stream",
     "text": [
      "Running models for HPQ...\n"
     ]
    },
    {
     "name": "stderr",
     "output_type": "stream",
     "text": [
      " 47%|████▋     | 238/503 [03:17<07:36,  1.72s/it]"
     ]
    },
    {
     "name": "stdout",
     "output_type": "stream",
     "text": [
      " Finished HPQ\n",
      "Downloading data for HUBB...\n"
     ]
    },
    {
     "name": "stderr",
     "output_type": "stream",
     "text": [
      "[*********************100%***********************]  1 of 1 completed\n"
     ]
    },
    {
     "name": "stdout",
     "output_type": "stream",
     "text": [
      "Running models for HUBB...\n"
     ]
    },
    {
     "name": "stderr",
     "output_type": "stream",
     "text": [
      "[*********************100%***********************]  1 of 1 completed"
     ]
    },
    {
     "name": "stdout",
     "output_type": "stream",
     "text": [
      " Finished HUBB\n",
      "Downloading data for HUM...\n",
      "Running models for HUM...\n"
     ]
    },
    {
     "name": "stderr",
     "output_type": "stream",
     "text": [
      "\n",
      "[*********************100%***********************]  1 of 1 completed"
     ]
    },
    {
     "name": "stdout",
     "output_type": "stream",
     "text": [
      " Finished HUM\n",
      "Downloading data for HBAN...\n",
      "Running models for HBAN...\n"
     ]
    },
    {
     "name": "stderr",
     "output_type": "stream",
     "text": [
      "\n",
      "[*********************100%***********************]  1 of 1 completed"
     ]
    },
    {
     "name": "stdout",
     "output_type": "stream",
     "text": [
      " Finished HBAN\n",
      "Downloading data for HII...\n",
      "Running models for HII...\n"
     ]
    },
    {
     "name": "stderr",
     "output_type": "stream",
     "text": [
      "\n",
      " 48%|████▊     | 242/503 [03:21<05:11,  1.19s/it]"
     ]
    },
    {
     "name": "stdout",
     "output_type": "stream",
     "text": [
      " Finished HII\n",
      "Downloading data for IBM...\n"
     ]
    },
    {
     "name": "stderr",
     "output_type": "stream",
     "text": [
      "[*********************100%***********************]  1 of 1 completed\n"
     ]
    },
    {
     "name": "stdout",
     "output_type": "stream",
     "text": [
      "Running models for IBM...\n"
     ]
    },
    {
     "name": "stderr",
     "output_type": "stream",
     "text": [
      "[*********************100%***********************]  1 of 1 completed"
     ]
    },
    {
     "name": "stdout",
     "output_type": "stream",
     "text": [
      " Finished IBM\n",
      "Downloading data for IEX...\n",
      "Running models for IEX...\n"
     ]
    },
    {
     "name": "stderr",
     "output_type": "stream",
     "text": [
      "\n",
      "[*********************100%***********************]  1 of 1 completed"
     ]
    },
    {
     "name": "stdout",
     "output_type": "stream",
     "text": [
      " Finished IEX\n",
      "Downloading data for IDXX...\n",
      "Running models for IDXX...\n"
     ]
    },
    {
     "name": "stderr",
     "output_type": "stream",
     "text": [
      "\n",
      "[*********************100%***********************]  1 of 1 completed"
     ]
    },
    {
     "name": "stdout",
     "output_type": "stream",
     "text": [
      " Finished IDXX\n",
      "Downloading data for ITW...\n",
      "Running models for ITW...\n"
     ]
    },
    {
     "name": "stderr",
     "output_type": "stream",
     "text": [
      "\n",
      "[*********************100%***********************]  1 of 1 completed"
     ]
    },
    {
     "name": "stdout",
     "output_type": "stream",
     "text": [
      " Finished ITW\n",
      "Downloading data for INCY...\n",
      "Running models for INCY...\n"
     ]
    },
    {
     "name": "stderr",
     "output_type": "stream",
     "text": [
      "\n",
      "[*********************100%***********************]  1 of 1 completed"
     ]
    },
    {
     "name": "stdout",
     "output_type": "stream",
     "text": [
      " Finished INCY\n",
      "Downloading data for IR...\n",
      "Running models for IR...\n"
     ]
    },
    {
     "name": "stderr",
     "output_type": "stream",
     "text": [
      "\n",
      "[*********************100%***********************]  1 of 1 completed"
     ]
    },
    {
     "name": "stdout",
     "output_type": "stream",
     "text": [
      " Finished IR\n",
      "Downloading data for PODD...\n",
      "Running models for PODD...\n"
     ]
    },
    {
     "name": "stderr",
     "output_type": "stream",
     "text": [
      "\n",
      "[*********************100%***********************]  1 of 1 completed"
     ]
    },
    {
     "name": "stdout",
     "output_type": "stream",
     "text": [
      " Finished PODD\n",
      "Downloading data for INTC...\n",
      "Running models for INTC...\n"
     ]
    },
    {
     "name": "stderr",
     "output_type": "stream",
     "text": [
      "\n",
      "[*********************100%***********************]  1 of 1 completed"
     ]
    },
    {
     "name": "stdout",
     "output_type": "stream",
     "text": [
      " Finished INTC\n",
      "Downloading data for ICE...\n",
      "Running models for ICE...\n"
     ]
    },
    {
     "name": "stderr",
     "output_type": "stream",
     "text": [
      "\n",
      "[*********************100%***********************]  1 of 1 completed"
     ]
    },
    {
     "name": "stdout",
     "output_type": "stream",
     "text": [
      " Finished ICE\n",
      "Downloading data for IFF...\n",
      "Running models for IFF...\n"
     ]
    },
    {
     "name": "stderr",
     "output_type": "stream",
     "text": [
      "\n",
      "[*********************100%***********************]  1 of 1 completed"
     ]
    },
    {
     "name": "stdout",
     "output_type": "stream",
     "text": [
      " Finished IFF\n",
      "Downloading data for IP...\n"
     ]
    },
    {
     "name": "stderr",
     "output_type": "stream",
     "text": [
      "\n"
     ]
    },
    {
     "name": "stdout",
     "output_type": "stream",
     "text": [
      "Running models for IP...\n"
     ]
    },
    {
     "name": "stderr",
     "output_type": "stream",
     "text": [
      "[*********************100%***********************]  1 of 1 completed"
     ]
    },
    {
     "name": "stdout",
     "output_type": "stream",
     "text": [
      " Finished IP\n",
      "Downloading data for IPG...\n",
      "Running models for IPG...\n"
     ]
    },
    {
     "name": "stderr",
     "output_type": "stream",
     "text": [
      "\n",
      "[*********************100%***********************]  1 of 1 completed"
     ]
    },
    {
     "name": "stdout",
     "output_type": "stream",
     "text": [
      " Finished IPG\n",
      "Downloading data for INTU...\n",
      "Running models for INTU...\n"
     ]
    },
    {
     "name": "stderr",
     "output_type": "stream",
     "text": [
      "\n",
      "[*********************100%***********************]  1 of 1 completed"
     ]
    },
    {
     "name": "stdout",
     "output_type": "stream",
     "text": [
      " Finished INTU\n",
      "Downloading data for ISRG...\n",
      "Running models for ISRG...\n"
     ]
    },
    {
     "name": "stderr",
     "output_type": "stream",
     "text": [
      "\n",
      "[*********************100%***********************]  1 of 1 completed"
     ]
    },
    {
     "name": "stdout",
     "output_type": "stream",
     "text": [
      " Finished ISRG\n",
      "Downloading data for IVZ...\n",
      "Running models for IVZ...\n"
     ]
    },
    {
     "name": "stderr",
     "output_type": "stream",
     "text": [
      "\n",
      "[*********************100%***********************]  1 of 1 completed"
     ]
    },
    {
     "name": "stdout",
     "output_type": "stream",
     "text": [
      " Finished IVZ\n",
      "Downloading data for INVH...\n",
      "Running models for INVH...\n"
     ]
    },
    {
     "name": "stderr",
     "output_type": "stream",
     "text": [
      "\n",
      "[*********************100%***********************]  1 of 1 completed"
     ]
    },
    {
     "name": "stdout",
     "output_type": "stream",
     "text": [
      " Finished INVH\n",
      "Downloading data for IQV...\n",
      "Running models for IQV...\n"
     ]
    },
    {
     "name": "stderr",
     "output_type": "stream",
     "text": [
      "\n",
      " 51%|█████▏    | 259/503 [03:34<03:18,  1.23it/s]"
     ]
    },
    {
     "name": "stdout",
     "output_type": "stream",
     "text": [
      " Finished IQV\n",
      "Downloading data for IRM...\n"
     ]
    },
    {
     "name": "stderr",
     "output_type": "stream",
     "text": [
      "[*********************100%***********************]  1 of 1 completed\n"
     ]
    },
    {
     "name": "stdout",
     "output_type": "stream",
     "text": [
      "Running models for IRM...\n"
     ]
    },
    {
     "name": "stderr",
     "output_type": "stream",
     "text": [
      " 52%|█████▏    | 260/503 [03:35<03:49,  1.06it/s]"
     ]
    },
    {
     "name": "stdout",
     "output_type": "stream",
     "text": [
      " Finished IRM\n",
      "Downloading data for JBHT...\n"
     ]
    },
    {
     "name": "stderr",
     "output_type": "stream",
     "text": [
      "[*********************100%***********************]  1 of 1 completed\n"
     ]
    },
    {
     "name": "stdout",
     "output_type": "stream",
     "text": [
      "Running models for JBHT...\n"
     ]
    },
    {
     "name": "stderr",
     "output_type": "stream",
     "text": [
      " 52%|█████▏    | 261/503 [03:36<04:37,  1.15s/it]"
     ]
    },
    {
     "name": "stdout",
     "output_type": "stream",
     "text": [
      " Finished JBHT\n",
      "Downloading data for JBL...\n"
     ]
    },
    {
     "name": "stderr",
     "output_type": "stream",
     "text": [
      "[*********************100%***********************]  1 of 1 completed\n"
     ]
    },
    {
     "name": "stdout",
     "output_type": "stream",
     "text": [
      "Running models for JBL...\n"
     ]
    },
    {
     "name": "stderr",
     "output_type": "stream",
     "text": [
      "[*********************100%***********************]  1 of 1 completed"
     ]
    },
    {
     "name": "stdout",
     "output_type": "stream",
     "text": [
      " Finished JBL\n",
      "Downloading data for JKHY...\n",
      "Running models for JKHY...\n"
     ]
    },
    {
     "name": "stderr",
     "output_type": "stream",
     "text": [
      "\n",
      "[*********************100%***********************]  1 of 1 completed"
     ]
    },
    {
     "name": "stdout",
     "output_type": "stream",
     "text": [
      " Finished JKHY\n",
      "Downloading data for J...\n",
      "Running models for J...\n"
     ]
    },
    {
     "name": "stderr",
     "output_type": "stream",
     "text": [
      "\n",
      "[*********************100%***********************]  1 of 1 completed"
     ]
    },
    {
     "name": "stdout",
     "output_type": "stream",
     "text": [
      " Finished J\n",
      "Downloading data for JNJ...\n"
     ]
    },
    {
     "name": "stderr",
     "output_type": "stream",
     "text": [
      "\n"
     ]
    },
    {
     "name": "stdout",
     "output_type": "stream",
     "text": [
      "Running models for JNJ...\n"
     ]
    },
    {
     "name": "stderr",
     "output_type": "stream",
     "text": [
      "[*********************100%***********************]  1 of 1 completed"
     ]
    },
    {
     "name": "stdout",
     "output_type": "stream",
     "text": [
      " Finished JNJ\n",
      "Downloading data for JCI...\n",
      "Running models for JCI...\n"
     ]
    },
    {
     "name": "stderr",
     "output_type": "stream",
     "text": [
      "\n",
      "[*********************100%***********************]  1 of 1 completed"
     ]
    },
    {
     "name": "stdout",
     "output_type": "stream",
     "text": [
      " Finished JCI\n",
      "Downloading data for JPM...\n",
      "Running models for JPM...\n"
     ]
    },
    {
     "name": "stderr",
     "output_type": "stream",
     "text": [
      "\n",
      "[*********************100%***********************]  1 of 1 completed"
     ]
    },
    {
     "name": "stdout",
     "output_type": "stream",
     "text": [
      " Finished JPM\n",
      "Downloading data for JNPR...\n",
      "Running models for JNPR...\n"
     ]
    },
    {
     "name": "stderr",
     "output_type": "stream",
     "text": [
      "\n",
      "[*********************100%***********************]  1 of 1 completed"
     ]
    },
    {
     "name": "stdout",
     "output_type": "stream",
     "text": [
      " Finished JNPR\n",
      "Downloading data for K...\n"
     ]
    },
    {
     "name": "stderr",
     "output_type": "stream",
     "text": [
      "\n"
     ]
    },
    {
     "name": "stdout",
     "output_type": "stream",
     "text": [
      "Running models for K...\n"
     ]
    },
    {
     "name": "stderr",
     "output_type": "stream",
     "text": [
      "[*********************100%***********************]  1 of 1 completed"
     ]
    },
    {
     "name": "stdout",
     "output_type": "stream",
     "text": [
      " Finished K\n",
      "Downloading data for KVUE...\n",
      "Running models for KVUE...\n"
     ]
    },
    {
     "name": "stderr",
     "output_type": "stream",
     "text": [
      "\n",
      "[*********************100%***********************]  1 of 1 completed"
     ]
    },
    {
     "name": "stdout",
     "output_type": "stream",
     "text": [
      " Finished KVUE\n",
      "Downloading data for KDP...\n",
      "Running models for KDP...\n"
     ]
    },
    {
     "name": "stderr",
     "output_type": "stream",
     "text": [
      "\n",
      "[*********************100%***********************]  1 of 1 completed"
     ]
    },
    {
     "name": "stdout",
     "output_type": "stream",
     "text": [
      " Finished KDP\n",
      "Downloading data for KEY...\n",
      "Running models for KEY...\n"
     ]
    },
    {
     "name": "stderr",
     "output_type": "stream",
     "text": [
      "\n",
      "[*********************100%***********************]  1 of 1 completed"
     ]
    },
    {
     "name": "stdout",
     "output_type": "stream",
     "text": [
      " Finished KEY\n",
      "Downloading data for KEYS...\n",
      "Running models for KEYS...\n"
     ]
    },
    {
     "name": "stderr",
     "output_type": "stream",
     "text": [
      "\n",
      "[*********************100%***********************]  1 of 1 completed"
     ]
    },
    {
     "name": "stdout",
     "output_type": "stream",
     "text": [
      " Finished KEYS\n",
      "Downloading data for KMB...\n",
      "Running models for KMB...\n"
     ]
    },
    {
     "name": "stderr",
     "output_type": "stream",
     "text": [
      "\n",
      "[*********************100%***********************]  1 of 1 completed"
     ]
    },
    {
     "name": "stdout",
     "output_type": "stream",
     "text": [
      " Finished KMB\n",
      "Downloading data for KIM...\n",
      "Running models for KIM...\n"
     ]
    },
    {
     "name": "stderr",
     "output_type": "stream",
     "text": [
      "\n",
      "[*********************100%***********************]  1 of 1 completed"
     ]
    },
    {
     "name": "stdout",
     "output_type": "stream",
     "text": [
      " Finished KIM\n",
      "Downloading data for KMI...\n",
      "Running models for KMI...\n"
     ]
    },
    {
     "name": "stderr",
     "output_type": "stream",
     "text": [
      "\n",
      "[*********************100%***********************]  1 of 1 completed"
     ]
    },
    {
     "name": "stdout",
     "output_type": "stream",
     "text": [
      " Finished KMI\n",
      "Downloading data for KKR...\n",
      "Running models for KKR...\n"
     ]
    },
    {
     "name": "stderr",
     "output_type": "stream",
     "text": [
      "\n",
      "[*********************100%***********************]  1 of 1 completed"
     ]
    },
    {
     "name": "stdout",
     "output_type": "stream",
     "text": [
      " Finished KKR\n",
      "Downloading data for KLAC...\n",
      "Running models for KLAC...\n"
     ]
    },
    {
     "name": "stderr",
     "output_type": "stream",
     "text": [
      "\n",
      "[*********************100%***********************]  1 of 1 completed"
     ]
    },
    {
     "name": "stdout",
     "output_type": "stream",
     "text": [
      " Finished KLAC\n",
      "Downloading data for KHC...\n",
      "Running models for KHC...\n"
     ]
    },
    {
     "name": "stderr",
     "output_type": "stream",
     "text": [
      "\n",
      "[*********************100%***********************]  1 of 1 completed"
     ]
    },
    {
     "name": "stdout",
     "output_type": "stream",
     "text": [
      " Finished KHC\n",
      "Downloading data for KR...\n",
      "Running models for KR...\n"
     ]
    },
    {
     "name": "stderr",
     "output_type": "stream",
     "text": [
      "\n",
      "[*********************100%***********************]  1 of 1 completed"
     ]
    },
    {
     "name": "stdout",
     "output_type": "stream",
     "text": [
      " Finished KR\n",
      "Downloading data for LHX...\n",
      "Running models for LHX...\n"
     ]
    },
    {
     "name": "stderr",
     "output_type": "stream",
     "text": [
      "\n",
      "[*********************100%***********************]  1 of 1 completed"
     ]
    },
    {
     "name": "stdout",
     "output_type": "stream",
     "text": [
      " Finished LHX\n",
      "Downloading data for LH...\n",
      "Running models for LH...\n"
     ]
    },
    {
     "name": "stderr",
     "output_type": "stream",
     "text": [
      "\n",
      "[*********************100%***********************]  1 of 1 completed"
     ]
    },
    {
     "name": "stdout",
     "output_type": "stream",
     "text": [
      " Finished LH\n",
      "Downloading data for LRCX...\n",
      "Running models for LRCX...\n"
     ]
    },
    {
     "name": "stderr",
     "output_type": "stream",
     "text": [
      "\n",
      "[*********************100%***********************]  1 of 1 completed"
     ]
    },
    {
     "name": "stdout",
     "output_type": "stream",
     "text": [
      " Finished LRCX\n",
      "Downloading data for LW...\n",
      "Running models for LW...\n"
     ]
    },
    {
     "name": "stderr",
     "output_type": "stream",
     "text": [
      "\n",
      "[*********************100%***********************]  1 of 1 completed"
     ]
    },
    {
     "name": "stdout",
     "output_type": "stream",
     "text": [
      " Finished LW\n",
      "Downloading data for LVS...\n",
      "Running models for LVS...\n"
     ]
    },
    {
     "name": "stderr",
     "output_type": "stream",
     "text": [
      "\n",
      "[*********************100%***********************]  1 of 1 completed"
     ]
    },
    {
     "name": "stdout",
     "output_type": "stream",
     "text": [
      " Finished LVS\n",
      "Downloading data for LDOS...\n",
      "Running models for LDOS...\n"
     ]
    },
    {
     "name": "stderr",
     "output_type": "stream",
     "text": [
      "\n",
      "[*********************100%***********************]  1 of 1 completed"
     ]
    },
    {
     "name": "stdout",
     "output_type": "stream",
     "text": [
      " Finished LDOS\n",
      "Downloading data for LEN...\n",
      "Running models for LEN...\n"
     ]
    },
    {
     "name": "stderr",
     "output_type": "stream",
     "text": [
      "\n",
      "[*********************100%***********************]  1 of 1 completed"
     ]
    },
    {
     "name": "stdout",
     "output_type": "stream",
     "text": [
      " Finished LEN\n",
      "Downloading data for LII...\n",
      "Running models for LII...\n"
     ]
    },
    {
     "name": "stderr",
     "output_type": "stream",
     "text": [
      "\n",
      "[*********************100%***********************]  1 of 1 completed"
     ]
    },
    {
     "name": "stdout",
     "output_type": "stream",
     "text": [
      " Finished LII\n",
      "Downloading data for LLY...\n",
      "Running models for LLY...\n"
     ]
    },
    {
     "name": "stderr",
     "output_type": "stream",
     "text": [
      "\n",
      "[*********************100%***********************]  1 of 1 completed"
     ]
    },
    {
     "name": "stdout",
     "output_type": "stream",
     "text": [
      " Finished LLY\n",
      "Downloading data for LIN...\n",
      "Running models for LIN...\n"
     ]
    },
    {
     "name": "stderr",
     "output_type": "stream",
     "text": [
      "\n",
      "[*********************100%***********************]  1 of 1 completed"
     ]
    },
    {
     "name": "stdout",
     "output_type": "stream",
     "text": [
      " Finished LIN\n",
      "Downloading data for LYV...\n",
      "Running models for LYV...\n"
     ]
    },
    {
     "name": "stderr",
     "output_type": "stream",
     "text": [
      "\n",
      "[*********************100%***********************]  1 of 1 completed"
     ]
    },
    {
     "name": "stdout",
     "output_type": "stream",
     "text": [
      " Finished LYV\n",
      "Downloading data for LKQ...\n",
      "Running models for LKQ...\n"
     ]
    },
    {
     "name": "stderr",
     "output_type": "stream",
     "text": [
      "\n",
      "[*********************100%***********************]  1 of 1 completed"
     ]
    },
    {
     "name": "stdout",
     "output_type": "stream",
     "text": [
      " Finished LKQ\n",
      "Downloading data for LMT...\n",
      "Running models for LMT...\n"
     ]
    },
    {
     "name": "stderr",
     "output_type": "stream",
     "text": [
      "\n",
      "[*********************100%***********************]  1 of 1 completed"
     ]
    },
    {
     "name": "stdout",
     "output_type": "stream",
     "text": [
      " Finished LMT\n",
      "Downloading data for L...\n",
      "Running models for L...\n"
     ]
    },
    {
     "name": "stderr",
     "output_type": "stream",
     "text": [
      "\n",
      " 58%|█████▊    | 294/503 [04:09<03:19,  1.05it/s]"
     ]
    },
    {
     "name": "stdout",
     "output_type": "stream",
     "text": [
      " Finished L\n",
      "Downloading data for LOW...\n"
     ]
    },
    {
     "name": "stderr",
     "output_type": "stream",
     "text": [
      "[*********************100%***********************]  1 of 1 completed\n"
     ]
    },
    {
     "name": "stdout",
     "output_type": "stream",
     "text": [
      "Running models for LOW...\n"
     ]
    },
    {
     "name": "stderr",
     "output_type": "stream",
     "text": [
      "[*********************100%***********************]  1 of 1 completed"
     ]
    },
    {
     "name": "stdout",
     "output_type": "stream",
     "text": [
      " Finished LOW\n",
      "Downloading data for LULU...\n",
      "Running models for LULU...\n"
     ]
    },
    {
     "name": "stderr",
     "output_type": "stream",
     "text": [
      "\n",
      "[*********************100%***********************]  1 of 1 completed"
     ]
    },
    {
     "name": "stdout",
     "output_type": "stream",
     "text": [
      " Finished LULU\n",
      "Downloading data for LYB...\n",
      "Running models for LYB...\n"
     ]
    },
    {
     "name": "stderr",
     "output_type": "stream",
     "text": [
      "\n",
      "[*********************100%***********************]  1 of 1 completed"
     ]
    },
    {
     "name": "stdout",
     "output_type": "stream",
     "text": [
      " Finished LYB\n",
      "Downloading data for MTB...\n",
      "Running models for MTB...\n"
     ]
    },
    {
     "name": "stderr",
     "output_type": "stream",
     "text": [
      "\n",
      "[*********************100%***********************]  1 of 1 completed"
     ]
    },
    {
     "name": "stdout",
     "output_type": "stream",
     "text": [
      " Finished MTB\n",
      "Downloading data for MPC...\n",
      "Running models for MPC...\n"
     ]
    },
    {
     "name": "stderr",
     "output_type": "stream",
     "text": [
      "\n",
      "[*********************100%***********************]  1 of 1 completed"
     ]
    },
    {
     "name": "stdout",
     "output_type": "stream",
     "text": [
      " Finished MPC\n",
      "Downloading data for MKTX...\n",
      "Running models for MKTX...\n"
     ]
    },
    {
     "name": "stderr",
     "output_type": "stream",
     "text": [
      "\n",
      "[*********************100%***********************]  1 of 1 completed"
     ]
    },
    {
     "name": "stdout",
     "output_type": "stream",
     "text": [
      " Finished MKTX\n",
      "Downloading data for MAR...\n",
      "Running models for MAR...\n"
     ]
    },
    {
     "name": "stderr",
     "output_type": "stream",
     "text": [
      "\n",
      "[*********************100%***********************]  1 of 1 completed"
     ]
    },
    {
     "name": "stdout",
     "output_type": "stream",
     "text": [
      " Finished MAR\n",
      "Downloading data for MMC...\n"
     ]
    },
    {
     "name": "stderr",
     "output_type": "stream",
     "text": [
      "\n"
     ]
    },
    {
     "name": "stdout",
     "output_type": "stream",
     "text": [
      "Running models for MMC...\n"
     ]
    },
    {
     "name": "stderr",
     "output_type": "stream",
     "text": [
      "[*********************100%***********************]  1 of 1 completed"
     ]
    },
    {
     "name": "stdout",
     "output_type": "stream",
     "text": [
      " Finished MMC\n",
      "Downloading data for MLM...\n",
      "Running models for MLM...\n"
     ]
    },
    {
     "name": "stderr",
     "output_type": "stream",
     "text": [
      "\n",
      "[*********************100%***********************]  1 of 1 completed"
     ]
    },
    {
     "name": "stdout",
     "output_type": "stream",
     "text": [
      " Finished MLM\n",
      "Downloading data for MAS...\n",
      "Running models for MAS...\n"
     ]
    },
    {
     "name": "stderr",
     "output_type": "stream",
     "text": [
      "\n",
      "[*********************100%***********************]  1 of 1 completed"
     ]
    },
    {
     "name": "stdout",
     "output_type": "stream",
     "text": [
      " Finished MAS\n",
      "Downloading data for MA...\n",
      "Running models for MA...\n"
     ]
    },
    {
     "name": "stderr",
     "output_type": "stream",
     "text": [
      "\n",
      "[*********************100%***********************]  1 of 1 completed"
     ]
    },
    {
     "name": "stdout",
     "output_type": "stream",
     "text": [
      " Finished MA\n",
      "Downloading data for MTCH...\n",
      "Running models for MTCH...\n"
     ]
    },
    {
     "name": "stderr",
     "output_type": "stream",
     "text": [
      "\n",
      "[*********************100%***********************]  1 of 1 completed"
     ]
    },
    {
     "name": "stdout",
     "output_type": "stream",
     "text": [
      " Finished MTCH\n",
      "Downloading data for MKC...\n",
      "Running models for MKC...\n"
     ]
    },
    {
     "name": "stderr",
     "output_type": "stream",
     "text": [
      "\n",
      "[*********************100%***********************]  1 of 1 completed"
     ]
    },
    {
     "name": "stdout",
     "output_type": "stream",
     "text": [
      " Finished MKC\n",
      "Downloading data for MCD...\n"
     ]
    },
    {
     "name": "stderr",
     "output_type": "stream",
     "text": [
      "\n"
     ]
    },
    {
     "name": "stdout",
     "output_type": "stream",
     "text": [
      "Running models for MCD...\n"
     ]
    },
    {
     "name": "stderr",
     "output_type": "stream",
     "text": [
      "[*********************100%***********************]  1 of 1 completed"
     ]
    },
    {
     "name": "stdout",
     "output_type": "stream",
     "text": [
      " Finished MCD\n",
      "Downloading data for MCK...\n",
      "Running models for MCK...\n"
     ]
    },
    {
     "name": "stderr",
     "output_type": "stream",
     "text": [
      "\n",
      "[*********************100%***********************]  1 of 1 completed"
     ]
    },
    {
     "name": "stdout",
     "output_type": "stream",
     "text": [
      " Finished MCK\n",
      "Downloading data for MDT...\n",
      "Running models for MDT...\n"
     ]
    },
    {
     "name": "stderr",
     "output_type": "stream",
     "text": [
      "\n",
      " 62%|██████▏   | 310/503 [04:28<03:16,  1.02s/it]"
     ]
    },
    {
     "name": "stdout",
     "output_type": "stream",
     "text": [
      " Finished MDT\n",
      "Downloading data for MRK...\n"
     ]
    },
    {
     "name": "stderr",
     "output_type": "stream",
     "text": [
      "[*********************100%***********************]  1 of 1 completed\n"
     ]
    },
    {
     "name": "stdout",
     "output_type": "stream",
     "text": [
      "Running models for MRK...\n"
     ]
    },
    {
     "name": "stderr",
     "output_type": "stream",
     "text": [
      "[*********************100%***********************]  1 of 1 completed"
     ]
    },
    {
     "name": "stdout",
     "output_type": "stream",
     "text": [
      " Finished MRK\n",
      "Downloading data for META...\n",
      "Running models for META...\n"
     ]
    },
    {
     "name": "stderr",
     "output_type": "stream",
     "text": [
      "\n",
      "[*********************100%***********************]  1 of 1 completed"
     ]
    },
    {
     "name": "stdout",
     "output_type": "stream",
     "text": [
      " Finished META\n",
      "Downloading data for MET...\n",
      "Running models for MET...\n"
     ]
    },
    {
     "name": "stderr",
     "output_type": "stream",
     "text": [
      "\n",
      "[*********************100%***********************]  1 of 1 completed"
     ]
    },
    {
     "name": "stdout",
     "output_type": "stream",
     "text": [
      " Finished MET\n",
      "Downloading data for MTD...\n",
      "Running models for MTD...\n"
     ]
    },
    {
     "name": "stderr",
     "output_type": "stream",
     "text": [
      "\n",
      "[*********************100%***********************]  1 of 1 completed"
     ]
    },
    {
     "name": "stdout",
     "output_type": "stream",
     "text": [
      " Finished MTD\n",
      "Downloading data for MGM...\n",
      "Running models for MGM...\n"
     ]
    },
    {
     "name": "stderr",
     "output_type": "stream",
     "text": [
      "\n",
      "[*********************100%***********************]  1 of 1 completed"
     ]
    },
    {
     "name": "stdout",
     "output_type": "stream",
     "text": [
      " Finished MGM\n",
      "Downloading data for MCHP...\n",
      "Running models for MCHP...\n"
     ]
    },
    {
     "name": "stderr",
     "output_type": "stream",
     "text": [
      "\n",
      "[*********************100%***********************]  1 of 1 completed"
     ]
    },
    {
     "name": "stdout",
     "output_type": "stream",
     "text": [
      " Finished MCHP\n",
      "Downloading data for MU...\n",
      "Running models for MU...\n"
     ]
    },
    {
     "name": "stderr",
     "output_type": "stream",
     "text": [
      "\n",
      "[*********************100%***********************]  1 of 1 completed"
     ]
    },
    {
     "name": "stdout",
     "output_type": "stream",
     "text": [
      " Finished MU\n",
      "Downloading data for MSFT...\n",
      "Running models for MSFT...\n"
     ]
    },
    {
     "name": "stderr",
     "output_type": "stream",
     "text": [
      "\n",
      "[*********************100%***********************]  1 of 1 completed"
     ]
    },
    {
     "name": "stdout",
     "output_type": "stream",
     "text": [
      " Finished MSFT\n",
      "Downloading data for MAA...\n",
      "Running models for MAA...\n"
     ]
    },
    {
     "name": "stderr",
     "output_type": "stream",
     "text": [
      "\n",
      "[*********************100%***********************]  1 of 1 completed"
     ]
    },
    {
     "name": "stdout",
     "output_type": "stream",
     "text": [
      " Finished MAA\n",
      "Downloading data for MRNA...\n",
      "Running models for MRNA...\n"
     ]
    },
    {
     "name": "stderr",
     "output_type": "stream",
     "text": [
      "\n",
      "[*********************100%***********************]  1 of 1 completed"
     ]
    },
    {
     "name": "stdout",
     "output_type": "stream",
     "text": [
      " Finished MRNA\n",
      "Downloading data for MHK...\n",
      "Running models for MHK...\n"
     ]
    },
    {
     "name": "stderr",
     "output_type": "stream",
     "text": [
      "\n",
      "[*********************100%***********************]  1 of 1 completed"
     ]
    },
    {
     "name": "stdout",
     "output_type": "stream",
     "text": [
      " Finished MHK\n",
      "Downloading data for MOH...\n",
      "Running models for MOH...\n"
     ]
    },
    {
     "name": "stderr",
     "output_type": "stream",
     "text": [
      "\n",
      "[*********************100%***********************]  1 of 1 completed"
     ]
    },
    {
     "name": "stdout",
     "output_type": "stream",
     "text": [
      " Finished MOH\n",
      "Downloading data for TAP...\n",
      "Running models for TAP...\n"
     ]
    },
    {
     "name": "stderr",
     "output_type": "stream",
     "text": [
      "\n",
      "[*********************100%***********************]  1 of 1 completed"
     ]
    },
    {
     "name": "stdout",
     "output_type": "stream",
     "text": [
      " Finished TAP\n",
      "Downloading data for MDLZ...\n",
      "Running models for MDLZ...\n"
     ]
    },
    {
     "name": "stderr",
     "output_type": "stream",
     "text": [
      "\n",
      "[*********************100%***********************]  1 of 1 completed"
     ]
    },
    {
     "name": "stdout",
     "output_type": "stream",
     "text": [
      " Finished MDLZ\n",
      "Downloading data for MPWR...\n",
      "Running models for MPWR...\n"
     ]
    },
    {
     "name": "stderr",
     "output_type": "stream",
     "text": [
      "\n",
      "[*********************100%***********************]  1 of 1 completed"
     ]
    },
    {
     "name": "stdout",
     "output_type": "stream",
     "text": [
      " Finished MPWR\n",
      "Downloading data for MNST...\n",
      "Running models for MNST...\n"
     ]
    },
    {
     "name": "stderr",
     "output_type": "stream",
     "text": [
      "\n",
      "[*********************100%***********************]  1 of 1 completed"
     ]
    },
    {
     "name": "stdout",
     "output_type": "stream",
     "text": [
      " Finished MNST\n",
      "Downloading data for MCO...\n",
      "Running models for MCO...\n"
     ]
    },
    {
     "name": "stderr",
     "output_type": "stream",
     "text": [
      "\n",
      "[*********************100%***********************]  1 of 1 completed"
     ]
    },
    {
     "name": "stdout",
     "output_type": "stream",
     "text": [
      " Finished MCO\n",
      "Downloading data for MS...\n",
      "Running models for MS...\n"
     ]
    },
    {
     "name": "stderr",
     "output_type": "stream",
     "text": [
      "\n",
      "[*********************100%***********************]  1 of 1 completed"
     ]
    },
    {
     "name": "stdout",
     "output_type": "stream",
     "text": [
      " Finished MS\n",
      "Downloading data for MOS...\n",
      "Running models for MOS...\n"
     ]
    },
    {
     "name": "stderr",
     "output_type": "stream",
     "text": [
      "\n",
      " 65%|██████▌   | 329/503 [04:48<02:57,  1.02s/it]"
     ]
    },
    {
     "name": "stdout",
     "output_type": "stream",
     "text": [
      " Finished MOS\n",
      "Downloading data for MSI...\n"
     ]
    },
    {
     "name": "stderr",
     "output_type": "stream",
     "text": [
      "[*********************100%***********************]  1 of 1 completed\n"
     ]
    },
    {
     "name": "stdout",
     "output_type": "stream",
     "text": [
      "Running models for MSI...\n"
     ]
    },
    {
     "name": "stderr",
     "output_type": "stream",
     "text": [
      "[*********************100%***********************]  1 of 1 completed"
     ]
    },
    {
     "name": "stdout",
     "output_type": "stream",
     "text": [
      " Finished MSI\n",
      "Downloading data for MSCI...\n",
      "Running models for MSCI...\n"
     ]
    },
    {
     "name": "stderr",
     "output_type": "stream",
     "text": [
      "\n",
      "[*********************100%***********************]  1 of 1 completed"
     ]
    },
    {
     "name": "stdout",
     "output_type": "stream",
     "text": [
      " Finished MSCI\n",
      "Downloading data for NDAQ...\n",
      "Running models for NDAQ...\n"
     ]
    },
    {
     "name": "stderr",
     "output_type": "stream",
     "text": [
      "\n",
      "[*********************100%***********************]  1 of 1 completed"
     ]
    },
    {
     "name": "stdout",
     "output_type": "stream",
     "text": [
      " Finished NDAQ\n",
      "Downloading data for NTAP...\n",
      "Running models for NTAP...\n"
     ]
    },
    {
     "name": "stderr",
     "output_type": "stream",
     "text": [
      "\n",
      "[*********************100%***********************]  1 of 1 completed"
     ]
    },
    {
     "name": "stdout",
     "output_type": "stream",
     "text": [
      " Finished NTAP\n",
      "Downloading data for NFLX...\n",
      "Running models for NFLX...\n"
     ]
    },
    {
     "name": "stderr",
     "output_type": "stream",
     "text": [
      "\n",
      "[*********************100%***********************]  1 of 1 completed"
     ]
    },
    {
     "name": "stdout",
     "output_type": "stream",
     "text": [
      " Finished NFLX\n",
      "Downloading data for NEM...\n",
      "Running models for NEM...\n"
     ]
    },
    {
     "name": "stderr",
     "output_type": "stream",
     "text": [
      "\n",
      "[*********************100%***********************]  1 of 1 completed"
     ]
    },
    {
     "name": "stdout",
     "output_type": "stream",
     "text": [
      " Finished NEM\n",
      "Downloading data for NWSA...\n",
      "Running models for NWSA...\n"
     ]
    },
    {
     "name": "stderr",
     "output_type": "stream",
     "text": [
      "\n",
      "[*********************100%***********************]  1 of 1 completed"
     ]
    },
    {
     "name": "stdout",
     "output_type": "stream",
     "text": [
      " Finished NWSA\n",
      "Downloading data for NWS...\n",
      "Running models for NWS...\n"
     ]
    },
    {
     "name": "stderr",
     "output_type": "stream",
     "text": [
      "\n",
      "[*********************100%***********************]  1 of 1 completed"
     ]
    },
    {
     "name": "stdout",
     "output_type": "stream",
     "text": [
      " Finished NWS\n",
      "Downloading data for NEE...\n",
      "Running models for NEE...\n"
     ]
    },
    {
     "name": "stderr",
     "output_type": "stream",
     "text": [
      "\n",
      "[*********************100%***********************]  1 of 1 completed"
     ]
    },
    {
     "name": "stdout",
     "output_type": "stream",
     "text": [
      " Finished NEE\n",
      "Downloading data for NKE...\n",
      "Running models for NKE...\n"
     ]
    },
    {
     "name": "stderr",
     "output_type": "stream",
     "text": [
      "\n",
      "[*********************100%***********************]  1 of 1 completed"
     ]
    },
    {
     "name": "stdout",
     "output_type": "stream",
     "text": [
      " Finished NKE\n",
      "Downloading data for NI...\n",
      "Running models for NI...\n"
     ]
    },
    {
     "name": "stderr",
     "output_type": "stream",
     "text": [
      "\n",
      "[*********************100%***********************]  1 of 1 completed"
     ]
    },
    {
     "name": "stdout",
     "output_type": "stream",
     "text": [
      " Finished NI\n",
      "Downloading data for NDSN...\n",
      "Running models for NDSN...\n"
     ]
    },
    {
     "name": "stderr",
     "output_type": "stream",
     "text": [
      "\n",
      "[*********************100%***********************]  1 of 1 completed"
     ]
    },
    {
     "name": "stdout",
     "output_type": "stream",
     "text": [
      " Finished NDSN\n",
      "Downloading data for NSC...\n"
     ]
    },
    {
     "name": "stderr",
     "output_type": "stream",
     "text": [
      "\n"
     ]
    },
    {
     "name": "stdout",
     "output_type": "stream",
     "text": [
      "Running models for NSC...\n"
     ]
    },
    {
     "name": "stderr",
     "output_type": "stream",
     "text": [
      "[*********************100%***********************]  1 of 1 completed"
     ]
    },
    {
     "name": "stdout",
     "output_type": "stream",
     "text": [
      " Finished NSC\n",
      "Downloading data for NTRS...\n",
      "Running models for NTRS...\n"
     ]
    },
    {
     "name": "stderr",
     "output_type": "stream",
     "text": [
      "\n",
      "[*********************100%***********************]  1 of 1 completed"
     ]
    },
    {
     "name": "stdout",
     "output_type": "stream",
     "text": [
      " Finished NTRS\n",
      "Downloading data for NOC...\n",
      "Running models for NOC...\n"
     ]
    },
    {
     "name": "stderr",
     "output_type": "stream",
     "text": [
      "\n",
      "[*********************100%***********************]  1 of 1 completed"
     ]
    },
    {
     "name": "stdout",
     "output_type": "stream",
     "text": [
      " Finished NOC\n",
      "Downloading data for NCLH...\n",
      "Running models for NCLH...\n"
     ]
    },
    {
     "name": "stderr",
     "output_type": "stream",
     "text": [
      "\n",
      "[*********************100%***********************]  1 of 1 completed"
     ]
    },
    {
     "name": "stdout",
     "output_type": "stream",
     "text": [
      " Finished NCLH\n",
      "Downloading data for NRG...\n",
      "Running models for NRG...\n"
     ]
    },
    {
     "name": "stderr",
     "output_type": "stream",
     "text": [
      "\n",
      "[*********************100%***********************]  1 of 1 completed"
     ]
    },
    {
     "name": "stdout",
     "output_type": "stream",
     "text": [
      " Finished NRG\n",
      "Downloading data for NUE...\n",
      "Running models for NUE...\n"
     ]
    },
    {
     "name": "stderr",
     "output_type": "stream",
     "text": [
      "\n",
      "[*********************100%***********************]  1 of 1 completed"
     ]
    },
    {
     "name": "stdout",
     "output_type": "stream",
     "text": [
      " Finished NUE\n",
      "Downloading data for NVDA...\n",
      "Running models for NVDA...\n"
     ]
    },
    {
     "name": "stderr",
     "output_type": "stream",
     "text": [
      "\n",
      "[*********************100%***********************]  1 of 1 completed"
     ]
    },
    {
     "name": "stdout",
     "output_type": "stream",
     "text": [
      " Finished NVDA\n",
      "Downloading data for NVR...\n",
      "Running models for NVR...\n"
     ]
    },
    {
     "name": "stderr",
     "output_type": "stream",
     "text": [
      "\n",
      "[*********************100%***********************]  1 of 1 completed"
     ]
    },
    {
     "name": "stdout",
     "output_type": "stream",
     "text": [
      " Finished NVR\n",
      "Downloading data for NXPI...\n",
      "Running models for NXPI...\n"
     ]
    },
    {
     "name": "stderr",
     "output_type": "stream",
     "text": [
      "\n",
      "[*********************100%***********************]  1 of 1 completed"
     ]
    },
    {
     "name": "stdout",
     "output_type": "stream",
     "text": [
      " Finished NXPI\n",
      "Downloading data for ORLY...\n",
      "Running models for ORLY...\n"
     ]
    },
    {
     "name": "stderr",
     "output_type": "stream",
     "text": [
      "\n",
      "[*********************100%***********************]  1 of 1 completed"
     ]
    },
    {
     "name": "stdout",
     "output_type": "stream",
     "text": [
      " Finished ORLY\n",
      "Downloading data for OXY...\n",
      "Running models for OXY...\n"
     ]
    },
    {
     "name": "stderr",
     "output_type": "stream",
     "text": [
      "\n",
      "[*********************100%***********************]  1 of 1 completed"
     ]
    },
    {
     "name": "stdout",
     "output_type": "stream",
     "text": [
      " Finished OXY\n",
      "Downloading data for ODFL...\n",
      "Running models for ODFL...\n"
     ]
    },
    {
     "name": "stderr",
     "output_type": "stream",
     "text": [
      "\n",
      "[*********************100%***********************]  1 of 1 completed"
     ]
    },
    {
     "name": "stdout",
     "output_type": "stream",
     "text": [
      " Finished ODFL\n",
      "Downloading data for OMC...\n",
      "Running models for OMC...\n"
     ]
    },
    {
     "name": "stderr",
     "output_type": "stream",
     "text": [
      "\n",
      "[*********************100%***********************]  1 of 1 completed"
     ]
    },
    {
     "name": "stdout",
     "output_type": "stream",
     "text": [
      " Finished OMC\n",
      "Downloading data for ON...\n",
      "Running models for ON...\n"
     ]
    },
    {
     "name": "stderr",
     "output_type": "stream",
     "text": [
      "\n",
      "[*********************100%***********************]  1 of 1 completed"
     ]
    },
    {
     "name": "stdout",
     "output_type": "stream",
     "text": [
      " Finished ON\n",
      "Downloading data for OKE...\n",
      "Running models for OKE...\n"
     ]
    },
    {
     "name": "stderr",
     "output_type": "stream",
     "text": [
      "\n",
      "[*********************100%***********************]  1 of 1 completed"
     ]
    },
    {
     "name": "stdout",
     "output_type": "stream",
     "text": [
      " Finished OKE\n",
      "Downloading data for ORCL...\n",
      "Running models for ORCL...\n"
     ]
    },
    {
     "name": "stderr",
     "output_type": "stream",
     "text": [
      "\n",
      "[*********************100%***********************]  1 of 1 completed"
     ]
    },
    {
     "name": "stdout",
     "output_type": "stream",
     "text": [
      " Finished ORCL\n",
      "Downloading data for OTIS...\n",
      "Running models for OTIS...\n"
     ]
    },
    {
     "name": "stderr",
     "output_type": "stream",
     "text": [
      "\n",
      "[*********************100%***********************]  1 of 1 completed"
     ]
    },
    {
     "name": "stdout",
     "output_type": "stream",
     "text": [
      " Finished OTIS\n",
      "Downloading data for PCAR...\n"
     ]
    },
    {
     "name": "stderr",
     "output_type": "stream",
     "text": [
      "\n"
     ]
    },
    {
     "name": "stdout",
     "output_type": "stream",
     "text": [
      "Running models for PCAR...\n"
     ]
    },
    {
     "name": "stderr",
     "output_type": "stream",
     "text": [
      "[*********************100%***********************]  1 of 1 completed"
     ]
    },
    {
     "name": "stdout",
     "output_type": "stream",
     "text": [
      " Finished PCAR\n",
      "Downloading data for PKG...\n",
      "Running models for PKG...\n"
     ]
    },
    {
     "name": "stderr",
     "output_type": "stream",
     "text": [
      "\n",
      "[*********************100%***********************]  1 of 1 completed"
     ]
    },
    {
     "name": "stdout",
     "output_type": "stream",
     "text": [
      " Finished PKG\n",
      "Downloading data for PLTR...\n",
      "Running models for PLTR...\n"
     ]
    },
    {
     "name": "stderr",
     "output_type": "stream",
     "text": [
      "\n",
      "[*********************100%***********************]  1 of 1 completed"
     ]
    },
    {
     "name": "stdout",
     "output_type": "stream",
     "text": [
      " Finished PLTR\n",
      "Downloading data for PANW...\n",
      "Running models for PANW...\n"
     ]
    },
    {
     "name": "stderr",
     "output_type": "stream",
     "text": [
      "\n",
      "[*********************100%***********************]  1 of 1 completed"
     ]
    },
    {
     "name": "stdout",
     "output_type": "stream",
     "text": [
      " Finished PANW\n",
      "Downloading data for PARA...\n",
      "Running models for PARA...\n"
     ]
    },
    {
     "name": "stderr",
     "output_type": "stream",
     "text": [
      "\n",
      "[*********************100%***********************]  1 of 1 completed"
     ]
    },
    {
     "name": "stdout",
     "output_type": "stream",
     "text": [
      " Finished PARA\n",
      "Downloading data for PH...\n",
      "Running models for PH...\n"
     ]
    },
    {
     "name": "stderr",
     "output_type": "stream",
     "text": [
      "\n",
      "[*********************100%***********************]  1 of 1 completed"
     ]
    },
    {
     "name": "stdout",
     "output_type": "stream",
     "text": [
      " Finished PH\n",
      "Downloading data for PAYX...\n",
      "Running models for PAYX...\n"
     ]
    },
    {
     "name": "stderr",
     "output_type": "stream",
     "text": [
      "\n",
      "[*********************100%***********************]  1 of 1 completed"
     ]
    },
    {
     "name": "stdout",
     "output_type": "stream",
     "text": [
      " Finished PAYX\n",
      "Downloading data for PAYC...\n",
      "Running models for PAYC...\n"
     ]
    },
    {
     "name": "stderr",
     "output_type": "stream",
     "text": [
      "\n",
      "[*********************100%***********************]  1 of 1 completed"
     ]
    },
    {
     "name": "stdout",
     "output_type": "stream",
     "text": [
      " Finished PAYC\n",
      "Downloading data for PYPL...\n",
      "Running models for PYPL...\n"
     ]
    },
    {
     "name": "stderr",
     "output_type": "stream",
     "text": [
      "\n",
      "[*********************100%***********************]  1 of 1 completed"
     ]
    },
    {
     "name": "stdout",
     "output_type": "stream",
     "text": [
      " Finished PYPL\n",
      "Downloading data for PNR...\n",
      "Running models for PNR...\n"
     ]
    },
    {
     "name": "stderr",
     "output_type": "stream",
     "text": [
      "\n",
      "[*********************100%***********************]  1 of 1 completed"
     ]
    },
    {
     "name": "stdout",
     "output_type": "stream",
     "text": [
      " Finished PNR\n",
      "Downloading data for PEP...\n"
     ]
    },
    {
     "name": "stderr",
     "output_type": "stream",
     "text": [
      "\n"
     ]
    },
    {
     "name": "stdout",
     "output_type": "stream",
     "text": [
      "Running models for PEP...\n"
     ]
    },
    {
     "name": "stderr",
     "output_type": "stream",
     "text": [
      "[*********************100%***********************]  1 of 1 completed"
     ]
    },
    {
     "name": "stdout",
     "output_type": "stream",
     "text": [
      " Finished PEP\n",
      "Downloading data for PFE...\n",
      "Running models for PFE...\n"
     ]
    },
    {
     "name": "stderr",
     "output_type": "stream",
     "text": [
      "\n",
      "[*********************100%***********************]  1 of 1 completed"
     ]
    },
    {
     "name": "stdout",
     "output_type": "stream",
     "text": [
      " Finished PFE\n",
      "Downloading data for PCG...\n",
      "Running models for PCG...\n"
     ]
    },
    {
     "name": "stderr",
     "output_type": "stream",
     "text": [
      "\n",
      "[*********************100%***********************]  1 of 1 completed"
     ]
    },
    {
     "name": "stdout",
     "output_type": "stream",
     "text": [
      " Finished PCG\n",
      "Downloading data for PM...\n",
      "Running models for PM...\n"
     ]
    },
    {
     "name": "stderr",
     "output_type": "stream",
     "text": [
      "\n",
      "[*********************100%***********************]  1 of 1 completed"
     ]
    },
    {
     "name": "stdout",
     "output_type": "stream",
     "text": [
      " Finished PM\n",
      "Downloading data for PSX...\n",
      "Running models for PSX...\n"
     ]
    },
    {
     "name": "stderr",
     "output_type": "stream",
     "text": [
      "\n",
      " 74%|███████▍  | 373/503 [05:33<02:00,  1.08it/s]"
     ]
    },
    {
     "name": "stdout",
     "output_type": "stream",
     "text": [
      " Finished PSX\n",
      "Downloading data for PNW...\n"
     ]
    },
    {
     "name": "stderr",
     "output_type": "stream",
     "text": [
      "[*********************100%***********************]  1 of 1 completed\n"
     ]
    },
    {
     "name": "stdout",
     "output_type": "stream",
     "text": [
      "Running models for PNW...\n"
     ]
    },
    {
     "name": "stderr",
     "output_type": "stream",
     "text": [
      "[*********************100%***********************]  1 of 1 completed"
     ]
    },
    {
     "name": "stdout",
     "output_type": "stream",
     "text": [
      " Finished PNW\n",
      "Downloading data for PNC...\n",
      "Running models for PNC...\n"
     ]
    },
    {
     "name": "stderr",
     "output_type": "stream",
     "text": [
      "\n",
      "[*********************100%***********************]  1 of 1 completed"
     ]
    },
    {
     "name": "stdout",
     "output_type": "stream",
     "text": [
      " Finished PNC\n",
      "Downloading data for POOL...\n",
      "Running models for POOL...\n"
     ]
    },
    {
     "name": "stderr",
     "output_type": "stream",
     "text": [
      "\n",
      "[*********************100%***********************]  1 of 1 completed"
     ]
    },
    {
     "name": "stdout",
     "output_type": "stream",
     "text": [
      " Finished POOL\n",
      "Downloading data for PPG...\n",
      "Running models for PPG...\n"
     ]
    },
    {
     "name": "stderr",
     "output_type": "stream",
     "text": [
      "\n",
      "[*********************100%***********************]  1 of 1 completed"
     ]
    },
    {
     "name": "stdout",
     "output_type": "stream",
     "text": [
      " Finished PPG\n",
      "Downloading data for PPL...\n",
      "Running models for PPL...\n"
     ]
    },
    {
     "name": "stderr",
     "output_type": "stream",
     "text": [
      "\n",
      "[*********************100%***********************]  1 of 1 completed"
     ]
    },
    {
     "name": "stdout",
     "output_type": "stream",
     "text": [
      " Finished PPL\n",
      "Downloading data for PFG...\n",
      "Running models for PFG...\n"
     ]
    },
    {
     "name": "stderr",
     "output_type": "stream",
     "text": [
      "\n",
      "[*********************100%***********************]  1 of 1 completed"
     ]
    },
    {
     "name": "stdout",
     "output_type": "stream",
     "text": [
      " Finished PFG\n",
      "Downloading data for PG...\n",
      "Running models for PG...\n"
     ]
    },
    {
     "name": "stderr",
     "output_type": "stream",
     "text": [
      "\n",
      "[*********************100%***********************]  1 of 1 completed"
     ]
    },
    {
     "name": "stdout",
     "output_type": "stream",
     "text": [
      " Finished PG\n",
      "Downloading data for PGR...\n",
      "Running models for PGR...\n"
     ]
    },
    {
     "name": "stderr",
     "output_type": "stream",
     "text": [
      "\n",
      " 76%|███████▌  | 381/503 [05:43<02:40,  1.32s/it]"
     ]
    },
    {
     "name": "stdout",
     "output_type": "stream",
     "text": [
      " Finished PGR\n",
      "Downloading data for PLD...\n"
     ]
    },
    {
     "name": "stderr",
     "output_type": "stream",
     "text": [
      "[*********************100%***********************]  1 of 1 completed\n"
     ]
    },
    {
     "name": "stdout",
     "output_type": "stream",
     "text": [
      "Running models for PLD...\n"
     ]
    },
    {
     "name": "stderr",
     "output_type": "stream",
     "text": [
      "[*********************100%***********************]  1 of 1 completed"
     ]
    },
    {
     "name": "stdout",
     "output_type": "stream",
     "text": [
      " Finished PLD\n",
      "Downloading data for PRU...\n",
      "Running models for PRU...\n"
     ]
    },
    {
     "name": "stderr",
     "output_type": "stream",
     "text": [
      "\n",
      "[*********************100%***********************]  1 of 1 completed"
     ]
    },
    {
     "name": "stdout",
     "output_type": "stream",
     "text": [
      " Finished PRU\n",
      "Downloading data for PEG...\n",
      "Running models for PEG...\n"
     ]
    },
    {
     "name": "stderr",
     "output_type": "stream",
     "text": [
      "\n",
      "[*********************100%***********************]  1 of 1 completed"
     ]
    },
    {
     "name": "stdout",
     "output_type": "stream",
     "text": [
      " Finished PEG\n",
      "Downloading data for PTC...\n",
      "Running models for PTC...\n"
     ]
    },
    {
     "name": "stderr",
     "output_type": "stream",
     "text": [
      "\n",
      "[*********************100%***********************]  1 of 1 completed"
     ]
    },
    {
     "name": "stdout",
     "output_type": "stream",
     "text": [
      " Finished PTC\n",
      "Downloading data for PSA...\n",
      "Running models for PSA...\n"
     ]
    },
    {
     "name": "stderr",
     "output_type": "stream",
     "text": [
      "\n",
      "[*********************100%***********************]  1 of 1 completed"
     ]
    },
    {
     "name": "stdout",
     "output_type": "stream",
     "text": [
      " Finished PSA\n",
      "Downloading data for PHM...\n",
      "Running models for PHM...\n"
     ]
    },
    {
     "name": "stderr",
     "output_type": "stream",
     "text": [
      "\n",
      "[*********************100%***********************]  1 of 1 completed"
     ]
    },
    {
     "name": "stdout",
     "output_type": "stream",
     "text": [
      " Finished PHM\n",
      "Downloading data for PWR...\n",
      "Running models for PWR...\n"
     ]
    },
    {
     "name": "stderr",
     "output_type": "stream",
     "text": [
      "\n",
      "[*********************100%***********************]  1 of 1 completed"
     ]
    },
    {
     "name": "stdout",
     "output_type": "stream",
     "text": [
      " Finished PWR\n",
      "Downloading data for QCOM...\n",
      "Running models for QCOM...\n"
     ]
    },
    {
     "name": "stderr",
     "output_type": "stream",
     "text": [
      "\n",
      "[*********************100%***********************]  1 of 1 completed"
     ]
    },
    {
     "name": "stdout",
     "output_type": "stream",
     "text": [
      " Finished QCOM\n",
      "Downloading data for DGX...\n",
      "Running models for DGX...\n"
     ]
    },
    {
     "name": "stderr",
     "output_type": "stream",
     "text": [
      "\n",
      "[*********************100%***********************]  1 of 1 completed"
     ]
    },
    {
     "name": "stdout",
     "output_type": "stream",
     "text": [
      " Finished DGX\n",
      "Downloading data for RL...\n",
      "Running models for RL...\n"
     ]
    },
    {
     "name": "stderr",
     "output_type": "stream",
     "text": [
      "\n",
      "[*********************100%***********************]  1 of 1 completed"
     ]
    },
    {
     "name": "stdout",
     "output_type": "stream",
     "text": [
      " Finished RL\n",
      "Downloading data for RJF...\n",
      "Running models for RJF...\n"
     ]
    },
    {
     "name": "stderr",
     "output_type": "stream",
     "text": [
      "\n",
      "[*********************100%***********************]  1 of 1 completed"
     ]
    },
    {
     "name": "stdout",
     "output_type": "stream",
     "text": [
      " Finished RJF\n",
      "Downloading data for RTX...\n"
     ]
    },
    {
     "name": "stderr",
     "output_type": "stream",
     "text": [
      "\n"
     ]
    },
    {
     "name": "stdout",
     "output_type": "stream",
     "text": [
      "Running models for RTX...\n"
     ]
    },
    {
     "name": "stderr",
     "output_type": "stream",
     "text": [
      "[*********************100%***********************]  1 of 1 completed"
     ]
    },
    {
     "name": "stdout",
     "output_type": "stream",
     "text": [
      " Finished RTX\n",
      "Downloading data for O...\n",
      "Running models for O...\n"
     ]
    },
    {
     "name": "stderr",
     "output_type": "stream",
     "text": [
      "\n",
      "[*********************100%***********************]  1 of 1 completed"
     ]
    },
    {
     "name": "stdout",
     "output_type": "stream",
     "text": [
      " Finished O\n",
      "Downloading data for REG...\n",
      "Running models for REG...\n"
     ]
    },
    {
     "name": "stderr",
     "output_type": "stream",
     "text": [
      "\n",
      "[*********************100%***********************]  1 of 1 completed"
     ]
    },
    {
     "name": "stdout",
     "output_type": "stream",
     "text": [
      " Finished REG\n",
      "Downloading data for REGN...\n",
      "Running models for REGN...\n"
     ]
    },
    {
     "name": "stderr",
     "output_type": "stream",
     "text": [
      "\n",
      "[*********************100%***********************]  1 of 1 completed"
     ]
    },
    {
     "name": "stdout",
     "output_type": "stream",
     "text": [
      " Finished REGN\n",
      "Downloading data for RF...\n",
      "Running models for RF...\n"
     ]
    },
    {
     "name": "stderr",
     "output_type": "stream",
     "text": [
      "\n",
      "[*********************100%***********************]  1 of 1 completed"
     ]
    },
    {
     "name": "stdout",
     "output_type": "stream",
     "text": [
      " Finished RF\n",
      "Downloading data for RSG...\n",
      "Running models for RSG...\n"
     ]
    },
    {
     "name": "stderr",
     "output_type": "stream",
     "text": [
      "\n",
      "[*********************100%***********************]  1 of 1 completed"
     ]
    },
    {
     "name": "stdout",
     "output_type": "stream",
     "text": [
      " Finished RSG\n",
      "Downloading data for RMD...\n",
      "Running models for RMD...\n"
     ]
    },
    {
     "name": "stderr",
     "output_type": "stream",
     "text": [
      "\n",
      " 79%|███████▉  | 399/503 [06:01<02:41,  1.55s/it]"
     ]
    },
    {
     "name": "stdout",
     "output_type": "stream",
     "text": [
      " Finished RMD\n",
      "Downloading data for RVTY...\n"
     ]
    },
    {
     "name": "stderr",
     "output_type": "stream",
     "text": [
      "[*********************100%***********************]  1 of 1 completed\n"
     ]
    },
    {
     "name": "stdout",
     "output_type": "stream",
     "text": [
      "Running models for RVTY...\n"
     ]
    },
    {
     "name": "stderr",
     "output_type": "stream",
     "text": [
      " 80%|███████▉  | 400/503 [06:09<05:53,  3.44s/it]"
     ]
    },
    {
     "name": "stdout",
     "output_type": "stream",
     "text": [
      " Finished RVTY\n",
      "Downloading data for ROK...\n"
     ]
    },
    {
     "name": "stderr",
     "output_type": "stream",
     "text": [
      "[*********************100%***********************]  1 of 1 completed\n"
     ]
    },
    {
     "name": "stdout",
     "output_type": "stream",
     "text": [
      "Running models for ROK...\n"
     ]
    },
    {
     "name": "stderr",
     "output_type": "stream",
     "text": [
      " 80%|███████▉  | 401/503 [06:12<05:50,  3.44s/it]"
     ]
    },
    {
     "name": "stdout",
     "output_type": "stream",
     "text": [
      " Finished ROK\n",
      "Downloading data for ROL...\n"
     ]
    },
    {
     "name": "stderr",
     "output_type": "stream",
     "text": [
      "[*********************100%***********************]  1 of 1 completed\n"
     ]
    },
    {
     "name": "stdout",
     "output_type": "stream",
     "text": [
      "Running models for ROL...\n"
     ]
    },
    {
     "name": "stderr",
     "output_type": "stream",
     "text": [
      "[*********************100%***********************]  1 of 1 completed"
     ]
    },
    {
     "name": "stdout",
     "output_type": "stream",
     "text": [
      " Finished ROL\n",
      "Downloading data for ROP...\n",
      "Running models for ROP...\n"
     ]
    },
    {
     "name": "stderr",
     "output_type": "stream",
     "text": [
      "\n",
      "[*********************100%***********************]  1 of 1 completed"
     ]
    },
    {
     "name": "stdout",
     "output_type": "stream",
     "text": [
      " Finished ROP\n",
      "Downloading data for ROST...\n",
      "Running models for ROST...\n"
     ]
    },
    {
     "name": "stderr",
     "output_type": "stream",
     "text": [
      "\n",
      "[*********************100%***********************]  1 of 1 completed"
     ]
    },
    {
     "name": "stdout",
     "output_type": "stream",
     "text": [
      " Finished ROST\n",
      "Downloading data for RCL...\n"
     ]
    },
    {
     "name": "stderr",
     "output_type": "stream",
     "text": [
      "\n"
     ]
    },
    {
     "name": "stdout",
     "output_type": "stream",
     "text": [
      "Running models for RCL...\n"
     ]
    },
    {
     "name": "stderr",
     "output_type": "stream",
     "text": [
      "[*********************100%***********************]  1 of 1 completed"
     ]
    },
    {
     "name": "stdout",
     "output_type": "stream",
     "text": [
      " Finished RCL\n",
      "Downloading data for SPGI...\n",
      "Running models for SPGI...\n"
     ]
    },
    {
     "name": "stderr",
     "output_type": "stream",
     "text": [
      "\n",
      "[*********************100%***********************]  1 of 1 completed"
     ]
    },
    {
     "name": "stdout",
     "output_type": "stream",
     "text": [
      " Finished SPGI\n",
      "Downloading data for CRM...\n",
      "Running models for CRM...\n"
     ]
    },
    {
     "name": "stderr",
     "output_type": "stream",
     "text": [
      "\n",
      "[*********************100%***********************]  1 of 1 completed"
     ]
    },
    {
     "name": "stdout",
     "output_type": "stream",
     "text": [
      " Finished CRM\n",
      "Downloading data for SBAC...\n",
      "Running models for SBAC...\n"
     ]
    },
    {
     "name": "stderr",
     "output_type": "stream",
     "text": [
      "\n",
      "[*********************100%***********************]  1 of 1 completed"
     ]
    },
    {
     "name": "stdout",
     "output_type": "stream",
     "text": [
      " Finished SBAC\n",
      "Downloading data for SLB...\n",
      "Running models for SLB...\n"
     ]
    },
    {
     "name": "stderr",
     "output_type": "stream",
     "text": [
      "\n",
      "[*********************100%***********************]  1 of 1 completed"
     ]
    },
    {
     "name": "stdout",
     "output_type": "stream",
     "text": [
      " Finished SLB\n",
      "Downloading data for STX...\n",
      "Running models for STX...\n"
     ]
    },
    {
     "name": "stderr",
     "output_type": "stream",
     "text": [
      "\n",
      "[*********************100%***********************]  1 of 1 completed"
     ]
    },
    {
     "name": "stdout",
     "output_type": "stream",
     "text": [
      " Finished STX\n",
      "Downloading data for SRE...\n",
      "Running models for SRE...\n"
     ]
    },
    {
     "name": "stderr",
     "output_type": "stream",
     "text": [
      "\n",
      "[*********************100%***********************]  1 of 1 completed"
     ]
    },
    {
     "name": "stdout",
     "output_type": "stream",
     "text": [
      " Finished SRE\n",
      "Downloading data for NOW...\n",
      "Running models for NOW...\n"
     ]
    },
    {
     "name": "stderr",
     "output_type": "stream",
     "text": [
      "\n",
      "[*********************100%***********************]  1 of 1 completed"
     ]
    },
    {
     "name": "stdout",
     "output_type": "stream",
     "text": [
      " Finished NOW\n",
      "Downloading data for SHW...\n"
     ]
    },
    {
     "name": "stderr",
     "output_type": "stream",
     "text": [
      "\n"
     ]
    },
    {
     "name": "stdout",
     "output_type": "stream",
     "text": [
      "Running models for SHW...\n"
     ]
    },
    {
     "name": "stderr",
     "output_type": "stream",
     "text": [
      "[*********************100%***********************]  1 of 1 completed"
     ]
    },
    {
     "name": "stdout",
     "output_type": "stream",
     "text": [
      " Finished SHW\n",
      "Downloading data for SPG...\n"
     ]
    },
    {
     "name": "stderr",
     "output_type": "stream",
     "text": [
      "\n"
     ]
    },
    {
     "name": "stdout",
     "output_type": "stream",
     "text": [
      "Running models for SPG...\n"
     ]
    },
    {
     "name": "stderr",
     "output_type": "stream",
     "text": [
      "[*********************100%***********************]  1 of 1 completed"
     ]
    },
    {
     "name": "stdout",
     "output_type": "stream",
     "text": [
      " Finished SPG\n",
      "Downloading data for SWKS...\n",
      "Running models for SWKS...\n"
     ]
    },
    {
     "name": "stderr",
     "output_type": "stream",
     "text": [
      "\n",
      "[*********************100%***********************]  1 of 1 completed"
     ]
    },
    {
     "name": "stdout",
     "output_type": "stream",
     "text": [
      " Finished SWKS\n",
      "Downloading data for SJM...\n",
      "Running models for SJM...\n"
     ]
    },
    {
     "name": "stderr",
     "output_type": "stream",
     "text": [
      "\n",
      "[*********************100%***********************]  1 of 1 completed"
     ]
    },
    {
     "name": "stdout",
     "output_type": "stream",
     "text": [
      " Finished SJM\n",
      "Downloading data for SW...\n",
      "Running models for SW...\n"
     ]
    },
    {
     "name": "stderr",
     "output_type": "stream",
     "text": [
      "\n",
      "[*********************100%***********************]  1 of 1 completed"
     ]
    },
    {
     "name": "stdout",
     "output_type": "stream",
     "text": [
      " Finished SW\n",
      "Downloading data for SNA...\n",
      "Running models for SNA...\n"
     ]
    },
    {
     "name": "stderr",
     "output_type": "stream",
     "text": [
      "\n",
      "[*********************100%***********************]  1 of 1 completed"
     ]
    },
    {
     "name": "stdout",
     "output_type": "stream",
     "text": [
      " Finished SNA\n",
      "Downloading data for SOLV...\n",
      "Running models for SOLV...\n"
     ]
    },
    {
     "name": "stderr",
     "output_type": "stream",
     "text": [
      "\n",
      "[*********************100%***********************]  1 of 1 completed"
     ]
    },
    {
     "name": "stdout",
     "output_type": "stream",
     "text": [
      " Finished SOLV\n",
      "Downloading data for SO...\n"
     ]
    },
    {
     "name": "stderr",
     "output_type": "stream",
     "text": [
      "\n"
     ]
    },
    {
     "name": "stdout",
     "output_type": "stream",
     "text": [
      "Running models for SO...\n"
     ]
    },
    {
     "name": "stderr",
     "output_type": "stream",
     "text": [
      "[*********************100%***********************]  1 of 1 completed"
     ]
    },
    {
     "name": "stdout",
     "output_type": "stream",
     "text": [
      " Finished SO\n",
      "Downloading data for LUV...\n",
      "Running models for LUV...\n"
     ]
    },
    {
     "name": "stderr",
     "output_type": "stream",
     "text": [
      "\n",
      "[*********************100%***********************]  1 of 1 completed"
     ]
    },
    {
     "name": "stdout",
     "output_type": "stream",
     "text": [
      " Finished LUV\n",
      "Downloading data for SWK...\n",
      "Running models for SWK...\n"
     ]
    },
    {
     "name": "stderr",
     "output_type": "stream",
     "text": [
      "\n",
      "[*********************100%***********************]  1 of 1 completed"
     ]
    },
    {
     "name": "stdout",
     "output_type": "stream",
     "text": [
      " Finished SWK\n",
      "Downloading data for SBUX...\n",
      "Running models for SBUX...\n"
     ]
    },
    {
     "name": "stderr",
     "output_type": "stream",
     "text": [
      "\n",
      "[*********************100%***********************]  1 of 1 completed"
     ]
    },
    {
     "name": "stdout",
     "output_type": "stream",
     "text": [
      " Finished SBUX\n",
      "Downloading data for STT...\n",
      "Running models for STT...\n"
     ]
    },
    {
     "name": "stderr",
     "output_type": "stream",
     "text": [
      "\n",
      "[*********************100%***********************]  1 of 1 completed"
     ]
    },
    {
     "name": "stdout",
     "output_type": "stream",
     "text": [
      " Finished STT\n",
      "Downloading data for STLD...\n",
      "Running models for STLD...\n"
     ]
    },
    {
     "name": "stderr",
     "output_type": "stream",
     "text": [
      "\n",
      "[*********************100%***********************]  1 of 1 completed"
     ]
    },
    {
     "name": "stdout",
     "output_type": "stream",
     "text": [
      " Finished STLD\n",
      "Downloading data for STE...\n",
      "Running models for STE...\n"
     ]
    },
    {
     "name": "stderr",
     "output_type": "stream",
     "text": [
      "\n",
      "[*********************100%***********************]  1 of 1 completed"
     ]
    },
    {
     "name": "stdout",
     "output_type": "stream",
     "text": [
      " Finished STE\n",
      "Downloading data for SYK...\n",
      "Running models for SYK...\n"
     ]
    },
    {
     "name": "stderr",
     "output_type": "stream",
     "text": [
      "\n",
      "[*********************100%***********************]  1 of 1 completed\n"
     ]
    },
    {
     "name": "stdout",
     "output_type": "stream",
     "text": [
      " Finished SYK\n",
      "Downloading data for SMCI...\n",
      "Running models for SMCI...\n"
     ]
    },
    {
     "name": "stderr",
     "output_type": "stream",
     "text": [
      "[*********************100%***********************]  1 of 1 completed"
     ]
    },
    {
     "name": "stdout",
     "output_type": "stream",
     "text": [
      " Finished SMCI\n",
      "Downloading data for SYF...\n",
      "Running models for SYF...\n"
     ]
    },
    {
     "name": "stderr",
     "output_type": "stream",
     "text": [
      "\n",
      "[*********************100%***********************]  1 of 1 completed"
     ]
    },
    {
     "name": "stdout",
     "output_type": "stream",
     "text": [
      " Finished SYF\n",
      "Downloading data for SNPS...\n",
      "Running models for SNPS...\n"
     ]
    },
    {
     "name": "stderr",
     "output_type": "stream",
     "text": [
      "\n",
      "[*********************100%***********************]  1 of 1 completed"
     ]
    },
    {
     "name": "stdout",
     "output_type": "stream",
     "text": [
      " Finished SNPS\n",
      "Downloading data for SYY...\n",
      "Running models for SYY...\n"
     ]
    },
    {
     "name": "stderr",
     "output_type": "stream",
     "text": [
      "\n",
      "[*********************100%***********************]  1 of 1 completed"
     ]
    },
    {
     "name": "stdout",
     "output_type": "stream",
     "text": [
      " Finished SYY\n",
      "Downloading data for TMUS...\n",
      "Running models for TMUS...\n"
     ]
    },
    {
     "name": "stderr",
     "output_type": "stream",
     "text": [
      "\n",
      "[*********************100%***********************]  1 of 1 completed"
     ]
    },
    {
     "name": "stdout",
     "output_type": "stream",
     "text": [
      " Finished TMUS\n",
      "Downloading data for TROW...\n",
      "Running models for TROW...\n"
     ]
    },
    {
     "name": "stderr",
     "output_type": "stream",
     "text": [
      "\n",
      "[*********************100%***********************]  1 of 1 completed"
     ]
    },
    {
     "name": "stdout",
     "output_type": "stream",
     "text": [
      " Finished TROW\n",
      "Downloading data for TTWO...\n",
      "Running models for TTWO...\n"
     ]
    },
    {
     "name": "stderr",
     "output_type": "stream",
     "text": [
      "\n",
      "[*********************100%***********************]  1 of 1 completed"
     ]
    },
    {
     "name": "stdout",
     "output_type": "stream",
     "text": [
      " Finished TTWO\n",
      "Downloading data for TPR...\n",
      "Running models for TPR...\n"
     ]
    },
    {
     "name": "stderr",
     "output_type": "stream",
     "text": [
      "\n",
      "[*********************100%***********************]  1 of 1 completed"
     ]
    },
    {
     "name": "stdout",
     "output_type": "stream",
     "text": [
      " Finished TPR\n",
      "Downloading data for TRGP...\n",
      "Running models for TRGP...\n"
     ]
    },
    {
     "name": "stderr",
     "output_type": "stream",
     "text": [
      "\n",
      "[*********************100%***********************]  1 of 1 completed"
     ]
    },
    {
     "name": "stdout",
     "output_type": "stream",
     "text": [
      " Finished TRGP\n",
      "Downloading data for TGT...\n",
      "Running models for TGT...\n"
     ]
    },
    {
     "name": "stderr",
     "output_type": "stream",
     "text": [
      "\n",
      "[*********************100%***********************]  1 of 1 completed"
     ]
    },
    {
     "name": "stdout",
     "output_type": "stream",
     "text": [
      " Finished TGT\n",
      "Downloading data for TEL...\n",
      "Running models for TEL...\n"
     ]
    },
    {
     "name": "stderr",
     "output_type": "stream",
     "text": [
      "\n",
      "[*********************100%***********************]  1 of 1 completed"
     ]
    },
    {
     "name": "stdout",
     "output_type": "stream",
     "text": [
      " Finished TEL\n",
      "Downloading data for TDY...\n",
      "Running models for TDY...\n"
     ]
    },
    {
     "name": "stderr",
     "output_type": "stream",
     "text": [
      "\n",
      "[*********************100%***********************]  1 of 1 completed"
     ]
    },
    {
     "name": "stdout",
     "output_type": "stream",
     "text": [
      " Finished TDY\n",
      "Downloading data for TER...\n",
      "Running models for TER...\n"
     ]
    },
    {
     "name": "stderr",
     "output_type": "stream",
     "text": [
      "\n",
      "[*********************100%***********************]  1 of 1 completed"
     ]
    },
    {
     "name": "stdout",
     "output_type": "stream",
     "text": [
      " Finished TER\n",
      "Downloading data for TSLA...\n",
      "Running models for TSLA...\n"
     ]
    },
    {
     "name": "stderr",
     "output_type": "stream",
     "text": [
      "\n",
      "[*********************100%***********************]  1 of 1 completed"
     ]
    },
    {
     "name": "stdout",
     "output_type": "stream",
     "text": [
      " Finished TSLA\n",
      "Downloading data for TXN...\n"
     ]
    },
    {
     "name": "stderr",
     "output_type": "stream",
     "text": [
      "\n"
     ]
    },
    {
     "name": "stdout",
     "output_type": "stream",
     "text": [
      "Running models for TXN...\n"
     ]
    },
    {
     "name": "stderr",
     "output_type": "stream",
     "text": [
      "[*********************100%***********************]  1 of 1 completed"
     ]
    },
    {
     "name": "stdout",
     "output_type": "stream",
     "text": [
      " Finished TXN\n",
      "Downloading data for TPL...\n",
      "Running models for TPL...\n"
     ]
    },
    {
     "name": "stderr",
     "output_type": "stream",
     "text": [
      "\n",
      "[*********************100%***********************]  1 of 1 completed"
     ]
    },
    {
     "name": "stdout",
     "output_type": "stream",
     "text": [
      " Finished TPL\n",
      "Downloading data for TXT...\n"
     ]
    },
    {
     "name": "stderr",
     "output_type": "stream",
     "text": [
      "\n"
     ]
    },
    {
     "name": "stdout",
     "output_type": "stream",
     "text": [
      "Running models for TXT...\n"
     ]
    },
    {
     "name": "stderr",
     "output_type": "stream",
     "text": [
      "[*********************100%***********************]  1 of 1 completed"
     ]
    },
    {
     "name": "stdout",
     "output_type": "stream",
     "text": [
      " Finished TXT\n",
      "Downloading data for TMO...\n"
     ]
    },
    {
     "name": "stderr",
     "output_type": "stream",
     "text": [
      "\n"
     ]
    },
    {
     "name": "stdout",
     "output_type": "stream",
     "text": [
      "Running models for TMO...\n"
     ]
    },
    {
     "name": "stderr",
     "output_type": "stream",
     "text": [
      "[*********************100%***********************]  1 of 1 completed"
     ]
    },
    {
     "name": "stdout",
     "output_type": "stream",
     "text": [
      " Finished TMO\n",
      "Downloading data for TJX...\n",
      "Running models for TJX...\n"
     ]
    },
    {
     "name": "stderr",
     "output_type": "stream",
     "text": [
      "\n",
      "[*********************100%***********************]  1 of 1 completed"
     ]
    },
    {
     "name": "stdout",
     "output_type": "stream",
     "text": [
      " Finished TJX\n",
      "Downloading data for TKO...\n",
      "Running models for TKO...\n"
     ]
    },
    {
     "name": "stderr",
     "output_type": "stream",
     "text": [
      "\n",
      "[*********************100%***********************]  1 of 1 completed"
     ]
    },
    {
     "name": "stdout",
     "output_type": "stream",
     "text": [
      " Finished TKO\n",
      "Downloading data for TSCO...\n",
      "Running models for TSCO...\n"
     ]
    },
    {
     "name": "stderr",
     "output_type": "stream",
     "text": [
      "\n",
      "[*********************100%***********************]  1 of 1 completed"
     ]
    },
    {
     "name": "stdout",
     "output_type": "stream",
     "text": [
      " Finished TSCO\n",
      "Downloading data for TT...\n",
      "Running models for TT...\n"
     ]
    },
    {
     "name": "stderr",
     "output_type": "stream",
     "text": [
      "\n",
      "[*********************100%***********************]  1 of 1 completed"
     ]
    },
    {
     "name": "stdout",
     "output_type": "stream",
     "text": [
      " Finished TT\n",
      "Downloading data for TDG...\n",
      "Running models for TDG...\n"
     ]
    },
    {
     "name": "stderr",
     "output_type": "stream",
     "text": [
      "\n",
      "[*********************100%***********************]  1 of 1 completed"
     ]
    },
    {
     "name": "stdout",
     "output_type": "stream",
     "text": [
      " Finished TDG\n",
      "Downloading data for TRV...\n",
      "Running models for TRV...\n"
     ]
    },
    {
     "name": "stderr",
     "output_type": "stream",
     "text": [
      "\n",
      "[*********************100%***********************]  1 of 1 completed"
     ]
    },
    {
     "name": "stdout",
     "output_type": "stream",
     "text": [
      " Finished TRV\n",
      "Downloading data for TRMB...\n",
      "Running models for TRMB...\n"
     ]
    },
    {
     "name": "stderr",
     "output_type": "stream",
     "text": [
      "\n",
      "[*********************100%***********************]  1 of 1 completed"
     ]
    },
    {
     "name": "stdout",
     "output_type": "stream",
     "text": [
      " Finished TRMB\n",
      "Downloading data for TFC...\n",
      "Running models for TFC...\n"
     ]
    },
    {
     "name": "stderr",
     "output_type": "stream",
     "text": [
      "\n",
      "[*********************100%***********************]  1 of 1 completed"
     ]
    },
    {
     "name": "stdout",
     "output_type": "stream",
     "text": [
      " Finished TFC\n",
      "Downloading data for TYL...\n",
      "Running models for TYL...\n"
     ]
    },
    {
     "name": "stderr",
     "output_type": "stream",
     "text": [
      "\n",
      "[*********************100%***********************]  1 of 1 completed"
     ]
    },
    {
     "name": "stdout",
     "output_type": "stream",
     "text": [
      " Finished TYL\n",
      "Downloading data for TSN...\n",
      "Running models for TSN...\n"
     ]
    },
    {
     "name": "stderr",
     "output_type": "stream",
     "text": [
      "\n",
      "[*********************100%***********************]  1 of 1 completed"
     ]
    },
    {
     "name": "stdout",
     "output_type": "stream",
     "text": [
      " Finished TSN\n",
      "Downloading data for USB...\n",
      "Running models for USB...\n"
     ]
    },
    {
     "name": "stderr",
     "output_type": "stream",
     "text": [
      "\n",
      "[*********************100%***********************]  1 of 1 completed"
     ]
    },
    {
     "name": "stdout",
     "output_type": "stream",
     "text": [
      " Finished USB\n",
      "Downloading data for UBER...\n",
      "Running models for UBER...\n"
     ]
    },
    {
     "name": "stderr",
     "output_type": "stream",
     "text": [
      "\n",
      "[*********************100%***********************]  1 of 1 completed"
     ]
    },
    {
     "name": "stdout",
     "output_type": "stream",
     "text": [
      " Finished UBER\n",
      "Downloading data for UDR...\n",
      "Running models for UDR...\n"
     ]
    },
    {
     "name": "stderr",
     "output_type": "stream",
     "text": [
      "\n",
      "[*********************100%***********************]  1 of 1 completed"
     ]
    },
    {
     "name": "stdout",
     "output_type": "stream",
     "text": [
      " Finished UDR\n",
      "Downloading data for ULTA...\n",
      "Running models for ULTA...\n"
     ]
    },
    {
     "name": "stderr",
     "output_type": "stream",
     "text": [
      "\n",
      "[*********************100%***********************]  1 of 1 completed"
     ]
    },
    {
     "name": "stdout",
     "output_type": "stream",
     "text": [
      " Finished ULTA\n",
      "Downloading data for UNP...\n",
      "Running models for UNP...\n"
     ]
    },
    {
     "name": "stderr",
     "output_type": "stream",
     "text": [
      "\n",
      "[*********************100%***********************]  1 of 1 completed"
     ]
    },
    {
     "name": "stdout",
     "output_type": "stream",
     "text": [
      " Finished UNP\n",
      "Downloading data for UAL...\n",
      "Running models for UAL...\n"
     ]
    },
    {
     "name": "stderr",
     "output_type": "stream",
     "text": [
      "\n",
      "[*********************100%***********************]  1 of 1 completed"
     ]
    },
    {
     "name": "stdout",
     "output_type": "stream",
     "text": [
      " Finished UAL\n",
      "Downloading data for UPS...\n",
      "Running models for UPS...\n"
     ]
    },
    {
     "name": "stderr",
     "output_type": "stream",
     "text": [
      "\n",
      "[*********************100%***********************]  1 of 1 completed"
     ]
    },
    {
     "name": "stdout",
     "output_type": "stream",
     "text": [
      " Finished UPS\n",
      "Downloading data for URI...\n",
      "Running models for URI...\n"
     ]
    },
    {
     "name": "stderr",
     "output_type": "stream",
     "text": [
      "\n",
      "[*********************100%***********************]  1 of 1 completed"
     ]
    },
    {
     "name": "stdout",
     "output_type": "stream",
     "text": [
      " Finished URI\n",
      "Downloading data for UNH...\n",
      "Running models for UNH...\n"
     ]
    },
    {
     "name": "stderr",
     "output_type": "stream",
     "text": [
      "\n",
      "[*********************100%***********************]  1 of 1 completed"
     ]
    },
    {
     "name": "stdout",
     "output_type": "stream",
     "text": [
      " Finished UNH\n",
      "Downloading data for UHS...\n",
      "Running models for UHS...\n"
     ]
    },
    {
     "name": "stderr",
     "output_type": "stream",
     "text": [
      "\n",
      "[*********************100%***********************]  1 of 1 completed"
     ]
    },
    {
     "name": "stdout",
     "output_type": "stream",
     "text": [
      " Finished UHS\n",
      "Downloading data for VLO...\n",
      "Running models for VLO...\n"
     ]
    },
    {
     "name": "stderr",
     "output_type": "stream",
     "text": [
      "\n",
      "[*********************100%***********************]  1 of 1 completed"
     ]
    },
    {
     "name": "stdout",
     "output_type": "stream",
     "text": [
      " Finished VLO\n",
      "Downloading data for VTR...\n",
      "Running models for VTR...\n"
     ]
    },
    {
     "name": "stderr",
     "output_type": "stream",
     "text": [
      "\n",
      "[*********************100%***********************]  1 of 1 completed"
     ]
    },
    {
     "name": "stdout",
     "output_type": "stream",
     "text": [
      " Finished VTR\n",
      "Downloading data for VLTO...\n",
      "Running models for VLTO...\n"
     ]
    },
    {
     "name": "stderr",
     "output_type": "stream",
     "text": [
      "\n",
      "[*********************100%***********************]  1 of 1 completed"
     ]
    },
    {
     "name": "stdout",
     "output_type": "stream",
     "text": [
      " Finished VLTO\n",
      "Downloading data for VRSN...\n",
      "Running models for VRSN...\n"
     ]
    },
    {
     "name": "stderr",
     "output_type": "stream",
     "text": [
      "\n",
      "[*********************100%***********************]  1 of 1 completed"
     ]
    },
    {
     "name": "stdout",
     "output_type": "stream",
     "text": [
      " Finished VRSN\n",
      "Downloading data for VRSK...\n",
      "Running models for VRSK...\n"
     ]
    },
    {
     "name": "stderr",
     "output_type": "stream",
     "text": [
      "\n",
      "[*********************100%***********************]  1 of 1 completed"
     ]
    },
    {
     "name": "stdout",
     "output_type": "stream",
     "text": [
      " Finished VRSK\n",
      "Downloading data for VZ...\n",
      "Running models for VZ...\n"
     ]
    },
    {
     "name": "stderr",
     "output_type": "stream",
     "text": [
      "\n",
      "[*********************100%***********************]  1 of 1 completed"
     ]
    },
    {
     "name": "stdout",
     "output_type": "stream",
     "text": [
      " Finished VZ\n",
      "Downloading data for VRTX...\n",
      "Running models for VRTX...\n"
     ]
    },
    {
     "name": "stderr",
     "output_type": "stream",
     "text": [
      "\n",
      "[*********************100%***********************]  1 of 1 completed"
     ]
    },
    {
     "name": "stdout",
     "output_type": "stream",
     "text": [
      " Finished VRTX\n",
      "Downloading data for VTRS...\n",
      "Running models for VTRS...\n"
     ]
    },
    {
     "name": "stderr",
     "output_type": "stream",
     "text": [
      "\n",
      "[*********************100%***********************]  1 of 1 completed"
     ]
    },
    {
     "name": "stdout",
     "output_type": "stream",
     "text": [
      " Finished VTRS\n",
      "Downloading data for VICI...\n",
      "Running models for VICI...\n"
     ]
    },
    {
     "name": "stderr",
     "output_type": "stream",
     "text": [
      "\n",
      "[*********************100%***********************]  1 of 1 completed"
     ]
    },
    {
     "name": "stdout",
     "output_type": "stream",
     "text": [
      " Finished VICI\n",
      "Downloading data for V...\n",
      "Running models for V...\n"
     ]
    },
    {
     "name": "stderr",
     "output_type": "stream",
     "text": [
      "\n",
      "[*********************100%***********************]  1 of 1 completed"
     ]
    },
    {
     "name": "stdout",
     "output_type": "stream",
     "text": [
      " Finished V\n",
      "Downloading data for VST...\n",
      "Running models for VST...\n"
     ]
    },
    {
     "name": "stderr",
     "output_type": "stream",
     "text": [
      "\n",
      "[*********************100%***********************]  1 of 1 completed"
     ]
    },
    {
     "name": "stdout",
     "output_type": "stream",
     "text": [
      " Finished VST\n",
      "Downloading data for VMC...\n",
      "Running models for VMC...\n"
     ]
    },
    {
     "name": "stderr",
     "output_type": "stream",
     "text": [
      "\n",
      "[*********************100%***********************]  1 of 1 completed"
     ]
    },
    {
     "name": "stdout",
     "output_type": "stream",
     "text": [
      " Finished VMC\n",
      "Downloading data for WRB...\n",
      "Running models for WRB...\n"
     ]
    },
    {
     "name": "stderr",
     "output_type": "stream",
     "text": [
      "\n",
      "[*********************100%***********************]  1 of 1 completed"
     ]
    },
    {
     "name": "stdout",
     "output_type": "stream",
     "text": [
      " Finished WRB\n",
      "Downloading data for GWW...\n",
      "Running models for GWW...\n"
     ]
    },
    {
     "name": "stderr",
     "output_type": "stream",
     "text": [
      "\n",
      "[*********************100%***********************]  1 of 1 completed"
     ]
    },
    {
     "name": "stdout",
     "output_type": "stream",
     "text": [
      " Finished GWW\n",
      "Downloading data for WAB...\n",
      "Running models for WAB...\n"
     ]
    },
    {
     "name": "stderr",
     "output_type": "stream",
     "text": [
      "\n",
      "[*********************100%***********************]  1 of 1 completed"
     ]
    },
    {
     "name": "stdout",
     "output_type": "stream",
     "text": [
      " Finished WAB\n",
      "Downloading data for WBA...\n",
      "Running models for WBA...\n"
     ]
    },
    {
     "name": "stderr",
     "output_type": "stream",
     "text": [
      "\n",
      "[*********************100%***********************]  1 of 1 completed"
     ]
    },
    {
     "name": "stdout",
     "output_type": "stream",
     "text": [
      " Finished WBA\n",
      "Downloading data for WMT...\n",
      "Running models for WMT...\n"
     ]
    },
    {
     "name": "stderr",
     "output_type": "stream",
     "text": [
      "\n",
      "[*********************100%***********************]  1 of 1 completed"
     ]
    },
    {
     "name": "stdout",
     "output_type": "stream",
     "text": [
      " Finished WMT\n",
      "Downloading data for DIS...\n",
      "Running models for DIS...\n"
     ]
    },
    {
     "name": "stderr",
     "output_type": "stream",
     "text": [
      "\n",
      "[*********************100%***********************]  1 of 1 completed"
     ]
    },
    {
     "name": "stdout",
     "output_type": "stream",
     "text": [
      " Finished DIS\n",
      "Downloading data for WBD...\n",
      "Running models for WBD...\n"
     ]
    },
    {
     "name": "stderr",
     "output_type": "stream",
     "text": [
      "\n",
      "[*********************100%***********************]  1 of 1 completed"
     ]
    },
    {
     "name": "stdout",
     "output_type": "stream",
     "text": [
      " Finished WBD\n",
      "Downloading data for WM...\n",
      "Running models for WM...\n"
     ]
    },
    {
     "name": "stderr",
     "output_type": "stream",
     "text": [
      "\n",
      "[*********************100%***********************]  1 of 1 completed"
     ]
    },
    {
     "name": "stdout",
     "output_type": "stream",
     "text": [
      " Finished WM\n",
      "Downloading data for WAT...\n",
      "Running models for WAT...\n"
     ]
    },
    {
     "name": "stderr",
     "output_type": "stream",
     "text": [
      "\n",
      "[*********************100%***********************]  1 of 1 completed"
     ]
    },
    {
     "name": "stdout",
     "output_type": "stream",
     "text": [
      " Finished WAT\n",
      "Downloading data for WEC...\n",
      "Running models for WEC...\n"
     ]
    },
    {
     "name": "stderr",
     "output_type": "stream",
     "text": [
      "\n",
      "[*********************100%***********************]  1 of 1 completed"
     ]
    },
    {
     "name": "stdout",
     "output_type": "stream",
     "text": [
      " Finished WEC\n",
      "Downloading data for WFC...\n",
      "Running models for WFC...\n"
     ]
    },
    {
     "name": "stderr",
     "output_type": "stream",
     "text": [
      "\n",
      "[*********************100%***********************]  1 of 1 completed"
     ]
    },
    {
     "name": "stdout",
     "output_type": "stream",
     "text": [
      " Finished WFC\n",
      "Downloading data for WELL...\n",
      "Running models for WELL...\n"
     ]
    },
    {
     "name": "stderr",
     "output_type": "stream",
     "text": [
      "\n",
      " 97%|█████████▋| 489/503 [07:27<00:11,  1.24it/s]"
     ]
    },
    {
     "name": "stdout",
     "output_type": "stream",
     "text": [
      " Finished WELL\n",
      "Downloading data for WST...\n"
     ]
    },
    {
     "name": "stderr",
     "output_type": "stream",
     "text": [
      "[*********************100%***********************]  1 of 1 completed\n"
     ]
    },
    {
     "name": "stdout",
     "output_type": "stream",
     "text": [
      "Running models for WST...\n"
     ]
    },
    {
     "name": "stderr",
     "output_type": "stream",
     "text": [
      "[*********************100%***********************]  1 of 1 completed"
     ]
    },
    {
     "name": "stdout",
     "output_type": "stream",
     "text": [
      " Finished WST\n",
      "Downloading data for WDC...\n",
      "Running models for WDC...\n"
     ]
    },
    {
     "name": "stderr",
     "output_type": "stream",
     "text": [
      "\n",
      "[*********************100%***********************]  1 of 1 completed"
     ]
    },
    {
     "name": "stdout",
     "output_type": "stream",
     "text": [
      " Finished WDC\n",
      "Downloading data for WY...\n",
      "Running models for WY...\n"
     ]
    },
    {
     "name": "stderr",
     "output_type": "stream",
     "text": [
      "\n",
      "[*********************100%***********************]  1 of 1 completed"
     ]
    },
    {
     "name": "stdout",
     "output_type": "stream",
     "text": [
      " Finished WY\n",
      "Downloading data for WSM...\n",
      "Running models for WSM...\n"
     ]
    },
    {
     "name": "stderr",
     "output_type": "stream",
     "text": [
      "\n",
      "[*********************100%***********************]  1 of 1 completed"
     ]
    },
    {
     "name": "stdout",
     "output_type": "stream",
     "text": [
      " Finished WSM\n",
      "Downloading data for WMB...\n",
      "Running models for WMB...\n"
     ]
    },
    {
     "name": "stderr",
     "output_type": "stream",
     "text": [
      "\n",
      "[*********************100%***********************]  1 of 1 completed"
     ]
    },
    {
     "name": "stdout",
     "output_type": "stream",
     "text": [
      " Finished WMB\n",
      "Downloading data for WTW...\n",
      "Running models for WTW...\n"
     ]
    },
    {
     "name": "stderr",
     "output_type": "stream",
     "text": [
      "\n",
      "[*********************100%***********************]  1 of 1 completed"
     ]
    },
    {
     "name": "stdout",
     "output_type": "stream",
     "text": [
      " Finished WTW\n",
      "Downloading data for WDAY...\n",
      "Running models for WDAY...\n"
     ]
    },
    {
     "name": "stderr",
     "output_type": "stream",
     "text": [
      "\n",
      "[*********************100%***********************]  1 of 1 completed"
     ]
    },
    {
     "name": "stdout",
     "output_type": "stream",
     "text": [
      " Finished WDAY\n",
      "Downloading data for WYNN...\n",
      "Running models for WYNN...\n"
     ]
    },
    {
     "name": "stderr",
     "output_type": "stream",
     "text": [
      "\n",
      "[*********************100%***********************]  1 of 1 completed"
     ]
    },
    {
     "name": "stdout",
     "output_type": "stream",
     "text": [
      " Finished WYNN\n",
      "Downloading data for XEL...\n",
      "Running models for XEL...\n"
     ]
    },
    {
     "name": "stderr",
     "output_type": "stream",
     "text": [
      "\n",
      "[*********************100%***********************]  1 of 1 completed"
     ]
    },
    {
     "name": "stdout",
     "output_type": "stream",
     "text": [
      " Finished XEL\n",
      "Downloading data for XYL...\n",
      "Running models for XYL...\n"
     ]
    },
    {
     "name": "stderr",
     "output_type": "stream",
     "text": [
      "\n",
      "[*********************100%***********************]  1 of 1 completed"
     ]
    },
    {
     "name": "stdout",
     "output_type": "stream",
     "text": [
      " Finished XYL\n",
      "Downloading data for YUM...\n",
      "Running models for YUM...\n"
     ]
    },
    {
     "name": "stderr",
     "output_type": "stream",
     "text": [
      "\n",
      "[*********************100%***********************]  1 of 1 completed"
     ]
    },
    {
     "name": "stdout",
     "output_type": "stream",
     "text": [
      " Finished YUM\n",
      "Downloading data for ZBRA...\n",
      "Running models for ZBRA...\n"
     ]
    },
    {
     "name": "stderr",
     "output_type": "stream",
     "text": [
      "\n",
      "[*********************100%***********************]  1 of 1 completed"
     ]
    },
    {
     "name": "stdout",
     "output_type": "stream",
     "text": [
      " Finished ZBRA\n",
      "Downloading data for ZBH...\n",
      "Running models for ZBH...\n"
     ]
    },
    {
     "name": "stderr",
     "output_type": "stream",
     "text": [
      "\n",
      "100%|█████████▉| 502/503 [07:38<00:00,  1.31it/s]"
     ]
    },
    {
     "name": "stdout",
     "output_type": "stream",
     "text": [
      " Finished ZBH\n",
      "Downloading data for ZTS...\n"
     ]
    },
    {
     "name": "stderr",
     "output_type": "stream",
     "text": [
      "[*********************100%***********************]  1 of 1 completed\n"
     ]
    },
    {
     "name": "stdout",
     "output_type": "stream",
     "text": [
      "Running models for ZTS...\n"
     ]
    },
    {
     "name": "stderr",
     "output_type": "stream",
     "text": [
      "100%|██████████| 503/503 [07:38<00:00,  1.10it/s]"
     ]
    },
    {
     "name": "stdout",
     "output_type": "stream",
     "text": [
      " Finished ZTS\n"
     ]
    },
    {
     "name": "stderr",
     "output_type": "stream",
     "text": [
      "\n"
     ]
    }
   ],
   "source": [
    "from tqdm import tqdm  # optional, shows progress bar\n",
    "\n",
    "all_results = []\n",
    "\n",
    "for _, row in tqdm(sp_df.iterrows(), total=len(sp_df)):\n",
    "    symbol = row['Symbol']\n",
    "    sector = row['GICS Sector']\n",
    "    results = run_all_models_for_ticker(symbol, sector=sector)\n",
    "    all_results.extend(results)\n"
   ]
  },
  {
   "cell_type": "code",
   "execution_count": 23,
   "metadata": {},
   "outputs": [
    {
     "data": {
      "text/html": [
       "<div>\n",
       "<style scoped>\n",
       "    .dataframe tbody tr th:only-of-type {\n",
       "        vertical-align: middle;\n",
       "    }\n",
       "\n",
       "    .dataframe tbody tr th {\n",
       "        vertical-align: top;\n",
       "    }\n",
       "\n",
       "    .dataframe thead th {\n",
       "        text-align: right;\n",
       "    }\n",
       "</style>\n",
       "<table border=\"1\" class=\"dataframe\">\n",
       "  <thead>\n",
       "    <tr style=\"text-align: right;\">\n",
       "      <th></th>\n",
       "      <th>Top 2 Count</th>\n",
       "      <th>Top 2 %</th>\n",
       "    </tr>\n",
       "    <tr>\n",
       "      <th>Model</th>\n",
       "      <th></th>\n",
       "      <th></th>\n",
       "    </tr>\n",
       "  </thead>\n",
       "  <tbody>\n",
       "    <tr>\n",
       "      <th>Model0 (Rule SMA)</th>\n",
       "      <td>220</td>\n",
       "      <td>43.7</td>\n",
       "    </tr>\n",
       "    <tr>\n",
       "      <th>Model4 (RL)</th>\n",
       "      <td>183</td>\n",
       "      <td>36.4</td>\n",
       "    </tr>\n",
       "    <tr>\n",
       "      <th>Model1 (RL)</th>\n",
       "      <td>153</td>\n",
       "      <td>30.4</td>\n",
       "    </tr>\n",
       "    <tr>\n",
       "      <th>Model2 (RL)</th>\n",
       "      <td>146</td>\n",
       "      <td>29.0</td>\n",
       "    </tr>\n",
       "    <tr>\n",
       "      <th>Model5 (Rule Mean Reversion)</th>\n",
       "      <td>123</td>\n",
       "      <td>24.5</td>\n",
       "    </tr>\n",
       "    <tr>\n",
       "      <th>Model3 (RL)</th>\n",
       "      <td>122</td>\n",
       "      <td>24.3</td>\n",
       "    </tr>\n",
       "    <tr>\n",
       "      <th>Model6 (RL Mean Reversion)</th>\n",
       "      <td>59</td>\n",
       "      <td>11.7</td>\n",
       "    </tr>\n",
       "  </tbody>\n",
       "</table>\n",
       "</div>"
      ],
      "text/plain": [
       "                              Top 2 Count  Top 2 %\n",
       "Model                                             \n",
       "Model0 (Rule SMA)                     220     43.7\n",
       "Model4 (RL)                           183     36.4\n",
       "Model1 (RL)                           153     30.4\n",
       "Model2 (RL)                           146     29.0\n",
       "Model5 (Rule Mean Reversion)          123     24.5\n",
       "Model3 (RL)                           122     24.3\n",
       "Model6 (RL Mean Reversion)             59     11.7"
      ]
     },
     "metadata": {},
     "output_type": "display_data"
    }
   ],
   "source": [
    "#create a master df\n",
    "\n",
    "df_all = pd.DataFrame(all_results)\n",
    "\n",
    "# Rank within each ticker\n",
    "df_all['Rank'] = df_all.groupby('Ticker')[\"Total Return (%)\"].rank(ascending=False)\n",
    "\n",
    "# Round for pretty display\n",
    "df_all = df_all.round(2)\n",
    "\n",
    "# Summary: which models appear most in top 2\n",
    "top2_counts = df_all[df_all[\"Rank\"] <= 2][\"Model\"].value_counts()\n",
    "top2_percent = (top2_counts / df_all['Ticker'].nunique() * 100).round(1)\n",
    "\n",
    "summary_table = pd.DataFrame({\n",
    "    \"Top 2 Count\": top2_counts,\n",
    "    \"Top 2 %\": top2_percent\n",
    "})\n",
    "\n",
    "display(summary_table)\n"
   ]
  },
  {
   "cell_type": "code",
   "execution_count": null,
   "metadata": {},
   "outputs": [],
   "source": []
  },
  {
   "cell_type": "code",
   "execution_count": 24,
   "metadata": {},
   "outputs": [
    {
     "data": {
      "text/html": [
       "<div>\n",
       "<style scoped>\n",
       "    .dataframe tbody tr th:only-of-type {\n",
       "        vertical-align: middle;\n",
       "    }\n",
       "\n",
       "    .dataframe tbody tr th {\n",
       "        vertical-align: top;\n",
       "    }\n",
       "\n",
       "    .dataframe thead th {\n",
       "        text-align: right;\n",
       "    }\n",
       "</style>\n",
       "<table border=\"1\" class=\"dataframe\">\n",
       "  <thead>\n",
       "    <tr style=\"text-align: right;\">\n",
       "      <th>Model</th>\n",
       "      <th>Model0 (Rule SMA)</th>\n",
       "      <th>Model1 (RL)</th>\n",
       "      <th>Model2 (RL)</th>\n",
       "      <th>Model3 (RL)</th>\n",
       "      <th>Model4 (RL)</th>\n",
       "      <th>Model5 (Rule Mean Reversion)</th>\n",
       "      <th>Model6 (RL Mean Reversion)</th>\n",
       "    </tr>\n",
       "    <tr>\n",
       "      <th>Sector</th>\n",
       "      <th></th>\n",
       "      <th></th>\n",
       "      <th></th>\n",
       "      <th></th>\n",
       "      <th></th>\n",
       "      <th></th>\n",
       "      <th></th>\n",
       "    </tr>\n",
       "  </thead>\n",
       "  <tbody>\n",
       "    <tr>\n",
       "      <th>Communication Services</th>\n",
       "      <td>12.504783</td>\n",
       "      <td>12.641304</td>\n",
       "      <td>9.532609</td>\n",
       "      <td>8.518261</td>\n",
       "      <td>10.849565</td>\n",
       "      <td>12.113478</td>\n",
       "      <td>5.495217</td>\n",
       "    </tr>\n",
       "    <tr>\n",
       "      <th>Consumer Discretionary</th>\n",
       "      <td>18.000588</td>\n",
       "      <td>9.075686</td>\n",
       "      <td>8.717059</td>\n",
       "      <td>-0.342549</td>\n",
       "      <td>7.530196</td>\n",
       "      <td>3.149412</td>\n",
       "      <td>3.214314</td>\n",
       "    </tr>\n",
       "    <tr>\n",
       "      <th>Consumer Staples</th>\n",
       "      <td>-2.438421</td>\n",
       "      <td>-5.049211</td>\n",
       "      <td>-1.607632</td>\n",
       "      <td>-4.980263</td>\n",
       "      <td>-6.422632</td>\n",
       "      <td>-0.745789</td>\n",
       "      <td>0.261316</td>\n",
       "    </tr>\n",
       "    <tr>\n",
       "      <th>Energy</th>\n",
       "      <td>17.857391</td>\n",
       "      <td>11.526522</td>\n",
       "      <td>11.947826</td>\n",
       "      <td>3.937391</td>\n",
       "      <td>12.330000</td>\n",
       "      <td>8.498696</td>\n",
       "      <td>-0.520435</td>\n",
       "    </tr>\n",
       "    <tr>\n",
       "      <th>Financials</th>\n",
       "      <td>26.757260</td>\n",
       "      <td>15.290137</td>\n",
       "      <td>13.913425</td>\n",
       "      <td>11.292055</td>\n",
       "      <td>19.276575</td>\n",
       "      <td>8.696712</td>\n",
       "      <td>1.778493</td>\n",
       "    </tr>\n",
       "    <tr>\n",
       "      <th>Health Care</th>\n",
       "      <td>-0.464333</td>\n",
       "      <td>-2.885167</td>\n",
       "      <td>0.711500</td>\n",
       "      <td>2.684333</td>\n",
       "      <td>1.726667</td>\n",
       "      <td>-2.528167</td>\n",
       "      <td>-0.466500</td>\n",
       "    </tr>\n",
       "    <tr>\n",
       "      <th>Industrials</th>\n",
       "      <td>19.068590</td>\n",
       "      <td>13.180385</td>\n",
       "      <td>12.081923</td>\n",
       "      <td>9.917821</td>\n",
       "      <td>12.154872</td>\n",
       "      <td>8.943077</td>\n",
       "      <td>1.059487</td>\n",
       "    </tr>\n",
       "    <tr>\n",
       "      <th>Information Technology</th>\n",
       "      <td>16.488406</td>\n",
       "      <td>10.591739</td>\n",
       "      <td>11.577681</td>\n",
       "      <td>7.159710</td>\n",
       "      <td>20.113043</td>\n",
       "      <td>7.688116</td>\n",
       "      <td>0.044348</td>\n",
       "    </tr>\n",
       "    <tr>\n",
       "      <th>Materials</th>\n",
       "      <td>8.125769</td>\n",
       "      <td>-3.483462</td>\n",
       "      <td>4.560385</td>\n",
       "      <td>2.640385</td>\n",
       "      <td>4.101538</td>\n",
       "      <td>5.821923</td>\n",
       "      <td>-2.540385</td>\n",
       "    </tr>\n",
       "    <tr>\n",
       "      <th>Real Estate</th>\n",
       "      <td>6.482581</td>\n",
       "      <td>0.863226</td>\n",
       "      <td>4.406774</td>\n",
       "      <td>4.010323</td>\n",
       "      <td>8.917419</td>\n",
       "      <td>9.023871</td>\n",
       "      <td>2.143226</td>\n",
       "    </tr>\n",
       "    <tr>\n",
       "      <th>Utilities</th>\n",
       "      <td>16.524516</td>\n",
       "      <td>11.254194</td>\n",
       "      <td>13.751613</td>\n",
       "      <td>8.686129</td>\n",
       "      <td>18.338065</td>\n",
       "      <td>1.042258</td>\n",
       "      <td>-2.920968</td>\n",
       "    </tr>\n",
       "  </tbody>\n",
       "</table>\n",
       "</div>"
      ],
      "text/plain": [
       "Model                   Model0 (Rule SMA)  Model1 (RL)  Model2 (RL)  \\\n",
       "Sector                                                                \n",
       "Communication Services          12.504783    12.641304     9.532609   \n",
       "Consumer Discretionary          18.000588     9.075686     8.717059   \n",
       "Consumer Staples                -2.438421    -5.049211    -1.607632   \n",
       "Energy                          17.857391    11.526522    11.947826   \n",
       "Financials                      26.757260    15.290137    13.913425   \n",
       "Health Care                     -0.464333    -2.885167     0.711500   \n",
       "Industrials                     19.068590    13.180385    12.081923   \n",
       "Information Technology          16.488406    10.591739    11.577681   \n",
       "Materials                        8.125769    -3.483462     4.560385   \n",
       "Real Estate                      6.482581     0.863226     4.406774   \n",
       "Utilities                       16.524516    11.254194    13.751613   \n",
       "\n",
       "Model                   Model3 (RL)  Model4 (RL)  \\\n",
       "Sector                                             \n",
       "Communication Services     8.518261    10.849565   \n",
       "Consumer Discretionary    -0.342549     7.530196   \n",
       "Consumer Staples          -4.980263    -6.422632   \n",
       "Energy                     3.937391    12.330000   \n",
       "Financials                11.292055    19.276575   \n",
       "Health Care                2.684333     1.726667   \n",
       "Industrials                9.917821    12.154872   \n",
       "Information Technology     7.159710    20.113043   \n",
       "Materials                  2.640385     4.101538   \n",
       "Real Estate                4.010323     8.917419   \n",
       "Utilities                  8.686129    18.338065   \n",
       "\n",
       "Model                   Model5 (Rule Mean Reversion)  \\\n",
       "Sector                                                 \n",
       "Communication Services                     12.113478   \n",
       "Consumer Discretionary                      3.149412   \n",
       "Consumer Staples                           -0.745789   \n",
       "Energy                                      8.498696   \n",
       "Financials                                  8.696712   \n",
       "Health Care                                -2.528167   \n",
       "Industrials                                 8.943077   \n",
       "Information Technology                      7.688116   \n",
       "Materials                                   5.821923   \n",
       "Real Estate                                 9.023871   \n",
       "Utilities                                   1.042258   \n",
       "\n",
       "Model                   Model6 (RL Mean Reversion)  \n",
       "Sector                                              \n",
       "Communication Services                    5.495217  \n",
       "Consumer Discretionary                    3.214314  \n",
       "Consumer Staples                          0.261316  \n",
       "Energy                                   -0.520435  \n",
       "Financials                                1.778493  \n",
       "Health Care                              -0.466500  \n",
       "Industrials                               1.059487  \n",
       "Information Technology                    0.044348  \n",
       "Materials                                -2.540385  \n",
       "Real Estate                               2.143226  \n",
       "Utilities                                -2.920968  "
      ]
     },
     "metadata": {},
     "output_type": "display_data"
    }
   ],
   "source": [
    "# sector analysis\n",
    "sector_model_avg = df_all.groupby(['Sector', 'Model'])[\"Total Return (%)\"].mean().unstack()\n",
    "display(sector_model_avg)"
   ]
  },
  {
   "cell_type": "code",
   "execution_count": 25,
   "metadata": {},
   "outputs": [
    {
     "data": {
      "image/png": "[encoded data removed]",
      "text/plain": [
       "<Figure size 1600x800 with 1 Axes>"
      ]
     },
     "metadata": {},
     "output_type": "display_data"
    }
   ],
   "source": [
    "plt.figure(figsize=(16, 8))\n",
    "sns.boxplot(x=\"Sector\", y=\"Total Return (%)\", hue=\"Model\", data=df_all)\n",
    "plt.xticks(rotation=45)\n",
    "plt.title(\"Total Return (%) by Sector and Model\")\n",
    "plt.tight_layout()\n",
    "plt.show()"
   ]
  },
  {
   "cell_type": "code",
   "execution_count": null,
   "metadata": {},
   "outputs": [],
   "source": []
  },
  {
   "cell_type": "markdown",
   "metadata": {},
   "source": [
    "#### Part III - Additional Analysis\n",
    "* Slice and Analyze by Sector\n",
    "* Find Top Performing Models by Sector\n",
    "* Rank Sectors by Model Consistency\n",
    "* Sector-by-Sector Leaderboard Table"
   ]
  },
  {
   "cell_type": "code",
   "execution_count": 26,
   "metadata": {},
   "outputs": [
    {
     "data": {
      "text/plain": [
       "Sector\n",
       "Financials                13.857808\n",
       "Industrials               10.915165\n",
       "Information Technology    10.523292\n",
       "Communication Services    10.236460\n",
       "Utilities                  9.525115\n",
       "Energy                     9.368199\n",
       "Consumer Discretionary     7.049244\n",
       "Real Estate                5.121060\n",
       "Materials                  2.746593\n",
       "Health Care               -0.174524\n",
       "Consumer Staples          -2.997519\n",
       "Name: Total Return (%), dtype: float64"
      ]
     },
     "metadata": {},
     "output_type": "display_data"
    }
   ],
   "source": [
    "# Slice and Analyze by Sector\n",
    "sector_summary = df_all.groupby('Sector')[\"Total Return (%)\"].mean().sort_values(ascending=False)\n",
    "display(sector_summary)"
   ]
  },
  {
   "cell_type": "code",
   "execution_count": 27,
   "metadata": {},
   "outputs": [
    {
     "data": {
      "image/png": "[encoded data removed]",
      "text/plain": [
       "<Figure size 1200x600 with 1 Axes>"
      ]
     },
     "metadata": {},
     "output_type": "display_data"
    }
   ],
   "source": [
    "plt.figure(figsize=(12, 6))\n",
    "sns.barplot(x=sector_summary.index, y=sector_summary.values)\n",
    "plt.xticks(rotation=45)\n",
    "plt.ylabel(\"Average Total Return (%)\")\n",
    "plt.title(\"Average Model Performance by Sector\")\n",
    "plt.tight_layout()\n",
    "plt.show()"
   ]
  },
  {
   "cell_type": "code",
   "execution_count": null,
   "metadata": {},
   "outputs": [],
   "source": []
  },
  {
   "cell_type": "code",
   "execution_count": 28,
   "metadata": {},
   "outputs": [
    {
     "data": {
      "text/html": [
       "<div>\n",
       "<style scoped>\n",
       "    .dataframe tbody tr th:only-of-type {\n",
       "        vertical-align: middle;\n",
       "    }\n",
       "\n",
       "    .dataframe tbody tr th {\n",
       "        vertical-align: top;\n",
       "    }\n",
       "\n",
       "    .dataframe thead th {\n",
       "        text-align: right;\n",
       "    }\n",
       "</style>\n",
       "<table border=\"1\" class=\"dataframe\">\n",
       "  <thead>\n",
       "    <tr style=\"text-align: right;\">\n",
       "      <th>Model</th>\n",
       "      <th>Model0 (Rule SMA)</th>\n",
       "      <th>Model1 (RL)</th>\n",
       "      <th>Model2 (RL)</th>\n",
       "      <th>Model3 (RL)</th>\n",
       "      <th>Model4 (RL)</th>\n",
       "      <th>Model5 (Rule Mean Reversion)</th>\n",
       "      <th>Model6 (RL Mean Reversion)</th>\n",
       "    </tr>\n",
       "    <tr>\n",
       "      <th>Sector</th>\n",
       "      <th></th>\n",
       "      <th></th>\n",
       "      <th></th>\n",
       "      <th></th>\n",
       "      <th></th>\n",
       "      <th></th>\n",
       "      <th></th>\n",
       "    </tr>\n",
       "  </thead>\n",
       "  <tbody>\n",
       "    <tr>\n",
       "      <th>Communication Services</th>\n",
       "      <td>9</td>\n",
       "      <td>10</td>\n",
       "      <td>7</td>\n",
       "      <td>5</td>\n",
       "      <td>5</td>\n",
       "      <td>7</td>\n",
       "      <td>3</td>\n",
       "    </tr>\n",
       "    <tr>\n",
       "      <th>Consumer Discretionary</th>\n",
       "      <td>25</td>\n",
       "      <td>19</td>\n",
       "      <td>17</td>\n",
       "      <td>10</td>\n",
       "      <td>11</td>\n",
       "      <td>11</td>\n",
       "      <td>9</td>\n",
       "    </tr>\n",
       "    <tr>\n",
       "      <th>Consumer Staples</th>\n",
       "      <td>14</td>\n",
       "      <td>9</td>\n",
       "      <td>14</td>\n",
       "      <td>7</td>\n",
       "      <td>9</td>\n",
       "      <td>12</td>\n",
       "      <td>11</td>\n",
       "    </tr>\n",
       "    <tr>\n",
       "      <th>Energy</th>\n",
       "      <td>8</td>\n",
       "      <td>7</td>\n",
       "      <td>8</td>\n",
       "      <td>7</td>\n",
       "      <td>10</td>\n",
       "      <td>5</td>\n",
       "      <td>1</td>\n",
       "    </tr>\n",
       "    <tr>\n",
       "      <th>Financials</th>\n",
       "      <td>48</td>\n",
       "      <td>22</td>\n",
       "      <td>19</td>\n",
       "      <td>16</td>\n",
       "      <td>31</td>\n",
       "      <td>10</td>\n",
       "      <td>0</td>\n",
       "    </tr>\n",
       "    <tr>\n",
       "      <th>Health Care</th>\n",
       "      <td>19</td>\n",
       "      <td>15</td>\n",
       "      <td>19</td>\n",
       "      <td>20</td>\n",
       "      <td>17</td>\n",
       "      <td>15</td>\n",
       "      <td>15</td>\n",
       "    </tr>\n",
       "    <tr>\n",
       "      <th>Industrials</th>\n",
       "      <td>35</td>\n",
       "      <td>24</td>\n",
       "      <td>22</td>\n",
       "      <td>20</td>\n",
       "      <td>30</td>\n",
       "      <td>20</td>\n",
       "      <td>5</td>\n",
       "    </tr>\n",
       "    <tr>\n",
       "      <th>Information Technology</th>\n",
       "      <td>25</td>\n",
       "      <td>25</td>\n",
       "      <td>19</td>\n",
       "      <td>17</td>\n",
       "      <td>31</td>\n",
       "      <td>17</td>\n",
       "      <td>4</td>\n",
       "    </tr>\n",
       "    <tr>\n",
       "      <th>Materials</th>\n",
       "      <td>8</td>\n",
       "      <td>4</td>\n",
       "      <td>9</td>\n",
       "      <td>9</td>\n",
       "      <td>7</td>\n",
       "      <td>12</td>\n",
       "      <td>3</td>\n",
       "    </tr>\n",
       "    <tr>\n",
       "      <th>Real Estate</th>\n",
       "      <td>13</td>\n",
       "      <td>6</td>\n",
       "      <td>3</td>\n",
       "      <td>6</td>\n",
       "      <td>16</td>\n",
       "      <td>12</td>\n",
       "      <td>6</td>\n",
       "    </tr>\n",
       "    <tr>\n",
       "      <th>Utilities</th>\n",
       "      <td>16</td>\n",
       "      <td>12</td>\n",
       "      <td>9</td>\n",
       "      <td>5</td>\n",
       "      <td>16</td>\n",
       "      <td>2</td>\n",
       "      <td>2</td>\n",
       "    </tr>\n",
       "  </tbody>\n",
       "</table>\n",
       "</div>"
      ],
      "text/plain": [
       "Model                   Model0 (Rule SMA)  Model1 (RL)  Model2 (RL)  \\\n",
       "Sector                                                                \n",
       "Communication Services                  9           10            7   \n",
       "Consumer Discretionary                 25           19           17   \n",
       "Consumer Staples                       14            9           14   \n",
       "Energy                                  8            7            8   \n",
       "Financials                             48           22           19   \n",
       "Health Care                            19           15           19   \n",
       "Industrials                            35           24           22   \n",
       "Information Technology                 25           25           19   \n",
       "Materials                               8            4            9   \n",
       "Real Estate                            13            6            3   \n",
       "Utilities                              16           12            9   \n",
       "\n",
       "Model                   Model3 (RL)  Model4 (RL)  \\\n",
       "Sector                                             \n",
       "Communication Services            5            5   \n",
       "Consumer Discretionary           10           11   \n",
       "Consumer Staples                  7            9   \n",
       "Energy                            7           10   \n",
       "Financials                       16           31   \n",
       "Health Care                      20           17   \n",
       "Industrials                      20           30   \n",
       "Information Technology           17           31   \n",
       "Materials                         9            7   \n",
       "Real Estate                       6           16   \n",
       "Utilities                         5           16   \n",
       "\n",
       "Model                   Model5 (Rule Mean Reversion)  \\\n",
       "Sector                                                 \n",
       "Communication Services                             7   \n",
       "Consumer Discretionary                            11   \n",
       "Consumer Staples                                  12   \n",
       "Energy                                             5   \n",
       "Financials                                        10   \n",
       "Health Care                                       15   \n",
       "Industrials                                       20   \n",
       "Information Technology                            17   \n",
       "Materials                                         12   \n",
       "Real Estate                                       12   \n",
       "Utilities                                          2   \n",
       "\n",
       "Model                   Model6 (RL Mean Reversion)  \n",
       "Sector                                              \n",
       "Communication Services                           3  \n",
       "Consumer Discretionary                           9  \n",
       "Consumer Staples                                11  \n",
       "Energy                                           1  \n",
       "Financials                                       0  \n",
       "Health Care                                     15  \n",
       "Industrials                                      5  \n",
       "Information Technology                           4  \n",
       "Materials                                        3  \n",
       "Real Estate                                      6  \n",
       "Utilities                                        2  "
      ]
     },
     "metadata": {},
     "output_type": "display_data"
    }
   ],
   "source": [
    "# Find Top Performing Models by Sector\n",
    "df_all['Rank'] = df_all.groupby(['Ticker'])[\"Total Return (%)\"].rank(ascending=False)\n",
    "\n",
    "top2_models_by_sector = (\n",
    "    df_all[df_all[\"Rank\"] <= 2]\n",
    "    .groupby(['Sector', 'Model'])\n",
    "    .size()\n",
    "    .unstack(fill_value=0)\n",
    ")\n",
    "\n",
    "top2_models_by_sector_pct = (top2_models_by_sector.T / top2_models_by_sector.sum(axis=1).sum()) * 100\n",
    "display(top2_models_by_sector)"
   ]
  },
  {
   "cell_type": "code",
   "execution_count": 29,
   "metadata": {},
   "outputs": [
    {
     "data": {
      "image/png": "[encoded data removed]",
      "text/plain": [
       "<Figure size 1400x700 with 1 Axes>"
      ]
     },
     "metadata": {},
     "output_type": "display_data"
    }
   ],
   "source": [
    "top2_models_by_sector.plot(kind='bar', stacked=True, figsize=(14, 7), colormap='tab20')\n",
    "plt.title(\"Top 2 Model Appearances by Sector\")\n",
    "plt.ylabel(\"# of Times in Top 2\")\n",
    "plt.tight_layout()\n",
    "plt.show()"
   ]
  },
  {
   "cell_type": "code",
   "execution_count": null,
   "metadata": {},
   "outputs": [],
   "source": []
  },
  {
   "cell_type": "code",
   "execution_count": 30,
   "metadata": {},
   "outputs": [
    {
     "data": {
      "text/html": [
       "<div>\n",
       "<style scoped>\n",
       "    .dataframe tbody tr th:only-of-type {\n",
       "        vertical-align: middle;\n",
       "    }\n",
       "\n",
       "    .dataframe tbody tr th {\n",
       "        vertical-align: top;\n",
       "    }\n",
       "\n",
       "    .dataframe thead th {\n",
       "        text-align: right;\n",
       "    }\n",
       "</style>\n",
       "<table border=\"1\" class=\"dataframe\">\n",
       "  <thead>\n",
       "    <tr style=\"text-align: right;\">\n",
       "      <th>Model</th>\n",
       "      <th>Top Model</th>\n",
       "      <th>Top Model Count</th>\n",
       "    </tr>\n",
       "    <tr>\n",
       "      <th>Sector</th>\n",
       "      <th></th>\n",
       "      <th></th>\n",
       "    </tr>\n",
       "  </thead>\n",
       "  <tbody>\n",
       "    <tr>\n",
       "      <th>Financials</th>\n",
       "      <td>Model0 (Rule SMA)</td>\n",
       "      <td>48</td>\n",
       "    </tr>\n",
       "    <tr>\n",
       "      <th>Industrials</th>\n",
       "      <td>Model0 (Rule SMA)</td>\n",
       "      <td>35</td>\n",
       "    </tr>\n",
       "    <tr>\n",
       "      <th>Information Technology</th>\n",
       "      <td>Model4 (RL)</td>\n",
       "      <td>31</td>\n",
       "    </tr>\n",
       "    <tr>\n",
       "      <th>Consumer Discretionary</th>\n",
       "      <td>Model0 (Rule SMA)</td>\n",
       "      <td>25</td>\n",
       "    </tr>\n",
       "    <tr>\n",
       "      <th>Health Care</th>\n",
       "      <td>Model3 (RL)</td>\n",
       "      <td>20</td>\n",
       "    </tr>\n",
       "    <tr>\n",
       "      <th>Real Estate</th>\n",
       "      <td>Model4 (RL)</td>\n",
       "      <td>16</td>\n",
       "    </tr>\n",
       "    <tr>\n",
       "      <th>Utilities</th>\n",
       "      <td>Model0 (Rule SMA)</td>\n",
       "      <td>16</td>\n",
       "    </tr>\n",
       "    <tr>\n",
       "      <th>Consumer Staples</th>\n",
       "      <td>Model0 (Rule SMA)</td>\n",
       "      <td>14</td>\n",
       "    </tr>\n",
       "    <tr>\n",
       "      <th>Materials</th>\n",
       "      <td>Model5 (Rule Mean Reversion)</td>\n",
       "      <td>12</td>\n",
       "    </tr>\n",
       "    <tr>\n",
       "      <th>Communication Services</th>\n",
       "      <td>Model1 (RL)</td>\n",
       "      <td>10</td>\n",
       "    </tr>\n",
       "    <tr>\n",
       "      <th>Energy</th>\n",
       "      <td>Model4 (RL)</td>\n",
       "      <td>10</td>\n",
       "    </tr>\n",
       "  </tbody>\n",
       "</table>\n",
       "</div>"
      ],
      "text/plain": [
       "Model                                      Top Model  Top Model Count\n",
       "Sector                                                               \n",
       "Financials                         Model0 (Rule SMA)               48\n",
       "Industrials                        Model0 (Rule SMA)               35\n",
       "Information Technology                   Model4 (RL)               31\n",
       "Consumer Discretionary             Model0 (Rule SMA)               25\n",
       "Health Care                              Model3 (RL)               20\n",
       "Real Estate                              Model4 (RL)               16\n",
       "Utilities                          Model0 (Rule SMA)               16\n",
       "Consumer Staples                   Model0 (Rule SMA)               14\n",
       "Materials               Model5 (Rule Mean Reversion)               12\n",
       "Communication Services                   Model1 (RL)               10\n",
       "Energy                                   Model4 (RL)               10"
      ]
     },
     "metadata": {},
     "output_type": "display_data"
    }
   ],
   "source": [
    "# Get count of appearances in Top 2 by sector and model\n",
    "sector_consistency = (\n",
    "    df_all[df_all['Rank'] <= 2]\n",
    "    .groupby(['Sector', 'Model'])\n",
    "    .size()\n",
    "    .unstack(fill_value=0)\n",
    ")\n",
    "\n",
    "# Only use numeric part for computing max\n",
    "numeric_only = sector_consistency.select_dtypes(include='number')\n",
    "\n",
    "# Add Top Model columns\n",
    "sector_consistency['Top Model'] = numeric_only.idxmax(axis=1)\n",
    "sector_consistency['Top Model Count'] = numeric_only.max(axis=1)\n",
    "\n",
    "# Sort by consistency\n",
    "sector_consistency = sector_consistency.sort_values('Top Model Count', ascending=False)\n",
    "\n",
    "# Display top-performing model per sector\n",
    "display(sector_consistency[['Top Model', 'Top Model Count']])\n"
   ]
  },
  {
   "cell_type": "code",
   "execution_count": 31,
   "metadata": {},
   "outputs": [
    {
     "data": {
      "image/png": "[encoded data removed]",
      "text/plain": [
       "<Figure size 1200x600 with 1 Axes>"
      ]
     },
     "metadata": {},
     "output_type": "display_data"
    }
   ],
   "source": [
    "plt.figure(figsize=(12, 6))\n",
    "sns.barplot(\n",
    "    x=sector_consistency.index,\n",
    "    y=sector_consistency[\"Top Model Count\"],\n",
    "    hue=sector_consistency[\"Top Model\"],\n",
    "    dodge=False\n",
    ")\n",
    "plt.xticks(rotation=45)\n",
    "plt.title(\"Most Consistent Top Model by Sector\")\n",
    "plt.ylabel(\"# of Top 2 Appearances\")\n",
    "plt.tight_layout()\n",
    "plt.show()\n"
   ]
  },
  {
   "cell_type": "code",
   "execution_count": null,
   "metadata": {},
   "outputs": [],
   "source": []
  },
  {
   "cell_type": "code",
   "execution_count": 32,
   "metadata": {},
   "outputs": [
    {
     "data": {
      "text/html": [
       "<div>\n",
       "<style scoped>\n",
       "    .dataframe tbody tr th:only-of-type {\n",
       "        vertical-align: middle;\n",
       "    }\n",
       "\n",
       "    .dataframe tbody tr th {\n",
       "        vertical-align: top;\n",
       "    }\n",
       "\n",
       "    .dataframe thead th {\n",
       "        text-align: right;\n",
       "    }\n",
       "</style>\n",
       "<table border=\"1\" class=\"dataframe\">\n",
       "  <thead>\n",
       "    <tr style=\"text-align: right;\">\n",
       "      <th></th>\n",
       "      <th>Sector</th>\n",
       "      <th>Best Model</th>\n",
       "      <th>Avg Return (%)</th>\n",
       "    </tr>\n",
       "  </thead>\n",
       "  <tbody>\n",
       "    <tr>\n",
       "      <th>4</th>\n",
       "      <td>Financials</td>\n",
       "      <td>Model0 (Rule SMA)</td>\n",
       "      <td>26.76</td>\n",
       "    </tr>\n",
       "    <tr>\n",
       "      <th>2</th>\n",
       "      <td>Information Technology</td>\n",
       "      <td>Model4 (RL)</td>\n",
       "      <td>20.11</td>\n",
       "    </tr>\n",
       "    <tr>\n",
       "      <th>0</th>\n",
       "      <td>Industrials</td>\n",
       "      <td>Model0 (Rule SMA)</td>\n",
       "      <td>19.07</td>\n",
       "    </tr>\n",
       "    <tr>\n",
       "      <th>3</th>\n",
       "      <td>Utilities</td>\n",
       "      <td>Model4 (RL)</td>\n",
       "      <td>18.34</td>\n",
       "    </tr>\n",
       "    <tr>\n",
       "      <th>6</th>\n",
       "      <td>Consumer Discretionary</td>\n",
       "      <td>Model0 (Rule SMA)</td>\n",
       "      <td>18.00</td>\n",
       "    </tr>\n",
       "    <tr>\n",
       "      <th>10</th>\n",
       "      <td>Energy</td>\n",
       "      <td>Model0 (Rule SMA)</td>\n",
       "      <td>17.86</td>\n",
       "    </tr>\n",
       "    <tr>\n",
       "      <th>8</th>\n",
       "      <td>Communication Services</td>\n",
       "      <td>Model1 (RL)</td>\n",
       "      <td>12.64</td>\n",
       "    </tr>\n",
       "    <tr>\n",
       "      <th>7</th>\n",
       "      <td>Real Estate</td>\n",
       "      <td>Model5 (Rule Mean Reversion)</td>\n",
       "      <td>9.02</td>\n",
       "    </tr>\n",
       "    <tr>\n",
       "      <th>5</th>\n",
       "      <td>Materials</td>\n",
       "      <td>Model0 (Rule SMA)</td>\n",
       "      <td>8.13</td>\n",
       "    </tr>\n",
       "    <tr>\n",
       "      <th>1</th>\n",
       "      <td>Health Care</td>\n",
       "      <td>Model3 (RL)</td>\n",
       "      <td>2.68</td>\n",
       "    </tr>\n",
       "    <tr>\n",
       "      <th>9</th>\n",
       "      <td>Consumer Staples</td>\n",
       "      <td>Model6 (RL Mean Reversion)</td>\n",
       "      <td>0.26</td>\n",
       "    </tr>\n",
       "  </tbody>\n",
       "</table>\n",
       "</div>"
      ],
      "text/plain": [
       "                    Sector                    Best Model  Avg Return (%)\n",
       "4               Financials             Model0 (Rule SMA)           26.76\n",
       "2   Information Technology                   Model4 (RL)           20.11\n",
       "0              Industrials             Model0 (Rule SMA)           19.07\n",
       "3                Utilities                   Model4 (RL)           18.34\n",
       "6   Consumer Discretionary             Model0 (Rule SMA)           18.00\n",
       "10                  Energy             Model0 (Rule SMA)           17.86\n",
       "8   Communication Services                   Model1 (RL)           12.64\n",
       "7              Real Estate  Model5 (Rule Mean Reversion)            9.02\n",
       "5                Materials             Model0 (Rule SMA)            8.13\n",
       "1              Health Care                   Model3 (RL)            2.68\n",
       "9         Consumer Staples    Model6 (RL Mean Reversion)            0.26"
      ]
     },
     "metadata": {},
     "output_type": "display_data"
    }
   ],
   "source": [
    "# Sector-by-Sector Leaderboard Table\n",
    "leaderboard = []\n",
    "\n",
    "for sector in df_all['Sector'].unique():\n",
    "    sector_df = df_all[df_all['Sector'] == sector]\n",
    "    top_model = (\n",
    "        sector_df.groupby('Model')[\"Total Return (%)\"]\n",
    "        .mean()\n",
    "        .sort_values(ascending=False)\n",
    "        .reset_index()\n",
    "    )\n",
    "    leaderboard.append({\n",
    "        'Sector': sector,\n",
    "        'Best Model': top_model.iloc[0]['Model'],\n",
    "        'Avg Return (%)': round(top_model.iloc[0]['Total Return (%)'], 2)\n",
    "    })\n",
    "\n",
    "leaderboard_df = pd.DataFrame(leaderboard).sort_values(\"Avg Return (%)\", ascending=False)\n",
    "display(leaderboard_df)\n"
   ]
  },
  {
   "cell_type": "code",
   "execution_count": null,
   "metadata": {},
   "outputs": [],
   "source": []
  },
  {
   "cell_type": "markdown",
   "metadata": {},
   "source": [
    "#### Export\n",
    "* will be used later with streamlit app"
   ]
  },
  {
   "cell_type": "code",
   "execution_count": 33,
   "metadata": {},
   "outputs": [],
   "source": [
    "df_all.to_csv(\"df_all.csv\", index=False)\n",
    "summary_table.to_csv(\"summary_table.csv\")\n",
    "sector_model_avg.to_csv(\"sector_model_avg.csv\")\n",
    "sector_consistency.to_csv(\"sector_consistency.csv\")"
   ]
  },
  {
   "cell_type": "code",
   "execution_count": null,
   "metadata": {},
   "outputs": [],
   "source": []
  }
 ],
 "metadata": {
  "kernelspec": {
   "display_name": "Python 3",
   "language": "python",
   "name": "python3"
  },
  "language_info": {
   "codemirror_mode": {
    "name": "ipython",
    "version": 3
   },
   "file_extension": ".py",
   "mimetype": "text/x-python",
   "name": "python",
   "nbconvert_exporter": "python",
   "pygments_lexer": "ipython3",
   "version": "3.11.9"
  }
 },
 "nbformat": 4,
 "nbformat_minor": 2
}
