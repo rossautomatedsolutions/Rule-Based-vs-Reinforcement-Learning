{
 "cells": [
  {
   "cell_type": "markdown",
   "metadata": {},
   "source": [
    "# Multiple Ticker Relative Model Performance: Rules Based vs RL\n",
    "* Part I: Single Ticker\n",
    "* Part II: Multiple Tickers"
   ]
  },
  {
   "cell_type": "markdown",
   "metadata": {},
   "source": [
    "# SMA Bot vs SMA Bot With Reinforcement Learning\n",
    "* compare rules based bots vs those with Q-Learning\n",
    "\n",
    "\n",
    "| Model # | Name                                 | Features Used                                      | Type                    |\n",
    "|---------|--------------------------------------|----------------------------------------------------|-------------------------|\n",
    "| **Model 0** | SMA Rule-Based Strategy               | 10-day SMA                                           | Rule-Based              |\n",
    "| **Model 1** | SMA + Volume (RL)                     | 10-day SMA, Volume                                   | Reinforcement Learning  |\n",
    "| **Model 2** | SMA + Day of Week (RL)                | 10-day SMA, Day of Week                              | Reinforcement Learning  |\n",
    "| **Model 3** | SMA + Volume + Day of Week (RL)       | 10-day SMA, Volume, Day of Week                      | Reinforcement Learning  |\n",
    "| **Model 4** | SMA Only (RL)                         | 10-day SMA                                           | Reinforcement Learning  |\n",
    "| **Model 5** | Mean Reversion Rule-Based Strategy    | 3-day return threshold                               | Rule-Based              |\n",
    "| **Model 6** | Mean Reversion RL Strategy            | 1d & 3d returns, volatility, RSI                     | Reinforcement Learning  |\n"
   ]
  },
  {
   "cell_type": "code",
   "execution_count": null,
   "metadata": {},
   "outputs": [],
   "source": []
  },
  {
   "cell_type": "code",
   "execution_count": 133,
   "metadata": {},
   "outputs": [],
   "source": [
    "import yfinance as yf\n",
    "import pandas as pd\n",
    "import numpy as np\n",
    "from sklearn.preprocessing import KBinsDiscretizer\n",
    "import matplotlib.pyplot as plt\n",
    "import seaborn as sns\n",
    "import seaborn as sns\n",
    "import matplotlib.pyplot as plt"
   ]
  },
  {
   "cell_type": "code",
   "execution_count": null,
   "metadata": {},
   "outputs": [],
   "source": []
  },
  {
   "cell_type": "markdown",
   "metadata": {},
   "source": [
    "### Part I: Single Ticker"
   ]
  },
  {
   "cell_type": "code",
   "execution_count": 134,
   "metadata": {},
   "outputs": [
    {
     "name": "stderr",
     "output_type": "stream",
     "text": [
      "[*********************100%***********************]  1 of 1 completed\n"
     ]
    }
   ],
   "source": [
    "# Choose your ticker\n",
    "ticker = \"AAPL\"  # Change to \"MSFT\", \"TSLA\", etc.\n",
    "\n",
    "# Download data with MultiIndex columns\n",
    "data = yf.download([ticker], period=\"2y\", interval=\"1d\")\n",
    "\n",
    "# Add indicators BEFORE flattening\n",
    "data[('SMA10', '')] = data[('Close', ticker)].rolling(window=10).mean()\n",
    "data[('DayOfWeek', '')] = data.index.dayofweek\n",
    "\n",
    "# Mean reversion features\n",
    "data[('Return_1d', '')] = data[('Close', ticker)].pct_change()\n",
    "data[('Return_3d', '')] = data[('Close', ticker)].pct_change(3)\n",
    "data[('Volatility_5d', '')] = data[('Return_1d', '')].rolling(window=5).std()\n",
    "\n",
    "def compute_rsi(series, window=14):\n",
    "    delta = series.diff()\n",
    "    gain = delta.clip(lower=0)\n",
    "    loss = -1 * delta.clip(upper=0)\n",
    "    avg_gain = gain.rolling(window).mean()\n",
    "    avg_loss = loss.rolling(window).mean()\n",
    "    rs = avg_gain / avg_loss\n",
    "    return 100 - (100 / (1 + rs))\n",
    "\n",
    "data[('RSI_14', '')] = compute_rsi(data[('Close', ticker)])\n",
    "\n",
    "# Drop NaNs\n",
    "data.dropna(inplace=True)\n",
    "\n",
    "# Flatten MultiIndex columns\n",
    "data.columns = ['_'.join(col).strip() if isinstance(col, tuple) else col for col in data.columns]\n",
    "\n",
    "# Dynamically rename fields\n",
    "data.rename(columns={\n",
    "    f'Close_{ticker}': 'Close',\n",
    "    f'Open_{ticker}': 'Open',\n",
    "    f'High_{ticker}': 'High',\n",
    "    f'Low_{ticker}': 'Low',\n",
    "    f'Volume_{ticker}': 'Volume',\n",
    "    'SMA10_': 'SMA10',\n",
    "    'DayOfWeek_': 'DayOfWeek',\n",
    "    'Return_1d_': 'Return_1d',\n",
    "    'Return_3d_': 'Return_3d',\n",
    "    'Volatility_5d_': 'Volatility_5d',\n",
    "    'RSI_14_': 'RSI_14'\n",
    "}, inplace=True)\n",
    "\n",
    "# Reset index\n",
    "data.reset_index(inplace=True)\n"
   ]
  },
  {
   "cell_type": "code",
   "execution_count": 135,
   "metadata": {},
   "outputs": [
    {
     "data": {
      "text/html": [
       "<div>\n",
       "<style scoped>\n",
       "    .dataframe tbody tr th:only-of-type {\n",
       "        vertical-align: middle;\n",
       "    }\n",
       "\n",
       "    .dataframe tbody tr th {\n",
       "        vertical-align: top;\n",
       "    }\n",
       "\n",
       "    .dataframe thead th {\n",
       "        text-align: right;\n",
       "    }\n",
       "</style>\n",
       "<table border=\"1\" class=\"dataframe\">\n",
       "  <thead>\n",
       "    <tr style=\"text-align: right;\">\n",
       "      <th></th>\n",
       "      <th>Date</th>\n",
       "      <th>Close</th>\n",
       "      <th>High</th>\n",
       "      <th>Low</th>\n",
       "      <th>Open</th>\n",
       "      <th>Volume</th>\n",
       "      <th>SMA10</th>\n",
       "      <th>DayOfWeek</th>\n",
       "      <th>Return_1d</th>\n",
       "      <th>Return_3d</th>\n",
       "      <th>Volatility_5d</th>\n",
       "      <th>RSI_14</th>\n",
       "    </tr>\n",
       "  </thead>\n",
       "  <tbody>\n",
       "    <tr>\n",
       "      <th>0</th>\n",
       "      <td>2023-04-12</td>\n",
       "      <td>158.501556</td>\n",
       "      <td>160.441979</td>\n",
       "      <td>158.184744</td>\n",
       "      <td>159.610369</td>\n",
       "      <td>50133100</td>\n",
       "      <td>161.489426</td>\n",
       "      <td>2</td>\n",
       "      <td>-0.004353</td>\n",
       "      <td>-0.027693</td>\n",
       "      <td>0.008094</td>\n",
       "      <td>55.301261</td>\n",
       "    </tr>\n",
       "    <tr>\n",
       "      <th>1</th>\n",
       "      <td>2023-04-13</td>\n",
       "      <td>163.907059</td>\n",
       "      <td>164.144668</td>\n",
       "      <td>159.808393</td>\n",
       "      <td>160.016303</td>\n",
       "      <td>68445600</td>\n",
       "      <td>161.963644</td>\n",
       "      <td>3</td>\n",
       "      <td>0.034104</td>\n",
       "      <td>0.021786</td>\n",
       "      <td>0.019350</td>\n",
       "      <td>62.863876</td>\n",
       "    </tr>\n",
       "    <tr>\n",
       "      <th>2</th>\n",
       "      <td>2023-04-14</td>\n",
       "      <td>163.560532</td>\n",
       "      <td>164.659450</td>\n",
       "      <td>162.184410</td>\n",
       "      <td>162.946711</td>\n",
       "      <td>49386500</td>\n",
       "      <td>162.245799</td>\n",
       "      <td>4</td>\n",
       "      <td>-0.002114</td>\n",
       "      <td>0.027425</td>\n",
       "      <td>0.019339</td>\n",
       "      <td>60.000000</td>\n",
       "    </tr>\n",
       "    <tr>\n",
       "      <th>3</th>\n",
       "      <td>2023-04-17</td>\n",
       "      <td>163.580322</td>\n",
       "      <td>163.738728</td>\n",
       "      <td>162.392306</td>\n",
       "      <td>163.441721</td>\n",
       "      <td>41516200</td>\n",
       "      <td>162.278470</td>\n",
       "      <td>0</td>\n",
       "      <td>0.000121</td>\n",
       "      <td>0.032042</td>\n",
       "      <td>0.017050</td>\n",
       "      <td>65.207869</td>\n",
       "    </tr>\n",
       "    <tr>\n",
       "      <th>4</th>\n",
       "      <td>2023-04-18</td>\n",
       "      <td>164.807953</td>\n",
       "      <td>165.738570</td>\n",
       "      <td>163.996133</td>\n",
       "      <td>164.441652</td>\n",
       "      <td>49923000</td>\n",
       "      <td>162.308171</td>\n",
       "      <td>1</td>\n",
       "      <td>0.007505</td>\n",
       "      <td>0.005496</td>\n",
       "      <td>0.015765</td>\n",
       "      <td>68.797943</td>\n",
       "    </tr>\n",
       "  </tbody>\n",
       "</table>\n",
       "</div>"
      ],
      "text/plain": [
       "        Date       Close        High         Low        Open    Volume  \\\n",
       "0 2023-04-12  158.501556  160.441979  158.184744  159.610369  50133100   \n",
       "1 2023-04-13  163.907059  164.144668  159.808393  160.016303  68445600   \n",
       "2 2023-04-14  163.560532  164.659450  162.184410  162.946711  49386500   \n",
       "3 2023-04-17  163.580322  163.738728  162.392306  163.441721  41516200   \n",
       "4 2023-04-18  164.807953  165.738570  163.996133  164.441652  49923000   \n",
       "\n",
       "        SMA10  DayOfWeek  Return_1d  Return_3d  Volatility_5d     RSI_14  \n",
       "0  161.489426          2  -0.004353  -0.027693       0.008094  55.301261  \n",
       "1  161.963644          3   0.034104   0.021786       0.019350  62.863876  \n",
       "2  162.245799          4  -0.002114   0.027425       0.019339  60.000000  \n",
       "3  162.278470          0   0.000121   0.032042       0.017050  65.207869  \n",
       "4  162.308171          1   0.007505   0.005496       0.015765  68.797943  "
      ]
     },
     "execution_count": 135,
     "metadata": {},
     "output_type": "execute_result"
    }
   ],
   "source": [
    "data.head()"
   ]
  },
  {
   "cell_type": "code",
   "execution_count": 136,
   "metadata": {},
   "outputs": [],
   "source": [
    "# Reward function\n",
    "def get_reward(action, price_today, price_tomorrow):\n",
    "    if action == 1:\n",
    "        return price_tomorrow - price_today\n",
    "    elif action == -1:\n",
    "        return price_today - price_tomorrow\n",
    "    return 0"
   ]
  },
  {
   "cell_type": "code",
   "execution_count": 137,
   "metadata": {},
   "outputs": [],
   "source": [
    "def compute_sharpe_ratio(rewards, risk_free_rate=0):\n",
    "    if not rewards:\n",
    "        return 0\n",
    "    excess_returns = np.array(rewards) - risk_free_rate\n",
    "    std_dev = np.std(excess_returns)\n",
    "    return np.mean(excess_returns) / std_dev if std_dev != 0 else 0\n",
    "\n",
    "\n",
    "def compute_max_drawdown(pnl_series):\n",
    "    if not pnl_series:\n",
    "        return 0\n",
    "    cumulative = np.cumsum(pnl_series)\n",
    "    peak = np.maximum.accumulate(cumulative)\n",
    "    drawdown = cumulative - peak\n",
    "    return np.min(drawdown)"
   ]
  },
  {
   "cell_type": "code",
   "execution_count": 138,
   "metadata": {},
   "outputs": [],
   "source": [
    "def compute_trade_metrics(rewards):\n",
    "    profits = [r for r in rewards if r > 0]\n",
    "    losses = [-r for r in rewards if r < 0]  # flip to positive values\n",
    "    num_wins = len(profits)\n",
    "    num_losses = len(losses)\n",
    "\n",
    "    profit_factor = sum(profits) / sum(losses) if sum(losses) != 0 else np.nan\n",
    "    win_loss_ratio = num_wins / num_losses if num_losses != 0 else np.nan\n",
    "\n",
    "    return {\n",
    "        \"Profit Factor\": round(profit_factor, 2),\n",
    "        \"Win/Loss Ratio\": round(win_loss_ratio, 2)\n",
    "    }"
   ]
  },
  {
   "cell_type": "code",
   "execution_count": null,
   "metadata": {},
   "outputs": [],
   "source": []
  },
  {
   "cell_type": "markdown",
   "metadata": {},
   "source": [
    "### Models"
   ]
  },
  {
   "cell_type": "code",
   "execution_count": 139,
   "metadata": {},
   "outputs": [],
   "source": [
    "# Model 0: Rule-based SMA Crossover\n",
    "def run_sma_bot(df):\n",
    "    df = df.copy()\n",
    "\n",
    "    # Rename columns just in case\n",
    "    df.columns = ['_'.join(col).strip() if isinstance(col, tuple) else col for col in df.columns]\n",
    "    df = df.reset_index(drop=True)\n",
    "\n",
    "    # Use your renamed columns\n",
    "    close_col = 'Close_AAPL' if 'Close_AAPL' in df.columns else 'Close'\n",
    "    sma_col = 'SMA10_' if 'SMA10_' in df.columns else 'SMA10'\n",
    "\n",
    "    position = 0\n",
    "    cash = 0\n",
    "    trades = 0\n",
    "    rewards = []\n",
    "\n",
    "    for i in range(1, len(df) - 1):\n",
    "        try:\n",
    "            price_prev = float(df.loc[i - 1, close_col])\n",
    "            price_today = float(df.loc[i, close_col])\n",
    "            price_tomorrow = float(df.loc[i + 1, close_col])\n",
    "            sma_prev = float(df.loc[i - 1, sma_col])\n",
    "            sma_today = float(df.loc[i, sma_col])\n",
    "        except:\n",
    "            continue\n",
    "\n",
    "        if pd.isna(price_today) or pd.isna(sma_today) or pd.isna(sma_prev) or pd.isna(price_prev):\n",
    "            continue\n",
    "\n",
    "        # Detect upward crossover: price crosses above SMA\n",
    "        if price_prev < sma_prev and price_today > sma_today and position == 0:\n",
    "            position = price_today\n",
    "            trades += 1\n",
    "\n",
    "        # Detect downward crossover: price crosses below SMA\n",
    "        elif price_prev > sma_prev and price_today < sma_today and position != 0:\n",
    "            pnl = price_today - position\n",
    "            cash += pnl\n",
    "            rewards.append(pnl)\n",
    "            position = 0\n",
    "            trades += 1\n",
    "\n",
    "    # Close open position at final price\n",
    "    if position != 0:\n",
    "        final_pnl = float(df.loc[len(df) - 1, close_col]) - position\n",
    "        cash += final_pnl\n",
    "        rewards.append(final_pnl)\n",
    "\n",
    "    cumulative_pnl = np.cumsum(rewards)\n",
    "    avg_price = df['Close'].mean()\n",
    "    total_return_pct = (cash / avg_price) * 100\n",
    "    avg_daily_pct = (np.mean(rewards) / avg_price) * 100 if rewards else 0\n",
    "\n",
    "    metrics = compute_trade_metrics(rewards)\n",
    "    \n",
    "    return {\n",
    "        \"Model\": \"Model0 (Rule SMA)\",\n",
    "        \"Total Return ($)\": round(cash, 2),\n",
    "        \"Total Return (%)\": round(total_return_pct, 2),\n",
    "        \"Avg Daily Reward\": round(np.mean(rewards), 4) if rewards else 0,\n",
    "        \"Avg Daily Reward (%)\": round(avg_daily_pct, 4),\n",
    "        \"# Trades\": trades,\n",
    "        \"Cumulative Reward\": round(np.sum(rewards), 2),\n",
    "        \"Sharpe Ratio\": round(compute_sharpe_ratio(rewards), 4) if rewards else 0,\n",
    "        \"Max Drawdown\": round(compute_max_drawdown(rewards), 2) if rewards else 0,\n",
    "        \"Profit Factor\": metrics[\"Profit Factor\"],\n",
    "        \"Win/Loss Ratio\": metrics[\"Win/Loss Ratio\"],\n",
    "        \"Avg Trade Duration\": round(len(df) / trades, 2) if trades > 0 else np.nan\n",
    "    }\n",
    "\n"
   ]
  },
  {
   "cell_type": "code",
   "execution_count": 140,
   "metadata": {},
   "outputs": [],
   "source": [
    "# RL Models\n",
    "def preprocess_features(df, model):\n",
    "    features = ['SMA10']\n",
    "    if model == 1:\n",
    "        features.append('Volume')\n",
    "    elif model == 2:\n",
    "        features.append('DayOfWeek')\n",
    "    elif model == 3:\n",
    "        features += ['Volume', 'DayOfWeek']\n",
    "    elif model == 4:\n",
    "        features = ['SMA10']  # Only SMA for RL\n",
    "\n",
    "    X = df[features]\n",
    "    est = KBinsDiscretizer(n_bins=5, encode='ordinal', strategy='uniform')\n",
    "    X_binned = est.fit_transform(X)\n",
    "    return X_binned.astype(int)\n",
    "\n",
    "def run_rl_model(df, model_num):\n",
    "    states = preprocess_features(df, model_num)\n",
    "    n_states = tuple([5] * states.shape[1])\n",
    "    actions = [-1, 0, 1]  # Sell, Hold, Buy\n",
    "\n",
    "    Q_table = np.zeros(n_states + (len(actions),))\n",
    "\n",
    "    alpha = 0.1\n",
    "    gamma = 0.9\n",
    "    epsilon = 0.1\n",
    "    cash = 0\n",
    "    position = 0\n",
    "    trades = 0\n",
    "    rewards = []\n",
    "\n",
    "    for t in range(len(states) - 1):\n",
    "        state = tuple(states[t])\n",
    "        next_state = tuple(states[t + 1])\n",
    "        price_today = df.iloc[t]['Close']\n",
    "        price_tomorrow = df.iloc[t + 1]['Close']\n",
    "\n",
    "        if np.random.rand() < epsilon:\n",
    "            action_idx = np.random.choice(len(actions))\n",
    "        else:\n",
    "            action_idx = np.argmax(Q_table[state])\n",
    "        action = actions[action_idx]\n",
    "\n",
    "        reward = get_reward(action, price_today, price_tomorrow)\n",
    "        rewards.append(reward)\n",
    "\n",
    "        Q_table[state + (action_idx,)] += alpha * (\n",
    "            reward + gamma * np.max(Q_table[next_state]) - Q_table[state + (action_idx,)]\n",
    "        )\n",
    "\n",
    "        if action == 1 and position == 0:\n",
    "            position = price_today\n",
    "            trades += 1\n",
    "        elif action == -1 and position != 0:\n",
    "            cash += price_today - position\n",
    "            position = 0\n",
    "            trades += 1\n",
    "\n",
    "    if position != 0:\n",
    "        cash += df.iloc[-1]['Close'] - position\n",
    "\n",
    "    cumulative_pnl = np.cumsum(rewards)\n",
    "    avg_price = df['Close'].mean()\n",
    "    total_return_pct = (cash / avg_price) * 100\n",
    "    avg_daily_pct = (np.mean(rewards) / avg_price) * 100 if rewards else 0\n",
    "\n",
    "    metrics = compute_trade_metrics(rewards)\n",
    "    \n",
    "    return {\n",
    "        \"Model\": f\"Model{model_num} (RL)\",\n",
    "        \"Total Return ($)\": round(cash, 2),\n",
    "        \"Total Return (%)\": round(total_return_pct, 2),\n",
    "        \"Avg Daily Reward\": round(np.mean(rewards), 4) if rewards else 0,\n",
    "        \"Avg Daily Reward (%)\": round(avg_daily_pct, 4),\n",
    "        \"# Trades\": trades,\n",
    "        \"Cumulative Reward\": round(np.sum(rewards), 2),\n",
    "        \"Sharpe Ratio\": round(compute_sharpe_ratio(rewards), 4) if rewards else 0,\n",
    "        \"Max Drawdown\": round(compute_max_drawdown(rewards), 2) if rewards else 0,\n",
    "        \"Profit Factor\": metrics[\"Profit Factor\"],\n",
    "        \"Win/Loss Ratio\": metrics[\"Win/Loss Ratio\"],\n",
    "        \"Avg Trade Duration\": round(len(df) / trades, 2) if trades > 0 else np.nan\n",
    "    }"
   ]
  },
  {
   "cell_type": "code",
   "execution_count": 141,
   "metadata": {},
   "outputs": [],
   "source": [
    "def run_mean_reversion_rule_bot(df):\n",
    "    position = 0\n",
    "    cash = 0\n",
    "    trades = 0\n",
    "    rewards = []\n",
    "\n",
    "    for i in range(1, len(df) - 1):\n",
    "        try:\n",
    "            r3 = df.loc[i, 'Return_3d']\n",
    "            price_today = df.loc[i, 'Close']\n",
    "            price_tomorrow = df.loc[i + 1, 'Close']\n",
    "        except:\n",
    "            continue\n",
    "\n",
    "        if pd.isna(r3) or pd.isna(price_today):\n",
    "            continue\n",
    "\n",
    "        if r3 < -0.03 and position == 0:  # Buy the dip\n",
    "            position = price_today\n",
    "            trades += 1\n",
    "        elif r3 > 0 and position != 0:  # Sell on recovery\n",
    "            pnl = price_today - position\n",
    "            cash += pnl\n",
    "            rewards.append(pnl)\n",
    "            position = 0\n",
    "            trades += 1\n",
    "\n",
    "    if position != 0:\n",
    "        final_pnl = df.loc[len(df) - 1, 'Close'] - position\n",
    "        cash += final_pnl\n",
    "        rewards.append(final_pnl)\n",
    "\n",
    "    cumulative_pnl = np.cumsum(rewards)\n",
    "    avg_price = df['Close'].mean()\n",
    "    total_return_pct = (cash / avg_price) * 100\n",
    "    avg_daily_pct = (np.mean(rewards) / avg_price) * 100 if rewards else 0\n",
    "\n",
    "    metrics = compute_trade_metrics(rewards)\n",
    "    \n",
    "    return {\n",
    "        \"Model\": \"Model5 (Rule Mean Reversion)\",\n",
    "        \"Total Return ($)\": round(cash, 2),\n",
    "        \"Total Return (%)\": round(total_return_pct, 2),\n",
    "        \"Avg Daily Reward\": round(np.mean(rewards), 4) if rewards else 0,\n",
    "        \"Avg Daily Reward (%)\": round(avg_daily_pct, 4),\n",
    "        \"# Trades\": trades,\n",
    "        \"Cumulative Reward\": round(np.sum(rewards), 2),\n",
    "        \"Sharpe Ratio\": round(compute_sharpe_ratio(rewards), 4) if rewards else 0,\n",
    "        \"Max Drawdown\": round(compute_max_drawdown(rewards), 2) if rewards else 0,\n",
    "        \"Profit Factor\": metrics[\"Profit Factor\"],\n",
    "        \"Win/Loss Ratio\": metrics[\"Win/Loss Ratio\"],\n",
    "        \"Avg Trade Duration\": round(len(df) / trades, 2) if trades > 0 else np.nan\n",
    "    }\n"
   ]
  },
  {
   "cell_type": "code",
   "execution_count": 142,
   "metadata": {},
   "outputs": [],
   "source": [
    "def run_rl_mean_reversion_bot(df):\n",
    "    features = ['Return_1d', 'Return_3d', 'Volatility_5d', 'RSI_14']\n",
    "    X = df[features].copy()\n",
    "    est = KBinsDiscretizer(n_bins=5, encode='ordinal', strategy='uniform')\n",
    "    states = est.fit_transform(X).astype(int)\n",
    "    actions = [-1, 0, 1]  # Sell, Hold, Buy\n",
    "\n",
    "    Q_table = np.zeros((5, 5, 5, 5, len(actions)))\n",
    "\n",
    "    alpha = 0.1\n",
    "    gamma = 0.9\n",
    "    epsilon = 0.1\n",
    "    cash = 0\n",
    "    position = 0\n",
    "    trades = 0\n",
    "    rewards = []\n",
    "\n",
    "    for t in range(len(states) - 1):\n",
    "        state = tuple(states[t])\n",
    "        next_state = tuple(states[t + 1])\n",
    "        price_today = df.loc[t, 'Close']\n",
    "        price_tomorrow = df.loc[t + 1, 'Close']\n",
    "\n",
    "        # Choose action\n",
    "        if np.random.rand() < epsilon:\n",
    "            action_idx = np.random.choice(len(actions))\n",
    "        else:\n",
    "            action_idx = np.argmax(Q_table[state])\n",
    "        action = actions[action_idx]\n",
    "\n",
    "        reward = 0\n",
    "        if action == 1 and position == 0:\n",
    "            position = price_today\n",
    "            trades += 1\n",
    "        elif action == -1 and position != 0:\n",
    "            pnl = price_today - position\n",
    "            cash += pnl\n",
    "            reward = pnl\n",
    "            position = 0\n",
    "            trades += 1\n",
    "\n",
    "        rewards.append(reward)\n",
    "\n",
    "        Q_table[state + (action_idx,)] += alpha * (\n",
    "            reward + gamma * np.max(Q_table[next_state]) - Q_table[state + (action_idx,)]\n",
    "        )\n",
    "\n",
    "    if position != 0:\n",
    "        final_pnl = df.loc[len(df) - 1, 'Close'] - position\n",
    "        cash += final_pnl\n",
    "        rewards.append(final_pnl)\n",
    "\n",
    "    cumulative_pnl = np.cumsum(rewards)\n",
    "    avg_price = df['Close'].mean()\n",
    "    total_return_pct = (cash / avg_price) * 100\n",
    "    avg_daily_pct = (np.mean(rewards) / avg_price) * 100 if rewards else 0\n",
    "\n",
    "    metrics = compute_trade_metrics(rewards)\n",
    "    \n",
    "    return {\n",
    "        \"Model\": \"Model6 (RL Mean Reversion)\",\n",
    "        \"Total Return ($)\": round(cash, 2),\n",
    "        \"Total Return (%)\": round(total_return_pct, 2),\n",
    "        \"Avg Daily Reward\": round(np.mean(rewards), 4) if rewards else 0,\n",
    "        \"Avg Daily Reward (%)\": round(avg_daily_pct, 4),\n",
    "        \"# Trades\": trades,\n",
    "        \"Cumulative Reward\": round(np.sum(rewards), 2),\n",
    "        \"Sharpe Ratio\": round(compute_sharpe_ratio(rewards), 4) if rewards else 0,\n",
    "        \"Max Drawdown\": round(compute_max_drawdown(rewards), 2) if rewards else 0,\n",
    "        \"Profit Factor\": metrics[\"Profit Factor\"],\n",
    "        \"Win/Loss Ratio\": metrics[\"Win/Loss Ratio\"],\n",
    "        \"Avg Trade Duration\": round(len(df) / trades, 2) if trades > 0 else np.nan\n",
    "    }\n"
   ]
  },
  {
   "cell_type": "code",
   "execution_count": null,
   "metadata": {},
   "outputs": [],
   "source": []
  },
  {
   "cell_type": "markdown",
   "metadata": {},
   "source": [
    "### Results"
   ]
  },
  {
   "cell_type": "code",
   "execution_count": 143,
   "metadata": {},
   "outputs": [
    {
     "name": "stdout",
     "output_type": "stream",
     "text": [
      "                       Model  Total Return ($)  Total Return (%)  Avg Daily Reward  Avg Daily Reward (%)  # Trades  Cumulative Reward  Sharpe Ratio  Max Drawdown  Profit Factor  Win/Loss Ratio  Avg Trade Duration\n",
      "           Model0 (Rule SMA)             56.49             28.32            1.4866                0.7451        76              56.49        0.2105        -15.11           1.91            0.58                6.42\n",
      "                 Model1 (RL)            -22.80            -11.43           -0.0573               -0.0287        25             -27.92       -0.0372        -49.80           0.80            0.88               19.52\n",
      "                 Model2 (RL)              8.62              4.32           -0.0683               -0.0342        21             -33.25       -0.0516        -45.30           0.75            0.68               23.24\n",
      "                 Model3 (RL)             40.31             20.21           -0.0464               -0.0233        53             -22.62       -0.0282        -34.12           0.88            0.78                9.21\n",
      "                 Model4 (RL)             85.17             42.69            0.0978                0.0490        27              47.63        0.0648        -21.20           1.33            1.23               18.07\n",
      "Model5 (Rule Mean Reversion)             -0.49             -0.24           -0.0222               -0.0111        44              -0.49       -0.0045        -20.21           0.99            2.14               11.09\n",
      "  Model6 (RL Mean Reversion)             -9.24             -4.63           -0.0190               -0.0095        38              -9.24       -0.0341        -12.37           0.62            0.58               12.84\n"
     ]
    }
   ],
   "source": [
    "# Run all models\n",
    "results = []\n",
    "\n",
    "# Original models\n",
    "results.append(run_sma_bot(data))           # Model0\n",
    "for model_num in range(1, 5):               # Model1–4\n",
    "    results.append(run_rl_model(data, model_num))\n",
    "\n",
    "# New models\n",
    "results.append(run_mean_reversion_rule_bot(data))   # Model5\n",
    "results.append(run_rl_mean_reversion_bot(data))     # Model6\n",
    "\n",
    "# Summary\n",
    "summary = pd.DataFrame(results)\n",
    "print(summary.to_string(index=False))\n"
   ]
  },
  {
   "cell_type": "code",
   "execution_count": 144,
   "metadata": {},
   "outputs": [
    {
     "data": {
      "text/html": [
       "<div>\n",
       "<style scoped>\n",
       "    .dataframe tbody tr th:only-of-type {\n",
       "        vertical-align: middle;\n",
       "    }\n",
       "\n",
       "    .dataframe tbody tr th {\n",
       "        vertical-align: top;\n",
       "    }\n",
       "\n",
       "    .dataframe thead th {\n",
       "        text-align: right;\n",
       "    }\n",
       "</style>\n",
       "<table border=\"1\" class=\"dataframe\">\n",
       "  <thead>\n",
       "    <tr style=\"text-align: right;\">\n",
       "      <th></th>\n",
       "      <th>Model</th>\n",
       "      <th>Total Return ($)</th>\n",
       "      <th>Total Return (%)</th>\n",
       "      <th>Avg Daily Reward</th>\n",
       "      <th>Avg Daily Reward (%)</th>\n",
       "      <th># Trades</th>\n",
       "      <th>Cumulative Reward</th>\n",
       "      <th>Sharpe Ratio</th>\n",
       "      <th>Max Drawdown</th>\n",
       "      <th>Profit Factor</th>\n",
       "      <th>Win/Loss Ratio</th>\n",
       "      <th>Avg Trade Duration</th>\n",
       "    </tr>\n",
       "  </thead>\n",
       "  <tbody>\n",
       "    <tr>\n",
       "      <th>0</th>\n",
       "      <td>Model0 (Rule SMA)</td>\n",
       "      <td>56.49</td>\n",
       "      <td>28.32</td>\n",
       "      <td>1.4866</td>\n",
       "      <td>0.7451</td>\n",
       "      <td>76</td>\n",
       "      <td>56.49</td>\n",
       "      <td>0.2105</td>\n",
       "      <td>-15.11</td>\n",
       "      <td>1.91</td>\n",
       "      <td>0.58</td>\n",
       "      <td>6.42</td>\n",
       "    </tr>\n",
       "    <tr>\n",
       "      <th>1</th>\n",
       "      <td>Model1 (RL)</td>\n",
       "      <td>-22.80</td>\n",
       "      <td>-11.43</td>\n",
       "      <td>-0.0573</td>\n",
       "      <td>-0.0287</td>\n",
       "      <td>25</td>\n",
       "      <td>-27.92</td>\n",
       "      <td>-0.0372</td>\n",
       "      <td>-49.80</td>\n",
       "      <td>0.80</td>\n",
       "      <td>0.88</td>\n",
       "      <td>19.52</td>\n",
       "    </tr>\n",
       "    <tr>\n",
       "      <th>2</th>\n",
       "      <td>Model2 (RL)</td>\n",
       "      <td>8.62</td>\n",
       "      <td>4.32</td>\n",
       "      <td>-0.0683</td>\n",
       "      <td>-0.0342</td>\n",
       "      <td>21</td>\n",
       "      <td>-33.25</td>\n",
       "      <td>-0.0516</td>\n",
       "      <td>-45.30</td>\n",
       "      <td>0.75</td>\n",
       "      <td>0.68</td>\n",
       "      <td>23.24</td>\n",
       "    </tr>\n",
       "    <tr>\n",
       "      <th>3</th>\n",
       "      <td>Model3 (RL)</td>\n",
       "      <td>40.31</td>\n",
       "      <td>20.21</td>\n",
       "      <td>-0.0464</td>\n",
       "      <td>-0.0233</td>\n",
       "      <td>53</td>\n",
       "      <td>-22.62</td>\n",
       "      <td>-0.0282</td>\n",
       "      <td>-34.12</td>\n",
       "      <td>0.88</td>\n",
       "      <td>0.78</td>\n",
       "      <td>9.21</td>\n",
       "    </tr>\n",
       "    <tr>\n",
       "      <th>4</th>\n",
       "      <td>Model4 (RL)</td>\n",
       "      <td>85.17</td>\n",
       "      <td>42.69</td>\n",
       "      <td>0.0978</td>\n",
       "      <td>0.0490</td>\n",
       "      <td>27</td>\n",
       "      <td>47.63</td>\n",
       "      <td>0.0648</td>\n",
       "      <td>-21.20</td>\n",
       "      <td>1.33</td>\n",
       "      <td>1.23</td>\n",
       "      <td>18.07</td>\n",
       "    </tr>\n",
       "    <tr>\n",
       "      <th>5</th>\n",
       "      <td>Model5 (Rule Mean Reversion)</td>\n",
       "      <td>-0.49</td>\n",
       "      <td>-0.24</td>\n",
       "      <td>-0.0222</td>\n",
       "      <td>-0.0111</td>\n",
       "      <td>44</td>\n",
       "      <td>-0.49</td>\n",
       "      <td>-0.0045</td>\n",
       "      <td>-20.21</td>\n",
       "      <td>0.99</td>\n",
       "      <td>2.14</td>\n",
       "      <td>11.09</td>\n",
       "    </tr>\n",
       "    <tr>\n",
       "      <th>6</th>\n",
       "      <td>Model6 (RL Mean Reversion)</td>\n",
       "      <td>-9.24</td>\n",
       "      <td>-4.63</td>\n",
       "      <td>-0.0190</td>\n",
       "      <td>-0.0095</td>\n",
       "      <td>38</td>\n",
       "      <td>-9.24</td>\n",
       "      <td>-0.0341</td>\n",
       "      <td>-12.37</td>\n",
       "      <td>0.62</td>\n",
       "      <td>0.58</td>\n",
       "      <td>12.84</td>\n",
       "    </tr>\n",
       "  </tbody>\n",
       "</table>\n",
       "</div>"
      ],
      "text/plain": [
       "                          Model  Total Return ($)  Total Return (%)  \\\n",
       "0             Model0 (Rule SMA)             56.49             28.32   \n",
       "1                   Model1 (RL)            -22.80            -11.43   \n",
       "2                   Model2 (RL)              8.62              4.32   \n",
       "3                   Model3 (RL)             40.31             20.21   \n",
       "4                   Model4 (RL)             85.17             42.69   \n",
       "5  Model5 (Rule Mean Reversion)             -0.49             -0.24   \n",
       "6    Model6 (RL Mean Reversion)             -9.24             -4.63   \n",
       "\n",
       "   Avg Daily Reward  Avg Daily Reward (%)  # Trades  Cumulative Reward  \\\n",
       "0            1.4866                0.7451        76              56.49   \n",
       "1           -0.0573               -0.0287        25             -27.92   \n",
       "2           -0.0683               -0.0342        21             -33.25   \n",
       "3           -0.0464               -0.0233        53             -22.62   \n",
       "4            0.0978                0.0490        27              47.63   \n",
       "5           -0.0222               -0.0111        44              -0.49   \n",
       "6           -0.0190               -0.0095        38              -9.24   \n",
       "\n",
       "   Sharpe Ratio  Max Drawdown  Profit Factor  Win/Loss Ratio  \\\n",
       "0        0.2105        -15.11           1.91            0.58   \n",
       "1       -0.0372        -49.80           0.80            0.88   \n",
       "2       -0.0516        -45.30           0.75            0.68   \n",
       "3       -0.0282        -34.12           0.88            0.78   \n",
       "4        0.0648        -21.20           1.33            1.23   \n",
       "5       -0.0045        -20.21           0.99            2.14   \n",
       "6       -0.0341        -12.37           0.62            0.58   \n",
       "\n",
       "   Avg Trade Duration  \n",
       "0                6.42  \n",
       "1               19.52  \n",
       "2               23.24  \n",
       "3                9.21  \n",
       "4               18.07  \n",
       "5               11.09  \n",
       "6               12.84  "
      ]
     },
     "execution_count": 144,
     "metadata": {},
     "output_type": "execute_result"
    }
   ],
   "source": [
    "summary"
   ]
  },
  {
   "cell_type": "code",
   "execution_count": 145,
   "metadata": {},
   "outputs": [
    {
     "data": {
      "image/png": "[encoded data removed]",
      "text/plain": [
       "<Figure size 1000x600 with 1 Axes>"
      ]
     },
     "metadata": {},
     "output_type": "display_data"
    },
    {
     "data": {
      "image/png": "[encoded data removed]",
      "text/plain": [
       "<Figure size 1000x600 with 1 Axes>"
      ]
     },
     "metadata": {},
     "output_type": "display_data"
    },
    {
     "data": {
      "image/png": "[encoded data removed]",
      "text/plain": [
       "<Figure size 1000x600 with 1 Axes>"
      ]
     },
     "metadata": {},
     "output_type": "display_data"
    }
   ],
   "source": [
    "# visual\n",
    "\n",
    "# Plot 1: Total Return by Model\n",
    "plt.figure(figsize=(10, 6))\n",
    "plt.bar(summary['Model'], summary['Total Return ($)'], color='skyblue')\n",
    "plt.title(f'Total Return by Model ({ticker})')\n",
    "plt.ylabel('Total Return ($)')\n",
    "plt.xticks(rotation=45, ha='right')\n",
    "plt.grid(axis='y')\n",
    "plt.tight_layout()\n",
    "plt.show()\n",
    "\n",
    "# Plot 2: Sharpe Ratio by Model\n",
    "plt.figure(figsize=(10, 6))\n",
    "plt.bar(summary['Model'], summary['Sharpe Ratio'], color='mediumseagreen')\n",
    "plt.title(f'Sharpe Ratio by Model ({ticker})')\n",
    "plt.ylabel('Sharpe Ratio')\n",
    "plt.xticks(rotation=45, ha='right')\n",
    "plt.grid(axis='y')\n",
    "plt.tight_layout()\n",
    "plt.show()\n",
    "\n",
    "# Plot 3: Max Drawdown by Model\n",
    "plt.figure(figsize=(10, 6))\n",
    "plt.bar(summary['Model'], summary['Max Drawdown'], color='salmon')\n",
    "plt.title(f'Max Drawdown by Model ({ticker})')\n",
    "plt.ylabel('Max Drawdown ($)')\n",
    "plt.xticks(rotation=45, ha='right')\n",
    "plt.grid(axis='y')\n",
    "plt.tight_layout()\n",
    "plt.show()\n"
   ]
  },
  {
   "cell_type": "code",
   "execution_count": null,
   "metadata": {},
   "outputs": [],
   "source": []
  },
  {
   "cell_type": "markdown",
   "metadata": {},
   "source": [
    "### Part II: Multiple Ticker Analysis"
   ]
  },
  {
   "cell_type": "code",
   "execution_count": 146,
   "metadata": {},
   "outputs": [],
   "source": [
    "def run_all_models_for_ticker(ticker, sector=None):\n",
    "    # sector is used in part III\n",
    "    try:\n",
    "        print(f\"Downloading data for {ticker}...\")\n",
    "        data = yf.download([ticker], period=\"2y\", interval=\"1d\")\n",
    "\n",
    "        if data.empty:\n",
    "            print(f\" No data returned for {ticker}\")\n",
    "            return []\n",
    "\n",
    "        # Add indicators BEFORE flattening\n",
    "        data[('SMA10', '')] = data[('Close', ticker)].rolling(window=10).mean()\n",
    "        data[('DayOfWeek', '')] = data.index.dayofweek\n",
    "\n",
    "        # Mean reversion features\n",
    "        close = data[('Close', ticker)]\n",
    "        data[('Return_1d', '')] = close.pct_change()\n",
    "        data[('Return_3d', '')] = close.pct_change(3)\n",
    "        data[('Volatility_5d', '')] = data[('Return_1d', '')].rolling(window=5).std()\n",
    "        data[('RSI_14', '')] = compute_rsi(close)\n",
    "\n",
    "        # Drop NaNs\n",
    "        data.dropna(inplace=True)\n",
    "\n",
    "        # Flatten MultiIndex columns\n",
    "        data.columns = ['_'.join(col).strip() if isinstance(col, tuple) else col for col in data.columns]\n",
    "\n",
    "        # Rename for general use\n",
    "        rename_cols = {\n",
    "            f'Close_{ticker}': 'Close',\n",
    "            f'Open_{ticker}': 'Open',\n",
    "            f'High_{ticker}': 'High',\n",
    "            f'Low_{ticker}': 'Low',\n",
    "            f'Volume_{ticker}': 'Volume',\n",
    "            'SMA10_': 'SMA10',\n",
    "            'DayOfWeek_': 'DayOfWeek',\n",
    "            'Return_1d_': 'Return_1d',\n",
    "            'Return_3d_': 'Return_3d',\n",
    "            'Volatility_5d_': 'Volatility_5d',\n",
    "            'RSI_14_': 'RSI_14'\n",
    "        }\n",
    "        data.rename(columns=rename_cols, inplace=True)\n",
    "        data.reset_index(inplace=True)\n",
    "\n",
    "        # --- Run models ---\n",
    "        print(f\"Running models for {ticker}...\")\n",
    "        model_results = [\n",
    "            run_sma_bot(data),\n",
    "            run_rl_model(data, 1),\n",
    "            run_rl_model(data, 2),\n",
    "            run_rl_model(data, 3),\n",
    "            run_rl_model(data, 4),\n",
    "            run_mean_reversion_rule_bot(data),\n",
    "            run_rl_mean_reversion_bot(data)\n",
    "        ]\n",
    "\n",
    "        for result in model_results:\n",
    "            result[\"Ticker\"] = ticker\n",
    "            result['Sector']= sector\n",
    "\n",
    "        print(f\" Finished {ticker}\")\n",
    "        return model_results\n",
    "\n",
    "    except Exception as e:\n",
    "        print(f\" Error for {ticker}: {e}\")\n",
    "        return []"
   ]
  },
  {
   "cell_type": "code",
   "execution_count": 147,
   "metadata": {},
   "outputs": [
    {
     "name": "stderr",
     "output_type": "stream",
     "text": [
      "[*********************100%***********************]  1 of 1 completed"
     ]
    },
    {
     "name": "stdout",
     "output_type": "stream",
     "text": [
      "\n",
      "--- Processing AAPL ---\n",
      "Downloading data for AAPL...\n",
      "Running models for AAPL...\n"
     ]
    },
    {
     "name": "stderr",
     "output_type": "stream",
     "text": [
      "\n"
     ]
    },
    {
     "name": "stdout",
     "output_type": "stream",
     "text": [
      " Finished AAPL\n",
      "\n",
      "--- Processing MSFT ---\n",
      "Downloading data for MSFT...\n"
     ]
    },
    {
     "name": "stderr",
     "output_type": "stream",
     "text": [
      "[*********************100%***********************]  1 of 1 completed\n"
     ]
    },
    {
     "name": "stdout",
     "output_type": "stream",
     "text": [
      "Running models for MSFT...\n"
     ]
    },
    {
     "name": "stderr",
     "output_type": "stream",
     "text": [
      "[*********************100%***********************]  1 of 1 completed"
     ]
    },
    {
     "name": "stdout",
     "output_type": "stream",
     "text": [
      " Finished MSFT\n",
      "\n",
      "--- Processing TSLA ---\n",
      "Downloading data for TSLA...\n",
      "Running models for TSLA...\n"
     ]
    },
    {
     "name": "stderr",
     "output_type": "stream",
     "text": [
      "\n",
      "[*********************100%***********************]  1 of 1 completed"
     ]
    },
    {
     "name": "stdout",
     "output_type": "stream",
     "text": [
      " Finished TSLA\n",
      "\n",
      "--- Processing NVDA ---\n",
      "Downloading data for NVDA...\n",
      "Running models for NVDA...\n"
     ]
    },
    {
     "name": "stderr",
     "output_type": "stream",
     "text": [
      "\n",
      "[*********************100%***********************]  1 of 1 completed"
     ]
    },
    {
     "name": "stdout",
     "output_type": "stream",
     "text": [
      " Finished NVDA\n",
      "\n",
      "--- Processing GOOGL ---\n",
      "Downloading data for GOOGL...\n",
      "Running models for GOOGL...\n"
     ]
    },
    {
     "name": "stderr",
     "output_type": "stream",
     "text": [
      "\n",
      "[*********************100%***********************]  1 of 1 completed"
     ]
    },
    {
     "name": "stdout",
     "output_type": "stream",
     "text": [
      " Finished GOOGL\n",
      "\n",
      "--- Processing AMZN ---\n",
      "Downloading data for AMZN...\n",
      "Running models for AMZN...\n"
     ]
    },
    {
     "name": "stderr",
     "output_type": "stream",
     "text": [
      "\n",
      "[*********************100%***********************]  1 of 1 completed"
     ]
    },
    {
     "name": "stdout",
     "output_type": "stream",
     "text": [
      " Finished AMZN\n",
      "\n",
      "--- Processing META ---\n",
      "Downloading data for META...\n",
      "Running models for META...\n"
     ]
    },
    {
     "name": "stderr",
     "output_type": "stream",
     "text": [
      "\n"
     ]
    },
    {
     "name": "stdout",
     "output_type": "stream",
     "text": [
      " Finished META\n"
     ]
    }
   ],
   "source": [
    "tickers = [\"AAPL\", \"MSFT\", \"TSLA\", \"NVDA\", \"GOOGL\", \"AMZN\", \"META\"]\n",
    "all_results = []\n",
    "\n",
    "for ticker in tickers:\n",
    "    print(f\"\\n--- Processing {ticker} ---\")\n",
    "    all_results.extend(run_all_models_for_ticker(ticker))"
   ]
  },
  {
   "cell_type": "code",
   "execution_count": 148,
   "metadata": {},
   "outputs": [
    {
     "data": {
      "text/plain": [
       "[{'Model': 'Model0 (Rule SMA)',\n",
       "  'Total Return ($)': 56.49,\n",
       "  'Total Return (%)': 28.32,\n",
       "  'Avg Daily Reward': 1.4866,\n",
       "  'Avg Daily Reward (%)': 0.7451,\n",
       "  '# Trades': 76,\n",
       "  'Cumulative Reward': 56.49,\n",
       "  'Sharpe Ratio': 0.2105,\n",
       "  'Max Drawdown': -15.11,\n",
       "  'Profit Factor': 1.91,\n",
       "  'Win/Loss Ratio': 0.58,\n",
       "  'Avg Trade Duration': 6.42,\n",
       "  'Ticker': 'AAPL',\n",
       "  'Sector': None},\n",
       " {'Model': 'Model1 (RL)',\n",
       "  'Total Return ($)': 24.72,\n",
       "  'Total Return (%)': 12.39,\n",
       "  'Avg Daily Reward': -0.1198,\n",
       "  'Avg Daily Reward (%)': -0.0601,\n",
       "  '# Trades': 26,\n",
       "  'Cumulative Reward': -58.36,\n",
       "  'Sharpe Ratio': -0.0807,\n",
       "  'Max Drawdown': -56.77,\n",
       "  'Profit Factor': 0.58,\n",
       "  'Win/Loss Ratio': 0.98,\n",
       "  'Avg Trade Duration': 18.77,\n",
       "  'Ticker': 'AAPL',\n",
       "  'Sector': None},\n",
       " {'Model': 'Model2 (RL)',\n",
       "  'Total Return ($)': 32.29,\n",
       "  'Total Return (%)': 16.19,\n",
       "  'Avg Daily Reward': -0.0706,\n",
       "  'Avg Daily Reward (%)': -0.0354,\n",
       "  '# Trades': 38,\n",
       "  'Cumulative Reward': -34.38,\n",
       "  'Sharpe Ratio': -0.0497,\n",
       "  'Max Drawdown': -39.94,\n",
       "  'Profit Factor': 0.77,\n",
       "  'Win/Loss Ratio': 0.74,\n",
       "  'Avg Trade Duration': 12.84,\n",
       "  'Ticker': 'AAPL',\n",
       "  'Sector': None},\n",
       " {'Model': 'Model3 (RL)',\n",
       "  'Total Return ($)': 48.8,\n",
       "  'Total Return (%)': 24.46,\n",
       "  'Avg Daily Reward': 0.0341,\n",
       "  'Avg Daily Reward (%)': 0.0171,\n",
       "  '# Trades': 41,\n",
       "  'Cumulative Reward': 16.62,\n",
       "  'Sharpe Ratio': 0.0202,\n",
       "  'Max Drawdown': -30.55,\n",
       "  'Profit Factor': 1.11,\n",
       "  'Win/Loss Ratio': 0.79,\n",
       "  'Avg Trade Duration': 11.9,\n",
       "  'Ticker': 'AAPL',\n",
       "  'Sector': None},\n",
       " {'Model': 'Model4 (RL)',\n",
       "  'Total Return ($)': 25.69,\n",
       "  'Total Return (%)': 12.88,\n",
       "  'Avg Daily Reward': -0.0404,\n",
       "  'Avg Daily Reward (%)': -0.0202,\n",
       "  '# Trades': 19,\n",
       "  'Cumulative Reward': -19.67,\n",
       "  'Sharpe Ratio': -0.0272,\n",
       "  'Max Drawdown': -42.17,\n",
       "  'Profit Factor': 0.87,\n",
       "  'Win/Loss Ratio': 1.1,\n",
       "  'Avg Trade Duration': 25.68,\n",
       "  'Ticker': 'AAPL',\n",
       "  'Sector': None},\n",
       " {'Model': 'Model5 (Rule Mean Reversion)',\n",
       "  'Total Return ($)': -0.49,\n",
       "  'Total Return (%)': -0.24,\n",
       "  'Avg Daily Reward': -0.0222,\n",
       "  'Avg Daily Reward (%)': -0.0111,\n",
       "  '# Trades': 44,\n",
       "  'Cumulative Reward': -0.49,\n",
       "  'Sharpe Ratio': -0.0045,\n",
       "  'Max Drawdown': -20.21,\n",
       "  'Profit Factor': 0.99,\n",
       "  'Win/Loss Ratio': 2.14,\n",
       "  'Avg Trade Duration': 11.09,\n",
       "  'Ticker': 'AAPL',\n",
       "  'Sector': None},\n",
       " {'Model': 'Model6 (RL Mean Reversion)',\n",
       "  'Total Return ($)': 13.46,\n",
       "  'Total Return (%)': 6.75,\n",
       "  'Avg Daily Reward': 0.0276,\n",
       "  'Avg Daily Reward (%)': 0.0139,\n",
       "  '# Trades': 32,\n",
       "  'Cumulative Reward': 13.46,\n",
       "  'Sharpe Ratio': 0.0382,\n",
       "  'Max Drawdown': -10.24,\n",
       "  'Profit Factor': 1.82,\n",
       "  'Win/Loss Ratio': 1.67,\n",
       "  'Avg Trade Duration': 15.25,\n",
       "  'Ticker': 'AAPL',\n",
       "  'Sector': None},\n",
       " {'Model': 'Model0 (Rule SMA)',\n",
       "  'Total Return ($)': 43.34,\n",
       "  'Total Return (%)': 11.27,\n",
       "  'Avg Daily Reward': 1.0836,\n",
       "  'Avg Daily Reward (%)': 0.2818,\n",
       "  '# Trades': 79,\n",
       "  'Cumulative Reward': 43.34,\n",
       "  'Sharpe Ratio': 0.1003,\n",
       "  'Max Drawdown': -30.53,\n",
       "  'Profit Factor': 1.31,\n",
       "  'Win/Loss Ratio': 0.6,\n",
       "  'Avg Trade Duration': 6.18,\n",
       "  'Ticker': 'MSFT',\n",
       "  'Sector': None},\n",
       " {'Model': 'Model1 (RL)',\n",
       "  'Total Return ($)': 49.9,\n",
       "  'Total Return (%)': 12.98,\n",
       "  'Avg Daily Reward': -0.0768,\n",
       "  'Avg Daily Reward (%)': -0.02,\n",
       "  '# Trades': 30,\n",
       "  'Cumulative Reward': -37.41,\n",
       "  'Sharpe Ratio': -0.0341,\n",
       "  'Max Drawdown': -79.21,\n",
       "  'Profit Factor': 0.81,\n",
       "  'Win/Loss Ratio': 0.84,\n",
       "  'Avg Trade Duration': 16.27,\n",
       "  'Ticker': 'MSFT',\n",
       "  'Sector': None},\n",
       " {'Model': 'Model2 (RL)',\n",
       "  'Total Return ($)': 128.61,\n",
       "  'Total Return (%)': 33.45,\n",
       "  'Avg Daily Reward': 0.3048,\n",
       "  'Avg Daily Reward (%)': 0.0793,\n",
       "  '# Trades': 33,\n",
       "  'Cumulative Reward': 148.45,\n",
       "  'Sharpe Ratio': 0.0923,\n",
       "  'Max Drawdown': -25.44,\n",
       "  'Profit Factor': 1.57,\n",
       "  'Win/Loss Ratio': 1.18,\n",
       "  'Avg Trade Duration': 14.79,\n",
       "  'Ticker': 'MSFT',\n",
       "  'Sector': None},\n",
       " {'Model': 'Model3 (RL)',\n",
       "  'Total Return ($)': 86.39,\n",
       "  'Total Return (%)': 22.47,\n",
       "  'Avg Daily Reward': -0.0138,\n",
       "  'Avg Daily Reward (%)': -0.0036,\n",
       "  '# Trades': 53,\n",
       "  'Cumulative Reward': -6.74,\n",
       "  'Sharpe Ratio': -0.0036,\n",
       "  'Max Drawdown': -105.08,\n",
       "  'Profit Factor': 0.98,\n",
       "  'Win/Loss Ratio': 0.9,\n",
       "  'Avg Trade Duration': 9.21,\n",
       "  'Ticker': 'MSFT',\n",
       "  'Sector': None},\n",
       " {'Model': 'Model4 (RL)',\n",
       "  'Total Return ($)': 73.63,\n",
       "  'Total Return (%)': 19.15,\n",
       "  'Avg Daily Reward': -0.0571,\n",
       "  'Avg Daily Reward (%)': -0.0149,\n",
       "  '# Trades': 15,\n",
       "  'Cumulative Reward': -27.83,\n",
       "  'Sharpe Ratio': -0.0236,\n",
       "  'Max Drawdown': -84.65,\n",
       "  'Profit Factor': 0.86,\n",
       "  'Win/Loss Ratio': 0.84,\n",
       "  'Avg Trade Duration': 32.53,\n",
       "  'Ticker': 'MSFT',\n",
       "  'Sector': None},\n",
       " {'Model': 'Model5 (Rule Mean Reversion)',\n",
       "  'Total Return ($)': 65.16,\n",
       "  'Total Return (%)': 16.95,\n",
       "  'Avg Daily Reward': 3.4296,\n",
       "  'Avg Daily Reward (%)': 0.892,\n",
       "  '# Trades': 38,\n",
       "  'Cumulative Reward': 65.16,\n",
       "  'Sharpe Ratio': 0.6266,\n",
       "  'Max Drawdown': -6.96,\n",
       "  'Profit Factor': 5.66,\n",
       "  'Win/Loss Ratio': 5.33,\n",
       "  'Avg Trade Duration': 12.84,\n",
       "  'Ticker': 'MSFT',\n",
       "  'Sector': None},\n",
       " {'Model': 'Model6 (RL Mean Reversion)',\n",
       "  'Total Return ($)': 9.49,\n",
       "  'Total Return (%)': 2.47,\n",
       "  'Avg Daily Reward': 0.0195,\n",
       "  'Avg Daily Reward (%)': 0.0051,\n",
       "  '# Trades': 40,\n",
       "  'Cumulative Reward': 9.49,\n",
       "  'Sharpe Ratio': 0.0205,\n",
       "  'Max Drawdown': -11.15,\n",
       "  'Profit Factor': 1.3,\n",
       "  'Win/Loss Ratio': 2.33,\n",
       "  'Avg Trade Duration': 12.2,\n",
       "  'Ticker': 'MSFT',\n",
       "  'Sector': None},\n",
       " {'Model': 'Model0 (Rule SMA)',\n",
       "  'Total Return ($)': 153.97,\n",
       "  'Total Return (%)': 63.19,\n",
       "  'Avg Daily Reward': 3.8493,\n",
       "  'Avg Daily Reward (%)': 1.5798,\n",
       "  '# Trades': 80,\n",
       "  'Cumulative Reward': 153.97,\n",
       "  'Sharpe Ratio': 0.1572,\n",
       "  'Max Drawdown': -75.02,\n",
       "  'Profit Factor': 1.73,\n",
       "  'Win/Loss Ratio': 0.48,\n",
       "  'Avg Trade Duration': 6.1,\n",
       "  'Ticker': 'TSLA',\n",
       "  'Sector': None},\n",
       " {'Model': 'Model1 (RL)',\n",
       "  'Total Return ($)': 13.91,\n",
       "  'Total Return (%)': 5.71,\n",
       "  'Avg Daily Reward': -0.2548,\n",
       "  'Avg Daily Reward (%)': -0.1046,\n",
       "  '# Trades': 29,\n",
       "  'Cumulative Reward': -124.1,\n",
       "  'Sharpe Ratio': -0.0455,\n",
       "  'Max Drawdown': -160.76,\n",
       "  'Profit Factor': 0.76,\n",
       "  'Win/Loss Ratio': 0.77,\n",
       "  'Avg Trade Duration': 16.83,\n",
       "  'Ticker': 'TSLA',\n",
       "  'Sector': None},\n",
       " {'Model': 'Model2 (RL)',\n",
       "  'Total Return ($)': 122.22,\n",
       "  'Total Return (%)': 50.16,\n",
       "  'Avg Daily Reward': 0.4253,\n",
       "  'Avg Daily Reward (%)': 0.1746,\n",
       "  '# Trades': 76,\n",
       "  'Cumulative Reward': 207.14,\n",
       "  'Sharpe Ratio': 0.0623,\n",
       "  'Max Drawdown': -87.99,\n",
       "  'Profit Factor': 1.32,\n",
       "  'Win/Loss Ratio': 1.23,\n",
       "  'Avg Trade Duration': 6.42,\n",
       "  'Ticker': 'TSLA',\n",
       "  'Sector': None},\n",
       " {'Model': 'Model3 (RL)',\n",
       "  'Total Return ($)': -91.39,\n",
       "  'Total Return (%)': -37.51,\n",
       "  'Avg Daily Reward': -0.307,\n",
       "  'Avg Daily Reward (%)': -0.126,\n",
       "  '# Trades': 34,\n",
       "  'Cumulative Reward': -149.52,\n",
       "  'Sharpe Ratio': -0.0459,\n",
       "  'Max Drawdown': -198.01,\n",
       "  'Profit Factor': 0.81,\n",
       "  'Win/Loss Ratio': 0.93,\n",
       "  'Avg Trade Duration': 14.35,\n",
       "  'Ticker': 'TSLA',\n",
       "  'Sector': None},\n",
       " {'Model': 'Model4 (RL)',\n",
       "  'Total Return ($)': 61.92,\n",
       "  'Total Return (%)': 25.41,\n",
       "  'Avg Daily Reward': 0.3219,\n",
       "  'Avg Daily Reward (%)': 0.1321,\n",
       "  '# Trades': 33,\n",
       "  'Cumulative Reward': 156.75,\n",
       "  'Sharpe Ratio': 0.051,\n",
       "  'Max Drawdown': -112.7,\n",
       "  'Profit Factor': 1.22,\n",
       "  'Win/Loss Ratio': 1.07,\n",
       "  'Avg Trade Duration': 14.79,\n",
       "  'Ticker': 'TSLA',\n",
       "  'Sector': None},\n",
       " {'Model': 'Model5 (Rule Mean Reversion)',\n",
       "  'Total Return ($)': -25.54,\n",
       "  'Total Return (%)': -10.48,\n",
       "  'Avg Daily Reward': -0.594,\n",
       "  'Avg Daily Reward (%)': -0.2438,\n",
       "  '# Trades': 85,\n",
       "  'Cumulative Reward': -25.54,\n",
       "  'Sharpe Ratio': -0.0269,\n",
       "  'Max Drawdown': -131.45,\n",
       "  'Profit Factor': 0.92,\n",
       "  'Win/Loss Ratio': 1.69,\n",
       "  'Avg Trade Duration': 5.74,\n",
       "  'Ticker': 'TSLA',\n",
       "  'Sector': None},\n",
       " {'Model': 'Model6 (RL Mean Reversion)',\n",
       "  'Total Return ($)': -31.14,\n",
       "  'Total Return (%)': -12.78,\n",
       "  'Avg Daily Reward': -0.0639,\n",
       "  'Avg Daily Reward (%)': -0.0262,\n",
       "  '# Trades': 42,\n",
       "  'Cumulative Reward': -31.14,\n",
       "  'Sharpe Ratio': -0.0325,\n",
       "  'Max Drawdown': -62.99,\n",
       "  'Profit Factor': 0.66,\n",
       "  'Win/Loss Ratio': 0.62,\n",
       "  'Avg Trade Duration': 11.62,\n",
       "  'Ticker': 'TSLA',\n",
       "  'Sector': None},\n",
       " {'Model': 'Model0 (Rule SMA)',\n",
       "  'Total Return ($)': 81.55,\n",
       "  'Total Return (%)': 95.4,\n",
       "  'Avg Daily Reward': 2.5484,\n",
       "  'Avg Daily Reward (%)': 2.9811,\n",
       "  '# Trades': 63,\n",
       "  'Cumulative Reward': 81.55,\n",
       "  'Sharpe Ratio': 0.256,\n",
       "  'Max Drawdown': -32.4,\n",
       "  'Profit Factor': 2.54,\n",
       "  'Win/Loss Ratio': 1.46,\n",
       "  'Avg Trade Duration': 7.75,\n",
       "  'Ticker': 'NVDA',\n",
       "  'Sector': None},\n",
       " {'Model': 'Model1 (RL)',\n",
       "  'Total Return ($)': 14.39,\n",
       "  'Total Return (%)': 16.83,\n",
       "  'Avg Daily Reward': -0.0659,\n",
       "  'Avg Daily Reward (%)': -0.0771,\n",
       "  '# Trades': 21,\n",
       "  'Cumulative Reward': -32.12,\n",
       "  'Sharpe Ratio': -0.0478,\n",
       "  'Max Drawdown': -33.46,\n",
       "  'Profit Factor': 0.72,\n",
       "  'Win/Loss Ratio': 0.79,\n",
       "  'Avg Trade Duration': 23.24,\n",
       "  'Ticker': 'NVDA',\n",
       "  'Sector': None},\n",
       " {'Model': 'Model2 (RL)',\n",
       "  'Total Return ($)': 14.25,\n",
       "  'Total Return (%)': 16.67,\n",
       "  'Avg Daily Reward': -0.0923,\n",
       "  'Avg Daily Reward (%)': -0.108,\n",
       "  '# Trades': 57,\n",
       "  'Cumulative Reward': -44.96,\n",
       "  'Sharpe Ratio': -0.048,\n",
       "  'Max Drawdown': -50.73,\n",
       "  'Profit Factor': 0.79,\n",
       "  'Win/Loss Ratio': 0.81,\n",
       "  'Avg Trade Duration': 8.56,\n",
       "  'Ticker': 'NVDA',\n",
       "  'Sector': None},\n",
       " {'Model': 'Model3 (RL)',\n",
       "  'Total Return ($)': 10.68,\n",
       "  'Total Return (%)': 12.5,\n",
       "  'Avg Daily Reward': -0.1695,\n",
       "  'Avg Daily Reward (%)': -0.1983,\n",
       "  '# Trades': 47,\n",
       "  'Cumulative Reward': -82.55,\n",
       "  'Sharpe Ratio': -0.085,\n",
       "  'Max Drawdown': -91.82,\n",
       "  'Profit Factor': 0.68,\n",
       "  'Win/Loss Ratio': 0.66,\n",
       "  'Avg Trade Duration': 10.38,\n",
       "  'Ticker': 'NVDA',\n",
       "  'Sector': None},\n",
       " {'Model': 'Model4 (RL)',\n",
       "  'Total Return ($)': 80.1,\n",
       "  'Total Return (%)': 93.7,\n",
       "  'Avg Daily Reward': 0.1147,\n",
       "  'Avg Daily Reward (%)': 0.1342,\n",
       "  '# Trades': 16,\n",
       "  'Cumulative Reward': 55.88,\n",
       "  'Sharpe Ratio': 0.0763,\n",
       "  'Max Drawdown': -23.78,\n",
       "  'Profit Factor': 1.53,\n",
       "  'Win/Loss Ratio': 1.27,\n",
       "  'Avg Trade Duration': 30.5,\n",
       "  'Ticker': 'NVDA',\n",
       "  'Sector': None},\n",
       " {'Model': 'Model5 (Rule Mean Reversion)',\n",
       "  'Total Return ($)': 34.21,\n",
       "  'Total Return (%)': 40.02,\n",
       "  'Avg Daily Reward': 0.8146,\n",
       "  'Avg Daily Reward (%)': 0.953,\n",
       "  '# Trades': 83,\n",
       "  'Cumulative Reward': 34.21,\n",
       "  'Sharpe Ratio': 0.1591,\n",
       "  'Max Drawdown': -18.68,\n",
       "  'Profit Factor': 1.55,\n",
       "  'Win/Loss Ratio': 2.23,\n",
       "  'Avg Trade Duration': 5.88,\n",
       "  'Ticker': 'NVDA',\n",
       "  'Sector': None},\n",
       " {'Model': 'Model6 (RL Mean Reversion)',\n",
       "  'Total Return ($)': -12.3,\n",
       "  'Total Return (%)': -14.39,\n",
       "  'Avg Daily Reward': -0.0253,\n",
       "  'Avg Daily Reward (%)': -0.0296,\n",
       "  '# Trades': 20,\n",
       "  'Cumulative Reward': -12.3,\n",
       "  'Sharpe Ratio': -0.064,\n",
       "  'Max Drawdown': -12.3,\n",
       "  'Profit Factor': 0.25,\n",
       "  'Win/Loss Ratio': 0.25,\n",
       "  'Avg Trade Duration': 24.4,\n",
       "  'Ticker': 'NVDA',\n",
       "  'Sector': None},\n",
       " {'Model': 'Model0 (Rule SMA)',\n",
       "  'Total Return ($)': 6.36,\n",
       "  'Total Return (%)': 4.19,\n",
       "  'Avg Daily Reward': 0.1479,\n",
       "  'Avg Daily Reward (%)': 0.0975,\n",
       "  '# Trades': 86,\n",
       "  'Cumulative Reward': 6.36,\n",
       "  'Sharpe Ratio': 0.0236,\n",
       "  'Max Drawdown': -25.88,\n",
       "  'Profit Factor': 1.07,\n",
       "  'Win/Loss Ratio': 0.48,\n",
       "  'Avg Trade Duration': 5.67,\n",
       "  'Ticker': 'GOOGL',\n",
       "  'Sector': None},\n",
       " {'Model': 'Model1 (RL)',\n",
       "  'Total Return ($)': 27.77,\n",
       "  'Total Return (%)': 18.3,\n",
       "  'Avg Daily Reward': 0.0372,\n",
       "  'Avg Daily Reward (%)': 0.0245,\n",
       "  '# Trades': 20,\n",
       "  'Cumulative Reward': 18.13,\n",
       "  'Sharpe Ratio': 0.0247,\n",
       "  'Max Drawdown': -30.8,\n",
       "  'Profit Factor': 1.15,\n",
       "  'Win/Loss Ratio': 0.87,\n",
       "  'Avg Trade Duration': 24.4,\n",
       "  'Ticker': 'GOOGL',\n",
       "  'Sector': None},\n",
       " {'Model': 'Model2 (RL)',\n",
       "  'Total Return ($)': 38.34,\n",
       "  'Total Return (%)': 25.27,\n",
       "  'Avg Daily Reward': -0.0568,\n",
       "  'Avg Daily Reward (%)': -0.0375,\n",
       "  '# Trades': 72,\n",
       "  'Cumulative Reward': -27.67,\n",
       "  'Sharpe Ratio': -0.0471,\n",
       "  'Max Drawdown': -47.73,\n",
       "  'Profit Factor': 0.81,\n",
       "  'Win/Loss Ratio': 0.86,\n",
       "  'Avg Trade Duration': 6.78,\n",
       "  'Ticker': 'GOOGL',\n",
       "  'Sector': None},\n",
       " {'Model': 'Model3 (RL)',\n",
       "  'Total Return ($)': 19.09,\n",
       "  'Total Return (%)': 12.58,\n",
       "  'Avg Daily Reward': -0.1202,\n",
       "  'Avg Daily Reward (%)': -0.0792,\n",
       "  '# Trades': 36,\n",
       "  'Cumulative Reward': -58.52,\n",
       "  'Sharpe Ratio': -0.0605,\n",
       "  'Max Drawdown': -61.38,\n",
       "  'Profit Factor': 0.76,\n",
       "  'Win/Loss Ratio': 0.74,\n",
       "  'Avg Trade Duration': 13.56,\n",
       "  'Ticker': 'GOOGL',\n",
       "  'Sector': None},\n",
       " {'Model': 'Model4 (RL)',\n",
       "  'Total Return ($)': 52.27,\n",
       "  'Total Return (%)': 34.45,\n",
       "  'Avg Daily Reward': -0.1114,\n",
       "  'Avg Daily Reward (%)': -0.0735,\n",
       "  '# Trades': 21,\n",
       "  'Cumulative Reward': -54.27,\n",
       "  'Sharpe Ratio': -0.082,\n",
       "  'Max Drawdown': -55.79,\n",
       "  'Profit Factor': 0.56,\n",
       "  'Win/Loss Ratio': 0.64,\n",
       "  'Avg Trade Duration': 23.24,\n",
       "  'Ticker': 'GOOGL',\n",
       "  'Sector': None},\n",
       " {'Model': 'Model5 (Rule Mean Reversion)',\n",
       "  'Total Return ($)': 52.36,\n",
       "  'Total Return (%)': 34.51,\n",
       "  'Avg Daily Reward': 1.7455,\n",
       "  'Avg Daily Reward (%)': 1.1505,\n",
       "  '# Trades': 60,\n",
       "  'Cumulative Reward': 52.36,\n",
       "  'Sharpe Ratio': 0.4488,\n",
       "  'Max Drawdown': -16.25,\n",
       "  'Profit Factor': 3.08,\n",
       "  'Win/Loss Ratio': 4.0,\n",
       "  'Avg Trade Duration': 8.13,\n",
       "  'Ticker': 'GOOGL',\n",
       "  'Sector': None},\n",
       " {'Model': 'Model6 (RL Mean Reversion)',\n",
       "  'Total Return ($)': -18.22,\n",
       "  'Total Return (%)': -12.01,\n",
       "  'Avg Daily Reward': -0.0374,\n",
       "  'Avg Daily Reward (%)': -0.0247,\n",
       "  '# Trades': 36,\n",
       "  'Cumulative Reward': -18.22,\n",
       "  'Sharpe Ratio': -0.0557,\n",
       "  'Max Drawdown': -24.02,\n",
       "  'Profit Factor': 0.45,\n",
       "  'Win/Loss Ratio': 1.25,\n",
       "  'Avg Trade Duration': 13.56,\n",
       "  'Ticker': 'GOOGL',\n",
       "  'Sector': None},\n",
       " {'Model': 'Model0 (Rule SMA)',\n",
       "  'Total Return ($)': 46.7,\n",
       "  'Total Return (%)': 27.76,\n",
       "  'Avg Daily Reward': 1.1675,\n",
       "  'Avg Daily Reward (%)': 0.694,\n",
       "  '# Trades': 80,\n",
       "  'Cumulative Reward': 46.7,\n",
       "  'Sharpe Ratio': 0.1662,\n",
       "  'Max Drawdown': -25.48,\n",
       "  'Profit Factor': 1.57,\n",
       "  'Win/Loss Ratio': 0.82,\n",
       "  'Avg Trade Duration': 6.1,\n",
       "  'Ticker': 'AMZN',\n",
       "  'Sector': None},\n",
       " {'Model': 'Model1 (RL)',\n",
       "  'Total Return ($)': -8.28,\n",
       "  'Total Return (%)': -4.92,\n",
       "  'Avg Daily Reward': -0.0736,\n",
       "  'Avg Daily Reward (%)': -0.0437,\n",
       "  '# Trades': 31,\n",
       "  'Cumulative Reward': -35.83,\n",
       "  'Sharpe Ratio': -0.0377,\n",
       "  'Max Drawdown': -46.69,\n",
       "  'Profit Factor': 0.83,\n",
       "  'Win/Loss Ratio': 1.05,\n",
       "  'Avg Trade Duration': 15.74,\n",
       "  'Ticker': 'AMZN',\n",
       "  'Sector': None},\n",
       " {'Model': 'Model2 (RL)',\n",
       "  'Total Return ($)': 92.95,\n",
       "  'Total Return (%)': 55.25,\n",
       "  'Avg Daily Reward': 0.048,\n",
       "  'Avg Daily Reward (%)': 0.0285,\n",
       "  '# Trades': 69,\n",
       "  'Cumulative Reward': 23.37,\n",
       "  'Sharpe Ratio': 0.024,\n",
       "  'Max Drawdown': -38.17,\n",
       "  'Profit Factor': 1.11,\n",
       "  'Win/Loss Ratio': 1.05,\n",
       "  'Avg Trade Duration': 7.07,\n",
       "  'Ticker': 'AMZN',\n",
       "  'Sector': None},\n",
       " {'Model': 'Model3 (RL)',\n",
       "  'Total Return ($)': 6.46,\n",
       "  'Total Return (%)': 3.84,\n",
       "  'Avg Daily Reward': -0.1983,\n",
       "  'Avg Daily Reward (%)': -0.1179,\n",
       "  '# Trades': 46,\n",
       "  'Cumulative Reward': -96.58,\n",
       "  'Sharpe Ratio': -0.091,\n",
       "  'Max Drawdown': -110.26,\n",
       "  'Profit Factor': 0.68,\n",
       "  'Win/Loss Ratio': 0.76,\n",
       "  'Avg Trade Duration': 10.61,\n",
       "  'Ticker': 'AMZN',\n",
       "  'Sector': None},\n",
       " {'Model': 'Model4 (RL)',\n",
       "  'Total Return ($)': 14.3,\n",
       "  'Total Return (%)': 8.5,\n",
       "  'Avg Daily Reward': -0.0653,\n",
       "  'Avg Daily Reward (%)': -0.0388,\n",
       "  '# Trades': 21,\n",
       "  'Cumulative Reward': -31.78,\n",
       "  'Sharpe Ratio': -0.0489,\n",
       "  'Max Drawdown': -36.83,\n",
       "  'Profit Factor': 0.75,\n",
       "  'Win/Loss Ratio': 0.83,\n",
       "  'Avg Trade Duration': 23.24,\n",
       "  'Ticker': 'AMZN',\n",
       "  'Sector': None},\n",
       " {'Model': 'Model5 (Rule Mean Reversion)',\n",
       "  'Total Return ($)': 3.26,\n",
       "  'Total Return (%)': 1.94,\n",
       "  'Avg Daily Reward': 0.163,\n",
       "  'Avg Daily Reward (%)': 0.0969,\n",
       "  '# Trades': 40,\n",
       "  'Cumulative Reward': 3.26,\n",
       "  'Sharpe Ratio': 0.0177,\n",
       "  'Max Drawdown': -31.2,\n",
       "  'Profit Factor': 1.06,\n",
       "  'Win/Loss Ratio': 2.33,\n",
       "  'Avg Trade Duration': 12.2,\n",
       "  'Ticker': 'AMZN',\n",
       "  'Sector': None},\n",
       " {'Model': 'Model6 (RL Mean Reversion)',\n",
       "  'Total Return ($)': -6.73,\n",
       "  'Total Return (%)': -4.0,\n",
       "  'Avg Daily Reward': -0.0138,\n",
       "  'Avg Daily Reward (%)': -0.0082,\n",
       "  '# Trades': 30,\n",
       "  'Cumulative Reward': -6.73,\n",
       "  'Sharpe Ratio': -0.0221,\n",
       "  'Max Drawdown': -11.1,\n",
       "  'Profit Factor': 0.72,\n",
       "  'Win/Loss Ratio': 0.88,\n",
       "  'Avg Trade Duration': 16.27,\n",
       "  'Ticker': 'AMZN',\n",
       "  'Sector': None},\n",
       " {'Model': 'Model0 (Rule SMA)',\n",
       "  'Total Return ($)': 422.36,\n",
       "  'Total Return (%)': 95.29,\n",
       "  'Avg Daily Reward': 13.6245,\n",
       "  'Avg Daily Reward (%)': 3.0738,\n",
       "  '# Trades': 62,\n",
       "  'Cumulative Reward': 422.36,\n",
       "  'Sharpe Ratio': 0.4551,\n",
       "  'Max Drawdown': -25.08,\n",
       "  'Profit Factor': 5.87,\n",
       "  'Win/Loss Ratio': 1.21,\n",
       "  'Avg Trade Duration': 7.87,\n",
       "  'Ticker': 'META',\n",
       "  'Sector': None},\n",
       " {'Model': 'Model1 (RL)',\n",
       "  'Total Return ($)': 249.28,\n",
       "  'Total Return (%)': 56.24,\n",
       "  'Avg Daily Reward': 0.3977,\n",
       "  'Avg Daily Reward (%)': 0.0897,\n",
       "  '# Trades': 33,\n",
       "  'Cumulative Reward': 193.68,\n",
       "  'Sharpe Ratio': 0.0666,\n",
       "  'Max Drawdown': -82.64,\n",
       "  'Profit Factor': 1.38,\n",
       "  'Win/Loss Ratio': 0.95,\n",
       "  'Avg Trade Duration': 14.79,\n",
       "  'Ticker': 'META',\n",
       "  'Sector': None},\n",
       " {'Model': 'Model2 (RL)',\n",
       "  'Total Return ($)': 304.48,\n",
       "  'Total Return (%)': 68.69,\n",
       "  'Avg Daily Reward': 0.1847,\n",
       "  'Avg Daily Reward (%)': 0.0417,\n",
       "  '# Trades': 107,\n",
       "  'Cumulative Reward': 89.95,\n",
       "  'Sharpe Ratio': 0.0297,\n",
       "  'Max Drawdown': -96.71,\n",
       "  'Profit Factor': 1.13,\n",
       "  'Win/Loss Ratio': 1.11,\n",
       "  'Avg Trade Duration': 4.56,\n",
       "  'Ticker': 'META',\n",
       "  'Sector': None},\n",
       " {'Model': 'Model3 (RL)',\n",
       "  'Total Return ($)': 48.73,\n",
       "  'Total Return (%)': 10.99,\n",
       "  'Avg Daily Reward': -0.3549,\n",
       "  'Avg Daily Reward (%)': -0.0801,\n",
       "  '# Trades': 44,\n",
       "  'Cumulative Reward': -172.84,\n",
       "  'Sharpe Ratio': -0.0498,\n",
       "  'Max Drawdown': -248.18,\n",
       "  'Profit Factor': 0.78,\n",
       "  'Win/Loss Ratio': 0.91,\n",
       "  'Avg Trade Duration': 11.09,\n",
       "  'Ticker': 'META',\n",
       "  'Sector': None},\n",
       " {'Model': 'Model4 (RL)',\n",
       "  'Total Return ($)': 48.27,\n",
       "  'Total Return (%)': 10.89,\n",
       "  'Avg Daily Reward': 0.0921,\n",
       "  'Avg Daily Reward (%)': 0.0208,\n",
       "  '# Trades': 24,\n",
       "  'Cumulative Reward': 44.85,\n",
       "  'Sharpe Ratio': 0.0214,\n",
       "  'Max Drawdown': -127.58,\n",
       "  'Profit Factor': 1.09,\n",
       "  'Win/Loss Ratio': 1.03,\n",
       "  'Avg Trade Duration': 20.33,\n",
       "  'Ticker': 'META',\n",
       "  'Sector': None},\n",
       " {'Model': 'Model5 (Rule Mean Reversion)',\n",
       "  'Total Return ($)': 21.91,\n",
       "  'Total Return (%)': 4.94,\n",
       "  'Avg Daily Reward': 0.9527,\n",
       "  'Avg Daily Reward (%)': 0.2149,\n",
       "  '# Trades': 45,\n",
       "  'Cumulative Reward': 21.91,\n",
       "  'Sharpe Ratio': 0.0782,\n",
       "  'Max Drawdown': -56.78,\n",
       "  'Profit Factor': 1.25,\n",
       "  'Win/Loss Ratio': 3.6,\n",
       "  'Avg Trade Duration': 10.84,\n",
       "  'Ticker': 'META',\n",
       "  'Sector': None},\n",
       " {'Model': 'Model6 (RL Mean Reversion)',\n",
       "  'Total Return ($)': 157.93,\n",
       "  'Total Return (%)': 35.63,\n",
       "  'Avg Daily Reward': 0.3243,\n",
       "  'Avg Daily Reward (%)': 0.0732,\n",
       "  '# Trades': 78,\n",
       "  'Cumulative Reward': 157.93,\n",
       "  'Sharpe Ratio': 0.0592,\n",
       "  'Max Drawdown': -49.49,\n",
       "  'Profit Factor': 1.88,\n",
       "  'Win/Loss Ratio': 1.44,\n",
       "  'Avg Trade Duration': 6.26,\n",
       "  'Ticker': 'META',\n",
       "  'Sector': None}]"
      ]
     },
     "execution_count": 148,
     "metadata": {},
     "output_type": "execute_result"
    }
   ],
   "source": [
    "all_results"
   ]
  },
  {
   "cell_type": "code",
   "execution_count": 149,
   "metadata": {},
   "outputs": [],
   "source": [
    "df_all = pd.DataFrame(all_results)\n",
    "\n",
    "# Rank models within each ticker (by Total Return %)\n",
    "df_all['Rank'] = df_all.groupby('Ticker')[\"Total Return (%)\"].rank(ascending=False)\n",
    "\n",
    "# Optional: Round for nicer display\n",
    "df_all = df_all.round(2)\n"
   ]
  },
  {
   "cell_type": "code",
   "execution_count": null,
   "metadata": {},
   "outputs": [],
   "source": []
  },
  {
   "cell_type": "markdown",
   "metadata": {},
   "source": [
    "#### Summary: How often each model ranks in top 1 or 2"
   ]
  },
  {
   "cell_type": "code",
   "execution_count": 150,
   "metadata": {},
   "outputs": [
    {
     "data": {
      "text/html": [
       "<div>\n",
       "<style scoped>\n",
       "    .dataframe tbody tr th:only-of-type {\n",
       "        vertical-align: middle;\n",
       "    }\n",
       "\n",
       "    .dataframe tbody tr th {\n",
       "        vertical-align: top;\n",
       "    }\n",
       "\n",
       "    .dataframe thead th {\n",
       "        text-align: right;\n",
       "    }\n",
       "</style>\n",
       "<table border=\"1\" class=\"dataframe\">\n",
       "  <thead>\n",
       "    <tr style=\"text-align: right;\">\n",
       "      <th></th>\n",
       "      <th>Top 2 Count</th>\n",
       "      <th>Top 2 %</th>\n",
       "    </tr>\n",
       "    <tr>\n",
       "      <th>Model</th>\n",
       "      <th></th>\n",
       "      <th></th>\n",
       "    </tr>\n",
       "  </thead>\n",
       "  <tbody>\n",
       "    <tr>\n",
       "      <th>Model0 (Rule SMA)</th>\n",
       "      <td>5</td>\n",
       "      <td>71.4</td>\n",
       "    </tr>\n",
       "    <tr>\n",
       "      <th>Model2 (RL)</th>\n",
       "      <td>4</td>\n",
       "      <td>57.1</td>\n",
       "    </tr>\n",
       "    <tr>\n",
       "      <th>Model3 (RL)</th>\n",
       "      <td>2</td>\n",
       "      <td>28.6</td>\n",
       "    </tr>\n",
       "    <tr>\n",
       "      <th>Model4 (RL)</th>\n",
       "      <td>2</td>\n",
       "      <td>28.6</td>\n",
       "    </tr>\n",
       "    <tr>\n",
       "      <th>Model5 (Rule Mean Reversion)</th>\n",
       "      <td>1</td>\n",
       "      <td>14.3</td>\n",
       "    </tr>\n",
       "  </tbody>\n",
       "</table>\n",
       "</div>"
      ],
      "text/plain": [
       "                              Top 2 Count  Top 2 %\n",
       "Model                                             \n",
       "Model0 (Rule SMA)                       5     71.4\n",
       "Model2 (RL)                             4     57.1\n",
       "Model3 (RL)                             2     28.6\n",
       "Model4 (RL)                             2     28.6\n",
       "Model5 (Rule Mean Reversion)            1     14.3"
      ]
     },
     "metadata": {},
     "output_type": "display_data"
    }
   ],
   "source": [
    "top2_counts = df_all[df_all[\"Rank\"] <= 2][\"Model\"].value_counts().sort_values(ascending=False)\n",
    "top2_percent = (top2_counts / len(tickers) * 100).round(1)\n",
    "\n",
    "summary_table = pd.DataFrame({\n",
    "    \"Top 2 Count\": top2_counts,\n",
    "    \"Top 2 %\": top2_percent\n",
    "})\n",
    "display(summary_table)\n"
   ]
  },
  {
   "cell_type": "code",
   "execution_count": 151,
   "metadata": {},
   "outputs": [
    {
     "name": "stderr",
     "output_type": "stream",
     "text": [
      "C:\\Users\\JR\\AppData\\Local\\Temp\\ipykernel_5504\\667700075.py:14: FutureWarning: \n",
      "\n",
      "Passing `palette` without assigning `hue` is deprecated and will be removed in v0.14.0. Assign the `x` variable to `hue` and set `legend=False` for the same effect.\n",
      "\n",
      "  sns.boxplot(x='Model', y='Total Return (%)', data=df_all, palette=palette, showmeans=True,\n"
     ]
    },
    {
     "data": {
      "image/png": "[encoded data removed]",
      "text/plain": [
       "<Figure size 1200x600 with 1 Axes>"
      ]
     },
     "metadata": {},
     "output_type": "display_data"
    }
   ],
   "source": [
    "# visualization\n",
    "\n",
    "# Boxplot of Total Return % by Model\n",
    "plt.figure(figsize=(12, 6))\n",
    "palette = {\n",
    "    'Model0 (Rule SMA)': 'steelblue',\n",
    "    'Model5 (Rule Mean Reversion)': 'skyblue',\n",
    "    'Model1 (RL)': 'lightcoral',\n",
    "    'Model2 (RL)': 'indianred',\n",
    "    'Model3 (RL)': 'salmon',\n",
    "    'Model4 (RL)': 'firebrick',\n",
    "    'Model6 (RL Mean Reversion)': 'tomato'\n",
    "}\n",
    "sns.boxplot(x='Model', y='Total Return (%)', data=df_all, palette=palette, showmeans=True,\n",
    "            meanprops={\"marker\":\"o\", \"markerfacecolor\":\"black\", \"markeredgecolor\":\"black\"})\n",
    "plt.axhline(0, linestyle='--', color='gray', linewidth=1)\n",
    "plt.xticks(rotation=45)\n",
    "plt.title(\"Distribution of Total Return (%) by Model\")\n",
    "plt.grid(axis='y')\n",
    "plt.tight_layout()\n",
    "plt.show()"
   ]
  },
  {
   "cell_type": "code",
   "execution_count": 152,
   "metadata": {},
   "outputs": [
    {
     "data": {
      "image/png": "[encoded data removed]",
      "text/plain": [
       "<Figure size 1000x600 with 1 Axes>"
      ]
     },
     "metadata": {},
     "output_type": "display_data"
    }
   ],
   "source": [
    "plt.figure(figsize=(10, 6))\n",
    "sns.barplot(x=summary_table.index, y=\"Top 2 %\", data=summary_table)\n",
    "plt.title(\"Frequency of Models Ranking in Top 2 Across Tickers\")\n",
    "plt.ylabel(\"Top 2 Appearance (%)\")\n",
    "plt.xlabel(\"Model\")\n",
    "plt.xticks(rotation=45)\n",
    "plt.grid(axis='y')\n",
    "plt.tight_layout()\n",
    "plt.show()"
   ]
  },
  {
   "cell_type": "code",
   "execution_count": null,
   "metadata": {},
   "outputs": [],
   "source": []
  },
  {
   "cell_type": "markdown",
   "metadata": {},
   "source": [
    "## Part III: All Tickers In S&P 500 and sector analysis"
   ]
  },
  {
   "cell_type": "code",
   "execution_count": 153,
   "metadata": {},
   "outputs": [],
   "source": [
    "sp_df = pd.read_html('https://en.wikipedia.org/wiki/List_of_S%26P_500_companies')[0]\n",
    "sp_df['Symbol'] = sp_df['Symbol'].str.replace(r'\\.', '-', regex=True)\n",
    "sp_df = sp_df[['Symbol', 'Security', 'GICS Sector']]"
   ]
  },
  {
   "cell_type": "code",
   "execution_count": 155,
   "metadata": {},
   "outputs": [
    {
     "name": "stderr",
     "output_type": "stream",
     "text": [
      "  0%|          | 0/503 [00:00<?, ?it/s]"
     ]
    },
    {
     "name": "stderr",
     "output_type": "stream",
     "text": [
      "[*********************100%***********************]  1 of 1 completed\n"
     ]
    },
    {
     "name": "stdout",
     "output_type": "stream",
     "text": [
      "Downloading data for MMM...\n",
      "Running models for MMM...\n"
     ]
    },
    {
     "name": "stderr",
     "output_type": "stream",
     "text": [
      "[*********************100%***********************]  1 of 1 completed"
     ]
    },
    {
     "name": "stdout",
     "output_type": "stream",
     "text": [
      " Finished MMM\n",
      "Downloading data for AOS...\n"
     ]
    },
    {
     "name": "stderr",
     "output_type": "stream",
     "text": [
      "\n"
     ]
    },
    {
     "name": "stdout",
     "output_type": "stream",
     "text": [
      "Running models for AOS...\n"
     ]
    },
    {
     "name": "stderr",
     "output_type": "stream",
     "text": [
      "[*********************100%***********************]  1 of 1 completed"
     ]
    },
    {
     "name": "stdout",
     "output_type": "stream",
     "text": [
      " Finished AOS\n",
      "Downloading data for ABT...\n",
      "Running models for ABT...\n"
     ]
    },
    {
     "name": "stderr",
     "output_type": "stream",
     "text": [
      "\n",
      "[*********************100%***********************]  1 of 1 completed"
     ]
    },
    {
     "name": "stdout",
     "output_type": "stream",
     "text": [
      " Finished ABT\n",
      "Downloading data for ABBV...\n",
      "Running models for ABBV...\n"
     ]
    },
    {
     "name": "stderr",
     "output_type": "stream",
     "text": [
      "\n",
      "[*********************100%***********************]  1 of 1 completed"
     ]
    },
    {
     "name": "stdout",
     "output_type": "stream",
     "text": [
      " Finished ABBV\n",
      "Downloading data for ACN...\n",
      "Running models for ACN...\n"
     ]
    },
    {
     "name": "stderr",
     "output_type": "stream",
     "text": [
      "\n",
      "[*********************100%***********************]  1 of 1 completed"
     ]
    },
    {
     "name": "stdout",
     "output_type": "stream",
     "text": [
      " Finished ACN\n",
      "Downloading data for ADBE...\n",
      "Running models for ADBE...\n"
     ]
    },
    {
     "name": "stderr",
     "output_type": "stream",
     "text": [
      "\n",
      "[*********************100%***********************]  1 of 1 completed"
     ]
    },
    {
     "name": "stdout",
     "output_type": "stream",
     "text": [
      " Finished ADBE\n",
      "Downloading data for AMD...\n",
      "Running models for AMD...\n"
     ]
    },
    {
     "name": "stderr",
     "output_type": "stream",
     "text": [
      "\n",
      "  1%|▏         | 7/503 [00:05<05:55,  1.40it/s]"
     ]
    },
    {
     "name": "stdout",
     "output_type": "stream",
     "text": [
      " Finished AMD\n",
      "Downloading data for AES...\n"
     ]
    },
    {
     "name": "stderr",
     "output_type": "stream",
     "text": [
      "[*********************100%***********************]  1 of 1 completed\n"
     ]
    },
    {
     "name": "stdout",
     "output_type": "stream",
     "text": [
      "Running models for AES...\n"
     ]
    },
    {
     "name": "stderr",
     "output_type": "stream",
     "text": [
      "[*********************100%***********************]  1 of 1 completed"
     ]
    },
    {
     "name": "stdout",
     "output_type": "stream",
     "text": [
      " Finished AES\n",
      "Downloading data for AFL...\n",
      "Running models for AFL...\n"
     ]
    },
    {
     "name": "stderr",
     "output_type": "stream",
     "text": [
      "\n",
      "[*********************100%***********************]  1 of 1 completed"
     ]
    },
    {
     "name": "stdout",
     "output_type": "stream",
     "text": [
      " Finished AFL\n",
      "Downloading data for A...\n",
      "Running models for A...\n"
     ]
    },
    {
     "name": "stderr",
     "output_type": "stream",
     "text": [
      "\n",
      "[*********************100%***********************]  1 of 1 completed"
     ]
    },
    {
     "name": "stdout",
     "output_type": "stream",
     "text": [
      " Finished A\n",
      "Downloading data for APD...\n",
      "Running models for APD...\n"
     ]
    },
    {
     "name": "stderr",
     "output_type": "stream",
     "text": [
      "\n",
      "[*********************100%***********************]  1 of 1 completed"
     ]
    },
    {
     "name": "stdout",
     "output_type": "stream",
     "text": [
      " Finished APD\n",
      "Downloading data for ABNB...\n",
      "Running models for ABNB...\n"
     ]
    },
    {
     "name": "stderr",
     "output_type": "stream",
     "text": [
      "\n",
      "[*********************100%***********************]  1 of 1 completed"
     ]
    },
    {
     "name": "stdout",
     "output_type": "stream",
     "text": [
      " Finished ABNB\n",
      "Downloading data for AKAM...\n",
      "Running models for AKAM...\n"
     ]
    },
    {
     "name": "stderr",
     "output_type": "stream",
     "text": [
      "\n",
      "[*********************100%***********************]  1 of 1 completed"
     ]
    },
    {
     "name": "stdout",
     "output_type": "stream",
     "text": [
      " Finished AKAM\n",
      "Downloading data for ALB...\n",
      "Running models for ALB...\n"
     ]
    },
    {
     "name": "stderr",
     "output_type": "stream",
     "text": [
      "\n",
      "[*********************100%***********************]  1 of 1 completed"
     ]
    },
    {
     "name": "stdout",
     "output_type": "stream",
     "text": [
      " Finished ALB\n",
      "Downloading data for ARE...\n",
      "Running models for ARE...\n"
     ]
    },
    {
     "name": "stderr",
     "output_type": "stream",
     "text": [
      "\n",
      "[*********************100%***********************]  1 of 1 completed"
     ]
    },
    {
     "name": "stdout",
     "output_type": "stream",
     "text": [
      " Finished ARE\n",
      "Downloading data for ALGN...\n",
      "Running models for ALGN...\n"
     ]
    },
    {
     "name": "stderr",
     "output_type": "stream",
     "text": [
      "\n",
      "[*********************100%***********************]  1 of 1 completed"
     ]
    },
    {
     "name": "stdout",
     "output_type": "stream",
     "text": [
      " Finished ALGN\n",
      "Downloading data for ALLE...\n",
      "Running models for ALLE...\n"
     ]
    },
    {
     "name": "stderr",
     "output_type": "stream",
     "text": [
      "\n",
      "[*********************100%***********************]  1 of 1 completed"
     ]
    },
    {
     "name": "stdout",
     "output_type": "stream",
     "text": [
      " Finished ALLE\n",
      "Downloading data for LNT...\n",
      "Running models for LNT...\n"
     ]
    },
    {
     "name": "stderr",
     "output_type": "stream",
     "text": [
      "\n",
      "[*********************100%***********************]  1 of 1 completed"
     ]
    },
    {
     "name": "stdout",
     "output_type": "stream",
     "text": [
      " Finished LNT\n",
      "Downloading data for ALL...\n",
      "Running models for ALL...\n"
     ]
    },
    {
     "name": "stderr",
     "output_type": "stream",
     "text": [
      "\n",
      "[*********************100%***********************]  1 of 1 completed\n"
     ]
    },
    {
     "name": "stdout",
     "output_type": "stream",
     "text": [
      " Finished ALL\n",
      "Downloading data for GOOGL...\n",
      "Running models for GOOGL...\n"
     ]
    },
    {
     "name": "stderr",
     "output_type": "stream",
     "text": [
      "  4%|▍         | 20/503 [00:15<06:06,  1.32it/s]"
     ]
    },
    {
     "name": "stdout",
     "output_type": "stream",
     "text": [
      " Finished GOOGL\n",
      "Downloading data for GOOG...\n"
     ]
    },
    {
     "name": "stderr",
     "output_type": "stream",
     "text": [
      "[*********************100%***********************]  1 of 1 completed\n"
     ]
    },
    {
     "name": "stdout",
     "output_type": "stream",
     "text": [
      "Running models for GOOG...\n"
     ]
    },
    {
     "name": "stderr",
     "output_type": "stream",
     "text": [
      "[*********************100%***********************]  1 of 1 completed"
     ]
    },
    {
     "name": "stdout",
     "output_type": "stream",
     "text": [
      " Finished GOOG\n",
      "Downloading data for MO...\n"
     ]
    },
    {
     "name": "stderr",
     "output_type": "stream",
     "text": [
      "\n"
     ]
    },
    {
     "name": "stdout",
     "output_type": "stream",
     "text": [
      "Running models for MO...\n"
     ]
    },
    {
     "name": "stderr",
     "output_type": "stream",
     "text": [
      "[*********************100%***********************]  1 of 1 completed"
     ]
    },
    {
     "name": "stdout",
     "output_type": "stream",
     "text": [
      " Finished MO\n",
      "Downloading data for AMZN...\n",
      "Running models for AMZN...\n"
     ]
    },
    {
     "name": "stderr",
     "output_type": "stream",
     "text": [
      "\n",
      "[*********************100%***********************]  1 of 1 completed"
     ]
    },
    {
     "name": "stdout",
     "output_type": "stream",
     "text": [
      " Finished AMZN\n",
      "Downloading data for AMCR...\n",
      "Running models for AMCR...\n"
     ]
    },
    {
     "name": "stderr",
     "output_type": "stream",
     "text": [
      "\n",
      "[*********************100%***********************]  1 of 1 completed"
     ]
    },
    {
     "name": "stdout",
     "output_type": "stream",
     "text": [
      " Finished AMCR\n",
      "Downloading data for AEE...\n",
      "Running models for AEE...\n"
     ]
    },
    {
     "name": "stderr",
     "output_type": "stream",
     "text": [
      "\n",
      "[*********************100%***********************]  1 of 1 completed"
     ]
    },
    {
     "name": "stdout",
     "output_type": "stream",
     "text": [
      " Finished AEE\n",
      "Downloading data for AEP...\n",
      "Running models for AEP...\n"
     ]
    },
    {
     "name": "stderr",
     "output_type": "stream",
     "text": [
      "\n",
      "  5%|▌         | 26/503 [00:19<05:18,  1.50it/s]"
     ]
    },
    {
     "name": "stdout",
     "output_type": "stream",
     "text": [
      " Finished AEP\n",
      "Downloading data for AXP...\n"
     ]
    },
    {
     "name": "stderr",
     "output_type": "stream",
     "text": [
      "[*********************100%***********************]  1 of 1 completed\n"
     ]
    },
    {
     "name": "stdout",
     "output_type": "stream",
     "text": [
      "Running models for AXP...\n"
     ]
    },
    {
     "name": "stderr",
     "output_type": "stream",
     "text": [
      "[*********************100%***********************]  1 of 1 completed"
     ]
    },
    {
     "name": "stdout",
     "output_type": "stream",
     "text": [
      " Finished AXP\n",
      "Downloading data for AIG...\n",
      "Running models for AIG...\n"
     ]
    },
    {
     "name": "stderr",
     "output_type": "stream",
     "text": [
      "\n",
      "[*********************100%***********************]  1 of 1 completed"
     ]
    },
    {
     "name": "stdout",
     "output_type": "stream",
     "text": [
      " Finished AIG\n",
      "Downloading data for AMT...\n",
      "Running models for AMT...\n"
     ]
    },
    {
     "name": "stderr",
     "output_type": "stream",
     "text": [
      "\n",
      "[*********************100%***********************]  1 of 1 completed"
     ]
    },
    {
     "name": "stdout",
     "output_type": "stream",
     "text": [
      " Finished AMT\n",
      "Downloading data for AWK...\n",
      "Running models for AWK...\n"
     ]
    },
    {
     "name": "stderr",
     "output_type": "stream",
     "text": [
      "\n",
      "[*********************100%***********************]  1 of 1 completed"
     ]
    },
    {
     "name": "stdout",
     "output_type": "stream",
     "text": [
      " Finished AWK\n",
      "Downloading data for AMP...\n",
      "Running models for AMP...\n"
     ]
    },
    {
     "name": "stderr",
     "output_type": "stream",
     "text": [
      "\n",
      "[*********************100%***********************]  1 of 1 completed"
     ]
    },
    {
     "name": "stdout",
     "output_type": "stream",
     "text": [
      " Finished AMP\n",
      "Downloading data for AME...\n",
      "Running models for AME...\n"
     ]
    },
    {
     "name": "stderr",
     "output_type": "stream",
     "text": [
      "\n",
      "[*********************100%***********************]  1 of 1 completed"
     ]
    },
    {
     "name": "stdout",
     "output_type": "stream",
     "text": [
      " Finished AME\n",
      "Downloading data for AMGN...\n",
      "Running models for AMGN...\n"
     ]
    },
    {
     "name": "stderr",
     "output_type": "stream",
     "text": [
      "\n",
      "[*********************100%***********************]  1 of 1 completed\n"
     ]
    },
    {
     "name": "stdout",
     "output_type": "stream",
     "text": [
      " Finished AMGN\n",
      "Downloading data for APH...\n",
      "Running models for APH...\n"
     ]
    },
    {
     "name": "stderr",
     "output_type": "stream",
     "text": [
      "[*********************100%***********************]  1 of 1 completed"
     ]
    },
    {
     "name": "stdout",
     "output_type": "stream",
     "text": [
      " Finished APH\n",
      "Downloading data for ADI...\n",
      "Running models for ADI...\n"
     ]
    },
    {
     "name": "stderr",
     "output_type": "stream",
     "text": [
      "\n",
      "[*********************100%***********************]  1 of 1 completed"
     ]
    },
    {
     "name": "stdout",
     "output_type": "stream",
     "text": [
      " Finished ADI\n",
      "Downloading data for ANSS...\n",
      "Running models for ANSS...\n"
     ]
    },
    {
     "name": "stderr",
     "output_type": "stream",
     "text": [
      "\n",
      "[*********************100%***********************]  1 of 1 completed"
     ]
    },
    {
     "name": "stdout",
     "output_type": "stream",
     "text": [
      " Finished ANSS\n",
      "Downloading data for AON...\n",
      "Running models for AON...\n"
     ]
    },
    {
     "name": "stderr",
     "output_type": "stream",
     "text": [
      "\n",
      "[*********************100%***********************]  1 of 1 completed"
     ]
    },
    {
     "name": "stdout",
     "output_type": "stream",
     "text": [
      " Finished AON\n",
      "Downloading data for APA...\n",
      "Running models for APA...\n"
     ]
    },
    {
     "name": "stderr",
     "output_type": "stream",
     "text": [
      "\n",
      "[*********************100%***********************]  1 of 1 completed"
     ]
    },
    {
     "name": "stdout",
     "output_type": "stream",
     "text": [
      " Finished APA\n",
      "Downloading data for APO...\n",
      "Running models for APO...\n"
     ]
    },
    {
     "name": "stderr",
     "output_type": "stream",
     "text": [
      "\n",
      "  8%|▊         | 39/503 [00:29<05:38,  1.37it/s]"
     ]
    },
    {
     "name": "stdout",
     "output_type": "stream",
     "text": [
      " Finished APO\n",
      "Downloading data for AAPL...\n"
     ]
    },
    {
     "name": "stderr",
     "output_type": "stream",
     "text": [
      "[*********************100%***********************]  1 of 1 completed\n"
     ]
    },
    {
     "name": "stdout",
     "output_type": "stream",
     "text": [
      "Running models for AAPL...\n"
     ]
    },
    {
     "name": "stderr",
     "output_type": "stream",
     "text": [
      "[*********************100%***********************]  1 of 1 completed"
     ]
    },
    {
     "name": "stdout",
     "output_type": "stream",
     "text": [
      " Finished AAPL\n",
      "Downloading data for AMAT...\n",
      "Running models for AMAT...\n"
     ]
    },
    {
     "name": "stderr",
     "output_type": "stream",
     "text": [
      "\n",
      "[*********************100%***********************]  1 of 1 completed"
     ]
    },
    {
     "name": "stdout",
     "output_type": "stream",
     "text": [
      " Finished AMAT\n",
      "Downloading data for APTV...\n",
      "Running models for APTV...\n"
     ]
    },
    {
     "name": "stderr",
     "output_type": "stream",
     "text": [
      "\n",
      "[*********************100%***********************]  1 of 1 completed"
     ]
    },
    {
     "name": "stdout",
     "output_type": "stream",
     "text": [
      " Finished APTV\n",
      "Downloading data for ACGL...\n",
      "Running models for ACGL...\n"
     ]
    },
    {
     "name": "stderr",
     "output_type": "stream",
     "text": [
      "\n",
      "[*********************100%***********************]  1 of 1 completed"
     ]
    },
    {
     "name": "stdout",
     "output_type": "stream",
     "text": [
      " Finished ACGL\n",
      "Downloading data for ADM...\n",
      "Running models for ADM...\n"
     ]
    },
    {
     "name": "stderr",
     "output_type": "stream",
     "text": [
      "\n",
      "[*********************100%***********************]  1 of 1 completed"
     ]
    },
    {
     "name": "stdout",
     "output_type": "stream",
     "text": [
      " Finished ADM\n",
      "Downloading data for ANET...\n",
      "Running models for ANET...\n"
     ]
    },
    {
     "name": "stderr",
     "output_type": "stream",
     "text": [
      "\n",
      "[*********************100%***********************]  1 of 1 completed"
     ]
    },
    {
     "name": "stdout",
     "output_type": "stream",
     "text": [
      " Finished ANET\n",
      "Downloading data for AJG...\n",
      "Running models for AJG...\n"
     ]
    },
    {
     "name": "stderr",
     "output_type": "stream",
     "text": [
      "\n",
      "[*********************100%***********************]  1 of 1 completed"
     ]
    },
    {
     "name": "stdout",
     "output_type": "stream",
     "text": [
      " Finished AJG\n",
      "Downloading data for AIZ...\n",
      "Running models for AIZ...\n"
     ]
    },
    {
     "name": "stderr",
     "output_type": "stream",
     "text": [
      "\n",
      "  9%|▉         | 47/503 [00:35<05:08,  1.48it/s]"
     ]
    },
    {
     "name": "stdout",
     "output_type": "stream",
     "text": [
      " Finished AIZ\n",
      "Downloading data for T...\n"
     ]
    },
    {
     "name": "stderr",
     "output_type": "stream",
     "text": [
      "[*********************100%***********************]  1 of 1 completed\n"
     ]
    },
    {
     "name": "stdout",
     "output_type": "stream",
     "text": [
      "Running models for T...\n"
     ]
    },
    {
     "name": "stderr",
     "output_type": "stream",
     "text": [
      "[*********************100%***********************]  1 of 1 completed"
     ]
    },
    {
     "name": "stdout",
     "output_type": "stream",
     "text": [
      " Finished T\n",
      "Downloading data for ATO...\n",
      "Running models for ATO...\n"
     ]
    },
    {
     "name": "stderr",
     "output_type": "stream",
     "text": [
      "\n",
      "[*********************100%***********************]  1 of 1 completed"
     ]
    },
    {
     "name": "stdout",
     "output_type": "stream",
     "text": [
      " Finished ATO\n",
      "Downloading data for ADSK...\n",
      "Running models for ADSK...\n"
     ]
    },
    {
     "name": "stderr",
     "output_type": "stream",
     "text": [
      "\n",
      "[*********************100%***********************]  1 of 1 completed"
     ]
    },
    {
     "name": "stdout",
     "output_type": "stream",
     "text": [
      " Finished ADSK\n",
      "Downloading data for ADP...\n",
      "Running models for ADP...\n"
     ]
    },
    {
     "name": "stderr",
     "output_type": "stream",
     "text": [
      "\n",
      "[*********************100%***********************]  1 of 1 completed"
     ]
    },
    {
     "name": "stdout",
     "output_type": "stream",
     "text": [
      " Finished ADP\n",
      "Downloading data for AZO...\n",
      "Running models for AZO...\n"
     ]
    },
    {
     "name": "stderr",
     "output_type": "stream",
     "text": [
      "\n",
      "[*********************100%***********************]  1 of 1 completed"
     ]
    },
    {
     "name": "stdout",
     "output_type": "stream",
     "text": [
      " Finished AZO\n",
      "Downloading data for AVB...\n",
      "Running models for AVB...\n"
     ]
    },
    {
     "name": "stderr",
     "output_type": "stream",
     "text": [
      "\n",
      "[*********************100%***********************]  1 of 1 completed"
     ]
    },
    {
     "name": "stdout",
     "output_type": "stream",
     "text": [
      " Finished AVB\n",
      "Downloading data for AVY...\n",
      "Running models for AVY...\n"
     ]
    },
    {
     "name": "stderr",
     "output_type": "stream",
     "text": [
      "\n",
      "[*********************100%***********************]  1 of 1 completed"
     ]
    },
    {
     "name": "stdout",
     "output_type": "stream",
     "text": [
      " Finished AVY\n",
      "Downloading data for AXON...\n",
      "Running models for AXON...\n"
     ]
    },
    {
     "name": "stderr",
     "output_type": "stream",
     "text": [
      "\n",
      "[*********************100%***********************]  1 of 1 completed"
     ]
    },
    {
     "name": "stdout",
     "output_type": "stream",
     "text": [
      " Finished AXON\n",
      "Downloading data for BKR...\n",
      "Running models for BKR...\n"
     ]
    },
    {
     "name": "stderr",
     "output_type": "stream",
     "text": [
      "\n",
      "[*********************100%***********************]  1 of 1 completed"
     ]
    },
    {
     "name": "stdout",
     "output_type": "stream",
     "text": [
      " Finished BKR\n",
      "Downloading data for BALL...\n"
     ]
    },
    {
     "name": "stderr",
     "output_type": "stream",
     "text": [
      "\n"
     ]
    },
    {
     "name": "stdout",
     "output_type": "stream",
     "text": [
      "Running models for BALL...\n"
     ]
    },
    {
     "name": "stderr",
     "output_type": "stream",
     "text": [
      "[*********************100%***********************]  1 of 1 completed"
     ]
    },
    {
     "name": "stdout",
     "output_type": "stream",
     "text": [
      " Finished BALL\n",
      "Downloading data for BAC...\n",
      "Running models for BAC...\n"
     ]
    },
    {
     "name": "stderr",
     "output_type": "stream",
     "text": [
      "\n",
      " 12%|█▏        | 58/503 [00:44<05:49,  1.27it/s]"
     ]
    },
    {
     "name": "stdout",
     "output_type": "stream",
     "text": [
      " Finished BAC\n",
      "Downloading data for BAX...\n"
     ]
    },
    {
     "name": "stderr",
     "output_type": "stream",
     "text": [
      "[*********************100%***********************]  1 of 1 completed\n"
     ]
    },
    {
     "name": "stdout",
     "output_type": "stream",
     "text": [
      "Running models for BAX...\n"
     ]
    },
    {
     "name": "stderr",
     "output_type": "stream",
     "text": [
      "[*********************100%***********************]  1 of 1 completed"
     ]
    },
    {
     "name": "stdout",
     "output_type": "stream",
     "text": [
      " Finished BAX\n",
      "Downloading data for BDX...\n"
     ]
    },
    {
     "name": "stderr",
     "output_type": "stream",
     "text": [
      "\n"
     ]
    },
    {
     "name": "stdout",
     "output_type": "stream",
     "text": [
      "Running models for BDX...\n"
     ]
    },
    {
     "name": "stderr",
     "output_type": "stream",
     "text": [
      "[*********************100%***********************]  1 of 1 completed"
     ]
    },
    {
     "name": "stdout",
     "output_type": "stream",
     "text": [
      " Finished BDX\n",
      "Downloading data for BRK-B...\n"
     ]
    },
    {
     "name": "stderr",
     "output_type": "stream",
     "text": [
      "\n"
     ]
    },
    {
     "name": "stdout",
     "output_type": "stream",
     "text": [
      "Running models for BRK-B...\n"
     ]
    },
    {
     "name": "stderr",
     "output_type": "stream",
     "text": [
      "[*********************100%***********************]  1 of 1 completed"
     ]
    },
    {
     "name": "stdout",
     "output_type": "stream",
     "text": [
      " Finished BRK-B\n",
      "Downloading data for BBY...\n",
      "Running models for BBY...\n"
     ]
    },
    {
     "name": "stderr",
     "output_type": "stream",
     "text": [
      "\n",
      "[*********************100%***********************]  1 of 1 completed"
     ]
    },
    {
     "name": "stdout",
     "output_type": "stream",
     "text": [
      " Finished BBY\n",
      "Downloading data for TECH...\n",
      "Running models for TECH...\n"
     ]
    },
    {
     "name": "stderr",
     "output_type": "stream",
     "text": [
      "\n",
      "[*********************100%***********************]  1 of 1 completed"
     ]
    },
    {
     "name": "stdout",
     "output_type": "stream",
     "text": [
      " Finished TECH\n",
      "Downloading data for BIIB...\n",
      "Running models for BIIB...\n"
     ]
    },
    {
     "name": "stderr",
     "output_type": "stream",
     "text": [
      "\n",
      "[*********************100%***********************]  1 of 1 completed"
     ]
    },
    {
     "name": "stdout",
     "output_type": "stream",
     "text": [
      " Finished BIIB\n",
      "Downloading data for BLK...\n",
      "Running models for BLK...\n"
     ]
    },
    {
     "name": "stderr",
     "output_type": "stream",
     "text": [
      "\n",
      "[*********************100%***********************]  1 of 1 completed"
     ]
    },
    {
     "name": "stdout",
     "output_type": "stream",
     "text": [
      " Finished BLK\n",
      "Downloading data for BX...\n",
      "Running models for BX...\n"
     ]
    },
    {
     "name": "stderr",
     "output_type": "stream",
     "text": [
      "\n",
      "[*********************100%***********************]  1 of 1 completed"
     ]
    },
    {
     "name": "stdout",
     "output_type": "stream",
     "text": [
      " Finished BX\n",
      "Downloading data for BK...\n",
      "Running models for BK...\n"
     ]
    },
    {
     "name": "stderr",
     "output_type": "stream",
     "text": [
      "\n",
      "[*********************100%***********************]  1 of 1 completed"
     ]
    },
    {
     "name": "stdout",
     "output_type": "stream",
     "text": [
      " Finished BK\n",
      "Downloading data for BA...\n",
      "Running models for BA...\n"
     ]
    },
    {
     "name": "stderr",
     "output_type": "stream",
     "text": [
      "\n",
      "[*********************100%***********************]  1 of 1 completed"
     ]
    },
    {
     "name": "stdout",
     "output_type": "stream",
     "text": [
      " Finished BA\n",
      "Downloading data for BKNG...\n",
      "Running models for BKNG...\n"
     ]
    },
    {
     "name": "stderr",
     "output_type": "stream",
     "text": [
      "\n",
      "[*********************100%***********************]  1 of 1 completed"
     ]
    },
    {
     "name": "stdout",
     "output_type": "stream",
     "text": [
      " Finished BKNG\n",
      "Downloading data for BWA...\n",
      "Running models for BWA...\n"
     ]
    },
    {
     "name": "stderr",
     "output_type": "stream",
     "text": [
      "\n",
      " 14%|█▍        | 70/503 [00:53<05:40,  1.27it/s]"
     ]
    },
    {
     "name": "stdout",
     "output_type": "stream",
     "text": [
      " Finished BWA\n",
      "Downloading data for BSX...\n"
     ]
    },
    {
     "name": "stderr",
     "output_type": "stream",
     "text": [
      "[*********************100%***********************]  1 of 1 completed\n"
     ]
    },
    {
     "name": "stdout",
     "output_type": "stream",
     "text": [
      "Running models for BSX...\n"
     ]
    },
    {
     "name": "stderr",
     "output_type": "stream",
     "text": [
      " 14%|█▍        | 71/503 [00:54<06:30,  1.11it/s]"
     ]
    },
    {
     "name": "stdout",
     "output_type": "stream",
     "text": [
      " Finished BSX\n",
      "Downloading data for BMY...\n"
     ]
    },
    {
     "name": "stderr",
     "output_type": "stream",
     "text": [
      "[*********************100%***********************]  1 of 1 completed\n"
     ]
    },
    {
     "name": "stdout",
     "output_type": "stream",
     "text": [
      "Running models for BMY...\n"
     ]
    },
    {
     "name": "stderr",
     "output_type": "stream",
     "text": [
      "[*********************100%***********************]  1 of 1 completed"
     ]
    },
    {
     "name": "stdout",
     "output_type": "stream",
     "text": [
      " Finished BMY\n",
      "Downloading data for AVGO...\n",
      "Running models for AVGO...\n"
     ]
    },
    {
     "name": "stderr",
     "output_type": "stream",
     "text": [
      "\n",
      "[*********************100%***********************]  1 of 1 completed"
     ]
    },
    {
     "name": "stdout",
     "output_type": "stream",
     "text": [
      " Finished AVGO\n",
      "Downloading data for BR...\n"
     ]
    },
    {
     "name": "stderr",
     "output_type": "stream",
     "text": [
      "\n"
     ]
    },
    {
     "name": "stdout",
     "output_type": "stream",
     "text": [
      "Running models for BR...\n"
     ]
    },
    {
     "name": "stderr",
     "output_type": "stream",
     "text": [
      "[*********************100%***********************]  1 of 1 completed"
     ]
    },
    {
     "name": "stdout",
     "output_type": "stream",
     "text": [
      " Finished BR\n",
      "Downloading data for BRO...\n",
      "Running models for BRO...\n"
     ]
    },
    {
     "name": "stderr",
     "output_type": "stream",
     "text": [
      "\n",
      " 15%|█▍        | 75/503 [00:58<05:55,  1.20it/s]"
     ]
    },
    {
     "name": "stdout",
     "output_type": "stream",
     "text": [
      " Finished BRO\n",
      "Downloading data for BF-B...\n"
     ]
    },
    {
     "name": "stderr",
     "output_type": "stream",
     "text": [
      "[*********************100%***********************]  1 of 1 completed\n"
     ]
    },
    {
     "name": "stdout",
     "output_type": "stream",
     "text": [
      "Running models for BF-B...\n"
     ]
    },
    {
     "name": "stderr",
     "output_type": "stream",
     "text": [
      "[*********************100%***********************]  1 of 1 completed"
     ]
    },
    {
     "name": "stdout",
     "output_type": "stream",
     "text": [
      " Finished BF-B\n",
      "Downloading data for BLDR...\n",
      "Running models for BLDR...\n"
     ]
    },
    {
     "name": "stderr",
     "output_type": "stream",
     "text": [
      "\n",
      "[*********************100%***********************]  1 of 1 completed"
     ]
    },
    {
     "name": "stdout",
     "output_type": "stream",
     "text": [
      " Finished BLDR\n",
      "Downloading data for BG...\n"
     ]
    },
    {
     "name": "stderr",
     "output_type": "stream",
     "text": [
      "\n"
     ]
    },
    {
     "name": "stdout",
     "output_type": "stream",
     "text": [
      "Running models for BG...\n"
     ]
    },
    {
     "name": "stderr",
     "output_type": "stream",
     "text": [
      "[*********************100%***********************]  1 of 1 completed"
     ]
    },
    {
     "name": "stdout",
     "output_type": "stream",
     "text": [
      " Finished BG\n",
      "Downloading data for BXP...\n",
      "Running models for BXP...\n"
     ]
    },
    {
     "name": "stderr",
     "output_type": "stream",
     "text": [
      "\n",
      "[*********************100%***********************]  1 of 1 completed"
     ]
    },
    {
     "name": "stdout",
     "output_type": "stream",
     "text": [
      " Finished BXP\n",
      "Downloading data for CHRW...\n",
      "Running models for CHRW...\n"
     ]
    },
    {
     "name": "stderr",
     "output_type": "stream",
     "text": [
      "\n",
      "[*********************100%***********************]  1 of 1 completed"
     ]
    },
    {
     "name": "stdout",
     "output_type": "stream",
     "text": [
      " Finished CHRW\n",
      "Downloading data for CDNS...\n",
      "Running models for CDNS...\n"
     ]
    },
    {
     "name": "stderr",
     "output_type": "stream",
     "text": [
      "\n",
      "[*********************100%***********************]  1 of 1 completed"
     ]
    },
    {
     "name": "stdout",
     "output_type": "stream",
     "text": [
      " Finished CDNS\n",
      "Downloading data for CZR...\n",
      "Running models for CZR...\n"
     ]
    },
    {
     "name": "stderr",
     "output_type": "stream",
     "text": [
      "\n",
      "[*********************100%***********************]  1 of 1 completed"
     ]
    },
    {
     "name": "stdout",
     "output_type": "stream",
     "text": [
      " Finished CZR\n",
      "Downloading data for CPT...\n",
      "Running models for CPT...\n"
     ]
    },
    {
     "name": "stderr",
     "output_type": "stream",
     "text": [
      "\n",
      "[*********************100%***********************]  1 of 1 completed"
     ]
    },
    {
     "name": "stdout",
     "output_type": "stream",
     "text": [
      " Finished CPT\n",
      "Downloading data for CPB...\n",
      "Running models for CPB...\n"
     ]
    },
    {
     "name": "stderr",
     "output_type": "stream",
     "text": [
      "\n",
      "[*********************100%***********************]  1 of 1 completed"
     ]
    },
    {
     "name": "stdout",
     "output_type": "stream",
     "text": [
      " Finished CPB\n",
      "Downloading data for COF...\n",
      "Running models for COF...\n"
     ]
    },
    {
     "name": "stderr",
     "output_type": "stream",
     "text": [
      "\n",
      "[*********************100%***********************]  1 of 1 completed"
     ]
    },
    {
     "name": "stdout",
     "output_type": "stream",
     "text": [
      " Finished COF\n",
      "Downloading data for CAH...\n",
      "Running models for CAH...\n"
     ]
    },
    {
     "name": "stderr",
     "output_type": "stream",
     "text": [
      "\n",
      "[*********************100%***********************]  1 of 1 completed"
     ]
    },
    {
     "name": "stdout",
     "output_type": "stream",
     "text": [
      " Finished CAH\n",
      "Downloading data for KMX...\n",
      "Running models for KMX...\n"
     ]
    },
    {
     "name": "stderr",
     "output_type": "stream",
     "text": [
      "\n",
      "[*********************100%***********************]  1 of 1 completed"
     ]
    },
    {
     "name": "stdout",
     "output_type": "stream",
     "text": [
      " Finished KMX\n",
      "Downloading data for CCL...\n",
      "Running models for CCL...\n"
     ]
    },
    {
     "name": "stderr",
     "output_type": "stream",
     "text": [
      "\n",
      "[*********************100%***********************]  1 of 1 completed"
     ]
    },
    {
     "name": "stdout",
     "output_type": "stream",
     "text": [
      " Finished CCL\n",
      "Downloading data for CARR...\n",
      "Running models for CARR...\n"
     ]
    },
    {
     "name": "stderr",
     "output_type": "stream",
     "text": [
      "\n",
      " 18%|█▊        | 89/503 [01:08<04:35,  1.50it/s]"
     ]
    },
    {
     "name": "stdout",
     "output_type": "stream",
     "text": [
      " Finished CARR\n",
      "Downloading data for CAT...\n"
     ]
    },
    {
     "name": "stderr",
     "output_type": "stream",
     "text": [
      "[*********************100%***********************]  1 of 1 completed\n"
     ]
    },
    {
     "name": "stdout",
     "output_type": "stream",
     "text": [
      "Running models for CAT...\n"
     ]
    },
    {
     "name": "stderr",
     "output_type": "stream",
     "text": [
      "[*********************100%***********************]  1 of 1 completed"
     ]
    },
    {
     "name": "stdout",
     "output_type": "stream",
     "text": [
      " Finished CAT\n",
      "Downloading data for CBOE...\n",
      "Running models for CBOE...\n"
     ]
    },
    {
     "name": "stderr",
     "output_type": "stream",
     "text": [
      "\n",
      "[*********************100%***********************]  1 of 1 completed"
     ]
    },
    {
     "name": "stdout",
     "output_type": "stream",
     "text": [
      " Finished CBOE\n",
      "Downloading data for CBRE...\n",
      "Running models for CBRE...\n"
     ]
    },
    {
     "name": "stderr",
     "output_type": "stream",
     "text": [
      "\n",
      "[*********************100%***********************]  1 of 1 completed"
     ]
    },
    {
     "name": "stdout",
     "output_type": "stream",
     "text": [
      " Finished CBRE\n",
      "Downloading data for CDW...\n",
      "Running models for CDW...\n"
     ]
    },
    {
     "name": "stderr",
     "output_type": "stream",
     "text": [
      "\n",
      "[*********************100%***********************]  1 of 1 completed"
     ]
    },
    {
     "name": "stdout",
     "output_type": "stream",
     "text": [
      " Finished CDW\n",
      "Downloading data for CE...\n",
      "Running models for CE...\n"
     ]
    },
    {
     "name": "stderr",
     "output_type": "stream",
     "text": [
      "\n",
      "[*********************100%***********************]  1 of 1 completed"
     ]
    },
    {
     "name": "stdout",
     "output_type": "stream",
     "text": [
      " Finished CE\n",
      "Downloading data for COR...\n",
      "Running models for COR...\n"
     ]
    },
    {
     "name": "stderr",
     "output_type": "stream",
     "text": [
      "\n",
      "[*********************100%***********************]  1 of 1 completed"
     ]
    },
    {
     "name": "stdout",
     "output_type": "stream",
     "text": [
      " Finished COR\n",
      "Downloading data for CNC...\n",
      "Running models for CNC...\n"
     ]
    },
    {
     "name": "stderr",
     "output_type": "stream",
     "text": [
      "\n",
      "[*********************100%***********************]  1 of 1 completed"
     ]
    },
    {
     "name": "stdout",
     "output_type": "stream",
     "text": [
      " Finished CNC\n",
      "Downloading data for CNP...\n"
     ]
    },
    {
     "name": "stderr",
     "output_type": "stream",
     "text": [
      "\n"
     ]
    },
    {
     "name": "stdout",
     "output_type": "stream",
     "text": [
      "Running models for CNP...\n"
     ]
    },
    {
     "name": "stderr",
     "output_type": "stream",
     "text": [
      "[*********************100%***********************]  1 of 1 completed"
     ]
    },
    {
     "name": "stdout",
     "output_type": "stream",
     "text": [
      " Finished CNP\n",
      "Downloading data for CF...\n",
      "Running models for CF...\n"
     ]
    },
    {
     "name": "stderr",
     "output_type": "stream",
     "text": [
      "\n",
      "[*********************100%***********************]  1 of 1 completed"
     ]
    },
    {
     "name": "stdout",
     "output_type": "stream",
     "text": [
      " Finished CF\n",
      "Downloading data for CRL...\n",
      "Running models for CRL...\n"
     ]
    },
    {
     "name": "stderr",
     "output_type": "stream",
     "text": [
      "\n",
      "[*********************100%***********************]  1 of 1 completed"
     ]
    },
    {
     "name": "stdout",
     "output_type": "stream",
     "text": [
      " Finished CRL\n",
      "Downloading data for SCHW...\n",
      "Running models for SCHW...\n"
     ]
    },
    {
     "name": "stderr",
     "output_type": "stream",
     "text": [
      "\n",
      "[*********************100%***********************]  1 of 1 completed"
     ]
    },
    {
     "name": "stdout",
     "output_type": "stream",
     "text": [
      " Finished SCHW\n",
      "Downloading data for CHTR...\n",
      "Running models for CHTR...\n"
     ]
    },
    {
     "name": "stderr",
     "output_type": "stream",
     "text": [
      "\n",
      "[*********************100%***********************]  1 of 1 completed"
     ]
    },
    {
     "name": "stdout",
     "output_type": "stream",
     "text": [
      " Finished CHTR\n",
      "Downloading data for CVX...\n"
     ]
    },
    {
     "name": "stderr",
     "output_type": "stream",
     "text": [
      "\n"
     ]
    },
    {
     "name": "stdout",
     "output_type": "stream",
     "text": [
      "Running models for CVX...\n"
     ]
    },
    {
     "name": "stderr",
     "output_type": "stream",
     "text": [
      "[*********************100%***********************]  1 of 1 completed"
     ]
    },
    {
     "name": "stdout",
     "output_type": "stream",
     "text": [
      " Finished CVX\n",
      "Downloading data for CMG...\n",
      "Running models for CMG...\n"
     ]
    },
    {
     "name": "stderr",
     "output_type": "stream",
     "text": [
      "\n",
      "[*********************100%***********************]  1 of 1 completed"
     ]
    },
    {
     "name": "stdout",
     "output_type": "stream",
     "text": [
      " Finished CMG\n",
      "Downloading data for CB...\n"
     ]
    },
    {
     "name": "stderr",
     "output_type": "stream",
     "text": [
      "\n"
     ]
    },
    {
     "name": "stdout",
     "output_type": "stream",
     "text": [
      "Running models for CB...\n"
     ]
    },
    {
     "name": "stderr",
     "output_type": "stream",
     "text": [
      "[*********************100%***********************]  1 of 1 completed"
     ]
    },
    {
     "name": "stdout",
     "output_type": "stream",
     "text": [
      " Finished CB\n",
      "Downloading data for CHD...\n",
      "Running models for CHD...\n"
     ]
    },
    {
     "name": "stderr",
     "output_type": "stream",
     "text": [
      "\n",
      "[*********************100%***********************]  1 of 1 completed"
     ]
    },
    {
     "name": "stdout",
     "output_type": "stream",
     "text": [
      " Finished CHD\n",
      "Downloading data for CI...\n",
      "Running models for CI...\n"
     ]
    },
    {
     "name": "stderr",
     "output_type": "stream",
     "text": [
      "\n",
      "[*********************100%***********************]  1 of 1 completed"
     ]
    },
    {
     "name": "stdout",
     "output_type": "stream",
     "text": [
      " Finished CI\n",
      "Downloading data for CINF...\n",
      "Running models for CINF...\n"
     ]
    },
    {
     "name": "stderr",
     "output_type": "stream",
     "text": [
      "\n",
      "[*********************100%***********************]  1 of 1 completed"
     ]
    },
    {
     "name": "stdout",
     "output_type": "stream",
     "text": [
      " Finished CINF\n",
      "Downloading data for CTAS...\n",
      "Running models for CTAS...\n"
     ]
    },
    {
     "name": "stderr",
     "output_type": "stream",
     "text": [
      "\n",
      "[*********************100%***********************]  1 of 1 completed"
     ]
    },
    {
     "name": "stdout",
     "output_type": "stream",
     "text": [
      " Finished CTAS\n",
      "Downloading data for CSCO...\n",
      "Running models for CSCO...\n"
     ]
    },
    {
     "name": "stderr",
     "output_type": "stream",
     "text": [
      "\n",
      "[*********************100%***********************]  1 of 1 completed"
     ]
    },
    {
     "name": "stdout",
     "output_type": "stream",
     "text": [
      " Finished CSCO\n",
      "Downloading data for C...\n",
      "Running models for C...\n"
     ]
    },
    {
     "name": "stderr",
     "output_type": "stream",
     "text": [
      "\n",
      "[*********************100%***********************]  1 of 1 completed"
     ]
    },
    {
     "name": "stdout",
     "output_type": "stream",
     "text": [
      " Finished C\n",
      "Downloading data for CFG...\n",
      "Running models for CFG...\n"
     ]
    },
    {
     "name": "stderr",
     "output_type": "stream",
     "text": [
      "\n",
      "[*********************100%***********************]  1 of 1 completed"
     ]
    },
    {
     "name": "stdout",
     "output_type": "stream",
     "text": [
      " Finished CFG\n",
      "Downloading data for CLX...\n",
      "Running models for CLX...\n"
     ]
    },
    {
     "name": "stderr",
     "output_type": "stream",
     "text": [
      "\n",
      "[*********************100%***********************]  1 of 1 completed"
     ]
    },
    {
     "name": "stdout",
     "output_type": "stream",
     "text": [
      " Finished CLX\n",
      "Downloading data for CME...\n",
      "Running models for CME...\n"
     ]
    },
    {
     "name": "stderr",
     "output_type": "stream",
     "text": [
      "\n",
      "[*********************100%***********************]  1 of 1 completed"
     ]
    },
    {
     "name": "stdout",
     "output_type": "stream",
     "text": [
      " Finished CME\n",
      "Downloading data for CMS...\n",
      "Running models for CMS...\n"
     ]
    },
    {
     "name": "stderr",
     "output_type": "stream",
     "text": [
      "\n",
      "[*********************100%***********************]  1 of 1 completed"
     ]
    },
    {
     "name": "stdout",
     "output_type": "stream",
     "text": [
      " Finished CMS\n",
      "Downloading data for KO...\n"
     ]
    },
    {
     "name": "stderr",
     "output_type": "stream",
     "text": [
      "\n"
     ]
    },
    {
     "name": "stdout",
     "output_type": "stream",
     "text": [
      "Running models for KO...\n"
     ]
    },
    {
     "name": "stderr",
     "output_type": "stream",
     "text": [
      "[*********************100%***********************]  1 of 1 completed"
     ]
    },
    {
     "name": "stdout",
     "output_type": "stream",
     "text": [
      " Finished KO\n",
      "Downloading data for CTSH...\n",
      "Running models for CTSH...\n"
     ]
    },
    {
     "name": "stderr",
     "output_type": "stream",
     "text": [
      "\n",
      "[*********************100%***********************]  1 of 1 completed"
     ]
    },
    {
     "name": "stdout",
     "output_type": "stream",
     "text": [
      " Finished CTSH\n",
      "Downloading data for CL...\n",
      "Running models for CL...\n"
     ]
    },
    {
     "name": "stderr",
     "output_type": "stream",
     "text": [
      "\n",
      "[*********************100%***********************]  1 of 1 completed"
     ]
    },
    {
     "name": "stdout",
     "output_type": "stream",
     "text": [
      " Finished CL\n",
      "Downloading data for CMCSA...\n",
      "Running models for CMCSA...\n"
     ]
    },
    {
     "name": "stderr",
     "output_type": "stream",
     "text": [
      "\n",
      "[*********************100%***********************]  1 of 1 completed"
     ]
    },
    {
     "name": "stdout",
     "output_type": "stream",
     "text": [
      " Finished CMCSA\n",
      "Downloading data for CAG...\n",
      "Running models for CAG...\n"
     ]
    },
    {
     "name": "stderr",
     "output_type": "stream",
     "text": [
      "\n",
      "[*********************100%***********************]  1 of 1 completed"
     ]
    },
    {
     "name": "stdout",
     "output_type": "stream",
     "text": [
      " Finished CAG\n",
      "Downloading data for COP...\n",
      "Running models for COP...\n"
     ]
    },
    {
     "name": "stderr",
     "output_type": "stream",
     "text": [
      "\n",
      "[*********************100%***********************]  1 of 1 completed"
     ]
    },
    {
     "name": "stdout",
     "output_type": "stream",
     "text": [
      " Finished COP\n",
      "Downloading data for ED...\n",
      "Running models for ED...\n"
     ]
    },
    {
     "name": "stderr",
     "output_type": "stream",
     "text": [
      "\n",
      "[*********************100%***********************]  1 of 1 completed"
     ]
    },
    {
     "name": "stdout",
     "output_type": "stream",
     "text": [
      " Finished ED\n",
      "Downloading data for STZ...\n",
      "Running models for STZ...\n"
     ]
    },
    {
     "name": "stderr",
     "output_type": "stream",
     "text": [
      "\n",
      "[*********************100%***********************]  1 of 1 completed"
     ]
    },
    {
     "name": "stdout",
     "output_type": "stream",
     "text": [
      " Finished STZ\n",
      "Downloading data for CEG...\n",
      "Running models for CEG...\n"
     ]
    },
    {
     "name": "stderr",
     "output_type": "stream",
     "text": [
      "\n",
      "[*********************100%***********************]  1 of 1 completed"
     ]
    },
    {
     "name": "stdout",
     "output_type": "stream",
     "text": [
      " Finished CEG\n",
      "Downloading data for COO...\n",
      "Running models for COO...\n"
     ]
    },
    {
     "name": "stderr",
     "output_type": "stream",
     "text": [
      "\n",
      "[*********************100%***********************]  1 of 1 completed"
     ]
    },
    {
     "name": "stdout",
     "output_type": "stream",
     "text": [
      " Finished COO\n",
      "Downloading data for CPRT...\n",
      "Running models for CPRT...\n"
     ]
    },
    {
     "name": "stderr",
     "output_type": "stream",
     "text": [
      "\n",
      "[*********************100%***********************]  1 of 1 completed"
     ]
    },
    {
     "name": "stdout",
     "output_type": "stream",
     "text": [
      " Finished CPRT\n",
      "Downloading data for GLW...\n",
      "Running models for GLW...\n"
     ]
    },
    {
     "name": "stderr",
     "output_type": "stream",
     "text": [
      "\n",
      "[*********************100%***********************]  1 of 1 completed"
     ]
    },
    {
     "name": "stdout",
     "output_type": "stream",
     "text": [
      " Finished GLW\n",
      "Downloading data for CPAY...\n",
      "Running models for CPAY...\n"
     ]
    },
    {
     "name": "stderr",
     "output_type": "stream",
     "text": [
      "\n",
      "[*********************100%***********************]  1 of 1 completed"
     ]
    },
    {
     "name": "stdout",
     "output_type": "stream",
     "text": [
      " Finished CPAY\n",
      "Downloading data for CTVA...\n",
      "Running models for CTVA...\n"
     ]
    },
    {
     "name": "stderr",
     "output_type": "stream",
     "text": [
      "\n",
      "[*********************100%***********************]  1 of 1 completed"
     ]
    },
    {
     "name": "stdout",
     "output_type": "stream",
     "text": [
      " Finished CTVA\n",
      "Downloading data for CSGP...\n",
      "Running models for CSGP...\n"
     ]
    },
    {
     "name": "stderr",
     "output_type": "stream",
     "text": [
      "\n",
      "[*********************100%***********************]  1 of 1 completed"
     ]
    },
    {
     "name": "stdout",
     "output_type": "stream",
     "text": [
      " Finished CSGP\n",
      "Downloading data for COST...\n",
      "Running models for COST...\n"
     ]
    },
    {
     "name": "stderr",
     "output_type": "stream",
     "text": [
      "\n",
      "[*********************100%***********************]  1 of 1 completed"
     ]
    },
    {
     "name": "stdout",
     "output_type": "stream",
     "text": [
      " Finished COST\n",
      "Downloading data for CTRA...\n",
      "Running models for CTRA...\n"
     ]
    },
    {
     "name": "stderr",
     "output_type": "stream",
     "text": [
      "\n",
      "[*********************100%***********************]  1 of 1 completed"
     ]
    },
    {
     "name": "stdout",
     "output_type": "stream",
     "text": [
      " Finished CTRA\n",
      "Downloading data for CRWD...\n",
      "Running models for CRWD...\n"
     ]
    },
    {
     "name": "stderr",
     "output_type": "stream",
     "text": [
      "\n",
      "[*********************100%***********************]  1 of 1 completed"
     ]
    },
    {
     "name": "stdout",
     "output_type": "stream",
     "text": [
      " Finished CRWD\n",
      "Downloading data for CCI...\n",
      "Running models for CCI...\n"
     ]
    },
    {
     "name": "stderr",
     "output_type": "stream",
     "text": [
      "\n",
      "[*********************100%***********************]  1 of 1 completed"
     ]
    },
    {
     "name": "stdout",
     "output_type": "stream",
     "text": [
      " Finished CCI\n",
      "Downloading data for CSX...\n",
      "Running models for CSX...\n"
     ]
    },
    {
     "name": "stderr",
     "output_type": "stream",
     "text": [
      "\n",
      "[*********************100%***********************]  1 of 1 completed"
     ]
    },
    {
     "name": "stdout",
     "output_type": "stream",
     "text": [
      " Finished CSX\n",
      "Downloading data for CMI...\n",
      "Running models for CMI...\n"
     ]
    },
    {
     "name": "stderr",
     "output_type": "stream",
     "text": [
      "\n",
      " 27%|██▋       | 135/503 [01:37<03:51,  1.59it/s]"
     ]
    },
    {
     "name": "stdout",
     "output_type": "stream",
     "text": [
      " Finished CMI\n",
      "Downloading data for CVS...\n"
     ]
    },
    {
     "name": "stderr",
     "output_type": "stream",
     "text": [
      "[*********************100%***********************]  1 of 1 completed\n"
     ]
    },
    {
     "name": "stdout",
     "output_type": "stream",
     "text": [
      "Running models for CVS...\n"
     ]
    },
    {
     "name": "stderr",
     "output_type": "stream",
     "text": [
      "[*********************100%***********************]  1 of 1 completed"
     ]
    },
    {
     "name": "stdout",
     "output_type": "stream",
     "text": [
      " Finished CVS\n",
      "Downloading data for DHR...\n",
      "Running models for DHR...\n"
     ]
    },
    {
     "name": "stderr",
     "output_type": "stream",
     "text": [
      "\n",
      "[*********************100%***********************]  1 of 1 completed"
     ]
    },
    {
     "name": "stdout",
     "output_type": "stream",
     "text": [
      " Finished DHR\n",
      "Downloading data for DRI...\n",
      "Running models for DRI...\n"
     ]
    },
    {
     "name": "stderr",
     "output_type": "stream",
     "text": [
      "\n",
      "[*********************100%***********************]  1 of 1 completed"
     ]
    },
    {
     "name": "stdout",
     "output_type": "stream",
     "text": [
      " Finished DRI\n",
      "Downloading data for DVA...\n",
      "Running models for DVA...\n"
     ]
    },
    {
     "name": "stderr",
     "output_type": "stream",
     "text": [
      "\n",
      "[*********************100%***********************]  1 of 1 completed"
     ]
    },
    {
     "name": "stdout",
     "output_type": "stream",
     "text": [
      " Finished DVA\n",
      "Downloading data for DAY...\n",
      "Running models for DAY...\n"
     ]
    },
    {
     "name": "stderr",
     "output_type": "stream",
     "text": [
      "\n",
      "[*********************100%***********************]  1 of 1 completed"
     ]
    },
    {
     "name": "stdout",
     "output_type": "stream",
     "text": [
      " Finished DAY\n",
      "Downloading data for DECK...\n",
      "Running models for DECK...\n"
     ]
    },
    {
     "name": "stderr",
     "output_type": "stream",
     "text": [
      "\n",
      "[*********************100%***********************]  1 of 1 completed"
     ]
    },
    {
     "name": "stdout",
     "output_type": "stream",
     "text": [
      " Finished DECK\n",
      "Downloading data for DE...\n",
      "Running models for DE...\n"
     ]
    },
    {
     "name": "stderr",
     "output_type": "stream",
     "text": [
      "\n",
      "[*********************100%***********************]  1 of 1 completed"
     ]
    },
    {
     "name": "stdout",
     "output_type": "stream",
     "text": [
      " Finished DE\n",
      "Downloading data for DELL...\n",
      "Running models for DELL...\n"
     ]
    },
    {
     "name": "stderr",
     "output_type": "stream",
     "text": [
      "\n",
      " 28%|██▊       | 143/503 [01:42<03:38,  1.65it/s]"
     ]
    },
    {
     "name": "stdout",
     "output_type": "stream",
     "text": [
      " Finished DELL\n",
      "Downloading data for DAL...\n"
     ]
    },
    {
     "name": "stderr",
     "output_type": "stream",
     "text": [
      "[*********************100%***********************]  1 of 1 completed\n"
     ]
    },
    {
     "name": "stdout",
     "output_type": "stream",
     "text": [
      "Running models for DAL...\n"
     ]
    },
    {
     "name": "stderr",
     "output_type": "stream",
     "text": [
      "[*********************100%***********************]  1 of 1 completed"
     ]
    },
    {
     "name": "stdout",
     "output_type": "stream",
     "text": [
      " Finished DAL\n",
      "Downloading data for DVN...\n",
      "Running models for DVN...\n"
     ]
    },
    {
     "name": "stderr",
     "output_type": "stream",
     "text": [
      "\n",
      "[*********************100%***********************]  1 of 1 completed"
     ]
    },
    {
     "name": "stdout",
     "output_type": "stream",
     "text": [
      " Finished DVN\n",
      "Downloading data for DXCM...\n",
      "Running models for DXCM...\n"
     ]
    },
    {
     "name": "stderr",
     "output_type": "stream",
     "text": [
      "\n",
      "[*********************100%***********************]  1 of 1 completed"
     ]
    },
    {
     "name": "stdout",
     "output_type": "stream",
     "text": [
      " Finished DXCM\n",
      "Downloading data for FANG...\n",
      "Running models for FANG...\n"
     ]
    },
    {
     "name": "stderr",
     "output_type": "stream",
     "text": [
      "\n",
      "[*********************100%***********************]  1 of 1 completed"
     ]
    },
    {
     "name": "stdout",
     "output_type": "stream",
     "text": [
      " Finished FANG\n",
      "Downloading data for DLR...\n",
      "Running models for DLR...\n"
     ]
    },
    {
     "name": "stderr",
     "output_type": "stream",
     "text": [
      "\n",
      "[*********************100%***********************]  1 of 1 completed"
     ]
    },
    {
     "name": "stdout",
     "output_type": "stream",
     "text": [
      " Finished DLR\n",
      "Downloading data for DFS...\n",
      "Running models for DFS...\n"
     ]
    },
    {
     "name": "stderr",
     "output_type": "stream",
     "text": [
      "\n",
      "[*********************100%***********************]  1 of 1 completed"
     ]
    },
    {
     "name": "stdout",
     "output_type": "stream",
     "text": [
      " Finished DFS\n",
      "Downloading data for DG...\n",
      "Running models for DG...\n"
     ]
    },
    {
     "name": "stderr",
     "output_type": "stream",
     "text": [
      "\n",
      "[*********************100%***********************]  1 of 1 completed"
     ]
    },
    {
     "name": "stdout",
     "output_type": "stream",
     "text": [
      " Finished DG\n",
      "Downloading data for DLTR...\n",
      "Running models for DLTR...\n"
     ]
    },
    {
     "name": "stderr",
     "output_type": "stream",
     "text": [
      "\n",
      " 30%|███       | 151/503 [01:47<03:42,  1.58it/s]"
     ]
    },
    {
     "name": "stdout",
     "output_type": "stream",
     "text": [
      " Finished DLTR\n",
      "Downloading data for D...\n"
     ]
    },
    {
     "name": "stderr",
     "output_type": "stream",
     "text": [
      "[*********************100%***********************]  1 of 1 completed\n"
     ]
    },
    {
     "name": "stdout",
     "output_type": "stream",
     "text": [
      "Running models for D...\n"
     ]
    },
    {
     "name": "stderr",
     "output_type": "stream",
     "text": [
      "[*********************100%***********************]  1 of 1 completed"
     ]
    },
    {
     "name": "stdout",
     "output_type": "stream",
     "text": [
      " Finished D\n",
      "Downloading data for DPZ...\n",
      "Running models for DPZ...\n"
     ]
    },
    {
     "name": "stderr",
     "output_type": "stream",
     "text": [
      "\n",
      "[*********************100%***********************]  1 of 1 completed"
     ]
    },
    {
     "name": "stdout",
     "output_type": "stream",
     "text": [
      " Finished DPZ\n",
      "Downloading data for DOV...\n",
      "Running models for DOV...\n"
     ]
    },
    {
     "name": "stderr",
     "output_type": "stream",
     "text": [
      "\n",
      "[*********************100%***********************]  1 of 1 completed"
     ]
    },
    {
     "name": "stdout",
     "output_type": "stream",
     "text": [
      " Finished DOV\n",
      "Downloading data for DOW...\n",
      "Running models for DOW...\n"
     ]
    },
    {
     "name": "stderr",
     "output_type": "stream",
     "text": [
      "\n",
      "[*********************100%***********************]  1 of 1 completed"
     ]
    },
    {
     "name": "stdout",
     "output_type": "stream",
     "text": [
      " Finished DOW\n",
      "Downloading data for DHI...\n",
      "Running models for DHI...\n"
     ]
    },
    {
     "name": "stderr",
     "output_type": "stream",
     "text": [
      "\n",
      "[*********************100%***********************]  1 of 1 completed"
     ]
    },
    {
     "name": "stdout",
     "output_type": "stream",
     "text": [
      " Finished DHI\n",
      "Downloading data for DTE...\n",
      "Running models for DTE...\n"
     ]
    },
    {
     "name": "stderr",
     "output_type": "stream",
     "text": [
      "\n",
      "[*********************100%***********************]  1 of 1 completed"
     ]
    },
    {
     "name": "stdout",
     "output_type": "stream",
     "text": [
      " Finished DTE\n",
      "Downloading data for DUK...\n",
      "Running models for DUK...\n"
     ]
    },
    {
     "name": "stderr",
     "output_type": "stream",
     "text": [
      "\n",
      "[*********************100%***********************]  1 of 1 completed"
     ]
    },
    {
     "name": "stdout",
     "output_type": "stream",
     "text": [
      " Finished DUK\n",
      "Downloading data for DD...\n",
      "Running models for DD...\n"
     ]
    },
    {
     "name": "stderr",
     "output_type": "stream",
     "text": [
      "\n",
      "[*********************100%***********************]  1 of 1 completed"
     ]
    },
    {
     "name": "stdout",
     "output_type": "stream",
     "text": [
      " Finished DD\n",
      "Downloading data for EMN...\n",
      "Running models for EMN...\n"
     ]
    },
    {
     "name": "stderr",
     "output_type": "stream",
     "text": [
      "\n",
      "[*********************100%***********************]  1 of 1 completed"
     ]
    },
    {
     "name": "stdout",
     "output_type": "stream",
     "text": [
      " Finished EMN\n",
      "Downloading data for ETN...\n",
      "Running models for ETN...\n"
     ]
    },
    {
     "name": "stderr",
     "output_type": "stream",
     "text": [
      "\n",
      "[*********************100%***********************]  1 of 1 completed"
     ]
    },
    {
     "name": "stdout",
     "output_type": "stream",
     "text": [
      " Finished ETN\n",
      "Downloading data for EBAY...\n",
      "Running models for EBAY...\n"
     ]
    },
    {
     "name": "stderr",
     "output_type": "stream",
     "text": [
      "\n",
      "[*********************100%***********************]  1 of 1 completed"
     ]
    },
    {
     "name": "stdout",
     "output_type": "stream",
     "text": [
      " Finished EBAY\n",
      "Downloading data for ECL...\n",
      "Running models for ECL...\n"
     ]
    },
    {
     "name": "stderr",
     "output_type": "stream",
     "text": [
      "\n",
      "[*********************100%***********************]  1 of 1 completed"
     ]
    },
    {
     "name": "stdout",
     "output_type": "stream",
     "text": [
      " Finished ECL\n",
      "Downloading data for EIX...\n",
      "Running models for EIX...\n"
     ]
    },
    {
     "name": "stderr",
     "output_type": "stream",
     "text": [
      "\n",
      "[*********************100%***********************]  1 of 1 completed"
     ]
    },
    {
     "name": "stdout",
     "output_type": "stream",
     "text": [
      " Finished EIX\n",
      "Downloading data for EW...\n",
      "Running models for EW...\n"
     ]
    },
    {
     "name": "stderr",
     "output_type": "stream",
     "text": [
      "\n",
      "[*********************100%***********************]  1 of 1 completed"
     ]
    },
    {
     "name": "stdout",
     "output_type": "stream",
     "text": [
      " Finished EW\n",
      "Downloading data for EA...\n",
      "Running models for EA...\n"
     ]
    },
    {
     "name": "stderr",
     "output_type": "stream",
     "text": [
      "\n",
      "[*********************100%***********************]  1 of 1 completed"
     ]
    },
    {
     "name": "stdout",
     "output_type": "stream",
     "text": [
      " Finished EA\n",
      "Downloading data for ELV...\n",
      "Running models for ELV...\n"
     ]
    },
    {
     "name": "stderr",
     "output_type": "stream",
     "text": [
      "\n",
      "[*********************100%***********************]  1 of 1 completed"
     ]
    },
    {
     "name": "stdout",
     "output_type": "stream",
     "text": [
      " Finished ELV\n",
      "Downloading data for EMR...\n",
      "Running models for EMR...\n"
     ]
    },
    {
     "name": "stderr",
     "output_type": "stream",
     "text": [
      "\n",
      " 33%|███▎      | 168/503 [01:58<03:33,  1.57it/s]"
     ]
    },
    {
     "name": "stdout",
     "output_type": "stream",
     "text": [
      " Finished EMR\n",
      "Downloading data for ENPH...\n"
     ]
    },
    {
     "name": "stderr",
     "output_type": "stream",
     "text": [
      "[*********************100%***********************]  1 of 1 completed\n"
     ]
    },
    {
     "name": "stdout",
     "output_type": "stream",
     "text": [
      "Running models for ENPH...\n"
     ]
    },
    {
     "name": "stderr",
     "output_type": "stream",
     "text": [
      " 34%|███▎      | 169/503 [01:59<03:51,  1.44it/s]"
     ]
    },
    {
     "name": "stdout",
     "output_type": "stream",
     "text": [
      " Finished ENPH\n",
      "Downloading data for ETR...\n"
     ]
    },
    {
     "name": "stderr",
     "output_type": "stream",
     "text": [
      "[*********************100%***********************]  1 of 1 completed\n",
      "\n",
      "1 Failed download:\n",
      "['ETR']: YFPricesMissingError('possibly delisted; no price data found  (period=2y)')\n",
      "[*********************100%***********************]  1 of 1 completed\n"
     ]
    },
    {
     "name": "stdout",
     "output_type": "stream",
     "text": [
      " No data returned for ETR\n",
      "Downloading data for EOG...\n",
      "Running models for EOG...\n"
     ]
    },
    {
     "name": "stderr",
     "output_type": "stream",
     "text": [
      "[*********************100%***********************]  1 of 1 completed"
     ]
    },
    {
     "name": "stdout",
     "output_type": "stream",
     "text": [
      " Finished EOG\n",
      "Downloading data for EPAM...\n",
      "Running models for EPAM...\n"
     ]
    },
    {
     "name": "stderr",
     "output_type": "stream",
     "text": [
      "\n",
      "[*********************100%***********************]  1 of 1 completed"
     ]
    },
    {
     "name": "stdout",
     "output_type": "stream",
     "text": [
      " Finished EPAM\n",
      "Downloading data for EQT...\n",
      "Running models for EQT...\n"
     ]
    },
    {
     "name": "stderr",
     "output_type": "stream",
     "text": [
      "\n",
      "[*********************100%***********************]  1 of 1 completed"
     ]
    },
    {
     "name": "stdout",
     "output_type": "stream",
     "text": [
      " Finished EQT\n",
      "Downloading data for EFX...\n",
      "Running models for EFX...\n"
     ]
    },
    {
     "name": "stderr",
     "output_type": "stream",
     "text": [
      "\n",
      "[*********************100%***********************]  1 of 1 completed"
     ]
    },
    {
     "name": "stdout",
     "output_type": "stream",
     "text": [
      " Finished EFX\n",
      "Downloading data for EQIX...\n",
      "Running models for EQIX...\n"
     ]
    },
    {
     "name": "stderr",
     "output_type": "stream",
     "text": [
      "\n",
      "[*********************100%***********************]  1 of 1 completed"
     ]
    },
    {
     "name": "stdout",
     "output_type": "stream",
     "text": [
      " Finished EQIX\n",
      "Downloading data for EQR...\n",
      "Running models for EQR...\n"
     ]
    },
    {
     "name": "stderr",
     "output_type": "stream",
     "text": [
      "\n",
      "[*********************100%***********************]  1 of 1 completed"
     ]
    },
    {
     "name": "stdout",
     "output_type": "stream",
     "text": [
      " Finished EQR\n",
      "Downloading data for ERIE...\n",
      "Running models for ERIE...\n"
     ]
    },
    {
     "name": "stderr",
     "output_type": "stream",
     "text": [
      "\n",
      "[*********************100%***********************]  1 of 1 completed\n"
     ]
    },
    {
     "name": "stdout",
     "output_type": "stream",
     "text": [
      " Finished ERIE\n",
      "Downloading data for ESS...\n",
      "Running models for ESS...\n"
     ]
    },
    {
     "name": "stderr",
     "output_type": "stream",
     "text": [
      "[*********************100%***********************]  1 of 1 completed"
     ]
    },
    {
     "name": "stdout",
     "output_type": "stream",
     "text": [
      " Finished ESS\n",
      "Downloading data for EL...\n",
      "Running models for EL...\n"
     ]
    },
    {
     "name": "stderr",
     "output_type": "stream",
     "text": [
      "\n",
      "[*********************100%***********************]  1 of 1 completed"
     ]
    },
    {
     "name": "stdout",
     "output_type": "stream",
     "text": [
      " Finished EL\n",
      "Downloading data for EG...\n",
      "Running models for EG...\n"
     ]
    },
    {
     "name": "stderr",
     "output_type": "stream",
     "text": [
      "\n",
      "[*********************100%***********************]  1 of 1 completed"
     ]
    },
    {
     "name": "stdout",
     "output_type": "stream",
     "text": [
      " Finished EG\n",
      "Downloading data for EVRG...\n",
      "Running models for EVRG...\n"
     ]
    },
    {
     "name": "stderr",
     "output_type": "stream",
     "text": [
      "\n",
      "[*********************100%***********************]  1 of 1 completed"
     ]
    },
    {
     "name": "stdout",
     "output_type": "stream",
     "text": [
      " Finished EVRG\n",
      "Downloading data for ES...\n",
      "Running models for ES...\n"
     ]
    },
    {
     "name": "stderr",
     "output_type": "stream",
     "text": [
      "\n",
      "[*********************100%***********************]  1 of 1 completed"
     ]
    },
    {
     "name": "stdout",
     "output_type": "stream",
     "text": [
      " Finished ES\n",
      "Downloading data for EXC...\n"
     ]
    },
    {
     "name": "stderr",
     "output_type": "stream",
     "text": [
      "\n"
     ]
    },
    {
     "name": "stdout",
     "output_type": "stream",
     "text": [
      "Running models for EXC...\n"
     ]
    },
    {
     "name": "stderr",
     "output_type": "stream",
     "text": [
      "[*********************100%***********************]  1 of 1 completed"
     ]
    },
    {
     "name": "stdout",
     "output_type": "stream",
     "text": [
      " Finished EXC\n",
      "Downloading data for EXPE...\n",
      "Running models for EXPE...\n"
     ]
    },
    {
     "name": "stderr",
     "output_type": "stream",
     "text": [
      "\n",
      "[*********************100%***********************]  1 of 1 completed"
     ]
    },
    {
     "name": "stdout",
     "output_type": "stream",
     "text": [
      " Finished EXPE\n",
      "Downloading data for EXPD...\n",
      "Running models for EXPD...\n"
     ]
    },
    {
     "name": "stderr",
     "output_type": "stream",
     "text": [
      "\n",
      "[*********************100%***********************]  1 of 1 completed"
     ]
    },
    {
     "name": "stdout",
     "output_type": "stream",
     "text": [
      " Finished EXPD\n",
      "Downloading data for EXR...\n",
      "Running models for EXR...\n"
     ]
    },
    {
     "name": "stderr",
     "output_type": "stream",
     "text": [
      "\n",
      "[*********************100%***********************]  1 of 1 completed"
     ]
    },
    {
     "name": "stdout",
     "output_type": "stream",
     "text": [
      " Finished EXR\n",
      "Downloading data for XOM...\n",
      "Running models for XOM...\n"
     ]
    },
    {
     "name": "stderr",
     "output_type": "stream",
     "text": [
      "\n",
      "[*********************100%***********************]  1 of 1 completed"
     ]
    },
    {
     "name": "stdout",
     "output_type": "stream",
     "text": [
      " Finished XOM\n",
      "Downloading data for FFIV...\n",
      "Running models for FFIV...\n"
     ]
    },
    {
     "name": "stderr",
     "output_type": "stream",
     "text": [
      "\n",
      "[*********************100%***********************]  1 of 1 completed"
     ]
    },
    {
     "name": "stdout",
     "output_type": "stream",
     "text": [
      " Finished FFIV\n",
      "Downloading data for FDS...\n",
      "Running models for FDS...\n"
     ]
    },
    {
     "name": "stderr",
     "output_type": "stream",
     "text": [
      "\n",
      "[*********************100%***********************]  1 of 1 completed"
     ]
    },
    {
     "name": "stdout",
     "output_type": "stream",
     "text": [
      " Finished FDS\n",
      "Downloading data for FICO...\n",
      "Running models for FICO...\n"
     ]
    },
    {
     "name": "stderr",
     "output_type": "stream",
     "text": [
      "\n",
      " 38%|███▊      | 190/503 [02:13<03:13,  1.62it/s]"
     ]
    },
    {
     "name": "stdout",
     "output_type": "stream",
     "text": [
      " Finished FICO\n",
      "Downloading data for FAST...\n"
     ]
    },
    {
     "name": "stderr",
     "output_type": "stream",
     "text": [
      "[*********************100%***********************]  1 of 1 completed\n"
     ]
    },
    {
     "name": "stdout",
     "output_type": "stream",
     "text": [
      "Running models for FAST...\n"
     ]
    },
    {
     "name": "stderr",
     "output_type": "stream",
     "text": [
      "[*********************100%***********************]  1 of 1 completed"
     ]
    },
    {
     "name": "stdout",
     "output_type": "stream",
     "text": [
      " Finished FAST\n",
      "Downloading data for FRT...\n",
      "Running models for FRT...\n"
     ]
    },
    {
     "name": "stderr",
     "output_type": "stream",
     "text": [
      "\n",
      "[*********************100%***********************]  1 of 1 completed"
     ]
    },
    {
     "name": "stdout",
     "output_type": "stream",
     "text": [
      " Finished FRT\n",
      "Downloading data for FDX...\n",
      "Running models for FDX...\n"
     ]
    },
    {
     "name": "stderr",
     "output_type": "stream",
     "text": [
      "\n",
      "[*********************100%***********************]  1 of 1 completed"
     ]
    },
    {
     "name": "stdout",
     "output_type": "stream",
     "text": [
      " Finished FDX\n",
      "Downloading data for FIS...\n",
      "Running models for FIS...\n"
     ]
    },
    {
     "name": "stderr",
     "output_type": "stream",
     "text": [
      "\n",
      "[*********************100%***********************]  1 of 1 completed"
     ]
    },
    {
     "name": "stdout",
     "output_type": "stream",
     "text": [
      " Finished FIS\n",
      "Downloading data for FITB...\n",
      "Running models for FITB...\n"
     ]
    },
    {
     "name": "stderr",
     "output_type": "stream",
     "text": [
      "\n",
      "[*********************100%***********************]  1 of 1 completed"
     ]
    },
    {
     "name": "stdout",
     "output_type": "stream",
     "text": [
      " Finished FITB\n",
      "Downloading data for FSLR...\n",
      "Running models for FSLR...\n"
     ]
    },
    {
     "name": "stderr",
     "output_type": "stream",
     "text": [
      "\n",
      "[*********************100%***********************]  1 of 1 completed"
     ]
    },
    {
     "name": "stdout",
     "output_type": "stream",
     "text": [
      " Finished FSLR\n",
      "Downloading data for FE...\n",
      "Running models for FE...\n"
     ]
    },
    {
     "name": "stderr",
     "output_type": "stream",
     "text": [
      "\n",
      "[*********************100%***********************]  1 of 1 completed"
     ]
    },
    {
     "name": "stdout",
     "output_type": "stream",
     "text": [
      " Finished FE\n",
      "Downloading data for FI...\n",
      "Running models for FI...\n"
     ]
    },
    {
     "name": "stderr",
     "output_type": "stream",
     "text": [
      "\n",
      "[*********************100%***********************]  1 of 1 completed"
     ]
    },
    {
     "name": "stdout",
     "output_type": "stream",
     "text": [
      " Finished FI\n",
      "Downloading data for FMC...\n",
      "Running models for FMC...\n"
     ]
    },
    {
     "name": "stderr",
     "output_type": "stream",
     "text": [
      "\n",
      "[*********************100%***********************]  1 of 1 completed"
     ]
    },
    {
     "name": "stdout",
     "output_type": "stream",
     "text": [
      " Finished FMC\n",
      "Downloading data for F...\n",
      "Running models for F...\n"
     ]
    },
    {
     "name": "stderr",
     "output_type": "stream",
     "text": [
      "\n",
      "[*********************100%***********************]  1 of 1 completed"
     ]
    },
    {
     "name": "stdout",
     "output_type": "stream",
     "text": [
      " Finished F\n",
      "Downloading data for FTNT...\n",
      "Running models for FTNT...\n"
     ]
    },
    {
     "name": "stderr",
     "output_type": "stream",
     "text": [
      "\n",
      "[*********************100%***********************]  1 of 1 completed"
     ]
    },
    {
     "name": "stdout",
     "output_type": "stream",
     "text": [
      " Finished FTNT\n",
      "Downloading data for FTV...\n",
      "Running models for FTV...\n"
     ]
    },
    {
     "name": "stderr",
     "output_type": "stream",
     "text": [
      "\n",
      "[*********************100%***********************]  1 of 1 completed"
     ]
    },
    {
     "name": "stdout",
     "output_type": "stream",
     "text": [
      " Finished FTV\n",
      "Downloading data for FOXA...\n",
      "Running models for FOXA...\n"
     ]
    },
    {
     "name": "stderr",
     "output_type": "stream",
     "text": [
      "\n",
      "[*********************100%***********************]  1 of 1 completed"
     ]
    },
    {
     "name": "stdout",
     "output_type": "stream",
     "text": [
      " Finished FOXA\n",
      "Downloading data for FOX...\n",
      "Running models for FOX...\n"
     ]
    },
    {
     "name": "stderr",
     "output_type": "stream",
     "text": [
      "\n",
      "[*********************100%***********************]  1 of 1 completed"
     ]
    },
    {
     "name": "stdout",
     "output_type": "stream",
     "text": [
      " Finished FOX\n",
      "Downloading data for BEN...\n",
      "Running models for BEN...\n"
     ]
    },
    {
     "name": "stderr",
     "output_type": "stream",
     "text": [
      "\n",
      "[*********************100%***********************]  1 of 1 completed"
     ]
    },
    {
     "name": "stdout",
     "output_type": "stream",
     "text": [
      " Finished BEN\n",
      "Downloading data for FCX...\n"
     ]
    },
    {
     "name": "stderr",
     "output_type": "stream",
     "text": [
      "\n"
     ]
    },
    {
     "name": "stdout",
     "output_type": "stream",
     "text": [
      "Running models for FCX...\n"
     ]
    },
    {
     "name": "stderr",
     "output_type": "stream",
     "text": [
      "[*********************100%***********************]  1 of 1 completed"
     ]
    },
    {
     "name": "stdout",
     "output_type": "stream",
     "text": [
      " Finished FCX\n",
      "Downloading data for GRMN...\n",
      "Running models for GRMN...\n"
     ]
    },
    {
     "name": "stderr",
     "output_type": "stream",
     "text": [
      "\n",
      "[*********************100%***********************]  1 of 1 completed"
     ]
    },
    {
     "name": "stdout",
     "output_type": "stream",
     "text": [
      " Finished GRMN\n",
      "Downloading data for IT...\n",
      "Running models for IT...\n"
     ]
    },
    {
     "name": "stderr",
     "output_type": "stream",
     "text": [
      "\n",
      "[*********************100%***********************]  1 of 1 completed"
     ]
    },
    {
     "name": "stdout",
     "output_type": "stream",
     "text": [
      " Finished IT\n",
      "Downloading data for GE...\n"
     ]
    },
    {
     "name": "stderr",
     "output_type": "stream",
     "text": [
      "\n"
     ]
    },
    {
     "name": "stdout",
     "output_type": "stream",
     "text": [
      "Running models for GE...\n"
     ]
    },
    {
     "name": "stderr",
     "output_type": "stream",
     "text": [
      "[*********************100%***********************]  1 of 1 completed"
     ]
    },
    {
     "name": "stdout",
     "output_type": "stream",
     "text": [
      " Finished GE\n",
      "Downloading data for GEHC...\n",
      "Running models for GEHC...\n"
     ]
    },
    {
     "name": "stderr",
     "output_type": "stream",
     "text": [
      "\n",
      "[*********************100%***********************]  1 of 1 completed"
     ]
    },
    {
     "name": "stdout",
     "output_type": "stream",
     "text": [
      " Finished GEHC\n",
      "Downloading data for GEV...\n",
      "Running models for GEV...\n"
     ]
    },
    {
     "name": "stderr",
     "output_type": "stream",
     "text": [
      "\n",
      "[*********************100%***********************]  1 of 1 completed"
     ]
    },
    {
     "name": "stdout",
     "output_type": "stream",
     "text": [
      " Finished GEV\n",
      "Downloading data for GEN...\n",
      "Running models for GEN...\n"
     ]
    },
    {
     "name": "stderr",
     "output_type": "stream",
     "text": [
      "\n",
      "[*********************100%***********************]  1 of 1 completed"
     ]
    },
    {
     "name": "stdout",
     "output_type": "stream",
     "text": [
      " Finished GEN\n",
      "Downloading data for GNRC...\n",
      "Running models for GNRC...\n"
     ]
    },
    {
     "name": "stderr",
     "output_type": "stream",
     "text": [
      "\n",
      " 42%|████▏     | 213/503 [02:27<03:07,  1.55it/s]"
     ]
    },
    {
     "name": "stdout",
     "output_type": "stream",
     "text": [
      " Finished GNRC\n",
      "Downloading data for GD...\n"
     ]
    },
    {
     "name": "stderr",
     "output_type": "stream",
     "text": [
      "[*********************100%***********************]  1 of 1 completed\n"
     ]
    },
    {
     "name": "stdout",
     "output_type": "stream",
     "text": [
      "Running models for GD...\n"
     ]
    },
    {
     "name": "stderr",
     "output_type": "stream",
     "text": [
      "[*********************100%***********************]  1 of 1 completed"
     ]
    },
    {
     "name": "stdout",
     "output_type": "stream",
     "text": [
      " Finished GD\n",
      "Downloading data for GIS...\n",
      "Running models for GIS...\n"
     ]
    },
    {
     "name": "stderr",
     "output_type": "stream",
     "text": [
      "\n",
      "[*********************100%***********************]  1 of 1 completed"
     ]
    },
    {
     "name": "stdout",
     "output_type": "stream",
     "text": [
      " Finished GIS\n",
      "Downloading data for GM...\n",
      "Running models for GM...\n"
     ]
    },
    {
     "name": "stderr",
     "output_type": "stream",
     "text": [
      "\n",
      "[*********************100%***********************]  1 of 1 completed"
     ]
    },
    {
     "name": "stdout",
     "output_type": "stream",
     "text": [
      " Finished GM\n",
      "Downloading data for GPC...\n"
     ]
    },
    {
     "name": "stderr",
     "output_type": "stream",
     "text": [
      "\n"
     ]
    },
    {
     "name": "stdout",
     "output_type": "stream",
     "text": [
      "Running models for GPC...\n"
     ]
    },
    {
     "name": "stderr",
     "output_type": "stream",
     "text": [
      " 43%|████▎     | 217/503 [02:32<05:35,  1.17s/it]"
     ]
    },
    {
     "name": "stdout",
     "output_type": "stream",
     "text": [
      " Finished GPC\n",
      "Downloading data for GILD...\n"
     ]
    },
    {
     "name": "stderr",
     "output_type": "stream",
     "text": [
      "[*********************100%***********************]  1 of 1 completed\n"
     ]
    },
    {
     "name": "stdout",
     "output_type": "stream",
     "text": [
      "Running models for GILD...\n"
     ]
    },
    {
     "name": "stderr",
     "output_type": "stream",
     "text": [
      "[*********************100%***********************]  1 of 1 completed"
     ]
    },
    {
     "name": "stdout",
     "output_type": "stream",
     "text": [
      " Finished GILD\n",
      "Downloading data for GPN...\n",
      "Running models for GPN...\n"
     ]
    },
    {
     "name": "stderr",
     "output_type": "stream",
     "text": [
      "\n",
      "[*********************100%***********************]  1 of 1 completed"
     ]
    },
    {
     "name": "stdout",
     "output_type": "stream",
     "text": [
      " Finished GPN\n",
      "Downloading data for GL...\n",
      "Running models for GL...\n"
     ]
    },
    {
     "name": "stderr",
     "output_type": "stream",
     "text": [
      "\n",
      "[*********************100%***********************]  1 of 1 completed"
     ]
    },
    {
     "name": "stdout",
     "output_type": "stream",
     "text": [
      " Finished GL\n",
      "Downloading data for GDDY...\n",
      "Running models for GDDY...\n"
     ]
    },
    {
     "name": "stderr",
     "output_type": "stream",
     "text": [
      "\n",
      "[*********************100%***********************]  1 of 1 completed"
     ]
    },
    {
     "name": "stdout",
     "output_type": "stream",
     "text": [
      " Finished GDDY\n",
      "Downloading data for GS...\n",
      "Running models for GS...\n"
     ]
    },
    {
     "name": "stderr",
     "output_type": "stream",
     "text": [
      "\n",
      "[*********************100%***********************]  1 of 1 completed"
     ]
    },
    {
     "name": "stdout",
     "output_type": "stream",
     "text": [
      " Finished GS\n",
      "Downloading data for HAL...\n",
      "Running models for HAL...\n"
     ]
    },
    {
     "name": "stderr",
     "output_type": "stream",
     "text": [
      "\n",
      "[*********************100%***********************]  1 of 1 completed"
     ]
    },
    {
     "name": "stdout",
     "output_type": "stream",
     "text": [
      " Finished HAL\n",
      "Downloading data for HIG...\n",
      "Running models for HIG...\n"
     ]
    },
    {
     "name": "stderr",
     "output_type": "stream",
     "text": [
      "\n",
      "[*********************100%***********************]  1 of 1 completed"
     ]
    },
    {
     "name": "stdout",
     "output_type": "stream",
     "text": [
      " Finished HIG\n",
      "Downloading data for HAS...\n",
      "Running models for HAS...\n"
     ]
    },
    {
     "name": "stderr",
     "output_type": "stream",
     "text": [
      "\n",
      "[*********************100%***********************]  1 of 1 completed"
     ]
    },
    {
     "name": "stdout",
     "output_type": "stream",
     "text": [
      " Finished HAS\n",
      "Downloading data for HCA...\n",
      "Running models for HCA...\n"
     ]
    },
    {
     "name": "stderr",
     "output_type": "stream",
     "text": [
      "\n",
      "[*********************100%***********************]  1 of 1 completed"
     ]
    },
    {
     "name": "stdout",
     "output_type": "stream",
     "text": [
      " Finished HCA\n",
      "Downloading data for DOC...\n",
      "Running models for DOC...\n"
     ]
    },
    {
     "name": "stderr",
     "output_type": "stream",
     "text": [
      "\n",
      "[*********************100%***********************]  1 of 1 completed"
     ]
    },
    {
     "name": "stdout",
     "output_type": "stream",
     "text": [
      " Finished DOC\n",
      "Downloading data for HSIC...\n",
      "Running models for HSIC...\n"
     ]
    },
    {
     "name": "stderr",
     "output_type": "stream",
     "text": [
      "\n",
      "[*********************100%***********************]  1 of 1 completed"
     ]
    },
    {
     "name": "stdout",
     "output_type": "stream",
     "text": [
      " Finished HSIC\n",
      "Downloading data for HSY...\n",
      "Running models for HSY...\n"
     ]
    },
    {
     "name": "stderr",
     "output_type": "stream",
     "text": [
      "\n",
      " 46%|████▌     | 229/503 [02:42<03:33,  1.28it/s]"
     ]
    },
    {
     "name": "stdout",
     "output_type": "stream",
     "text": [
      " Finished HSY\n",
      "Downloading data for HES...\n"
     ]
    },
    {
     "name": "stderr",
     "output_type": "stream",
     "text": [
      "[*********************100%***********************]  1 of 1 completed\n"
     ]
    },
    {
     "name": "stdout",
     "output_type": "stream",
     "text": [
      "Running models for HES...\n"
     ]
    },
    {
     "name": "stderr",
     "output_type": "stream",
     "text": [
      "[*********************100%***********************]  1 of 1 completed"
     ]
    },
    {
     "name": "stdout",
     "output_type": "stream",
     "text": [
      " Finished HES\n",
      "Downloading data for HPE...\n",
      "Running models for HPE...\n"
     ]
    },
    {
     "name": "stderr",
     "output_type": "stream",
     "text": [
      "\n",
      "[*********************100%***********************]  1 of 1 completed"
     ]
    },
    {
     "name": "stdout",
     "output_type": "stream",
     "text": [
      " Finished HPE\n",
      "Downloading data for HLT...\n",
      "Running models for HLT...\n"
     ]
    },
    {
     "name": "stderr",
     "output_type": "stream",
     "text": [
      "\n",
      "[*********************100%***********************]  1 of 1 completed"
     ]
    },
    {
     "name": "stdout",
     "output_type": "stream",
     "text": [
      " Finished HLT\n",
      "Downloading data for HOLX...\n",
      "Running models for HOLX...\n"
     ]
    },
    {
     "name": "stderr",
     "output_type": "stream",
     "text": [
      "\n",
      "[*********************100%***********************]  1 of 1 completed"
     ]
    },
    {
     "name": "stdout",
     "output_type": "stream",
     "text": [
      " Finished HOLX\n",
      "Downloading data for HD...\n",
      "Running models for HD...\n"
     ]
    },
    {
     "name": "stderr",
     "output_type": "stream",
     "text": [
      "\n",
      "[*********************100%***********************]  1 of 1 completed"
     ]
    },
    {
     "name": "stdout",
     "output_type": "stream",
     "text": [
      " Finished HD\n",
      "Downloading data for HON...\n",
      "Running models for HON...\n"
     ]
    },
    {
     "name": "stderr",
     "output_type": "stream",
     "text": [
      "\n",
      "[*********************100%***********************]  1 of 1 completed"
     ]
    },
    {
     "name": "stdout",
     "output_type": "stream",
     "text": [
      " Finished HON\n",
      "Downloading data for HRL...\n",
      "Running models for HRL...\n"
     ]
    },
    {
     "name": "stderr",
     "output_type": "stream",
     "text": [
      "\n",
      "[*********************100%***********************]  1 of 1 completed"
     ]
    },
    {
     "name": "stdout",
     "output_type": "stream",
     "text": [
      " Finished HRL\n",
      "Downloading data for HST...\n",
      "Running models for HST...\n"
     ]
    },
    {
     "name": "stderr",
     "output_type": "stream",
     "text": [
      "\n",
      "[*********************100%***********************]  1 of 1 completed"
     ]
    },
    {
     "name": "stdout",
     "output_type": "stream",
     "text": [
      " Finished HST\n",
      "Downloading data for HWM...\n",
      "Running models for HWM...\n"
     ]
    },
    {
     "name": "stderr",
     "output_type": "stream",
     "text": [
      "\n",
      " 47%|████▋     | 238/503 [02:48<03:04,  1.44it/s]"
     ]
    },
    {
     "name": "stdout",
     "output_type": "stream",
     "text": [
      " Finished HWM\n",
      "Downloading data for HPQ...\n"
     ]
    },
    {
     "name": "stderr",
     "output_type": "stream",
     "text": [
      "[*********************100%***********************]  1 of 1 completed\n"
     ]
    },
    {
     "name": "stdout",
     "output_type": "stream",
     "text": [
      "Running models for HPQ...\n"
     ]
    },
    {
     "name": "stderr",
     "output_type": "stream",
     "text": [
      "[*********************100%***********************]  1 of 1 completed"
     ]
    },
    {
     "name": "stdout",
     "output_type": "stream",
     "text": [
      " Finished HPQ\n",
      "Downloading data for HUBB...\n",
      "Running models for HUBB...\n"
     ]
    },
    {
     "name": "stderr",
     "output_type": "stream",
     "text": [
      "\n",
      "[*********************100%***********************]  1 of 1 completed"
     ]
    },
    {
     "name": "stdout",
     "output_type": "stream",
     "text": [
      " Finished HUBB\n",
      "Downloading data for HUM...\n",
      "Running models for HUM...\n"
     ]
    },
    {
     "name": "stderr",
     "output_type": "stream",
     "text": [
      "\n",
      "[*********************100%***********************]  1 of 1 completed"
     ]
    },
    {
     "name": "stdout",
     "output_type": "stream",
     "text": [
      " Finished HUM\n",
      "Downloading data for HBAN...\n",
      "Running models for HBAN...\n"
     ]
    },
    {
     "name": "stderr",
     "output_type": "stream",
     "text": [
      "\n",
      "[*********************100%***********************]  1 of 1 completed"
     ]
    },
    {
     "name": "stdout",
     "output_type": "stream",
     "text": [
      " Finished HBAN\n",
      "Downloading data for HII...\n",
      "Running models for HII...\n"
     ]
    },
    {
     "name": "stderr",
     "output_type": "stream",
     "text": [
      "\n",
      "[*********************100%***********************]  1 of 1 completed"
     ]
    },
    {
     "name": "stdout",
     "output_type": "stream",
     "text": [
      " Finished HII\n",
      "Downloading data for IBM...\n",
      "Running models for IBM...\n"
     ]
    },
    {
     "name": "stderr",
     "output_type": "stream",
     "text": [
      "\n",
      "[*********************100%***********************]  1 of 1 completed"
     ]
    },
    {
     "name": "stdout",
     "output_type": "stream",
     "text": [
      " Finished IBM\n",
      "Downloading data for IEX...\n",
      "Running models for IEX...\n"
     ]
    },
    {
     "name": "stderr",
     "output_type": "stream",
     "text": [
      "\n",
      "[*********************100%***********************]  1 of 1 completed"
     ]
    },
    {
     "name": "stdout",
     "output_type": "stream",
     "text": [
      " Finished IEX\n",
      "Downloading data for IDXX...\n",
      "Running models for IDXX...\n"
     ]
    },
    {
     "name": "stderr",
     "output_type": "stream",
     "text": [
      "\n",
      "[*********************100%***********************]  1 of 1 completed"
     ]
    },
    {
     "name": "stdout",
     "output_type": "stream",
     "text": [
      " Finished IDXX\n",
      "Downloading data for ITW...\n",
      "Running models for ITW...\n"
     ]
    },
    {
     "name": "stderr",
     "output_type": "stream",
     "text": [
      "\n",
      "[*********************100%***********************]  1 of 1 completed"
     ]
    },
    {
     "name": "stdout",
     "output_type": "stream",
     "text": [
      " Finished ITW\n",
      "Downloading data for INCY...\n",
      "Running models for INCY...\n"
     ]
    },
    {
     "name": "stderr",
     "output_type": "stream",
     "text": [
      "\n",
      "[*********************100%***********************]  1 of 1 completed"
     ]
    },
    {
     "name": "stdout",
     "output_type": "stream",
     "text": [
      " Finished INCY\n",
      "Downloading data for IR...\n",
      "Running models for IR...\n"
     ]
    },
    {
     "name": "stderr",
     "output_type": "stream",
     "text": [
      "\n",
      "[*********************100%***********************]  1 of 1 completed"
     ]
    },
    {
     "name": "stdout",
     "output_type": "stream",
     "text": [
      " Finished IR\n",
      "Downloading data for PODD...\n",
      "Running models for PODD...\n"
     ]
    },
    {
     "name": "stderr",
     "output_type": "stream",
     "text": [
      "\n",
      "[*********************100%***********************]  1 of 1 completed"
     ]
    },
    {
     "name": "stdout",
     "output_type": "stream",
     "text": [
      " Finished PODD\n",
      "Downloading data for INTC...\n",
      "Running models for INTC...\n"
     ]
    },
    {
     "name": "stderr",
     "output_type": "stream",
     "text": [
      "\n",
      "[*********************100%***********************]  1 of 1 completed"
     ]
    },
    {
     "name": "stdout",
     "output_type": "stream",
     "text": [
      " Finished INTC\n",
      "Downloading data for ICE...\n",
      "Running models for ICE...\n"
     ]
    },
    {
     "name": "stderr",
     "output_type": "stream",
     "text": [
      "\n",
      "[*********************100%***********************]  1 of 1 completed"
     ]
    },
    {
     "name": "stdout",
     "output_type": "stream",
     "text": [
      " Finished ICE\n",
      "Downloading data for IFF...\n",
      "Running models for IFF...\n"
     ]
    },
    {
     "name": "stderr",
     "output_type": "stream",
     "text": [
      "\n",
      "[*********************100%***********************]  1 of 1 completed"
     ]
    },
    {
     "name": "stdout",
     "output_type": "stream",
     "text": [
      " Finished IFF\n",
      "Downloading data for IP...\n",
      "Running models for IP...\n"
     ]
    },
    {
     "name": "stderr",
     "output_type": "stream",
     "text": [
      "\n",
      "[*********************100%***********************]  1 of 1 completed"
     ]
    },
    {
     "name": "stdout",
     "output_type": "stream",
     "text": [
      " Finished IP\n",
      "Downloading data for IPG...\n",
      "Running models for IPG...\n"
     ]
    },
    {
     "name": "stderr",
     "output_type": "stream",
     "text": [
      "\n",
      "[*********************100%***********************]  1 of 1 completed"
     ]
    },
    {
     "name": "stdout",
     "output_type": "stream",
     "text": [
      " Finished IPG\n",
      "Downloading data for INTU...\n",
      "Running models for INTU...\n"
     ]
    },
    {
     "name": "stderr",
     "output_type": "stream",
     "text": [
      "\n",
      "[*********************100%***********************]  1 of 1 completed"
     ]
    },
    {
     "name": "stdout",
     "output_type": "stream",
     "text": [
      " Finished INTU\n",
      "Downloading data for ISRG...\n",
      "Running models for ISRG...\n"
     ]
    },
    {
     "name": "stderr",
     "output_type": "stream",
     "text": [
      "\n",
      "[*********************100%***********************]  1 of 1 completed"
     ]
    },
    {
     "name": "stdout",
     "output_type": "stream",
     "text": [
      " Finished ISRG\n",
      "Downloading data for IVZ...\n",
      "Running models for IVZ...\n"
     ]
    },
    {
     "name": "stderr",
     "output_type": "stream",
     "text": [
      "\n",
      "[*********************100%***********************]  1 of 1 completed"
     ]
    },
    {
     "name": "stdout",
     "output_type": "stream",
     "text": [
      " Finished IVZ\n",
      "Downloading data for INVH...\n",
      "Running models for INVH...\n"
     ]
    },
    {
     "name": "stderr",
     "output_type": "stream",
     "text": [
      "\n",
      "[*********************100%***********************]  1 of 1 completed"
     ]
    },
    {
     "name": "stdout",
     "output_type": "stream",
     "text": [
      " Finished INVH\n",
      "Downloading data for IQV...\n",
      "Running models for IQV...\n"
     ]
    },
    {
     "name": "stderr",
     "output_type": "stream",
     "text": [
      "\n",
      "[*********************100%***********************]  1 of 1 completed"
     ]
    },
    {
     "name": "stdout",
     "output_type": "stream",
     "text": [
      " Finished IQV\n",
      "Downloading data for IRM...\n",
      "Running models for IRM...\n"
     ]
    },
    {
     "name": "stderr",
     "output_type": "stream",
     "text": [
      "\n",
      "[*********************100%***********************]  1 of 1 completed"
     ]
    },
    {
     "name": "stdout",
     "output_type": "stream",
     "text": [
      " Finished IRM\n",
      "Downloading data for JBHT...\n"
     ]
    },
    {
     "name": "stderr",
     "output_type": "stream",
     "text": [
      "\n"
     ]
    },
    {
     "name": "stdout",
     "output_type": "stream",
     "text": [
      "Running models for JBHT...\n"
     ]
    },
    {
     "name": "stderr",
     "output_type": "stream",
     "text": [
      "[*********************100%***********************]  1 of 1 completed"
     ]
    },
    {
     "name": "stdout",
     "output_type": "stream",
     "text": [
      " Finished JBHT\n",
      "Downloading data for JBL...\n",
      "Running models for JBL...\n"
     ]
    },
    {
     "name": "stderr",
     "output_type": "stream",
     "text": [
      "\n",
      "[*********************100%***********************]  1 of 1 completed"
     ]
    },
    {
     "name": "stdout",
     "output_type": "stream",
     "text": [
      " Finished JBL\n",
      "Downloading data for JKHY...\n",
      "Running models for JKHY...\n"
     ]
    },
    {
     "name": "stderr",
     "output_type": "stream",
     "text": [
      "\n",
      "[*********************100%***********************]  1 of 1 completed"
     ]
    },
    {
     "name": "stdout",
     "output_type": "stream",
     "text": [
      " Finished JKHY\n",
      "Downloading data for J...\n",
      "Running models for J...\n"
     ]
    },
    {
     "name": "stderr",
     "output_type": "stream",
     "text": [
      "\n",
      "[*********************100%***********************]  1 of 1 completed"
     ]
    },
    {
     "name": "stdout",
     "output_type": "stream",
     "text": [
      " Finished J\n",
      "Downloading data for JNJ...\n",
      "Running models for JNJ...\n"
     ]
    },
    {
     "name": "stderr",
     "output_type": "stream",
     "text": [
      "\n",
      "[*********************100%***********************]  1 of 1 completed"
     ]
    },
    {
     "name": "stdout",
     "output_type": "stream",
     "text": [
      " Finished JNJ\n",
      "Downloading data for JCI...\n",
      "Running models for JCI...\n"
     ]
    },
    {
     "name": "stderr",
     "output_type": "stream",
     "text": [
      "\n",
      "[*********************100%***********************]  1 of 1 completed"
     ]
    },
    {
     "name": "stdout",
     "output_type": "stream",
     "text": [
      " Finished JCI\n",
      "Downloading data for JPM...\n"
     ]
    },
    {
     "name": "stderr",
     "output_type": "stream",
     "text": [
      "\n"
     ]
    },
    {
     "name": "stdout",
     "output_type": "stream",
     "text": [
      "Running models for JPM...\n"
     ]
    },
    {
     "name": "stderr",
     "output_type": "stream",
     "text": [
      "[*********************100%***********************]  1 of 1 completed"
     ]
    },
    {
     "name": "stdout",
     "output_type": "stream",
     "text": [
      " Finished JPM\n",
      "Downloading data for JNPR...\n",
      "Running models for JNPR...\n"
     ]
    },
    {
     "name": "stderr",
     "output_type": "stream",
     "text": [
      "\n",
      "[*********************100%***********************]  1 of 1 completed"
     ]
    },
    {
     "name": "stdout",
     "output_type": "stream",
     "text": [
      " Finished JNPR\n",
      "Downloading data for K...\n",
      "Running models for K...\n"
     ]
    },
    {
     "name": "stderr",
     "output_type": "stream",
     "text": [
      "\n",
      "[*********************100%***********************]  1 of 1 completed"
     ]
    },
    {
     "name": "stdout",
     "output_type": "stream",
     "text": [
      " Finished K\n",
      "Downloading data for KVUE...\n",
      "Running models for KVUE...\n"
     ]
    },
    {
     "name": "stderr",
     "output_type": "stream",
     "text": [
      "\n",
      "[*********************100%***********************]  1 of 1 completed"
     ]
    },
    {
     "name": "stdout",
     "output_type": "stream",
     "text": [
      " Finished KVUE\n",
      "Downloading data for KDP...\n",
      "Running models for KDP...\n"
     ]
    },
    {
     "name": "stderr",
     "output_type": "stream",
     "text": [
      "\n",
      "[*********************100%***********************]  1 of 1 completed"
     ]
    },
    {
     "name": "stdout",
     "output_type": "stream",
     "text": [
      " Finished KDP\n",
      "Downloading data for KEY...\n",
      "Running models for KEY...\n"
     ]
    },
    {
     "name": "stderr",
     "output_type": "stream",
     "text": [
      "\n",
      "[*********************100%***********************]  1 of 1 completed"
     ]
    },
    {
     "name": "stdout",
     "output_type": "stream",
     "text": [
      " Finished KEY\n",
      "Downloading data for KEYS...\n",
      "Running models for KEYS...\n"
     ]
    },
    {
     "name": "stderr",
     "output_type": "stream",
     "text": [
      "\n",
      "[*********************100%***********************]  1 of 1 completed"
     ]
    },
    {
     "name": "stdout",
     "output_type": "stream",
     "text": [
      " Finished KEYS\n",
      "Downloading data for KMB...\n",
      "Running models for KMB...\n"
     ]
    },
    {
     "name": "stderr",
     "output_type": "stream",
     "text": [
      "\n",
      "[*********************100%***********************]  1 of 1 completed"
     ]
    },
    {
     "name": "stdout",
     "output_type": "stream",
     "text": [
      " Finished KMB\n",
      "Downloading data for KIM...\n",
      "Running models for KIM...\n"
     ]
    },
    {
     "name": "stderr",
     "output_type": "stream",
     "text": [
      "\n",
      "[*********************100%***********************]  1 of 1 completed"
     ]
    },
    {
     "name": "stdout",
     "output_type": "stream",
     "text": [
      " Finished KIM\n",
      "Downloading data for KMI...\n",
      "Running models for KMI...\n"
     ]
    },
    {
     "name": "stderr",
     "output_type": "stream",
     "text": [
      "\n",
      "[*********************100%***********************]  1 of 1 completed"
     ]
    },
    {
     "name": "stdout",
     "output_type": "stream",
     "text": [
      " Finished KMI\n",
      "Downloading data for KKR...\n",
      "Running models for KKR...\n"
     ]
    },
    {
     "name": "stderr",
     "output_type": "stream",
     "text": [
      "\n",
      "[*********************100%***********************]  1 of 1 completed"
     ]
    },
    {
     "name": "stdout",
     "output_type": "stream",
     "text": [
      " Finished KKR\n",
      "Downloading data for KLAC...\n",
      "Running models for KLAC...\n"
     ]
    },
    {
     "name": "stderr",
     "output_type": "stream",
     "text": [
      "\n",
      "[*********************100%***********************]  1 of 1 completed"
     ]
    },
    {
     "name": "stdout",
     "output_type": "stream",
     "text": [
      " Finished KLAC\n",
      "Downloading data for KHC...\n",
      "Running models for KHC...\n"
     ]
    },
    {
     "name": "stderr",
     "output_type": "stream",
     "text": [
      "\n",
      "[*********************100%***********************]  1 of 1 completed"
     ]
    },
    {
     "name": "stdout",
     "output_type": "stream",
     "text": [
      " Finished KHC\n",
      "Downloading data for KR...\n",
      "Running models for KR...\n"
     ]
    },
    {
     "name": "stderr",
     "output_type": "stream",
     "text": [
      "\n",
      "[*********************100%***********************]  1 of 1 completed"
     ]
    },
    {
     "name": "stdout",
     "output_type": "stream",
     "text": [
      " Finished KR\n",
      "Downloading data for LHX...\n",
      "Running models for LHX...\n"
     ]
    },
    {
     "name": "stderr",
     "output_type": "stream",
     "text": [
      "\n",
      "[*********************100%***********************]  1 of 1 completed"
     ]
    },
    {
     "name": "stdout",
     "output_type": "stream",
     "text": [
      " Finished LHX\n",
      "Downloading data for LH...\n",
      "Running models for LH...\n"
     ]
    },
    {
     "name": "stderr",
     "output_type": "stream",
     "text": [
      "\n",
      "[*********************100%***********************]  1 of 1 completed"
     ]
    },
    {
     "name": "stdout",
     "output_type": "stream",
     "text": [
      " Finished LH\n",
      "Downloading data for LRCX...\n",
      "Running models for LRCX...\n"
     ]
    },
    {
     "name": "stderr",
     "output_type": "stream",
     "text": [
      "\n",
      "[*********************100%***********************]  1 of 1 completed"
     ]
    },
    {
     "name": "stdout",
     "output_type": "stream",
     "text": [
      " Finished LRCX\n",
      "Downloading data for LW...\n",
      "Running models for LW...\n"
     ]
    },
    {
     "name": "stderr",
     "output_type": "stream",
     "text": [
      "\n",
      "[*********************100%***********************]  1 of 1 completed"
     ]
    },
    {
     "name": "stdout",
     "output_type": "stream",
     "text": [
      " Finished LW\n",
      "Downloading data for LVS...\n",
      "Running models for LVS...\n"
     ]
    },
    {
     "name": "stderr",
     "output_type": "stream",
     "text": [
      "\n",
      "[*********************100%***********************]  1 of 1 completed"
     ]
    },
    {
     "name": "stdout",
     "output_type": "stream",
     "text": [
      " Finished LVS\n",
      "Downloading data for LDOS...\n",
      "Running models for LDOS...\n"
     ]
    },
    {
     "name": "stderr",
     "output_type": "stream",
     "text": [
      "\n",
      "[*********************100%***********************]  1 of 1 completed"
     ]
    },
    {
     "name": "stdout",
     "output_type": "stream",
     "text": [
      " Finished LDOS\n",
      "Downloading data for LEN...\n",
      "Running models for LEN...\n"
     ]
    },
    {
     "name": "stderr",
     "output_type": "stream",
     "text": [
      "\n",
      "[*********************100%***********************]  1 of 1 completed"
     ]
    },
    {
     "name": "stdout",
     "output_type": "stream",
     "text": [
      " Finished LEN\n",
      "Downloading data for LII...\n",
      "Running models for LII...\n"
     ]
    },
    {
     "name": "stderr",
     "output_type": "stream",
     "text": [
      "\n",
      "[*********************100%***********************]  1 of 1 completed"
     ]
    },
    {
     "name": "stdout",
     "output_type": "stream",
     "text": [
      " Finished LII\n",
      "Downloading data for LLY...\n",
      "Running models for LLY...\n"
     ]
    },
    {
     "name": "stderr",
     "output_type": "stream",
     "text": [
      "\n",
      "[*********************100%***********************]  1 of 1 completed"
     ]
    },
    {
     "name": "stdout",
     "output_type": "stream",
     "text": [
      " Finished LLY\n",
      "Downloading data for LIN...\n",
      "Running models for LIN...\n"
     ]
    },
    {
     "name": "stderr",
     "output_type": "stream",
     "text": [
      "\n",
      "[*********************100%***********************]  1 of 1 completed"
     ]
    },
    {
     "name": "stdout",
     "output_type": "stream",
     "text": [
      " Finished LIN\n",
      "Downloading data for LYV...\n",
      "Running models for LYV...\n"
     ]
    },
    {
     "name": "stderr",
     "output_type": "stream",
     "text": [
      "\n",
      "[*********************100%***********************]  1 of 1 completed"
     ]
    },
    {
     "name": "stdout",
     "output_type": "stream",
     "text": [
      " Finished LYV\n",
      "Downloading data for LKQ...\n",
      "Running models for LKQ...\n"
     ]
    },
    {
     "name": "stderr",
     "output_type": "stream",
     "text": [
      "\n",
      "[*********************100%***********************]  1 of 1 completed"
     ]
    },
    {
     "name": "stdout",
     "output_type": "stream",
     "text": [
      " Finished LKQ\n",
      "Downloading data for LMT...\n",
      "Running models for LMT...\n"
     ]
    },
    {
     "name": "stderr",
     "output_type": "stream",
     "text": [
      "\n",
      "[*********************100%***********************]  1 of 1 completed"
     ]
    },
    {
     "name": "stdout",
     "output_type": "stream",
     "text": [
      " Finished LMT\n",
      "Downloading data for L...\n",
      "Running models for L...\n"
     ]
    },
    {
     "name": "stderr",
     "output_type": "stream",
     "text": [
      "\n",
      "[*********************100%***********************]  1 of 1 completed"
     ]
    },
    {
     "name": "stdout",
     "output_type": "stream",
     "text": [
      " Finished L\n",
      "Downloading data for LOW...\n",
      "Running models for LOW...\n"
     ]
    },
    {
     "name": "stderr",
     "output_type": "stream",
     "text": [
      "\n",
      "[*********************100%***********************]  1 of 1 completed"
     ]
    },
    {
     "name": "stdout",
     "output_type": "stream",
     "text": [
      " Finished LOW\n",
      "Downloading data for LULU...\n",
      "Running models for LULU...\n"
     ]
    },
    {
     "name": "stderr",
     "output_type": "stream",
     "text": [
      "\n",
      "[*********************100%***********************]  1 of 1 completed"
     ]
    },
    {
     "name": "stdout",
     "output_type": "stream",
     "text": [
      " Finished LULU\n",
      "Downloading data for LYB...\n",
      "Running models for LYB...\n"
     ]
    },
    {
     "name": "stderr",
     "output_type": "stream",
     "text": [
      "\n",
      "[*********************100%***********************]  1 of 1 completed"
     ]
    },
    {
     "name": "stdout",
     "output_type": "stream",
     "text": [
      " Finished LYB\n",
      "Downloading data for MTB...\n",
      "Running models for MTB...\n"
     ]
    },
    {
     "name": "stderr",
     "output_type": "stream",
     "text": [
      "\n",
      "[*********************100%***********************]  1 of 1 completed"
     ]
    },
    {
     "name": "stdout",
     "output_type": "stream",
     "text": [
      " Finished MTB\n",
      "Downloading data for MPC...\n",
      "Running models for MPC...\n"
     ]
    },
    {
     "name": "stderr",
     "output_type": "stream",
     "text": [
      "\n",
      "[*********************100%***********************]  1 of 1 completed"
     ]
    },
    {
     "name": "stdout",
     "output_type": "stream",
     "text": [
      " Finished MPC\n",
      "Downloading data for MKTX...\n",
      "Running models for MKTX...\n"
     ]
    },
    {
     "name": "stderr",
     "output_type": "stream",
     "text": [
      "\n",
      "[*********************100%***********************]  1 of 1 completed"
     ]
    },
    {
     "name": "stdout",
     "output_type": "stream",
     "text": [
      " Finished MKTX\n",
      "Downloading data for MAR...\n",
      "Running models for MAR...\n"
     ]
    },
    {
     "name": "stderr",
     "output_type": "stream",
     "text": [
      "\n",
      "[*********************100%***********************]  1 of 1 completed"
     ]
    },
    {
     "name": "stdout",
     "output_type": "stream",
     "text": [
      " Finished MAR\n",
      "Downloading data for MMC...\n",
      "Running models for MMC...\n"
     ]
    },
    {
     "name": "stderr",
     "output_type": "stream",
     "text": [
      "\n",
      "[*********************100%***********************]  1 of 1 completed"
     ]
    },
    {
     "name": "stdout",
     "output_type": "stream",
     "text": [
      " Finished MMC\n",
      "Downloading data for MLM...\n",
      "Running models for MLM...\n"
     ]
    },
    {
     "name": "stderr",
     "output_type": "stream",
     "text": [
      "\n",
      "[*********************100%***********************]  1 of 1 completed"
     ]
    },
    {
     "name": "stdout",
     "output_type": "stream",
     "text": [
      " Finished MLM\n",
      "Downloading data for MAS...\n",
      "Running models for MAS...\n"
     ]
    },
    {
     "name": "stderr",
     "output_type": "stream",
     "text": [
      "\n",
      "[*********************100%***********************]  1 of 1 completed"
     ]
    },
    {
     "name": "stdout",
     "output_type": "stream",
     "text": [
      " Finished MAS\n",
      "Downloading data for MA...\n",
      "Running models for MA...\n"
     ]
    },
    {
     "name": "stderr",
     "output_type": "stream",
     "text": [
      "\n",
      "[*********************100%***********************]  1 of 1 completed"
     ]
    },
    {
     "name": "stdout",
     "output_type": "stream",
     "text": [
      " Finished MA\n",
      "Downloading data for MTCH...\n"
     ]
    },
    {
     "name": "stderr",
     "output_type": "stream",
     "text": [
      "\n"
     ]
    },
    {
     "name": "stdout",
     "output_type": "stream",
     "text": [
      "Running models for MTCH...\n"
     ]
    },
    {
     "name": "stderr",
     "output_type": "stream",
     "text": [
      "[*********************100%***********************]  1 of 1 completed"
     ]
    },
    {
     "name": "stdout",
     "output_type": "stream",
     "text": [
      " Finished MTCH\n",
      "Downloading data for MKC...\n",
      "Running models for MKC...\n"
     ]
    },
    {
     "name": "stderr",
     "output_type": "stream",
     "text": [
      "\n",
      " 61%|██████    | 308/503 [03:35<02:12,  1.48it/s]"
     ]
    },
    {
     "name": "stdout",
     "output_type": "stream",
     "text": [
      " Finished MKC\n",
      "Downloading data for MCD...\n"
     ]
    },
    {
     "name": "stderr",
     "output_type": "stream",
     "text": [
      "[*********************100%***********************]  1 of 1 completed\n"
     ]
    },
    {
     "name": "stdout",
     "output_type": "stream",
     "text": [
      "Running models for MCD...\n"
     ]
    },
    {
     "name": "stderr",
     "output_type": "stream",
     "text": [
      "[*********************100%***********************]  1 of 1 completed"
     ]
    },
    {
     "name": "stdout",
     "output_type": "stream",
     "text": [
      " Finished MCD\n",
      "Downloading data for MCK...\n",
      "Running models for MCK...\n"
     ]
    },
    {
     "name": "stderr",
     "output_type": "stream",
     "text": [
      "\n",
      "[*********************100%***********************]  1 of 1 completed"
     ]
    },
    {
     "name": "stdout",
     "output_type": "stream",
     "text": [
      " Finished MCK\n",
      "Downloading data for MDT...\n",
      "Running models for MDT...\n"
     ]
    },
    {
     "name": "stderr",
     "output_type": "stream",
     "text": [
      "\n",
      "[*********************100%***********************]  1 of 1 completed"
     ]
    },
    {
     "name": "stdout",
     "output_type": "stream",
     "text": [
      " Finished MDT\n",
      "Downloading data for MRK...\n"
     ]
    },
    {
     "name": "stderr",
     "output_type": "stream",
     "text": [
      "\n"
     ]
    },
    {
     "name": "stdout",
     "output_type": "stream",
     "text": [
      "Running models for MRK...\n"
     ]
    },
    {
     "name": "stderr",
     "output_type": "stream",
     "text": [
      "[*********************100%***********************]  1 of 1 completed"
     ]
    },
    {
     "name": "stdout",
     "output_type": "stream",
     "text": [
      " Finished MRK\n",
      "Downloading data for META...\n",
      "Running models for META...\n"
     ]
    },
    {
     "name": "stderr",
     "output_type": "stream",
     "text": [
      "\n",
      "[*********************100%***********************]  1 of 1 completed"
     ]
    },
    {
     "name": "stdout",
     "output_type": "stream",
     "text": [
      " Finished META\n",
      "Downloading data for MET...\n",
      "Running models for MET...\n"
     ]
    },
    {
     "name": "stderr",
     "output_type": "stream",
     "text": [
      "\n",
      "[*********************100%***********************]  1 of 1 completed"
     ]
    },
    {
     "name": "stdout",
     "output_type": "stream",
     "text": [
      " Finished MET\n",
      "Downloading data for MTD...\n",
      "Running models for MTD...\n"
     ]
    },
    {
     "name": "stderr",
     "output_type": "stream",
     "text": [
      "\n",
      "[*********************100%***********************]  1 of 1 completed"
     ]
    },
    {
     "name": "stdout",
     "output_type": "stream",
     "text": [
      " Finished MTD\n",
      "Downloading data for MGM...\n",
      "Running models for MGM...\n"
     ]
    },
    {
     "name": "stderr",
     "output_type": "stream",
     "text": [
      "\n",
      "[*********************100%***********************]  1 of 1 completed"
     ]
    },
    {
     "name": "stdout",
     "output_type": "stream",
     "text": [
      " Finished MGM\n",
      "Downloading data for MCHP...\n",
      "Running models for MCHP...\n"
     ]
    },
    {
     "name": "stderr",
     "output_type": "stream",
     "text": [
      "\n",
      "[*********************100%***********************]  1 of 1 completed"
     ]
    },
    {
     "name": "stdout",
     "output_type": "stream",
     "text": [
      " Finished MCHP\n",
      "Downloading data for MU...\n",
      "Running models for MU...\n"
     ]
    },
    {
     "name": "stderr",
     "output_type": "stream",
     "text": [
      "\n",
      "[*********************100%***********************]  1 of 1 completed"
     ]
    },
    {
     "name": "stdout",
     "output_type": "stream",
     "text": [
      " Finished MU\n",
      "Downloading data for MSFT...\n",
      "Running models for MSFT...\n"
     ]
    },
    {
     "name": "stderr",
     "output_type": "stream",
     "text": [
      "\n",
      "[*********************100%***********************]  1 of 1 completed"
     ]
    },
    {
     "name": "stdout",
     "output_type": "stream",
     "text": [
      " Finished MSFT\n",
      "Downloading data for MAA...\n",
      "Running models for MAA...\n"
     ]
    },
    {
     "name": "stderr",
     "output_type": "stream",
     "text": [
      "\n",
      "[*********************100%***********************]  1 of 1 completed"
     ]
    },
    {
     "name": "stdout",
     "output_type": "stream",
     "text": [
      " Finished MAA\n",
      "Downloading data for MRNA...\n",
      "Running models for MRNA...\n"
     ]
    },
    {
     "name": "stderr",
     "output_type": "stream",
     "text": [
      "\n",
      "[*********************100%***********************]  1 of 1 completed"
     ]
    },
    {
     "name": "stdout",
     "output_type": "stream",
     "text": [
      " Finished MRNA\n",
      "Downloading data for MHK...\n",
      "Running models for MHK...\n"
     ]
    },
    {
     "name": "stderr",
     "output_type": "stream",
     "text": [
      "\n",
      "[*********************100%***********************]  1 of 1 completed"
     ]
    },
    {
     "name": "stdout",
     "output_type": "stream",
     "text": [
      " Finished MHK\n",
      "Downloading data for MOH...\n",
      "Running models for MOH...\n"
     ]
    },
    {
     "name": "stderr",
     "output_type": "stream",
     "text": [
      "\n",
      "[*********************100%***********************]  1 of 1 completed"
     ]
    },
    {
     "name": "stdout",
     "output_type": "stream",
     "text": [
      " Finished MOH\n",
      "Downloading data for TAP...\n",
      "Running models for TAP...\n"
     ]
    },
    {
     "name": "stderr",
     "output_type": "stream",
     "text": [
      "\n",
      "[*********************100%***********************]  1 of 1 completed"
     ]
    },
    {
     "name": "stdout",
     "output_type": "stream",
     "text": [
      " Finished TAP\n",
      "Downloading data for MDLZ...\n",
      "Running models for MDLZ...\n"
     ]
    },
    {
     "name": "stderr",
     "output_type": "stream",
     "text": [
      "\n",
      "[*********************100%***********************]  1 of 1 completed"
     ]
    },
    {
     "name": "stdout",
     "output_type": "stream",
     "text": [
      " Finished MDLZ\n",
      "Downloading data for MPWR...\n",
      "Running models for MPWR...\n"
     ]
    },
    {
     "name": "stderr",
     "output_type": "stream",
     "text": [
      "\n",
      "[*********************100%***********************]  1 of 1 completed"
     ]
    },
    {
     "name": "stdout",
     "output_type": "stream",
     "text": [
      " Finished MPWR\n",
      "Downloading data for MNST...\n",
      "Running models for MNST...\n"
     ]
    },
    {
     "name": "stderr",
     "output_type": "stream",
     "text": [
      "\n",
      " 65%|██████▌   | 327/503 [03:48<01:58,  1.48it/s]"
     ]
    },
    {
     "name": "stdout",
     "output_type": "stream",
     "text": [
      " Finished MNST\n",
      "Downloading data for MCO...\n"
     ]
    },
    {
     "name": "stderr",
     "output_type": "stream",
     "text": [
      "[*********************100%***********************]  1 of 1 completed\n"
     ]
    },
    {
     "name": "stdout",
     "output_type": "stream",
     "text": [
      "Running models for MCO...\n"
     ]
    },
    {
     "name": "stderr",
     "output_type": "stream",
     "text": [
      "[*********************100%***********************]  1 of 1 completed"
     ]
    },
    {
     "name": "stdout",
     "output_type": "stream",
     "text": [
      " Finished MCO\n",
      "Downloading data for MS...\n",
      "Running models for MS...\n"
     ]
    },
    {
     "name": "stderr",
     "output_type": "stream",
     "text": [
      "\n",
      "[*********************100%***********************]  1 of 1 completed"
     ]
    },
    {
     "name": "stdout",
     "output_type": "stream",
     "text": [
      " Finished MS\n",
      "Downloading data for MOS...\n",
      "Running models for MOS...\n"
     ]
    },
    {
     "name": "stderr",
     "output_type": "stream",
     "text": [
      "\n",
      "[*********************100%***********************]  1 of 1 completed"
     ]
    },
    {
     "name": "stdout",
     "output_type": "stream",
     "text": [
      " Finished MOS\n",
      "Downloading data for MSI...\n",
      "Running models for MSI...\n"
     ]
    },
    {
     "name": "stderr",
     "output_type": "stream",
     "text": [
      "\n",
      "[*********************100%***********************]  1 of 1 completed"
     ]
    },
    {
     "name": "stdout",
     "output_type": "stream",
     "text": [
      " Finished MSI\n",
      "Downloading data for MSCI...\n",
      "Running models for MSCI...\n"
     ]
    },
    {
     "name": "stderr",
     "output_type": "stream",
     "text": [
      "\n",
      "[*********************100%***********************]  1 of 1 completed"
     ]
    },
    {
     "name": "stdout",
     "output_type": "stream",
     "text": [
      " Finished MSCI\n",
      "Downloading data for NDAQ...\n",
      "Running models for NDAQ...\n"
     ]
    },
    {
     "name": "stderr",
     "output_type": "stream",
     "text": [
      "\n",
      "[*********************100%***********************]  1 of 1 completed"
     ]
    },
    {
     "name": "stdout",
     "output_type": "stream",
     "text": [
      " Finished NDAQ\n",
      "Downloading data for NTAP...\n",
      "Running models for NTAP...\n"
     ]
    },
    {
     "name": "stderr",
     "output_type": "stream",
     "text": [
      "\n",
      "[*********************100%***********************]  1 of 1 completed"
     ]
    },
    {
     "name": "stdout",
     "output_type": "stream",
     "text": [
      " Finished NTAP\n",
      "Downloading data for NFLX...\n",
      "Running models for NFLX...\n"
     ]
    },
    {
     "name": "stderr",
     "output_type": "stream",
     "text": [
      "\n",
      "[*********************100%***********************]  1 of 1 completed"
     ]
    },
    {
     "name": "stdout",
     "output_type": "stream",
     "text": [
      " Finished NFLX\n",
      "Downloading data for NEM...\n",
      "Running models for NEM...\n"
     ]
    },
    {
     "name": "stderr",
     "output_type": "stream",
     "text": [
      "\n",
      "[*********************100%***********************]  1 of 1 completed"
     ]
    },
    {
     "name": "stdout",
     "output_type": "stream",
     "text": [
      " Finished NEM\n",
      "Downloading data for NWSA...\n",
      "Running models for NWSA...\n"
     ]
    },
    {
     "name": "stderr",
     "output_type": "stream",
     "text": [
      "\n",
      "[*********************100%***********************]  1 of 1 completed"
     ]
    },
    {
     "name": "stdout",
     "output_type": "stream",
     "text": [
      " Finished NWSA\n",
      "Downloading data for NWS...\n",
      "Running models for NWS...\n"
     ]
    },
    {
     "name": "stderr",
     "output_type": "stream",
     "text": [
      "\n",
      "[*********************100%***********************]  1 of 1 completed"
     ]
    },
    {
     "name": "stdout",
     "output_type": "stream",
     "text": [
      " Finished NWS\n",
      "Downloading data for NEE...\n",
      "Running models for NEE...\n"
     ]
    },
    {
     "name": "stderr",
     "output_type": "stream",
     "text": [
      "\n",
      "[*********************100%***********************]  1 of 1 completed"
     ]
    },
    {
     "name": "stdout",
     "output_type": "stream",
     "text": [
      " Finished NEE\n",
      "Downloading data for NKE...\n",
      "Running models for NKE...\n"
     ]
    },
    {
     "name": "stderr",
     "output_type": "stream",
     "text": [
      "\n",
      "[*********************100%***********************]  1 of 1 completed"
     ]
    },
    {
     "name": "stdout",
     "output_type": "stream",
     "text": [
      " Finished NKE\n",
      "Downloading data for NI...\n",
      "Running models for NI...\n"
     ]
    },
    {
     "name": "stderr",
     "output_type": "stream",
     "text": [
      "\n",
      "[*********************100%***********************]  1 of 1 completed"
     ]
    },
    {
     "name": "stdout",
     "output_type": "stream",
     "text": [
      " Finished NI\n",
      "Downloading data for NDSN...\n",
      "Running models for NDSN...\n"
     ]
    },
    {
     "name": "stderr",
     "output_type": "stream",
     "text": [
      "\n",
      "[*********************100%***********************]  1 of 1 completed"
     ]
    },
    {
     "name": "stdout",
     "output_type": "stream",
     "text": [
      " Finished NDSN\n",
      "Downloading data for NSC...\n",
      "Running models for NSC...\n"
     ]
    },
    {
     "name": "stderr",
     "output_type": "stream",
     "text": [
      "\n",
      "[*********************100%***********************]  1 of 1 completed"
     ]
    },
    {
     "name": "stdout",
     "output_type": "stream",
     "text": [
      " Finished NSC\n",
      "Downloading data for NTRS...\n"
     ]
    },
    {
     "name": "stderr",
     "output_type": "stream",
     "text": [
      "\n"
     ]
    },
    {
     "name": "stdout",
     "output_type": "stream",
     "text": [
      "Running models for NTRS...\n"
     ]
    },
    {
     "name": "stderr",
     "output_type": "stream",
     "text": [
      "[*********************100%***********************]  1 of 1 completed"
     ]
    },
    {
     "name": "stdout",
     "output_type": "stream",
     "text": [
      " Finished NTRS\n",
      "Downloading data for NOC...\n"
     ]
    },
    {
     "name": "stderr",
     "output_type": "stream",
     "text": [
      "\n"
     ]
    },
    {
     "name": "stdout",
     "output_type": "stream",
     "text": [
      "Running models for NOC...\n"
     ]
    },
    {
     "name": "stderr",
     "output_type": "stream",
     "text": [
      "[*********************100%***********************]  1 of 1 completed"
     ]
    },
    {
     "name": "stdout",
     "output_type": "stream",
     "text": [
      " Finished NOC\n",
      "Downloading data for NCLH...\n",
      "Running models for NCLH...\n"
     ]
    },
    {
     "name": "stderr",
     "output_type": "stream",
     "text": [
      "\n",
      "[*********************100%***********************]  1 of 1 completed"
     ]
    },
    {
     "name": "stdout",
     "output_type": "stream",
     "text": [
      " Finished NCLH\n",
      "Downloading data for NRG...\n",
      "Running models for NRG...\n"
     ]
    },
    {
     "name": "stderr",
     "output_type": "stream",
     "text": [
      "\n",
      "[*********************100%***********************]  1 of 1 completed"
     ]
    },
    {
     "name": "stdout",
     "output_type": "stream",
     "text": [
      " Finished NRG\n",
      "Downloading data for NUE...\n",
      "Running models for NUE...\n"
     ]
    },
    {
     "name": "stderr",
     "output_type": "stream",
     "text": [
      "\n",
      "[*********************100%***********************]  1 of 1 completed"
     ]
    },
    {
     "name": "stdout",
     "output_type": "stream",
     "text": [
      " Finished NUE\n",
      "Downloading data for NVDA...\n",
      "Running models for NVDA...\n"
     ]
    },
    {
     "name": "stderr",
     "output_type": "stream",
     "text": [
      "\n",
      "[*********************100%***********************]  1 of 1 completed"
     ]
    },
    {
     "name": "stdout",
     "output_type": "stream",
     "text": [
      " Finished NVDA\n",
      "Downloading data for NVR...\n",
      "Running models for NVR...\n"
     ]
    },
    {
     "name": "stderr",
     "output_type": "stream",
     "text": [
      "\n",
      "[*********************100%***********************]  1 of 1 completed"
     ]
    },
    {
     "name": "stdout",
     "output_type": "stream",
     "text": [
      " Finished NVR\n",
      "Downloading data for NXPI...\n",
      "Running models for NXPI...\n"
     ]
    },
    {
     "name": "stderr",
     "output_type": "stream",
     "text": [
      "\n",
      "[*********************100%***********************]  1 of 1 completed"
     ]
    },
    {
     "name": "stdout",
     "output_type": "stream",
     "text": [
      " Finished NXPI\n",
      "Downloading data for ORLY...\n",
      "Running models for ORLY...\n"
     ]
    },
    {
     "name": "stderr",
     "output_type": "stream",
     "text": [
      "\n",
      "[*********************100%***********************]  1 of 1 completed"
     ]
    },
    {
     "name": "stdout",
     "output_type": "stream",
     "text": [
      " Finished ORLY\n",
      "Downloading data for OXY...\n",
      "Running models for OXY...\n"
     ]
    },
    {
     "name": "stderr",
     "output_type": "stream",
     "text": [
      "\n",
      "[*********************100%***********************]  1 of 1 completed"
     ]
    },
    {
     "name": "stdout",
     "output_type": "stream",
     "text": [
      " Finished OXY\n",
      "Downloading data for ODFL...\n",
      "Running models for ODFL...\n"
     ]
    },
    {
     "name": "stderr",
     "output_type": "stream",
     "text": [
      "\n",
      "[*********************100%***********************]  1 of 1 completed"
     ]
    },
    {
     "name": "stdout",
     "output_type": "stream",
     "text": [
      " Finished ODFL\n",
      "Downloading data for OMC...\n",
      "Running models for OMC...\n"
     ]
    },
    {
     "name": "stderr",
     "output_type": "stream",
     "text": [
      "\n",
      "[*********************100%***********************]  1 of 1 completed"
     ]
    },
    {
     "name": "stdout",
     "output_type": "stream",
     "text": [
      " Finished OMC\n",
      "Downloading data for ON...\n",
      "Running models for ON...\n"
     ]
    },
    {
     "name": "stderr",
     "output_type": "stream",
     "text": [
      "\n",
      "[*********************100%***********************]  1 of 1 completed"
     ]
    },
    {
     "name": "stdout",
     "output_type": "stream",
     "text": [
      " Finished ON\n",
      "Downloading data for OKE...\n"
     ]
    },
    {
     "name": "stderr",
     "output_type": "stream",
     "text": [
      "\n"
     ]
    },
    {
     "name": "stdout",
     "output_type": "stream",
     "text": [
      "Running models for OKE...\n"
     ]
    },
    {
     "name": "stderr",
     "output_type": "stream",
     "text": [
      "[*********************100%***********************]  1 of 1 completed"
     ]
    },
    {
     "name": "stdout",
     "output_type": "stream",
     "text": [
      " Finished OKE\n",
      "Downloading data for ORCL...\n",
      "Running models for ORCL...\n"
     ]
    },
    {
     "name": "stderr",
     "output_type": "stream",
     "text": [
      "\n",
      "[*********************100%***********************]  1 of 1 completed"
     ]
    },
    {
     "name": "stdout",
     "output_type": "stream",
     "text": [
      " Finished ORCL\n",
      "Downloading data for OTIS...\n",
      "Running models for OTIS...\n"
     ]
    },
    {
     "name": "stderr",
     "output_type": "stream",
     "text": [
      "\n",
      "[*********************100%***********************]  1 of 1 completed"
     ]
    },
    {
     "name": "stdout",
     "output_type": "stream",
     "text": [
      " Finished OTIS\n",
      "Downloading data for PCAR...\n",
      "Running models for PCAR...\n"
     ]
    },
    {
     "name": "stderr",
     "output_type": "stream",
     "text": [
      "\n",
      "[*********************100%***********************]  1 of 1 completed"
     ]
    },
    {
     "name": "stdout",
     "output_type": "stream",
     "text": [
      " Finished PCAR\n",
      "Downloading data for PKG...\n",
      "Running models for PKG...\n"
     ]
    },
    {
     "name": "stderr",
     "output_type": "stream",
     "text": [
      "\n",
      "[*********************100%***********************]  1 of 1 completed"
     ]
    },
    {
     "name": "stdout",
     "output_type": "stream",
     "text": [
      " Finished PKG\n",
      "Downloading data for PLTR...\n",
      "Running models for PLTR...\n"
     ]
    },
    {
     "name": "stderr",
     "output_type": "stream",
     "text": [
      "\n",
      "[*********************100%***********************]  1 of 1 completed"
     ]
    },
    {
     "name": "stdout",
     "output_type": "stream",
     "text": [
      " Finished PLTR\n",
      "Downloading data for PANW...\n",
      "Running models for PANW...\n"
     ]
    },
    {
     "name": "stderr",
     "output_type": "stream",
     "text": [
      "\n",
      "[*********************100%***********************]  1 of 1 completed"
     ]
    },
    {
     "name": "stdout",
     "output_type": "stream",
     "text": [
      " Finished PANW\n",
      "Downloading data for PARA...\n",
      "Running models for PARA...\n"
     ]
    },
    {
     "name": "stderr",
     "output_type": "stream",
     "text": [
      "\n",
      " 72%|███████▏  | 364/503 [04:15<01:33,  1.48it/s]"
     ]
    },
    {
     "name": "stdout",
     "output_type": "stream",
     "text": [
      " Finished PARA\n",
      "Downloading data for PH...\n"
     ]
    },
    {
     "name": "stderr",
     "output_type": "stream",
     "text": [
      "[*********************100%***********************]  1 of 1 completed\n"
     ]
    },
    {
     "name": "stdout",
     "output_type": "stream",
     "text": [
      "Running models for PH...\n"
     ]
    },
    {
     "name": "stderr",
     "output_type": "stream",
     "text": [
      "[*********************100%***********************]  1 of 1 completed"
     ]
    },
    {
     "name": "stdout",
     "output_type": "stream",
     "text": [
      " Finished PH\n",
      "Downloading data for PAYX...\n",
      "Running models for PAYX...\n"
     ]
    },
    {
     "name": "stderr",
     "output_type": "stream",
     "text": [
      "\n",
      "[*********************100%***********************]  1 of 1 completed"
     ]
    },
    {
     "name": "stdout",
     "output_type": "stream",
     "text": [
      " Finished PAYX\n",
      "Downloading data for PAYC...\n",
      "Running models for PAYC...\n"
     ]
    },
    {
     "name": "stderr",
     "output_type": "stream",
     "text": [
      "\n",
      "[*********************100%***********************]  1 of 1 completed"
     ]
    },
    {
     "name": "stdout",
     "output_type": "stream",
     "text": [
      " Finished PAYC\n",
      "Downloading data for PYPL...\n",
      "Running models for PYPL...\n"
     ]
    },
    {
     "name": "stderr",
     "output_type": "stream",
     "text": [
      "\n",
      "[*********************100%***********************]  1 of 1 completed"
     ]
    },
    {
     "name": "stdout",
     "output_type": "stream",
     "text": [
      " Finished PYPL\n",
      "Downloading data for PNR...\n",
      "Running models for PNR...\n"
     ]
    },
    {
     "name": "stderr",
     "output_type": "stream",
     "text": [
      "\n",
      " 73%|███████▎  | 369/503 [04:18<01:31,  1.46it/s]"
     ]
    },
    {
     "name": "stdout",
     "output_type": "stream",
     "text": [
      " Finished PNR\n",
      "Downloading data for PEP...\n"
     ]
    },
    {
     "name": "stderr",
     "output_type": "stream",
     "text": [
      "[*********************100%***********************]  1 of 1 completed\n"
     ]
    },
    {
     "name": "stdout",
     "output_type": "stream",
     "text": [
      "Running models for PEP...\n"
     ]
    },
    {
     "name": "stderr",
     "output_type": "stream",
     "text": [
      "[*********************100%***********************]  1 of 1 completed"
     ]
    },
    {
     "name": "stdout",
     "output_type": "stream",
     "text": [
      " Finished PEP\n",
      "Downloading data for PFE...\n",
      "Running models for PFE...\n"
     ]
    },
    {
     "name": "stderr",
     "output_type": "stream",
     "text": [
      "\n",
      "[*********************100%***********************]  1 of 1 completed"
     ]
    },
    {
     "name": "stdout",
     "output_type": "stream",
     "text": [
      " Finished PFE\n",
      "Downloading data for PCG...\n",
      "Running models for PCG...\n"
     ]
    },
    {
     "name": "stderr",
     "output_type": "stream",
     "text": [
      "\n",
      "[*********************100%***********************]  1 of 1 completed"
     ]
    },
    {
     "name": "stdout",
     "output_type": "stream",
     "text": [
      " Finished PCG\n",
      "Downloading data for PM...\n",
      "Running models for PM...\n"
     ]
    },
    {
     "name": "stderr",
     "output_type": "stream",
     "text": [
      "\n",
      "[*********************100%***********************]  1 of 1 completed"
     ]
    },
    {
     "name": "stdout",
     "output_type": "stream",
     "text": [
      " Finished PM\n",
      "Downloading data for PSX...\n",
      "Running models for PSX...\n"
     ]
    },
    {
     "name": "stderr",
     "output_type": "stream",
     "text": [
      "\n",
      "[*********************100%***********************]  1 of 1 completed"
     ]
    },
    {
     "name": "stdout",
     "output_type": "stream",
     "text": [
      " Finished PSX\n",
      "Downloading data for PNW...\n",
      "Running models for PNW...\n"
     ]
    },
    {
     "name": "stderr",
     "output_type": "stream",
     "text": [
      "\n",
      "[*********************100%***********************]  1 of 1 completed"
     ]
    },
    {
     "name": "stdout",
     "output_type": "stream",
     "text": [
      " Finished PNW\n",
      "Downloading data for PNC...\n",
      "Running models for PNC...\n"
     ]
    },
    {
     "name": "stderr",
     "output_type": "stream",
     "text": [
      "\n",
      " 75%|███████▍  | 376/503 [04:23<01:27,  1.45it/s]"
     ]
    },
    {
     "name": "stdout",
     "output_type": "stream",
     "text": [
      " Finished PNC\n",
      "Downloading data for POOL...\n"
     ]
    },
    {
     "name": "stderr",
     "output_type": "stream",
     "text": [
      "[*********************100%***********************]  1 of 1 completed\n"
     ]
    },
    {
     "name": "stdout",
     "output_type": "stream",
     "text": [
      "Running models for POOL...\n"
     ]
    },
    {
     "name": "stderr",
     "output_type": "stream",
     "text": [
      "[*********************100%***********************]  1 of 1 completed"
     ]
    },
    {
     "name": "stdout",
     "output_type": "stream",
     "text": [
      " Finished POOL\n",
      "Downloading data for PPG...\n",
      "Running models for PPG...\n"
     ]
    },
    {
     "name": "stderr",
     "output_type": "stream",
     "text": [
      "\n",
      "[*********************100%***********************]  1 of 1 completed"
     ]
    },
    {
     "name": "stdout",
     "output_type": "stream",
     "text": [
      " Finished PPG\n",
      "Downloading data for PPL...\n"
     ]
    },
    {
     "name": "stderr",
     "output_type": "stream",
     "text": [
      "\n"
     ]
    },
    {
     "name": "stdout",
     "output_type": "stream",
     "text": [
      "Running models for PPL...\n"
     ]
    },
    {
     "name": "stderr",
     "output_type": "stream",
     "text": [
      "[*********************100%***********************]  1 of 1 completed"
     ]
    },
    {
     "name": "stdout",
     "output_type": "stream",
     "text": [
      " Finished PPL\n",
      "Downloading data for PFG...\n",
      "Running models for PFG...\n"
     ]
    },
    {
     "name": "stderr",
     "output_type": "stream",
     "text": [
      "\n",
      "[*********************100%***********************]  1 of 1 completed"
     ]
    },
    {
     "name": "stdout",
     "output_type": "stream",
     "text": [
      " Finished PFG\n",
      "Downloading data for PG...\n"
     ]
    },
    {
     "name": "stderr",
     "output_type": "stream",
     "text": [
      "\n"
     ]
    },
    {
     "name": "stdout",
     "output_type": "stream",
     "text": [
      "Running models for PG...\n"
     ]
    },
    {
     "name": "stderr",
     "output_type": "stream",
     "text": [
      "[*********************100%***********************]  1 of 1 completed"
     ]
    },
    {
     "name": "stdout",
     "output_type": "stream",
     "text": [
      " Finished PG\n",
      "Downloading data for PGR...\n",
      "Running models for PGR...\n"
     ]
    },
    {
     "name": "stderr",
     "output_type": "stream",
     "text": [
      "\n",
      "[*********************100%***********************]  1 of 1 completed"
     ]
    },
    {
     "name": "stdout",
     "output_type": "stream",
     "text": [
      " Finished PGR\n",
      "Downloading data for PLD...\n",
      "Running models for PLD...\n"
     ]
    },
    {
     "name": "stderr",
     "output_type": "stream",
     "text": [
      "\n",
      "[*********************100%***********************]  1 of 1 completed"
     ]
    },
    {
     "name": "stdout",
     "output_type": "stream",
     "text": [
      " Finished PLD\n",
      "Downloading data for PRU...\n",
      "Running models for PRU...\n"
     ]
    },
    {
     "name": "stderr",
     "output_type": "stream",
     "text": [
      "\n",
      "[*********************100%***********************]  1 of 1 completed"
     ]
    },
    {
     "name": "stdout",
     "output_type": "stream",
     "text": [
      " Finished PRU\n",
      "Downloading data for PEG...\n",
      "Running models for PEG...\n"
     ]
    },
    {
     "name": "stderr",
     "output_type": "stream",
     "text": [
      "\n",
      "[*********************100%***********************]  1 of 1 completed"
     ]
    },
    {
     "name": "stdout",
     "output_type": "stream",
     "text": [
      " Finished PEG\n",
      "Downloading data for PTC...\n",
      "Running models for PTC...\n"
     ]
    },
    {
     "name": "stderr",
     "output_type": "stream",
     "text": [
      "\n",
      "[*********************100%***********************]  1 of 1 completed"
     ]
    },
    {
     "name": "stdout",
     "output_type": "stream",
     "text": [
      " Finished PTC\n",
      "Downloading data for PSA...\n"
     ]
    },
    {
     "name": "stderr",
     "output_type": "stream",
     "text": [
      "\n"
     ]
    },
    {
     "name": "stdout",
     "output_type": "stream",
     "text": [
      "Running models for PSA...\n"
     ]
    },
    {
     "name": "stderr",
     "output_type": "stream",
     "text": [
      "[*********************100%***********************]  1 of 1 completed"
     ]
    },
    {
     "name": "stdout",
     "output_type": "stream",
     "text": [
      " Finished PSA\n",
      "Downloading data for PHM...\n"
     ]
    },
    {
     "name": "stderr",
     "output_type": "stream",
     "text": [
      "\n"
     ]
    },
    {
     "name": "stdout",
     "output_type": "stream",
     "text": [
      "Running models for PHM...\n"
     ]
    },
    {
     "name": "stderr",
     "output_type": "stream",
     "text": [
      "[*********************100%***********************]  1 of 1 completed"
     ]
    },
    {
     "name": "stdout",
     "output_type": "stream",
     "text": [
      " Finished PHM\n",
      "Downloading data for PWR...\n",
      "Running models for PWR...\n"
     ]
    },
    {
     "name": "stderr",
     "output_type": "stream",
     "text": [
      "\n",
      "[*********************100%***********************]  1 of 1 completed"
     ]
    },
    {
     "name": "stdout",
     "output_type": "stream",
     "text": [
      " Finished PWR\n",
      "Downloading data for QCOM...\n",
      "Running models for QCOM...\n"
     ]
    },
    {
     "name": "stderr",
     "output_type": "stream",
     "text": [
      "\n",
      "[*********************100%***********************]  1 of 1 completed"
     ]
    },
    {
     "name": "stdout",
     "output_type": "stream",
     "text": [
      " Finished QCOM\n",
      "Downloading data for DGX...\n",
      "Running models for DGX...\n"
     ]
    },
    {
     "name": "stderr",
     "output_type": "stream",
     "text": [
      "\n",
      "[*********************100%***********************]  1 of 1 completed"
     ]
    },
    {
     "name": "stdout",
     "output_type": "stream",
     "text": [
      " Finished DGX\n",
      "Downloading data for RL...\n",
      "Running models for RL...\n"
     ]
    },
    {
     "name": "stderr",
     "output_type": "stream",
     "text": [
      "\n",
      "[*********************100%***********************]  1 of 1 completed"
     ]
    },
    {
     "name": "stdout",
     "output_type": "stream",
     "text": [
      " Finished RL\n",
      "Downloading data for RJF...\n",
      "Running models for RJF...\n"
     ]
    },
    {
     "name": "stderr",
     "output_type": "stream",
     "text": [
      "\n",
      " 78%|███████▊  | 393/503 [04:35<01:12,  1.53it/s]"
     ]
    },
    {
     "name": "stdout",
     "output_type": "stream",
     "text": [
      " Finished RJF\n",
      "Downloading data for RTX...\n"
     ]
    },
    {
     "name": "stderr",
     "output_type": "stream",
     "text": [
      "[*********************100%***********************]  1 of 1 completed\n"
     ]
    },
    {
     "name": "stdout",
     "output_type": "stream",
     "text": [
      "Running models for RTX...\n"
     ]
    },
    {
     "name": "stderr",
     "output_type": "stream",
     "text": [
      "[*********************100%***********************]  1 of 1 completed"
     ]
    },
    {
     "name": "stdout",
     "output_type": "stream",
     "text": [
      " Finished RTX\n",
      "Downloading data for O...\n"
     ]
    },
    {
     "name": "stderr",
     "output_type": "stream",
     "text": [
      "\n"
     ]
    },
    {
     "name": "stdout",
     "output_type": "stream",
     "text": [
      "Running models for O...\n"
     ]
    },
    {
     "name": "stderr",
     "output_type": "stream",
     "text": [
      "[*********************100%***********************]  1 of 1 completed"
     ]
    },
    {
     "name": "stdout",
     "output_type": "stream",
     "text": [
      " Finished O\n",
      "Downloading data for REG...\n",
      "Running models for REG...\n"
     ]
    },
    {
     "name": "stderr",
     "output_type": "stream",
     "text": [
      "\n",
      " 79%|███████▊  | 396/503 [04:38<01:11,  1.51it/s]"
     ]
    },
    {
     "name": "stdout",
     "output_type": "stream",
     "text": [
      " Finished REG\n",
      "Downloading data for REGN...\n"
     ]
    },
    {
     "name": "stderr",
     "output_type": "stream",
     "text": [
      "[*********************100%***********************]  1 of 1 completed\n"
     ]
    },
    {
     "name": "stdout",
     "output_type": "stream",
     "text": [
      "Running models for REGN...\n"
     ]
    },
    {
     "name": "stderr",
     "output_type": "stream",
     "text": [
      " 79%|███████▉  | 397/503 [04:38<01:13,  1.44it/s]"
     ]
    },
    {
     "name": "stdout",
     "output_type": "stream",
     "text": [
      " Finished REGN\n",
      "Downloading data for RF...\n"
     ]
    },
    {
     "name": "stderr",
     "output_type": "stream",
     "text": [
      "[*********************100%***********************]  1 of 1 completed\n"
     ]
    },
    {
     "name": "stdout",
     "output_type": "stream",
     "text": [
      "Running models for RF...\n"
     ]
    },
    {
     "name": "stderr",
     "output_type": "stream",
     "text": [
      "[*********************100%***********************]  1 of 1 completed"
     ]
    },
    {
     "name": "stdout",
     "output_type": "stream",
     "text": [
      " Finished RF\n",
      "Downloading data for RSG...\n",
      "Running models for RSG...\n"
     ]
    },
    {
     "name": "stderr",
     "output_type": "stream",
     "text": [
      "\n",
      "[*********************100%***********************]  1 of 1 completed"
     ]
    },
    {
     "name": "stdout",
     "output_type": "stream",
     "text": [
      " Finished RSG\n",
      "Downloading data for RMD...\n",
      "Running models for RMD...\n"
     ]
    },
    {
     "name": "stderr",
     "output_type": "stream",
     "text": [
      "\n",
      "[*********************100%***********************]  1 of 1 completed"
     ]
    },
    {
     "name": "stdout",
     "output_type": "stream",
     "text": [
      " Finished RMD\n",
      "Downloading data for RVTY...\n",
      "Running models for RVTY...\n"
     ]
    },
    {
     "name": "stderr",
     "output_type": "stream",
     "text": [
      "\n",
      "[*********************100%***********************]  1 of 1 completed"
     ]
    },
    {
     "name": "stdout",
     "output_type": "stream",
     "text": [
      " Finished RVTY\n",
      "Downloading data for ROK...\n",
      "Running models for ROK...\n"
     ]
    },
    {
     "name": "stderr",
     "output_type": "stream",
     "text": [
      "\n",
      "[*********************100%***********************]  1 of 1 completed"
     ]
    },
    {
     "name": "stdout",
     "output_type": "stream",
     "text": [
      " Finished ROK\n",
      "Downloading data for ROL...\n",
      "Running models for ROL...\n"
     ]
    },
    {
     "name": "stderr",
     "output_type": "stream",
     "text": [
      "\n",
      "[*********************100%***********************]  1 of 1 completed"
     ]
    },
    {
     "name": "stdout",
     "output_type": "stream",
     "text": [
      " Finished ROL\n",
      "Downloading data for ROP...\n",
      "Running models for ROP...\n"
     ]
    },
    {
     "name": "stderr",
     "output_type": "stream",
     "text": [
      "\n",
      "[*********************100%***********************]  1 of 1 completed"
     ]
    },
    {
     "name": "stdout",
     "output_type": "stream",
     "text": [
      " Finished ROP\n",
      "Downloading data for ROST...\n",
      "Running models for ROST...\n"
     ]
    },
    {
     "name": "stderr",
     "output_type": "stream",
     "text": [
      "\n",
      "[*********************100%***********************]  1 of 1 completed"
     ]
    },
    {
     "name": "stdout",
     "output_type": "stream",
     "text": [
      " Finished ROST\n",
      "Downloading data for RCL...\n",
      "Running models for RCL...\n"
     ]
    },
    {
     "name": "stderr",
     "output_type": "stream",
     "text": [
      "\n",
      "[*********************100%***********************]  1 of 1 completed"
     ]
    },
    {
     "name": "stdout",
     "output_type": "stream",
     "text": [
      " Finished RCL\n",
      "Downloading data for SPGI...\n",
      "Running models for SPGI...\n"
     ]
    },
    {
     "name": "stderr",
     "output_type": "stream",
     "text": [
      "\n",
      "[*********************100%***********************]  1 of 1 completed"
     ]
    },
    {
     "name": "stdout",
     "output_type": "stream",
     "text": [
      " Finished SPGI\n",
      "Downloading data for CRM...\n",
      "Running models for CRM...\n"
     ]
    },
    {
     "name": "stderr",
     "output_type": "stream",
     "text": [
      "\n",
      " 81%|████████  | 408/503 [04:45<01:01,  1.55it/s]"
     ]
    },
    {
     "name": "stdout",
     "output_type": "stream",
     "text": [
      " Finished CRM\n",
      "Downloading data for SBAC...\n"
     ]
    },
    {
     "name": "stderr",
     "output_type": "stream",
     "text": [
      "[*********************100%***********************]  1 of 1 completed\n"
     ]
    },
    {
     "name": "stdout",
     "output_type": "stream",
     "text": [
      "Running models for SBAC...\n"
     ]
    },
    {
     "name": "stderr",
     "output_type": "stream",
     "text": [
      "[*********************100%***********************]  1 of 1 completed"
     ]
    },
    {
     "name": "stdout",
     "output_type": "stream",
     "text": [
      " Finished SBAC\n",
      "Downloading data for SLB...\n",
      "Running models for SLB...\n"
     ]
    },
    {
     "name": "stderr",
     "output_type": "stream",
     "text": [
      "\n",
      "[*********************100%***********************]  1 of 1 completed"
     ]
    },
    {
     "name": "stdout",
     "output_type": "stream",
     "text": [
      " Finished SLB\n",
      "Downloading data for STX...\n",
      "Running models for STX...\n"
     ]
    },
    {
     "name": "stderr",
     "output_type": "stream",
     "text": [
      "\n",
      "[*********************100%***********************]  1 of 1 completed"
     ]
    },
    {
     "name": "stdout",
     "output_type": "stream",
     "text": [
      " Finished STX\n",
      "Downloading data for SRE...\n",
      "Running models for SRE...\n"
     ]
    },
    {
     "name": "stderr",
     "output_type": "stream",
     "text": [
      "\n",
      "[*********************100%***********************]  1 of 1 completed"
     ]
    },
    {
     "name": "stdout",
     "output_type": "stream",
     "text": [
      " Finished SRE\n",
      "Downloading data for NOW...\n",
      "Running models for NOW...\n"
     ]
    },
    {
     "name": "stderr",
     "output_type": "stream",
     "text": [
      "\n",
      "[*********************100%***********************]  1 of 1 completed"
     ]
    },
    {
     "name": "stdout",
     "output_type": "stream",
     "text": [
      " Finished NOW\n",
      "Downloading data for SHW...\n",
      "Running models for SHW...\n"
     ]
    },
    {
     "name": "stderr",
     "output_type": "stream",
     "text": [
      "\n",
      "[*********************100%***********************]  1 of 1 completed"
     ]
    },
    {
     "name": "stdout",
     "output_type": "stream",
     "text": [
      " Finished SHW\n",
      "Downloading data for SPG...\n",
      "Running models for SPG...\n"
     ]
    },
    {
     "name": "stderr",
     "output_type": "stream",
     "text": [
      "\n",
      "[*********************100%***********************]  1 of 1 completed"
     ]
    },
    {
     "name": "stdout",
     "output_type": "stream",
     "text": [
      " Finished SPG\n",
      "Downloading data for SWKS...\n",
      "Running models for SWKS...\n"
     ]
    },
    {
     "name": "stderr",
     "output_type": "stream",
     "text": [
      "\n",
      "[*********************100%***********************]  1 of 1 completed"
     ]
    },
    {
     "name": "stdout",
     "output_type": "stream",
     "text": [
      " Finished SWKS\n",
      "Downloading data for SJM...\n",
      "Running models for SJM...\n"
     ]
    },
    {
     "name": "stderr",
     "output_type": "stream",
     "text": [
      "\n",
      "[*********************100%***********************]  1 of 1 completed"
     ]
    },
    {
     "name": "stdout",
     "output_type": "stream",
     "text": [
      " Finished SJM\n",
      "Downloading data for SW...\n",
      "Running models for SW...\n"
     ]
    },
    {
     "name": "stderr",
     "output_type": "stream",
     "text": [
      "\n",
      "[*********************100%***********************]  1 of 1 completed"
     ]
    },
    {
     "name": "stdout",
     "output_type": "stream",
     "text": [
      " Finished SW\n",
      "Downloading data for SNA...\n",
      "Running models for SNA...\n"
     ]
    },
    {
     "name": "stderr",
     "output_type": "stream",
     "text": [
      "\n",
      "[*********************100%***********************]  1 of 1 completed"
     ]
    },
    {
     "name": "stdout",
     "output_type": "stream",
     "text": [
      " Finished SNA\n",
      "Downloading data for SOLV...\n",
      "Running models for SOLV...\n"
     ]
    },
    {
     "name": "stderr",
     "output_type": "stream",
     "text": [
      "\n",
      "[*********************100%***********************]  1 of 1 completed"
     ]
    },
    {
     "name": "stdout",
     "output_type": "stream",
     "text": [
      " Finished SOLV\n",
      "Downloading data for SO...\n",
      "Running models for SO...\n"
     ]
    },
    {
     "name": "stderr",
     "output_type": "stream",
     "text": [
      "\n",
      "[*********************100%***********************]  1 of 1 completed"
     ]
    },
    {
     "name": "stdout",
     "output_type": "stream",
     "text": [
      " Finished SO\n",
      "Downloading data for LUV...\n",
      "Running models for LUV...\n"
     ]
    },
    {
     "name": "stderr",
     "output_type": "stream",
     "text": [
      "\n",
      " 84%|████████▍ | 422/503 [04:54<00:51,  1.59it/s]"
     ]
    },
    {
     "name": "stdout",
     "output_type": "stream",
     "text": [
      " Finished LUV\n",
      "Downloading data for SWK...\n"
     ]
    },
    {
     "name": "stderr",
     "output_type": "stream",
     "text": [
      "[*********************100%***********************]  1 of 1 completed\n"
     ]
    },
    {
     "name": "stdout",
     "output_type": "stream",
     "text": [
      "Running models for SWK...\n"
     ]
    },
    {
     "name": "stderr",
     "output_type": "stream",
     "text": [
      "[*********************100%***********************]  1 of 1 completed"
     ]
    },
    {
     "name": "stdout",
     "output_type": "stream",
     "text": [
      " Finished SWK\n",
      "Downloading data for SBUX...\n",
      "Running models for SBUX...\n"
     ]
    },
    {
     "name": "stderr",
     "output_type": "stream",
     "text": [
      "\n",
      "[*********************100%***********************]  1 of 1 completed"
     ]
    },
    {
     "name": "stdout",
     "output_type": "stream",
     "text": [
      " Finished SBUX\n",
      "Downloading data for STT...\n",
      "Running models for STT...\n"
     ]
    },
    {
     "name": "stderr",
     "output_type": "stream",
     "text": [
      "\n",
      "[*********************100%***********************]  1 of 1 completed"
     ]
    },
    {
     "name": "stdout",
     "output_type": "stream",
     "text": [
      " Finished STT\n",
      "Downloading data for STLD...\n",
      "Running models for STLD...\n"
     ]
    },
    {
     "name": "stderr",
     "output_type": "stream",
     "text": [
      "\n",
      "[*********************100%***********************]  1 of 1 completed"
     ]
    },
    {
     "name": "stdout",
     "output_type": "stream",
     "text": [
      " Finished STLD\n",
      "Downloading data for STE...\n",
      "Running models for STE...\n"
     ]
    },
    {
     "name": "stderr",
     "output_type": "stream",
     "text": [
      "\n",
      "[*********************100%***********************]  1 of 1 completed"
     ]
    },
    {
     "name": "stdout",
     "output_type": "stream",
     "text": [
      " Finished STE\n",
      "Downloading data for SYK...\n",
      "Running models for SYK...\n"
     ]
    },
    {
     "name": "stderr",
     "output_type": "stream",
     "text": [
      "\n",
      "[*********************100%***********************]  1 of 1 completed"
     ]
    },
    {
     "name": "stdout",
     "output_type": "stream",
     "text": [
      " Finished SYK\n",
      "Downloading data for SMCI...\n",
      "Running models for SMCI...\n"
     ]
    },
    {
     "name": "stderr",
     "output_type": "stream",
     "text": [
      "\n",
      " 85%|████████▌ | 429/503 [05:00<00:57,  1.29it/s]"
     ]
    },
    {
     "name": "stdout",
     "output_type": "stream",
     "text": [
      " Finished SMCI\n",
      "Downloading data for SYF...\n"
     ]
    },
    {
     "name": "stderr",
     "output_type": "stream",
     "text": [
      "[*********************100%***********************]  1 of 1 completed\n"
     ]
    },
    {
     "name": "stdout",
     "output_type": "stream",
     "text": [
      "Running models for SYF...\n"
     ]
    },
    {
     "name": "stderr",
     "output_type": "stream",
     "text": [
      "[*********************100%***********************]  1 of 1 completed"
     ]
    },
    {
     "name": "stdout",
     "output_type": "stream",
     "text": [
      " Finished SYF\n",
      "Downloading data for SNPS...\n",
      "Running models for SNPS...\n"
     ]
    },
    {
     "name": "stderr",
     "output_type": "stream",
     "text": [
      "\n",
      "[*********************100%***********************]  1 of 1 completed"
     ]
    },
    {
     "name": "stdout",
     "output_type": "stream",
     "text": [
      " Finished SNPS\n",
      "Downloading data for SYY...\n"
     ]
    },
    {
     "name": "stderr",
     "output_type": "stream",
     "text": [
      "\n"
     ]
    },
    {
     "name": "stdout",
     "output_type": "stream",
     "text": [
      "Running models for SYY...\n"
     ]
    },
    {
     "name": "stderr",
     "output_type": "stream",
     "text": [
      "[*********************100%***********************]  1 of 1 completed"
     ]
    },
    {
     "name": "stdout",
     "output_type": "stream",
     "text": [
      " Finished SYY\n",
      "Downloading data for TMUS...\n",
      "Running models for TMUS...\n"
     ]
    },
    {
     "name": "stderr",
     "output_type": "stream",
     "text": [
      "\n",
      "[*********************100%***********************]  1 of 1 completed"
     ]
    },
    {
     "name": "stdout",
     "output_type": "stream",
     "text": [
      " Finished TMUS\n",
      "Downloading data for TROW...\n",
      "Running models for TROW...\n"
     ]
    },
    {
     "name": "stderr",
     "output_type": "stream",
     "text": [
      "\n",
      "[*********************100%***********************]  1 of 1 completed"
     ]
    },
    {
     "name": "stdout",
     "output_type": "stream",
     "text": [
      " Finished TROW\n",
      "Downloading data for TTWO...\n",
      "Running models for TTWO...\n"
     ]
    },
    {
     "name": "stderr",
     "output_type": "stream",
     "text": [
      "\n",
      "[*********************100%***********************]  1 of 1 completed"
     ]
    },
    {
     "name": "stdout",
     "output_type": "stream",
     "text": [
      " Finished TTWO\n",
      "Downloading data for TPR...\n",
      "Running models for TPR...\n"
     ]
    },
    {
     "name": "stderr",
     "output_type": "stream",
     "text": [
      "\n",
      "[*********************100%***********************]  1 of 1 completed"
     ]
    },
    {
     "name": "stdout",
     "output_type": "stream",
     "text": [
      " Finished TPR\n",
      "Downloading data for TRGP...\n",
      "Running models for TRGP...\n"
     ]
    },
    {
     "name": "stderr",
     "output_type": "stream",
     "text": [
      "\n",
      "[*********************100%***********************]  1 of 1 completed"
     ]
    },
    {
     "name": "stdout",
     "output_type": "stream",
     "text": [
      " Finished TRGP\n",
      "Downloading data for TGT...\n",
      "Running models for TGT...\n"
     ]
    },
    {
     "name": "stderr",
     "output_type": "stream",
     "text": [
      "\n",
      "[*********************100%***********************]  1 of 1 completed"
     ]
    },
    {
     "name": "stdout",
     "output_type": "stream",
     "text": [
      " Finished TGT\n",
      "Downloading data for TEL...\n",
      "Running models for TEL...\n"
     ]
    },
    {
     "name": "stderr",
     "output_type": "stream",
     "text": [
      "\n",
      "[*********************100%***********************]  1 of 1 completed"
     ]
    },
    {
     "name": "stdout",
     "output_type": "stream",
     "text": [
      " Finished TEL\n",
      "Downloading data for TDY...\n",
      "Running models for TDY...\n"
     ]
    },
    {
     "name": "stderr",
     "output_type": "stream",
     "text": [
      "\n",
      "[*********************100%***********************]  1 of 1 completed"
     ]
    },
    {
     "name": "stdout",
     "output_type": "stream",
     "text": [
      " Finished TDY\n",
      "Downloading data for TFX...\n",
      "Running models for TFX...\n"
     ]
    },
    {
     "name": "stderr",
     "output_type": "stream",
     "text": [
      "\n",
      "[*********************100%***********************]  1 of 1 completed"
     ]
    },
    {
     "name": "stdout",
     "output_type": "stream",
     "text": [
      " Finished TFX\n",
      "Downloading data for TER...\n",
      "Running models for TER...\n"
     ]
    },
    {
     "name": "stderr",
     "output_type": "stream",
     "text": [
      "\n",
      "[*********************100%***********************]  1 of 1 completed"
     ]
    },
    {
     "name": "stdout",
     "output_type": "stream",
     "text": [
      " Finished TER\n",
      "Downloading data for TSLA...\n",
      "Running models for TSLA...\n"
     ]
    },
    {
     "name": "stderr",
     "output_type": "stream",
     "text": [
      "\n",
      " 88%|████████▊ | 443/503 [05:12<00:45,  1.33it/s]"
     ]
    },
    {
     "name": "stdout",
     "output_type": "stream",
     "text": [
      " Finished TSLA\n",
      "Downloading data for TXN...\n"
     ]
    },
    {
     "name": "stderr",
     "output_type": "stream",
     "text": [
      "[*********************100%***********************]  1 of 1 completed\n"
     ]
    },
    {
     "name": "stdout",
     "output_type": "stream",
     "text": [
      "Running models for TXN...\n"
     ]
    },
    {
     "name": "stderr",
     "output_type": "stream",
     "text": [
      "[*********************100%***********************]  1 of 1 completed"
     ]
    },
    {
     "name": "stdout",
     "output_type": "stream",
     "text": [
      " Finished TXN\n",
      "Downloading data for TPL...\n",
      "Running models for TPL...\n"
     ]
    },
    {
     "name": "stderr",
     "output_type": "stream",
     "text": [
      "\n",
      "[*********************100%***********************]  1 of 1 completed\n"
     ]
    },
    {
     "name": "stdout",
     "output_type": "stream",
     "text": [
      " Finished TPL\n",
      "Downloading data for TXT...\n",
      "Running models for TXT...\n"
     ]
    },
    {
     "name": "stderr",
     "output_type": "stream",
     "text": [
      "[*********************100%***********************]  1 of 1 completed"
     ]
    },
    {
     "name": "stdout",
     "output_type": "stream",
     "text": [
      " Finished TXT\n",
      "Downloading data for TMO...\n",
      "Running models for TMO...\n"
     ]
    },
    {
     "name": "stderr",
     "output_type": "stream",
     "text": [
      "\n",
      "[*********************100%***********************]  1 of 1 completed"
     ]
    },
    {
     "name": "stdout",
     "output_type": "stream",
     "text": [
      " Finished TMO\n",
      "Downloading data for TJX...\n",
      "Running models for TJX...\n"
     ]
    },
    {
     "name": "stderr",
     "output_type": "stream",
     "text": [
      "\n",
      "[*********************100%***********************]  1 of 1 completed"
     ]
    },
    {
     "name": "stdout",
     "output_type": "stream",
     "text": [
      " Finished TJX\n",
      "Downloading data for TSCO...\n"
     ]
    },
    {
     "name": "stderr",
     "output_type": "stream",
     "text": [
      "\n"
     ]
    },
    {
     "name": "stdout",
     "output_type": "stream",
     "text": [
      "Running models for TSCO...\n"
     ]
    },
    {
     "name": "stderr",
     "output_type": "stream",
     "text": [
      "[*********************100%***********************]  1 of 1 completed"
     ]
    },
    {
     "name": "stdout",
     "output_type": "stream",
     "text": [
      " Finished TSCO\n",
      "Downloading data for TT...\n",
      "Running models for TT...\n"
     ]
    },
    {
     "name": "stderr",
     "output_type": "stream",
     "text": [
      "\n",
      "[*********************100%***********************]  1 of 1 completed"
     ]
    },
    {
     "name": "stdout",
     "output_type": "stream",
     "text": [
      " Finished TT\n",
      "Downloading data for TDG...\n",
      "Running models for TDG...\n"
     ]
    },
    {
     "name": "stderr",
     "output_type": "stream",
     "text": [
      "\n",
      " 90%|████████▉ | 451/503 [05:19<00:41,  1.25it/s]"
     ]
    },
    {
     "name": "stdout",
     "output_type": "stream",
     "text": [
      " Finished TDG\n",
      "Downloading data for TRV...\n"
     ]
    },
    {
     "name": "stderr",
     "output_type": "stream",
     "text": [
      "[*********************100%***********************]  1 of 1 completed\n"
     ]
    },
    {
     "name": "stdout",
     "output_type": "stream",
     "text": [
      "Running models for TRV...\n"
     ]
    },
    {
     "name": "stderr",
     "output_type": "stream",
     "text": [
      "[*********************100%***********************]  1 of 1 completed"
     ]
    },
    {
     "name": "stdout",
     "output_type": "stream",
     "text": [
      " Finished TRV\n",
      "Downloading data for TRMB...\n",
      "Running models for TRMB...\n"
     ]
    },
    {
     "name": "stderr",
     "output_type": "stream",
     "text": [
      "\n",
      "[*********************100%***********************]  1 of 1 completed"
     ]
    },
    {
     "name": "stdout",
     "output_type": "stream",
     "text": [
      " Finished TRMB\n",
      "Downloading data for TFC...\n",
      "Running models for TFC...\n"
     ]
    },
    {
     "name": "stderr",
     "output_type": "stream",
     "text": [
      "\n",
      "[*********************100%***********************]  1 of 1 completed"
     ]
    },
    {
     "name": "stdout",
     "output_type": "stream",
     "text": [
      " Finished TFC\n",
      "Downloading data for TYL...\n"
     ]
    },
    {
     "name": "stderr",
     "output_type": "stream",
     "text": [
      "\n"
     ]
    },
    {
     "name": "stdout",
     "output_type": "stream",
     "text": [
      "Running models for TYL...\n"
     ]
    },
    {
     "name": "stderr",
     "output_type": "stream",
     "text": [
      " 90%|█████████ | 455/503 [05:22<00:37,  1.27it/s]"
     ]
    },
    {
     "name": "stdout",
     "output_type": "stream",
     "text": [
      " Finished TYL\n",
      "Downloading data for TSN...\n"
     ]
    },
    {
     "name": "stderr",
     "output_type": "stream",
     "text": [
      "[*********************100%***********************]  1 of 1 completed\n"
     ]
    },
    {
     "name": "stdout",
     "output_type": "stream",
     "text": [
      "Running models for TSN...\n"
     ]
    },
    {
     "name": "stderr",
     "output_type": "stream",
     "text": [
      " 91%|█████████ | 456/503 [05:23<00:40,  1.16it/s]"
     ]
    },
    {
     "name": "stdout",
     "output_type": "stream",
     "text": [
      " Finished TSN\n",
      "Downloading data for USB...\n"
     ]
    },
    {
     "name": "stderr",
     "output_type": "stream",
     "text": [
      "[*********************100%***********************]  1 of 1 completed\n"
     ]
    },
    {
     "name": "stdout",
     "output_type": "stream",
     "text": [
      "Running models for USB...\n"
     ]
    },
    {
     "name": "stderr",
     "output_type": "stream",
     "text": [
      "[*********************100%***********************]  1 of 1 completed"
     ]
    },
    {
     "name": "stdout",
     "output_type": "stream",
     "text": [
      " Finished USB\n",
      "Downloading data for UBER...\n",
      "Running models for UBER...\n"
     ]
    },
    {
     "name": "stderr",
     "output_type": "stream",
     "text": [
      "\n",
      " 91%|█████████ | 458/503 [05:24<00:37,  1.20it/s]"
     ]
    },
    {
     "name": "stdout",
     "output_type": "stream",
     "text": [
      " Finished UBER\n",
      "Downloading data for UDR...\n"
     ]
    },
    {
     "name": "stderr",
     "output_type": "stream",
     "text": [
      "[*********************100%***********************]  1 of 1 completed\n"
     ]
    },
    {
     "name": "stdout",
     "output_type": "stream",
     "text": [
      "Running models for UDR...\n"
     ]
    },
    {
     "name": "stderr",
     "output_type": "stream",
     "text": [
      "[*********************100%***********************]  1 of 1 completed"
     ]
    },
    {
     "name": "stdout",
     "output_type": "stream",
     "text": [
      " Finished UDR\n",
      "Downloading data for ULTA...\n",
      "Running models for ULTA...\n"
     ]
    },
    {
     "name": "stderr",
     "output_type": "stream",
     "text": [
      "\n",
      "[*********************100%***********************]  1 of 1 completed"
     ]
    },
    {
     "name": "stdout",
     "output_type": "stream",
     "text": [
      " Finished ULTA\n",
      "Downloading data for UNP...\n"
     ]
    },
    {
     "name": "stderr",
     "output_type": "stream",
     "text": [
      "\n"
     ]
    },
    {
     "name": "stdout",
     "output_type": "stream",
     "text": [
      "Running models for UNP...\n"
     ]
    },
    {
     "name": "stderr",
     "output_type": "stream",
     "text": [
      "[*********************100%***********************]  1 of 1 completed"
     ]
    },
    {
     "name": "stdout",
     "output_type": "stream",
     "text": [
      " Finished UNP\n",
      "Downloading data for UAL...\n",
      "Running models for UAL...\n"
     ]
    },
    {
     "name": "stderr",
     "output_type": "stream",
     "text": [
      "\n",
      "[*********************100%***********************]  1 of 1 completed"
     ]
    },
    {
     "name": "stdout",
     "output_type": "stream",
     "text": [
      " Finished UAL\n",
      "Downloading data for UPS...\n",
      "Running models for UPS...\n"
     ]
    },
    {
     "name": "stderr",
     "output_type": "stream",
     "text": [
      "\n",
      "[*********************100%***********************]  1 of 1 completed"
     ]
    },
    {
     "name": "stdout",
     "output_type": "stream",
     "text": [
      " Finished UPS\n",
      "Downloading data for URI...\n",
      "Running models for URI...\n"
     ]
    },
    {
     "name": "stderr",
     "output_type": "stream",
     "text": [
      "\n",
      "[*********************100%***********************]  1 of 1 completed"
     ]
    },
    {
     "name": "stdout",
     "output_type": "stream",
     "text": [
      " Finished URI\n",
      "Downloading data for UNH...\n",
      "Running models for UNH...\n"
     ]
    },
    {
     "name": "stderr",
     "output_type": "stream",
     "text": [
      "\n",
      " 92%|█████████▏| 465/503 [05:30<00:30,  1.25it/s]"
     ]
    },
    {
     "name": "stdout",
     "output_type": "stream",
     "text": [
      " Finished UNH\n",
      "Downloading data for UHS...\n"
     ]
    },
    {
     "name": "stderr",
     "output_type": "stream",
     "text": [
      "[*********************100%***********************]  1 of 1 completed\n"
     ]
    },
    {
     "name": "stdout",
     "output_type": "stream",
     "text": [
      "Running models for UHS...\n"
     ]
    },
    {
     "name": "stderr",
     "output_type": "stream",
     "text": [
      "[*********************100%***********************]  1 of 1 completed"
     ]
    },
    {
     "name": "stdout",
     "output_type": "stream",
     "text": [
      " Finished UHS\n",
      "Downloading data for VLO...\n",
      "Running models for VLO...\n"
     ]
    },
    {
     "name": "stderr",
     "output_type": "stream",
     "text": [
      "\n",
      "[*********************100%***********************]  1 of 1 completed"
     ]
    },
    {
     "name": "stdout",
     "output_type": "stream",
     "text": [
      " Finished VLO\n",
      "Downloading data for VTR...\n",
      "Running models for VTR...\n"
     ]
    },
    {
     "name": "stderr",
     "output_type": "stream",
     "text": [
      "\n",
      "[*********************100%***********************]  1 of 1 completed"
     ]
    },
    {
     "name": "stdout",
     "output_type": "stream",
     "text": [
      " Finished VTR\n",
      "Downloading data for VLTO...\n",
      "Running models for VLTO...\n"
     ]
    },
    {
     "name": "stderr",
     "output_type": "stream",
     "text": [
      "\n",
      "[*********************100%***********************]  1 of 1 completed"
     ]
    },
    {
     "name": "stdout",
     "output_type": "stream",
     "text": [
      " Finished VLTO\n",
      "Downloading data for VRSN...\n",
      "Running models for VRSN...\n"
     ]
    },
    {
     "name": "stderr",
     "output_type": "stream",
     "text": [
      "\n",
      "[*********************100%***********************]  1 of 1 completed"
     ]
    },
    {
     "name": "stdout",
     "output_type": "stream",
     "text": [
      " Finished VRSN\n",
      "Downloading data for VRSK...\n",
      "Running models for VRSK...\n"
     ]
    },
    {
     "name": "stderr",
     "output_type": "stream",
     "text": [
      "\n",
      "[*********************100%***********************]  1 of 1 completed"
     ]
    },
    {
     "name": "stdout",
     "output_type": "stream",
     "text": [
      " Finished VRSK\n",
      "Downloading data for VZ...\n",
      "Running models for VZ...\n"
     ]
    },
    {
     "name": "stderr",
     "output_type": "stream",
     "text": [
      "\n",
      "[*********************100%***********************]  1 of 1 completed"
     ]
    },
    {
     "name": "stdout",
     "output_type": "stream",
     "text": [
      " Finished VZ\n",
      "Downloading data for VRTX...\n",
      "Running models for VRTX...\n"
     ]
    },
    {
     "name": "stderr",
     "output_type": "stream",
     "text": [
      "\n",
      "[*********************100%***********************]  1 of 1 completed"
     ]
    },
    {
     "name": "stdout",
     "output_type": "stream",
     "text": [
      " Finished VRTX\n",
      "Downloading data for VTRS...\n",
      "Running models for VTRS...\n"
     ]
    },
    {
     "name": "stderr",
     "output_type": "stream",
     "text": [
      "\n",
      "[*********************100%***********************]  1 of 1 completed"
     ]
    },
    {
     "name": "stdout",
     "output_type": "stream",
     "text": [
      " Finished VTRS\n",
      "Downloading data for VICI...\n",
      "Running models for VICI...\n"
     ]
    },
    {
     "name": "stderr",
     "output_type": "stream",
     "text": [
      "\n",
      "[*********************100%***********************]  1 of 1 completed"
     ]
    },
    {
     "name": "stdout",
     "output_type": "stream",
     "text": [
      " Finished VICI\n",
      "Downloading data for V...\n",
      "Running models for V...\n"
     ]
    },
    {
     "name": "stderr",
     "output_type": "stream",
     "text": [
      "\n",
      "[*********************100%***********************]  1 of 1 completed"
     ]
    },
    {
     "name": "stdout",
     "output_type": "stream",
     "text": [
      " Finished V\n",
      "Downloading data for VST...\n",
      "Running models for VST...\n"
     ]
    },
    {
     "name": "stderr",
     "output_type": "stream",
     "text": [
      "\n",
      "[*********************100%***********************]  1 of 1 completed"
     ]
    },
    {
     "name": "stdout",
     "output_type": "stream",
     "text": [
      " Finished VST\n",
      "Downloading data for VMC...\n",
      "Running models for VMC...\n"
     ]
    },
    {
     "name": "stderr",
     "output_type": "stream",
     "text": [
      "\n",
      "[*********************100%***********************]  1 of 1 completed"
     ]
    },
    {
     "name": "stdout",
     "output_type": "stream",
     "text": [
      " Finished VMC\n",
      "Downloading data for WRB...\n",
      "Running models for WRB...\n"
     ]
    },
    {
     "name": "stderr",
     "output_type": "stream",
     "text": [
      "\n",
      " 95%|█████████▌| 479/503 [05:42<00:21,  1.12it/s]"
     ]
    },
    {
     "name": "stdout",
     "output_type": "stream",
     "text": [
      " Finished WRB\n",
      "Downloading data for GWW...\n"
     ]
    },
    {
     "name": "stderr",
     "output_type": "stream",
     "text": [
      "[*********************100%***********************]  1 of 1 completed\n"
     ]
    },
    {
     "name": "stdout",
     "output_type": "stream",
     "text": [
      "Running models for GWW...\n"
     ]
    },
    {
     "name": "stderr",
     "output_type": "stream",
     "text": [
      "[*********************100%***********************]  1 of 1 completed"
     ]
    },
    {
     "name": "stdout",
     "output_type": "stream",
     "text": [
      " Finished GWW\n",
      "Downloading data for WAB...\n",
      "Running models for WAB...\n"
     ]
    },
    {
     "name": "stderr",
     "output_type": "stream",
     "text": [
      "\n",
      "[*********************100%***********************]  1 of 1 completed"
     ]
    },
    {
     "name": "stdout",
     "output_type": "stream",
     "text": [
      " Finished WAB\n",
      "Downloading data for WBA...\n"
     ]
    },
    {
     "name": "stderr",
     "output_type": "stream",
     "text": [
      "\n"
     ]
    },
    {
     "name": "stdout",
     "output_type": "stream",
     "text": [
      "Running models for WBA...\n"
     ]
    },
    {
     "name": "stderr",
     "output_type": "stream",
     "text": [
      "[*********************100%***********************]  1 of 1 completed"
     ]
    },
    {
     "name": "stdout",
     "output_type": "stream",
     "text": [
      " Finished WBA\n",
      "Downloading data for WMT...\n"
     ]
    },
    {
     "name": "stderr",
     "output_type": "stream",
     "text": [
      "\n"
     ]
    },
    {
     "name": "stdout",
     "output_type": "stream",
     "text": [
      "Running models for WMT...\n"
     ]
    },
    {
     "name": "stderr",
     "output_type": "stream",
     "text": [
      "[*********************100%***********************]  1 of 1 completed"
     ]
    },
    {
     "name": "stdout",
     "output_type": "stream",
     "text": [
      " Finished WMT\n",
      "Downloading data for DIS...\n",
      "Running models for DIS...\n"
     ]
    },
    {
     "name": "stderr",
     "output_type": "stream",
     "text": [
      "\n",
      "[*********************100%***********************]  1 of 1 completed"
     ]
    },
    {
     "name": "stdout",
     "output_type": "stream",
     "text": [
      " Finished DIS\n",
      "Downloading data for WBD...\n",
      "Running models for WBD...\n"
     ]
    },
    {
     "name": "stderr",
     "output_type": "stream",
     "text": [
      "\n",
      "[*********************100%***********************]  1 of 1 completed"
     ]
    },
    {
     "name": "stdout",
     "output_type": "stream",
     "text": [
      " Finished WBD\n",
      "Downloading data for WM...\n",
      "Running models for WM...\n"
     ]
    },
    {
     "name": "stderr",
     "output_type": "stream",
     "text": [
      "\n",
      "[*********************100%***********************]  1 of 1 completed"
     ]
    },
    {
     "name": "stdout",
     "output_type": "stream",
     "text": [
      " Finished WM\n",
      "Downloading data for WAT...\n",
      "Running models for WAT...\n"
     ]
    },
    {
     "name": "stderr",
     "output_type": "stream",
     "text": [
      "\n",
      "[*********************100%***********************]  1 of 1 completed"
     ]
    },
    {
     "name": "stdout",
     "output_type": "stream",
     "text": [
      " Finished WAT\n",
      "Downloading data for WEC...\n",
      "Running models for WEC...\n"
     ]
    },
    {
     "name": "stderr",
     "output_type": "stream",
     "text": [
      "\n",
      "[*********************100%***********************]  1 of 1 completed"
     ]
    },
    {
     "name": "stdout",
     "output_type": "stream",
     "text": [
      " Finished WEC\n",
      "Downloading data for WFC...\n",
      "Running models for WFC...\n"
     ]
    },
    {
     "name": "stderr",
     "output_type": "stream",
     "text": [
      "\n",
      "[*********************100%***********************]  1 of 1 completed"
     ]
    },
    {
     "name": "stdout",
     "output_type": "stream",
     "text": [
      " Finished WFC\n",
      "Downloading data for WELL...\n",
      "Running models for WELL...\n"
     ]
    },
    {
     "name": "stderr",
     "output_type": "stream",
     "text": [
      "\n",
      "[*********************100%***********************]  1 of 1 completed"
     ]
    },
    {
     "name": "stdout",
     "output_type": "stream",
     "text": [
      " Finished WELL\n",
      "Downloading data for WST...\n"
     ]
    },
    {
     "name": "stderr",
     "output_type": "stream",
     "text": [
      "\n"
     ]
    },
    {
     "name": "stdout",
     "output_type": "stream",
     "text": [
      "Running models for WST...\n"
     ]
    },
    {
     "name": "stderr",
     "output_type": "stream",
     "text": [
      "[*********************100%***********************]  1 of 1 completed"
     ]
    },
    {
     "name": "stdout",
     "output_type": "stream",
     "text": [
      " Finished WST\n",
      "Downloading data for WDC...\n",
      "Running models for WDC...\n"
     ]
    },
    {
     "name": "stderr",
     "output_type": "stream",
     "text": [
      "\n",
      "[*********************100%***********************]  1 of 1 completed"
     ]
    },
    {
     "name": "stdout",
     "output_type": "stream",
     "text": [
      " Finished WDC\n",
      "Downloading data for WY...\n",
      "Running models for WY...\n"
     ]
    },
    {
     "name": "stderr",
     "output_type": "stream",
     "text": [
      "\n",
      "[*********************100%***********************]  1 of 1 completed"
     ]
    },
    {
     "name": "stdout",
     "output_type": "stream",
     "text": [
      " Finished WY\n",
      "Downloading data for WMB...\n"
     ]
    },
    {
     "name": "stderr",
     "output_type": "stream",
     "text": [
      "\n"
     ]
    },
    {
     "name": "stdout",
     "output_type": "stream",
     "text": [
      "Running models for WMB...\n"
     ]
    },
    {
     "name": "stderr",
     "output_type": "stream",
     "text": [
      "[*********************100%***********************]  1 of 1 completed"
     ]
    },
    {
     "name": "stdout",
     "output_type": "stream",
     "text": [
      " Finished WMB\n",
      "Downloading data for WTW...\n",
      "Running models for WTW...\n"
     ]
    },
    {
     "name": "stderr",
     "output_type": "stream",
     "text": [
      "\n",
      "[*********************100%***********************]  1 of 1 completed\n"
     ]
    },
    {
     "name": "stdout",
     "output_type": "stream",
     "text": [
      " Finished WTW\n",
      "Downloading data for WDAY...\n",
      "Running models for WDAY...\n"
     ]
    },
    {
     "name": "stderr",
     "output_type": "stream",
     "text": [
      "[*********************100%***********************]  1 of 1 completed"
     ]
    },
    {
     "name": "stdout",
     "output_type": "stream",
     "text": [
      " Finished WDAY\n",
      "Downloading data for WYNN...\n",
      "Running models for WYNN...\n"
     ]
    },
    {
     "name": "stderr",
     "output_type": "stream",
     "text": [
      "\n",
      "[*********************100%***********************]  1 of 1 completed"
     ]
    },
    {
     "name": "stdout",
     "output_type": "stream",
     "text": [
      " Finished WYNN\n",
      "Downloading data for XEL...\n",
      "Running models for XEL...\n"
     ]
    },
    {
     "name": "stderr",
     "output_type": "stream",
     "text": [
      "\n",
      "[*********************100%***********************]  1 of 1 completed"
     ]
    },
    {
     "name": "stdout",
     "output_type": "stream",
     "text": [
      " Finished XEL\n",
      "Downloading data for XYL...\n",
      "Running models for XYL...\n"
     ]
    },
    {
     "name": "stderr",
     "output_type": "stream",
     "text": [
      "\n",
      "[*********************100%***********************]  1 of 1 completed"
     ]
    },
    {
     "name": "stdout",
     "output_type": "stream",
     "text": [
      " Finished XYL\n",
      "Downloading data for YUM...\n",
      "Running models for YUM...\n"
     ]
    },
    {
     "name": "stderr",
     "output_type": "stream",
     "text": [
      "\n",
      " 99%|█████████▉| 500/503 [05:59<00:02,  1.29it/s]"
     ]
    },
    {
     "name": "stdout",
     "output_type": "stream",
     "text": [
      " Finished YUM\n",
      "Downloading data for ZBRA...\n"
     ]
    },
    {
     "name": "stderr",
     "output_type": "stream",
     "text": [
      "[*********************100%***********************]  1 of 1 completed\n"
     ]
    },
    {
     "name": "stdout",
     "output_type": "stream",
     "text": [
      "Running models for ZBRA...\n"
     ]
    },
    {
     "name": "stderr",
     "output_type": "stream",
     "text": [
      "[*********************100%***********************]  1 of 1 completed"
     ]
    },
    {
     "name": "stdout",
     "output_type": "stream",
     "text": [
      " Finished ZBRA\n",
      "Downloading data for ZBH...\n",
      "Running models for ZBH...\n"
     ]
    },
    {
     "name": "stderr",
     "output_type": "stream",
     "text": [
      "\n",
      "[*********************100%***********************]  1 of 1 completed"
     ]
    },
    {
     "name": "stdout",
     "output_type": "stream",
     "text": [
      " Finished ZBH\n",
      "Downloading data for ZTS...\n",
      "Running models for ZTS...\n"
     ]
    },
    {
     "name": "stderr",
     "output_type": "stream",
     "text": [
      "\n",
      "100%|██████████| 503/503 [06:01<00:00,  1.39it/s]"
     ]
    },
    {
     "name": "stdout",
     "output_type": "stream",
     "text": [
      " Finished ZTS\n"
     ]
    },
    {
     "name": "stderr",
     "output_type": "stream",
     "text": [
      "\n"
     ]
    }
   ],
   "source": [
    "from tqdm import tqdm  # optional, shows progress bar\n",
    "\n",
    "all_results = []\n",
    "\n",
    "for _, row in tqdm(sp_df.iterrows(), total=len(sp_df)):\n",
    "    symbol = row['Symbol']\n",
    "    sector = row['GICS Sector']\n",
    "    results = run_all_models_for_ticker(symbol, sector=sector)\n",
    "    all_results.extend(results)\n"
   ]
  },
  {
   "cell_type": "code",
   "execution_count": 156,
   "metadata": {},
   "outputs": [
    {
     "data": {
      "text/html": [
       "<div>\n",
       "<style scoped>\n",
       "    .dataframe tbody tr th:only-of-type {\n",
       "        vertical-align: middle;\n",
       "    }\n",
       "\n",
       "    .dataframe tbody tr th {\n",
       "        vertical-align: top;\n",
       "    }\n",
       "\n",
       "    .dataframe thead th {\n",
       "        text-align: right;\n",
       "    }\n",
       "</style>\n",
       "<table border=\"1\" class=\"dataframe\">\n",
       "  <thead>\n",
       "    <tr style=\"text-align: right;\">\n",
       "      <th></th>\n",
       "      <th>Top 2 Count</th>\n",
       "      <th>Top 2 %</th>\n",
       "    </tr>\n",
       "    <tr>\n",
       "      <th>Model</th>\n",
       "      <th></th>\n",
       "      <th></th>\n",
       "    </tr>\n",
       "  </thead>\n",
       "  <tbody>\n",
       "    <tr>\n",
       "      <th>Model0 (Rule SMA)</th>\n",
       "      <td>204</td>\n",
       "      <td>40.6</td>\n",
       "    </tr>\n",
       "    <tr>\n",
       "      <th>Model4 (RL)</th>\n",
       "      <td>191</td>\n",
       "      <td>38.0</td>\n",
       "    </tr>\n",
       "    <tr>\n",
       "      <th>Model2 (RL)</th>\n",
       "      <td>164</td>\n",
       "      <td>32.7</td>\n",
       "    </tr>\n",
       "    <tr>\n",
       "      <th>Model1 (RL)</th>\n",
       "      <td>136</td>\n",
       "      <td>27.1</td>\n",
       "    </tr>\n",
       "    <tr>\n",
       "      <th>Model5 (Rule Mean Reversion)</th>\n",
       "      <td>125</td>\n",
       "      <td>24.9</td>\n",
       "    </tr>\n",
       "    <tr>\n",
       "      <th>Model3 (RL)</th>\n",
       "      <td>114</td>\n",
       "      <td>22.7</td>\n",
       "    </tr>\n",
       "    <tr>\n",
       "      <th>Model6 (RL Mean Reversion)</th>\n",
       "      <td>70</td>\n",
       "      <td>13.9</td>\n",
       "    </tr>\n",
       "  </tbody>\n",
       "</table>\n",
       "</div>"
      ],
      "text/plain": [
       "                              Top 2 Count  Top 2 %\n",
       "Model                                             \n",
       "Model0 (Rule SMA)                     204     40.6\n",
       "Model4 (RL)                           191     38.0\n",
       "Model2 (RL)                           164     32.7\n",
       "Model1 (RL)                           136     27.1\n",
       "Model5 (Rule Mean Reversion)          125     24.9\n",
       "Model3 (RL)                           114     22.7\n",
       "Model6 (RL Mean Reversion)             70     13.9"
      ]
     },
     "metadata": {},
     "output_type": "display_data"
    }
   ],
   "source": [
    "#create a master df\n",
    "\n",
    "df_all = pd.DataFrame(all_results)\n",
    "\n",
    "# Rank within each ticker\n",
    "df_all['Rank'] = df_all.groupby('Ticker')[\"Total Return (%)\"].rank(ascending=False)\n",
    "\n",
    "# Round for pretty display\n",
    "df_all = df_all.round(2)\n",
    "\n",
    "# Summary: which models appear most in top 2\n",
    "top2_counts = df_all[df_all[\"Rank\"] <= 2][\"Model\"].value_counts()\n",
    "top2_percent = (top2_counts / df_all['Ticker'].nunique() * 100).round(1)\n",
    "\n",
    "summary_table = pd.DataFrame({\n",
    "    \"Top 2 Count\": top2_counts,\n",
    "    \"Top 2 %\": top2_percent\n",
    "})\n",
    "\n",
    "display(summary_table)\n"
   ]
  },
  {
   "cell_type": "code",
   "execution_count": null,
   "metadata": {},
   "outputs": [],
   "source": []
  },
  {
   "cell_type": "code",
   "execution_count": 157,
   "metadata": {},
   "outputs": [
    {
     "data": {
      "text/html": [
       "<div>\n",
       "<style scoped>\n",
       "    .dataframe tbody tr th:only-of-type {\n",
       "        vertical-align: middle;\n",
       "    }\n",
       "\n",
       "    .dataframe tbody tr th {\n",
       "        vertical-align: top;\n",
       "    }\n",
       "\n",
       "    .dataframe thead th {\n",
       "        text-align: right;\n",
       "    }\n",
       "</style>\n",
       "<table border=\"1\" class=\"dataframe\">\n",
       "  <thead>\n",
       "    <tr style=\"text-align: right;\">\n",
       "      <th>Model</th>\n",
       "      <th>Model0 (Rule SMA)</th>\n",
       "      <th>Model1 (RL)</th>\n",
       "      <th>Model2 (RL)</th>\n",
       "      <th>Model3 (RL)</th>\n",
       "      <th>Model4 (RL)</th>\n",
       "      <th>Model5 (Rule Mean Reversion)</th>\n",
       "      <th>Model6 (RL Mean Reversion)</th>\n",
       "    </tr>\n",
       "    <tr>\n",
       "      <th>Sector</th>\n",
       "      <th></th>\n",
       "      <th></th>\n",
       "      <th></th>\n",
       "      <th></th>\n",
       "      <th></th>\n",
       "      <th></th>\n",
       "      <th></th>\n",
       "    </tr>\n",
       "  </thead>\n",
       "  <tbody>\n",
       "    <tr>\n",
       "      <th>Communication Services</th>\n",
       "      <td>9.350000</td>\n",
       "      <td>17.243636</td>\n",
       "      <td>19.276818</td>\n",
       "      <td>14.255455</td>\n",
       "      <td>16.012273</td>\n",
       "      <td>13.910909</td>\n",
       "      <td>2.475000</td>\n",
       "    </tr>\n",
       "    <tr>\n",
       "      <th>Consumer Discretionary</th>\n",
       "      <td>13.746400</td>\n",
       "      <td>3.931000</td>\n",
       "      <td>6.993000</td>\n",
       "      <td>3.621200</td>\n",
       "      <td>6.635200</td>\n",
       "      <td>2.269000</td>\n",
       "      <td>2.957400</td>\n",
       "    </tr>\n",
       "    <tr>\n",
       "      <th>Consumer Staples</th>\n",
       "      <td>-2.378421</td>\n",
       "      <td>-3.102895</td>\n",
       "      <td>-5.503947</td>\n",
       "      <td>-5.873684</td>\n",
       "      <td>-2.529474</td>\n",
       "      <td>-0.617105</td>\n",
       "      <td>-1.437105</td>\n",
       "    </tr>\n",
       "    <tr>\n",
       "      <th>Energy</th>\n",
       "      <td>15.727727</td>\n",
       "      <td>5.361364</td>\n",
       "      <td>10.384545</td>\n",
       "      <td>-4.086364</td>\n",
       "      <td>9.567273</td>\n",
       "      <td>7.600909</td>\n",
       "      <td>3.985455</td>\n",
       "    </tr>\n",
       "    <tr>\n",
       "      <th>Financials</th>\n",
       "      <td>24.260822</td>\n",
       "      <td>18.814521</td>\n",
       "      <td>12.421507</td>\n",
       "      <td>10.021918</td>\n",
       "      <td>17.928767</td>\n",
       "      <td>8.821644</td>\n",
       "      <td>0.610274</td>\n",
       "    </tr>\n",
       "    <tr>\n",
       "      <th>Health Care</th>\n",
       "      <td>-1.141967</td>\n",
       "      <td>-3.505410</td>\n",
       "      <td>4.332951</td>\n",
       "      <td>3.722295</td>\n",
       "      <td>1.711475</td>\n",
       "      <td>-2.580492</td>\n",
       "      <td>-2.548197</td>\n",
       "    </tr>\n",
       "    <tr>\n",
       "      <th>Industrials</th>\n",
       "      <td>17.699487</td>\n",
       "      <td>9.745128</td>\n",
       "      <td>14.330385</td>\n",
       "      <td>10.509744</td>\n",
       "      <td>14.017949</td>\n",
       "      <td>8.942949</td>\n",
       "      <td>1.265256</td>\n",
       "    </tr>\n",
       "    <tr>\n",
       "      <th>Information Technology</th>\n",
       "      <td>13.596377</td>\n",
       "      <td>12.554783</td>\n",
       "      <td>6.012174</td>\n",
       "      <td>11.267826</td>\n",
       "      <td>15.666232</td>\n",
       "      <td>7.510435</td>\n",
       "      <td>2.672754</td>\n",
       "    </tr>\n",
       "    <tr>\n",
       "      <th>Materials</th>\n",
       "      <td>4.274643</td>\n",
       "      <td>-3.442143</td>\n",
       "      <td>1.626786</td>\n",
       "      <td>-1.443571</td>\n",
       "      <td>-3.692500</td>\n",
       "      <td>3.229643</td>\n",
       "      <td>-0.028214</td>\n",
       "    </tr>\n",
       "    <tr>\n",
       "      <th>Real Estate</th>\n",
       "      <td>6.377742</td>\n",
       "      <td>6.606452</td>\n",
       "      <td>6.358065</td>\n",
       "      <td>6.059032</td>\n",
       "      <td>11.282581</td>\n",
       "      <td>9.464516</td>\n",
       "      <td>-1.480323</td>\n",
       "    </tr>\n",
       "    <tr>\n",
       "      <th>Utilities</th>\n",
       "      <td>16.285333</td>\n",
       "      <td>12.975000</td>\n",
       "      <td>11.890000</td>\n",
       "      <td>7.538000</td>\n",
       "      <td>11.095000</td>\n",
       "      <td>0.929667</td>\n",
       "      <td>-2.545000</td>\n",
       "    </tr>\n",
       "  </tbody>\n",
       "</table>\n",
       "</div>"
      ],
      "text/plain": [
       "Model                   Model0 (Rule SMA)  Model1 (RL)  Model2 (RL)  \\\n",
       "Sector                                                                \n",
       "Communication Services           9.350000    17.243636    19.276818   \n",
       "Consumer Discretionary          13.746400     3.931000     6.993000   \n",
       "Consumer Staples                -2.378421    -3.102895    -5.503947   \n",
       "Energy                          15.727727     5.361364    10.384545   \n",
       "Financials                      24.260822    18.814521    12.421507   \n",
       "Health Care                     -1.141967    -3.505410     4.332951   \n",
       "Industrials                     17.699487     9.745128    14.330385   \n",
       "Information Technology          13.596377    12.554783     6.012174   \n",
       "Materials                        4.274643    -3.442143     1.626786   \n",
       "Real Estate                      6.377742     6.606452     6.358065   \n",
       "Utilities                       16.285333    12.975000    11.890000   \n",
       "\n",
       "Model                   Model3 (RL)  Model4 (RL)  \\\n",
       "Sector                                             \n",
       "Communication Services    14.255455    16.012273   \n",
       "Consumer Discretionary     3.621200     6.635200   \n",
       "Consumer Staples          -5.873684    -2.529474   \n",
       "Energy                    -4.086364     9.567273   \n",
       "Financials                10.021918    17.928767   \n",
       "Health Care                3.722295     1.711475   \n",
       "Industrials               10.509744    14.017949   \n",
       "Information Technology    11.267826    15.666232   \n",
       "Materials                 -1.443571    -3.692500   \n",
       "Real Estate                6.059032    11.282581   \n",
       "Utilities                  7.538000    11.095000   \n",
       "\n",
       "Model                   Model5 (Rule Mean Reversion)  \\\n",
       "Sector                                                 \n",
       "Communication Services                     13.910909   \n",
       "Consumer Discretionary                      2.269000   \n",
       "Consumer Staples                           -0.617105   \n",
       "Energy                                      7.600909   \n",
       "Financials                                  8.821644   \n",
       "Health Care                                -2.580492   \n",
       "Industrials                                 8.942949   \n",
       "Information Technology                      7.510435   \n",
       "Materials                                   3.229643   \n",
       "Real Estate                                 9.464516   \n",
       "Utilities                                   0.929667   \n",
       "\n",
       "Model                   Model6 (RL Mean Reversion)  \n",
       "Sector                                              \n",
       "Communication Services                    2.475000  \n",
       "Consumer Discretionary                    2.957400  \n",
       "Consumer Staples                         -1.437105  \n",
       "Energy                                    3.985455  \n",
       "Financials                                0.610274  \n",
       "Health Care                              -2.548197  \n",
       "Industrials                               1.265256  \n",
       "Information Technology                    2.672754  \n",
       "Materials                                -0.028214  \n",
       "Real Estate                              -1.480323  \n",
       "Utilities                                -2.545000  "
      ]
     },
     "metadata": {},
     "output_type": "display_data"
    }
   ],
   "source": [
    "# sector analysis\n",
    "sector_model_avg = df_all.groupby(['Sector', 'Model'])[\"Total Return (%)\"].mean().unstack()\n",
    "display(sector_model_avg)"
   ]
  },
  {
   "cell_type": "code",
   "execution_count": 158,
   "metadata": {},
   "outputs": [
    {
     "data": {
      "image/png": "[encoded data removed]",
      "text/plain": [
       "<Figure size 1600x800 with 1 Axes>"
      ]
     },
     "metadata": {},
     "output_type": "display_data"
    }
   ],
   "source": [
    "plt.figure(figsize=(16, 8))\n",
    "sns.boxplot(x=\"Sector\", y=\"Total Return (%)\", hue=\"Model\", data=df_all)\n",
    "plt.xticks(rotation=45)\n",
    "plt.title(\"Total Return (%) by Sector and Model\")\n",
    "plt.tight_layout()\n",
    "plt.show()"
   ]
  },
  {
   "cell_type": "code",
   "execution_count": null,
   "metadata": {},
   "outputs": [],
   "source": []
  },
  {
   "cell_type": "markdown",
   "metadata": {},
   "source": [
    "#### Part III - Additional Analysis\n",
    "* Slice and Analyze by Sector\n",
    "* Find Top Performing Models by Sector\n",
    "* Rank Sectors by Model Consistency\n",
    "* Sector-by-Sector Leaderboard Table"
   ]
  },
  {
   "cell_type": "code",
   "execution_count": 159,
   "metadata": {},
   "outputs": [
    {
     "data": {
      "text/plain": [
       "Sector\n",
       "Financials                13.268493\n",
       "Communication Services    13.217727\n",
       "Industrials               10.930128\n",
       "Information Technology     9.897226\n",
       "Utilities                  8.309714\n",
       "Energy                     6.934416\n",
       "Real Estate                6.381152\n",
       "Consumer Discretionary     5.736171\n",
       "Materials                  0.074949\n",
       "Health Care               -0.001335\n",
       "Consumer Staples          -3.063233\n",
       "Name: Total Return (%), dtype: float64"
      ]
     },
     "metadata": {},
     "output_type": "display_data"
    }
   ],
   "source": [
    "# Slice and Analyze by Sector\n",
    "sector_summary = df_all.groupby('Sector')[\"Total Return (%)\"].mean().sort_values(ascending=False)\n",
    "display(sector_summary)"
   ]
  },
  {
   "cell_type": "code",
   "execution_count": 160,
   "metadata": {},
   "outputs": [
    {
     "data": {
      "image/png": "[encoded data removed]",
      "text/plain": [
       "<Figure size 1200x600 with 1 Axes>"
      ]
     },
     "metadata": {},
     "output_type": "display_data"
    }
   ],
   "source": [
    "plt.figure(figsize=(12, 6))\n",
    "sns.barplot(x=sector_summary.index, y=sector_summary.values)\n",
    "plt.xticks(rotation=45)\n",
    "plt.ylabel(\"Average Total Return (%)\")\n",
    "plt.title(\"Average Model Performance by Sector\")\n",
    "plt.tight_layout()\n",
    "plt.show()"
   ]
  },
  {
   "cell_type": "code",
   "execution_count": null,
   "metadata": {},
   "outputs": [],
   "source": []
  },
  {
   "cell_type": "code",
   "execution_count": 161,
   "metadata": {},
   "outputs": [
    {
     "data": {
      "text/html": [
       "<div>\n",
       "<style scoped>\n",
       "    .dataframe tbody tr th:only-of-type {\n",
       "        vertical-align: middle;\n",
       "    }\n",
       "\n",
       "    .dataframe tbody tr th {\n",
       "        vertical-align: top;\n",
       "    }\n",
       "\n",
       "    .dataframe thead th {\n",
       "        text-align: right;\n",
       "    }\n",
       "</style>\n",
       "<table border=\"1\" class=\"dataframe\">\n",
       "  <thead>\n",
       "    <tr style=\"text-align: right;\">\n",
       "      <th>Model</th>\n",
       "      <th>Model0 (Rule SMA)</th>\n",
       "      <th>Model1 (RL)</th>\n",
       "      <th>Model2 (RL)</th>\n",
       "      <th>Model3 (RL)</th>\n",
       "      <th>Model4 (RL)</th>\n",
       "      <th>Model5 (Rule Mean Reversion)</th>\n",
       "      <th>Model6 (RL Mean Reversion)</th>\n",
       "    </tr>\n",
       "    <tr>\n",
       "      <th>Sector</th>\n",
       "      <th></th>\n",
       "      <th></th>\n",
       "      <th></th>\n",
       "      <th></th>\n",
       "      <th></th>\n",
       "      <th></th>\n",
       "      <th></th>\n",
       "    </tr>\n",
       "  </thead>\n",
       "  <tbody>\n",
       "    <tr>\n",
       "      <th>Communication Services</th>\n",
       "      <td>4</td>\n",
       "      <td>7</td>\n",
       "      <td>11</td>\n",
       "      <td>6</td>\n",
       "      <td>8</td>\n",
       "      <td>7</td>\n",
       "      <td>1</td>\n",
       "    </tr>\n",
       "    <tr>\n",
       "      <th>Consumer Discretionary</th>\n",
       "      <td>24</td>\n",
       "      <td>13</td>\n",
       "      <td>16</td>\n",
       "      <td>7</td>\n",
       "      <td>19</td>\n",
       "      <td>10</td>\n",
       "      <td>11</td>\n",
       "    </tr>\n",
       "    <tr>\n",
       "      <th>Consumer Staples</th>\n",
       "      <td>16</td>\n",
       "      <td>8</td>\n",
       "      <td>12</td>\n",
       "      <td>7</td>\n",
       "      <td>10</td>\n",
       "      <td>13</td>\n",
       "      <td>10</td>\n",
       "    </tr>\n",
       "    <tr>\n",
       "      <th>Energy</th>\n",
       "      <td>8</td>\n",
       "      <td>9</td>\n",
       "      <td>7</td>\n",
       "      <td>2</td>\n",
       "      <td>8</td>\n",
       "      <td>7</td>\n",
       "      <td>3</td>\n",
       "    </tr>\n",
       "    <tr>\n",
       "      <th>Financials</th>\n",
       "      <td>43</td>\n",
       "      <td>29</td>\n",
       "      <td>18</td>\n",
       "      <td>9</td>\n",
       "      <td>30</td>\n",
       "      <td>14</td>\n",
       "      <td>3</td>\n",
       "    </tr>\n",
       "    <tr>\n",
       "      <th>Health Care</th>\n",
       "      <td>18</td>\n",
       "      <td>6</td>\n",
       "      <td>29</td>\n",
       "      <td>19</td>\n",
       "      <td>20</td>\n",
       "      <td>12</td>\n",
       "      <td>18</td>\n",
       "    </tr>\n",
       "    <tr>\n",
       "      <th>Industrials</th>\n",
       "      <td>34</td>\n",
       "      <td>18</td>\n",
       "      <td>31</td>\n",
       "      <td>22</td>\n",
       "      <td>33</td>\n",
       "      <td>15</td>\n",
       "      <td>3</td>\n",
       "    </tr>\n",
       "    <tr>\n",
       "      <th>Information Technology</th>\n",
       "      <td>23</td>\n",
       "      <td>18</td>\n",
       "      <td>15</td>\n",
       "      <td>22</td>\n",
       "      <td>26</td>\n",
       "      <td>23</td>\n",
       "      <td>11</td>\n",
       "    </tr>\n",
       "    <tr>\n",
       "      <th>Materials</th>\n",
       "      <td>10</td>\n",
       "      <td>6</td>\n",
       "      <td>7</td>\n",
       "      <td>6</td>\n",
       "      <td>8</td>\n",
       "      <td>12</td>\n",
       "      <td>7</td>\n",
       "    </tr>\n",
       "    <tr>\n",
       "      <th>Real Estate</th>\n",
       "      <td>9</td>\n",
       "      <td>11</td>\n",
       "      <td>6</td>\n",
       "      <td>7</td>\n",
       "      <td>19</td>\n",
       "      <td>9</td>\n",
       "      <td>1</td>\n",
       "    </tr>\n",
       "    <tr>\n",
       "      <th>Utilities</th>\n",
       "      <td>15</td>\n",
       "      <td>11</td>\n",
       "      <td>12</td>\n",
       "      <td>7</td>\n",
       "      <td>10</td>\n",
       "      <td>3</td>\n",
       "      <td>2</td>\n",
       "    </tr>\n",
       "  </tbody>\n",
       "</table>\n",
       "</div>"
      ],
      "text/plain": [
       "Model                   Model0 (Rule SMA)  Model1 (RL)  Model2 (RL)  \\\n",
       "Sector                                                                \n",
       "Communication Services                  4            7           11   \n",
       "Consumer Discretionary                 24           13           16   \n",
       "Consumer Staples                       16            8           12   \n",
       "Energy                                  8            9            7   \n",
       "Financials                             43           29           18   \n",
       "Health Care                            18            6           29   \n",
       "Industrials                            34           18           31   \n",
       "Information Technology                 23           18           15   \n",
       "Materials                              10            6            7   \n",
       "Real Estate                             9           11            6   \n",
       "Utilities                              15           11           12   \n",
       "\n",
       "Model                   Model3 (RL)  Model4 (RL)  \\\n",
       "Sector                                             \n",
       "Communication Services            6            8   \n",
       "Consumer Discretionary            7           19   \n",
       "Consumer Staples                  7           10   \n",
       "Energy                            2            8   \n",
       "Financials                        9           30   \n",
       "Health Care                      19           20   \n",
       "Industrials                      22           33   \n",
       "Information Technology           22           26   \n",
       "Materials                         6            8   \n",
       "Real Estate                       7           19   \n",
       "Utilities                         7           10   \n",
       "\n",
       "Model                   Model5 (Rule Mean Reversion)  \\\n",
       "Sector                                                 \n",
       "Communication Services                             7   \n",
       "Consumer Discretionary                            10   \n",
       "Consumer Staples                                  13   \n",
       "Energy                                             7   \n",
       "Financials                                        14   \n",
       "Health Care                                       12   \n",
       "Industrials                                       15   \n",
       "Information Technology                            23   \n",
       "Materials                                         12   \n",
       "Real Estate                                        9   \n",
       "Utilities                                          3   \n",
       "\n",
       "Model                   Model6 (RL Mean Reversion)  \n",
       "Sector                                              \n",
       "Communication Services                           1  \n",
       "Consumer Discretionary                          11  \n",
       "Consumer Staples                                10  \n",
       "Energy                                           3  \n",
       "Financials                                       3  \n",
       "Health Care                                     18  \n",
       "Industrials                                      3  \n",
       "Information Technology                          11  \n",
       "Materials                                        7  \n",
       "Real Estate                                      1  \n",
       "Utilities                                        2  "
      ]
     },
     "metadata": {},
     "output_type": "display_data"
    }
   ],
   "source": [
    "# Find Top Performing Models by Sector\n",
    "df_all['Rank'] = df_all.groupby(['Ticker'])[\"Total Return (%)\"].rank(ascending=False)\n",
    "\n",
    "top2_models_by_sector = (\n",
    "    df_all[df_all[\"Rank\"] <= 2]\n",
    "    .groupby(['Sector', 'Model'])\n",
    "    .size()\n",
    "    .unstack(fill_value=0)\n",
    ")\n",
    "\n",
    "top2_models_by_sector_pct = (top2_models_by_sector.T / top2_models_by_sector.sum(axis=1).sum()) * 100\n",
    "display(top2_models_by_sector)"
   ]
  },
  {
   "cell_type": "code",
   "execution_count": 162,
   "metadata": {},
   "outputs": [
    {
     "data": {
      "image/png": "[encoded data removed]",
      "text/plain": [
       "<Figure size 1400x700 with 1 Axes>"
      ]
     },
     "metadata": {},
     "output_type": "display_data"
    }
   ],
   "source": [
    "top2_models_by_sector.plot(kind='bar', stacked=True, figsize=(14, 7), colormap='tab20')\n",
    "plt.title(\"Top 2 Model Appearances by Sector\")\n",
    "plt.ylabel(\"# of Times in Top 2\")\n",
    "plt.tight_layout()\n",
    "plt.show()"
   ]
  },
  {
   "cell_type": "code",
   "execution_count": null,
   "metadata": {},
   "outputs": [],
   "source": []
  },
  {
   "cell_type": "code",
   "execution_count": 165,
   "metadata": {},
   "outputs": [
    {
     "data": {
      "text/html": [
       "<div>\n",
       "<style scoped>\n",
       "    .dataframe tbody tr th:only-of-type {\n",
       "        vertical-align: middle;\n",
       "    }\n",
       "\n",
       "    .dataframe tbody tr th {\n",
       "        vertical-align: top;\n",
       "    }\n",
       "\n",
       "    .dataframe thead th {\n",
       "        text-align: right;\n",
       "    }\n",
       "</style>\n",
       "<table border=\"1\" class=\"dataframe\">\n",
       "  <thead>\n",
       "    <tr style=\"text-align: right;\">\n",
       "      <th>Model</th>\n",
       "      <th>Top Model</th>\n",
       "      <th>Top Model Count</th>\n",
       "    </tr>\n",
       "    <tr>\n",
       "      <th>Sector</th>\n",
       "      <th></th>\n",
       "      <th></th>\n",
       "    </tr>\n",
       "  </thead>\n",
       "  <tbody>\n",
       "    <tr>\n",
       "      <th>Financials</th>\n",
       "      <td>Model0 (Rule SMA)</td>\n",
       "      <td>43</td>\n",
       "    </tr>\n",
       "    <tr>\n",
       "      <th>Industrials</th>\n",
       "      <td>Model0 (Rule SMA)</td>\n",
       "      <td>34</td>\n",
       "    </tr>\n",
       "    <tr>\n",
       "      <th>Health Care</th>\n",
       "      <td>Model2 (RL)</td>\n",
       "      <td>29</td>\n",
       "    </tr>\n",
       "    <tr>\n",
       "      <th>Information Technology</th>\n",
       "      <td>Model4 (RL)</td>\n",
       "      <td>26</td>\n",
       "    </tr>\n",
       "    <tr>\n",
       "      <th>Consumer Discretionary</th>\n",
       "      <td>Model0 (Rule SMA)</td>\n",
       "      <td>24</td>\n",
       "    </tr>\n",
       "    <tr>\n",
       "      <th>Real Estate</th>\n",
       "      <td>Model4 (RL)</td>\n",
       "      <td>19</td>\n",
       "    </tr>\n",
       "    <tr>\n",
       "      <th>Consumer Staples</th>\n",
       "      <td>Model0 (Rule SMA)</td>\n",
       "      <td>16</td>\n",
       "    </tr>\n",
       "    <tr>\n",
       "      <th>Utilities</th>\n",
       "      <td>Model0 (Rule SMA)</td>\n",
       "      <td>15</td>\n",
       "    </tr>\n",
       "    <tr>\n",
       "      <th>Materials</th>\n",
       "      <td>Model5 (Rule Mean Reversion)</td>\n",
       "      <td>12</td>\n",
       "    </tr>\n",
       "    <tr>\n",
       "      <th>Communication Services</th>\n",
       "      <td>Model2 (RL)</td>\n",
       "      <td>11</td>\n",
       "    </tr>\n",
       "    <tr>\n",
       "      <th>Energy</th>\n",
       "      <td>Model1 (RL)</td>\n",
       "      <td>9</td>\n",
       "    </tr>\n",
       "  </tbody>\n",
       "</table>\n",
       "</div>"
      ],
      "text/plain": [
       "Model                                      Top Model  Top Model Count\n",
       "Sector                                                               \n",
       "Financials                         Model0 (Rule SMA)               43\n",
       "Industrials                        Model0 (Rule SMA)               34\n",
       "Health Care                              Model2 (RL)               29\n",
       "Information Technology                   Model4 (RL)               26\n",
       "Consumer Discretionary             Model0 (Rule SMA)               24\n",
       "Real Estate                              Model4 (RL)               19\n",
       "Consumer Staples                   Model0 (Rule SMA)               16\n",
       "Utilities                          Model0 (Rule SMA)               15\n",
       "Materials               Model5 (Rule Mean Reversion)               12\n",
       "Communication Services                   Model2 (RL)               11\n",
       "Energy                                   Model1 (RL)                9"
      ]
     },
     "metadata": {},
     "output_type": "display_data"
    }
   ],
   "source": [
    "# Get count of appearances in Top 2 by sector and model\n",
    "sector_consistency = (\n",
    "    df_all[df_all['Rank'] <= 2]\n",
    "    .groupby(['Sector', 'Model'])\n",
    "    .size()\n",
    "    .unstack(fill_value=0)\n",
    ")\n",
    "\n",
    "# Only use numeric part for computing max\n",
    "numeric_only = sector_consistency.select_dtypes(include='number')\n",
    "\n",
    "# Add Top Model columns\n",
    "sector_consistency['Top Model'] = numeric_only.idxmax(axis=1)\n",
    "sector_consistency['Top Model Count'] = numeric_only.max(axis=1)\n",
    "\n",
    "# Sort by consistency\n",
    "sector_consistency = sector_consistency.sort_values('Top Model Count', ascending=False)\n",
    "\n",
    "# Display top-performing model per sector\n",
    "display(sector_consistency[['Top Model', 'Top Model Count']])\n"
   ]
  },
  {
   "cell_type": "code",
   "execution_count": 166,
   "metadata": {},
   "outputs": [
    {
     "data": {
      "image/png": "[encoded data removed]",
      "text/plain": [
       "<Figure size 1200x600 with 1 Axes>"
      ]
     },
     "metadata": {},
     "output_type": "display_data"
    }
   ],
   "source": [
    "plt.figure(figsize=(12, 6))\n",
    "sns.barplot(\n",
    "    x=sector_consistency.index,\n",
    "    y=sector_consistency[\"Top Model Count\"],\n",
    "    hue=sector_consistency[\"Top Model\"],\n",
    "    dodge=False\n",
    ")\n",
    "plt.xticks(rotation=45)\n",
    "plt.title(\"Most Consistent Top Model by Sector\")\n",
    "plt.ylabel(\"# of Top 2 Appearances\")\n",
    "plt.tight_layout()\n",
    "plt.show()\n"
   ]
  },
  {
   "cell_type": "code",
   "execution_count": null,
   "metadata": {},
   "outputs": [],
   "source": []
  },
  {
   "cell_type": "code",
   "execution_count": 164,
   "metadata": {},
   "outputs": [
    {
     "data": {
      "text/html": [
       "<div>\n",
       "<style scoped>\n",
       "    .dataframe tbody tr th:only-of-type {\n",
       "        vertical-align: middle;\n",
       "    }\n",
       "\n",
       "    .dataframe tbody tr th {\n",
       "        vertical-align: top;\n",
       "    }\n",
       "\n",
       "    .dataframe thead th {\n",
       "        text-align: right;\n",
       "    }\n",
       "</style>\n",
       "<table border=\"1\" class=\"dataframe\">\n",
       "  <thead>\n",
       "    <tr style=\"text-align: right;\">\n",
       "      <th></th>\n",
       "      <th>Sector</th>\n",
       "      <th>Best Model</th>\n",
       "      <th>Avg Return (%)</th>\n",
       "    </tr>\n",
       "  </thead>\n",
       "  <tbody>\n",
       "    <tr>\n",
       "      <th>4</th>\n",
       "      <td>Financials</td>\n",
       "      <td>Model0 (Rule SMA)</td>\n",
       "      <td>24.26</td>\n",
       "    </tr>\n",
       "    <tr>\n",
       "      <th>8</th>\n",
       "      <td>Communication Services</td>\n",
       "      <td>Model2 (RL)</td>\n",
       "      <td>19.28</td>\n",
       "    </tr>\n",
       "    <tr>\n",
       "      <th>0</th>\n",
       "      <td>Industrials</td>\n",
       "      <td>Model0 (Rule SMA)</td>\n",
       "      <td>17.70</td>\n",
       "    </tr>\n",
       "    <tr>\n",
       "      <th>3</th>\n",
       "      <td>Utilities</td>\n",
       "      <td>Model0 (Rule SMA)</td>\n",
       "      <td>16.29</td>\n",
       "    </tr>\n",
       "    <tr>\n",
       "      <th>10</th>\n",
       "      <td>Energy</td>\n",
       "      <td>Model0 (Rule SMA)</td>\n",
       "      <td>15.73</td>\n",
       "    </tr>\n",
       "    <tr>\n",
       "      <th>2</th>\n",
       "      <td>Information Technology</td>\n",
       "      <td>Model4 (RL)</td>\n",
       "      <td>15.67</td>\n",
       "    </tr>\n",
       "    <tr>\n",
       "      <th>6</th>\n",
       "      <td>Consumer Discretionary</td>\n",
       "      <td>Model0 (Rule SMA)</td>\n",
       "      <td>13.75</td>\n",
       "    </tr>\n",
       "    <tr>\n",
       "      <th>7</th>\n",
       "      <td>Real Estate</td>\n",
       "      <td>Model4 (RL)</td>\n",
       "      <td>11.28</td>\n",
       "    </tr>\n",
       "    <tr>\n",
       "      <th>1</th>\n",
       "      <td>Health Care</td>\n",
       "      <td>Model2 (RL)</td>\n",
       "      <td>4.33</td>\n",
       "    </tr>\n",
       "    <tr>\n",
       "      <th>5</th>\n",
       "      <td>Materials</td>\n",
       "      <td>Model0 (Rule SMA)</td>\n",
       "      <td>4.27</td>\n",
       "    </tr>\n",
       "    <tr>\n",
       "      <th>9</th>\n",
       "      <td>Consumer Staples</td>\n",
       "      <td>Model5 (Rule Mean Reversion)</td>\n",
       "      <td>-0.62</td>\n",
       "    </tr>\n",
       "  </tbody>\n",
       "</table>\n",
       "</div>"
      ],
      "text/plain": [
       "                    Sector                    Best Model  Avg Return (%)\n",
       "4               Financials             Model0 (Rule SMA)           24.26\n",
       "8   Communication Services                   Model2 (RL)           19.28\n",
       "0              Industrials             Model0 (Rule SMA)           17.70\n",
       "3                Utilities             Model0 (Rule SMA)           16.29\n",
       "10                  Energy             Model0 (Rule SMA)           15.73\n",
       "2   Information Technology                   Model4 (RL)           15.67\n",
       "6   Consumer Discretionary             Model0 (Rule SMA)           13.75\n",
       "7              Real Estate                   Model4 (RL)           11.28\n",
       "1              Health Care                   Model2 (RL)            4.33\n",
       "5                Materials             Model0 (Rule SMA)            4.27\n",
       "9         Consumer Staples  Model5 (Rule Mean Reversion)           -0.62"
      ]
     },
     "metadata": {},
     "output_type": "display_data"
    }
   ],
   "source": [
    "# Sector-by-Sector Leaderboard Table\n",
    "leaderboard = []\n",
    "\n",
    "for sector in df_all['Sector'].unique():\n",
    "    sector_df = df_all[df_all['Sector'] == sector]\n",
    "    top_model = (\n",
    "        sector_df.groupby('Model')[\"Total Return (%)\"]\n",
    "        .mean()\n",
    "        .sort_values(ascending=False)\n",
    "        .reset_index()\n",
    "    )\n",
    "    leaderboard.append({\n",
    "        'Sector': sector,\n",
    "        'Best Model': top_model.iloc[0]['Model'],\n",
    "        'Avg Return (%)': round(top_model.iloc[0]['Total Return (%)'], 2)\n",
    "    })\n",
    "\n",
    "leaderboard_df = pd.DataFrame(leaderboard).sort_values(\"Avg Return (%)\", ascending=False)\n",
    "display(leaderboard_df)\n"
   ]
  },
  {
   "cell_type": "code",
   "execution_count": null,
   "metadata": {},
   "outputs": [],
   "source": []
  },
  {
   "cell_type": "markdown",
   "metadata": {},
   "source": [
    "#### Export\n",
    "* will be used later with streamlit app"
   ]
  },
  {
   "cell_type": "code",
   "execution_count": 175,
   "metadata": {},
   "outputs": [],
   "source": [
    "df_all.to_csv(\"df_all.csv\", index=False)\n",
    "summary_table.to_csv(\"summary_table.csv\")\n",
    "sector_model_avg.to_csv(\"sector_model_avg.csv\")\n",
    "sector_consistency.to_csv(\"sector_consistency.csv\")"
   ]
  },
  {
   "cell_type": "code",
   "execution_count": null,
   "metadata": {},
   "outputs": [],
   "source": []
  }
 ],
 "metadata": {
  "kernelspec": {
   "display_name": "Python 3",
   "language": "python",
   "name": "python3"
  },
  "language_info": {
   "codemirror_mode": {
    "name": "ipython",
    "version": 3
   },
   "file_extension": ".py",
   "mimetype": "text/x-python",
   "name": "python",
   "nbconvert_exporter": "python",
   "pygments_lexer": "ipython3",
   "version": "3.11.9"
  }
 },
 "nbformat": 4,
 "nbformat_minor": 2
}
